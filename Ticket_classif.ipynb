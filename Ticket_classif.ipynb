{
  "nbformat": 4,
  "nbformat_minor": 0,
  "metadata": {
    "colab": {
      "name": "Ticket classif.ipynb",
      "provenance": [],
      "collapsed_sections": [],
      "authorship_tag": "ABX9TyOwFUUEwHXZXTeXoHvcXknh",
      "include_colab_link": true
    },
    "kernelspec": {
      "name": "python3",
      "display_name": "Python 3"
    }
  },
  "cells": [
    {
      "cell_type": "markdown",
      "metadata": {
        "id": "view-in-github",
        "colab_type": "text"
      },
      "source": [
        "<a href=\"https://colab.research.google.com/github/arvind2047/gl_capstone/blob/temp_repo_siva/Ticket_classif.ipynb\" target=\"_parent\"><img src=\"https://colab.research.google.com/assets/colab-badge.svg\" alt=\"Open In Colab\"/></a>"
      ]
    },
    {
      "cell_type": "code",
      "metadata": {
        "id": "sC1fof51qGcB",
        "colab_type": "code",
        "colab": {}
      },
      "source": [
        "!pip install tensorflow-gpu >> /dev/null"
      ],
      "execution_count": 1,
      "outputs": []
    },
    {
      "cell_type": "code",
      "metadata": {
        "id": "xsIJGm9ZqLEV",
        "colab_type": "code",
        "colab": {}
      },
      "source": [
        "!pip install --upgrade grpcio >> /dev/null"
      ],
      "execution_count": 2,
      "outputs": []
    },
    {
      "cell_type": "code",
      "metadata": {
        "id": "PPAr1mZwsABE",
        "colab_type": "code",
        "colab": {}
      },
      "source": [
        "!pip install tqdm >> /dev/null"
      ],
      "execution_count": 3,
      "outputs": []
    },
    {
      "cell_type": "code",
      "metadata": {
        "id": "FDQmpoFZsDuR",
        "colab_type": "code",
        "colab": {}
      },
      "source": [
        "!pip install bert-for-tf2 >> /dev/null"
      ],
      "execution_count": 4,
      "outputs": []
    },
    {
      "cell_type": "code",
      "metadata": {
        "id": "ntZACOc6sIA9",
        "colab_type": "code",
        "colab": {}
      },
      "source": [
        "!pip install sentencepiece >> /dev/null"
      ],
      "execution_count": 5,
      "outputs": []
    },
    {
      "cell_type": "code",
      "metadata": {
        "id": "_eRvt-KesMWE",
        "colab_type": "code",
        "colab": {
          "base_uri": "https://localhost:8080/",
          "height": 72
        },
        "outputId": "564d5870-33db-4fd3-db5b-748d24a0a074"
      },
      "source": [
        "import os\n",
        "import math\n",
        "import datetime\n",
        "\n",
        "from tqdm import tqdm\n",
        "\n",
        "import pandas as pd\n",
        "pd.set_option('display.max_colwidth', None)\n",
        "import numpy as np\n",
        "\n",
        "import tensorflow as tf\n",
        "from tensorflow import keras\n",
        "\n",
        "import bert\n",
        "from bert import BertModelLayer\n",
        "from bert.loader import StockBertConfig, map_stock_config_to_params, load_stock_weights\n",
        "from bert.tokenization.bert_tokenization import FullTokenizer\n",
        "\n",
        "import seaborn as sns\n",
        "from pylab import rcParams\n",
        "import matplotlib.pyplot as plt\n",
        "from matplotlib.ticker import MaxNLocator\n",
        "from matplotlib import rc\n",
        "\n",
        "from sklearn.metrics import confusion_matrix, classification_report\n",
        "from sklearn.cluster import AgglomerativeClustering\n",
        "\n",
        "%matplotlib inline\n",
        "%config InlineBackend.figure_format='retina'\n",
        "\n",
        "sns.set(style='whitegrid',palette='muted',font_scale=1.2)\n",
        "\n",
        "HAPPY_COLORS_PALETTE = [\"#01BEFE\",\"#FFDD00\",\"#FF7D00\",\"#FF006D\",\"#ADFF02\",\"#8F00FF\"]\n",
        "\n",
        "sns.set_palette(sns.color_palette(HAPPY_COLORS_PALETTE))\n",
        "\n",
        "rcParams['figure.figsize']=12,8\n",
        "\n",
        "RANDOM_SEED=42\n",
        "\n",
        "np.random.seed(RANDOM_SEED)\n",
        "tf.random.set_seed(RANDOM_SEED)"
      ],
      "execution_count": 6,
      "outputs": [
        {
          "output_type": "stream",
          "text": [
            "/usr/local/lib/python3.6/dist-packages/statsmodels/tools/_testing.py:19: FutureWarning: pandas.util.testing is deprecated. Use the functions in the public API at pandas.testing instead.\n",
            "  import pandas.util.testing as tm\n"
          ],
          "name": "stderr"
        }
      ]
    },
    {
      "cell_type": "code",
      "metadata": {
        "id": "gh9IpG4Lv6ek",
        "colab_type": "code",
        "colab": {
          "base_uri": "https://localhost:8080/",
          "height": 125
        },
        "outputId": "28327e61-83cb-4b93-8772-44e7651c6bd5"
      },
      "source": [
        "from google.colab import drive\n",
        "drive.mount('/content/drive/', force_remount=True)"
      ],
      "execution_count": 7,
      "outputs": [
        {
          "output_type": "stream",
          "text": [
            "Go to this URL in a browser: https://accounts.google.com/o/oauth2/auth?client_id=947318989803-6bn6qk8qdgf4n4g3pfee6491hc0brc4i.apps.googleusercontent.com&redirect_uri=urn%3aietf%3awg%3aoauth%3a2.0%3aoob&scope=email%20https%3a%2f%2fwww.googleapis.com%2fauth%2fdocs.test%20https%3a%2f%2fwww.googleapis.com%2fauth%2fdrive%20https%3a%2f%2fwww.googleapis.com%2fauth%2fdrive.photos.readonly%20https%3a%2f%2fwww.googleapis.com%2fauth%2fpeopleapi.readonly&response_type=code\n",
            "\n",
            "Enter your authorization code:\n",
            "··········\n",
            "Mounted at /content/drive/\n"
          ],
          "name": "stdout"
        }
      ]
    },
    {
      "cell_type": "code",
      "metadata": {
        "id": "t4dzMvZ1wHk6",
        "colab_type": "code",
        "colab": {
          "base_uri": "https://localhost:8080/",
          "height": 35
        },
        "outputId": "a9af03b2-5e33-49b3-c0f9-e67da1af45cd"
      },
      "source": [
        "project_path = '/content/drive/My Drive/GL AIML Capstone/' \n",
        "os.chdir(project_path) \n",
        "os.getcwd()"
      ],
      "execution_count": 8,
      "outputs": [
        {
          "output_type": "execute_result",
          "data": {
            "application/vnd.google.colaboratory.intrinsic+json": {
              "type": "string"
            },
            "text/plain": [
              "'/content/drive/My Drive/GL AIML Capstone'"
            ]
          },
          "metadata": {
            "tags": []
          },
          "execution_count": 8
        }
      ]
    },
    {
      "cell_type": "code",
      "metadata": {
        "id": "6nMsWjSeujOX",
        "colab_type": "code",
        "colab": {}
      },
      "source": [
        "import pickle\n",
        "\n",
        "with open('incidents_text.pickle', 'rb') as data:\n",
        "    incidents = pickle.load(data)"
      ],
      "execution_count": 9,
      "outputs": []
    },
    {
      "cell_type": "code",
      "metadata": {
        "id": "NGiK0pEZvgE3",
        "colab_type": "code",
        "colab": {
          "base_uri": "https://localhost:8080/",
          "height": 930
        },
        "outputId": "1aaad96c-040e-44da-ee38-864139ee71e8"
      },
      "source": [
        "incidents.head(2)"
      ],
      "execution_count": 10,
      "outputs": [
        {
          "output_type": "execute_result",
          "data": {
            "text/html": [
              "<div>\n",
              "<style scoped>\n",
              "    .dataframe tbody tr th:only-of-type {\n",
              "        vertical-align: middle;\n",
              "    }\n",
              "\n",
              "    .dataframe tbody tr th {\n",
              "        vertical-align: top;\n",
              "    }\n",
              "\n",
              "    .dataframe thead th {\n",
              "        text-align: right;\n",
              "    }\n",
              "</style>\n",
              "<table border=\"1\" class=\"dataframe\">\n",
              "  <thead>\n",
              "    <tr style=\"text-align: right;\">\n",
              "      <th></th>\n",
              "      <th>Description</th>\n",
              "      <th>Caller</th>\n",
              "      <th>Assignment group</th>\n",
              "      <th>desc_len</th>\n",
              "      <th>desc_word_cnt</th>\n",
              "      <th>tokens</th>\n",
              "      <th>Group id</th>\n",
              "      <th>embedding</th>\n",
              "      <th>class</th>\n",
              "    </tr>\n",
              "  </thead>\n",
              "  <tbody>\n",
              "    <tr>\n",
              "      <th>0</th>\n",
              "      <td>login issue  verified user details  employee    manager name    checked the user name in ad and reset the password    advised the user to login and check    caller confirmed that he was able to login    issue resolved</td>\n",
              "      <td>spxjnwir pjlcoqds</td>\n",
              "      <td>GRP_0</td>\n",
              "      <td>150</td>\n",
              "      <td>24</td>\n",
              "      <td>login issue verify user detail employee manager name check user name ad reset password advise user login check caller confirm able login issue resolve</td>\n",
              "      <td>0</td>\n",
              "      <td>[-0.23115850614073377, 0.0714829761783282, -0.25911256307115155, -0.06319532688707113, -0.4559746023019155, 0.013023035526275635, -0.03543834075331688, 0.17674321550875902, -0.2654873471769194, -1.0088984660307567, 0.07588414440552393, 0.12214321593443553, -0.28548910563190777, 0.03454159085949262, -0.06680162618557613, -0.151536098945265, -0.23822840079665183, 0.32255263787694277, 0.16161527549227078, -0.030371227835615477, -0.06967938873916864, -0.0881408927962184, -0.052514139451086524, 0.09888297364115715, -0.053100081098576384, 0.1482788233583172, 0.1516636462478588, 0.1665243115524451, 0.3094030903776487, -0.33314636644208806, -0.09369005118807157, 0.3538207602997621, -0.20376392154954373, -0.089576582411925, -0.5927372006575267, -0.01685790571073691, 0.26608294414977235, -0.40304173390070597, -0.1359009550853322, 0.14153203875757753, -0.1050553538153569, 0.06059353905419509, -0.445492191084971, 0.5272596708933512, -0.21321381494402886, -0.2342758267869552, 0.18107896526965003, -0.04047222036868334, 0.02454259932041168, 0.036895260711510974, 0.020049781426787375, 0.1863130598391096, -0.05424103649954001, 0.05432762878015637, -0.006543282444278399, 0.23868674659480651, 0.14065840194622675, -0.044800034066041314, 0.0639266337826848, -0.3271083135654529, 0.370672602703174, 0.17820608536402385, 0.11782158260544141, 0.10951698793719213, -0.061144227764258784, -0.05423536290725072, -0.1273551510150234, 0.10907335252384655, 0.23606256738305093, -0.2221488889058431, -0.21553474940359593, 0.293511609484752, 0.1907734611444175, 0.20331871246298155, -0.3584197955826918, -0.06125329925989111, 0.16289389242728552, 0.03886531097193559, -0.0838953656454881, 0.00433394594117999, -0.031222720344861347, 0.13492834533875186, 0.09409250254432361, -0.33483896220723786, 0.16711767909427483, 0.0010864054722090563, -0.09148741244028012, 0.29665295507758854, 0.12969976944848896, -0.08736241081108649, 0.06188723177649081, 0.12693418299158415, -0.2753047099026541, -0.44350893373290695, 0.36766805602237584, 0.024881308873494466, -0.14279205193122227, -0.20683154728263617, 0.18543389247109493, -0.3847712119917075, ...]</td>\n",
              "      <td>20.0</td>\n",
              "    </tr>\n",
              "    <tr>\n",
              "      <th>1</th>\n",
              "      <td>received from  hmjdrvpb komuaywn gmail com    hello team     my meetings skype meetings etc are not appearing in my outlook calendar  can somebody please advise how to correct this     kind</td>\n",
              "      <td>hmjdrvpb komuaywn</td>\n",
              "      <td>GRP_0</td>\n",
              "      <td>132</td>\n",
              "      <td>19</td>\n",
              "      <td>receive hmjdrvpb komuaywn gmail com hello team meeting skype meeting etc appear outlook calendar somebody please advise correct kind</td>\n",
              "      <td>0</td>\n",
              "      <td>[-0.25078766922480566, 0.07879859299370737, -0.21875436784643115, -0.03028838574942766, -0.4743287135480028, 0.048793441079782715, -0.003328410174810525, 0.19704048811091165, -0.28754293106524553, -1.013267652667833, 0.07835651376764431, 0.11987049527692073, -0.274450211298906, 0.046301974548083366, -0.06340068073548151, -0.13437952298078348, -0.2369989398302454, 0.3321818479082801, 0.18808840321038256, -0.02713867508326516, -0.10083538039841435, -0.10768636279372555, -0.021606024044255417, 0.09628564443890796, -0.037819789299233394, 0.14959933284218563, 0.1571987459690056, 0.1896782127406561, 0.28617164732493233, -0.35578642825236206, -0.10124445904159185, 0.355589059830615, -0.17201147240120918, -0.08254824505385125, -0.5834869674660943, -0.008887998787968449, 0.2590223013733824, -0.4116001519741434, -0.16557936184813804, 0.14545522720877532, -0.13987403755273783, 0.06621558956844224, -0.4494891873963008, 0.5494635871639757, -0.250469836067747, -0.24576165936322827, 0.17647791871621105, -0.04373295459839882, 0.06948126870856593, 0.010091464571429022, 0.03846303108289386, 0.207030489934947, -0.08344554084099153, 0.07270210492336474, -0.028027616328362263, 0.29271309866541717, 0.12739484949093877, -0.026320235436838684, 0.040581076363609594, -0.32817058293431095, 0.37019994984747784, 0.19712842859779345, 0.0888351331267393, 0.13474985055456107, -0.06043681824777388, -0.08607151294409325, -0.18579439937391065, 0.1137839279791947, 0.21612131098906198, -0.2049840179864656, -0.21484828261997213, 0.3326422686152386, 0.22876919472985197, 0.1941365058900732, -0.41234969279982825, -0.07096828851199737, 0.22136492558726759, -0.03015445519916036, -0.06883245344612408, -0.023380704421662922, -0.015889380550519985, 0.13140555145924515, 0.08962680780413476, -0.35400623162135936, 0.14062304111818472, 0.037297926539780965, -0.08795255306882388, 0.2762778729419083, 0.15112516827260455, -0.08630336912800417, 0.09006038195608805, 0.11664521722405245, -0.2632149489963371, -0.43116964281282644, 0.3422804727557708, 0.023444373894369964, -0.09202315020516064, -0.24239478974292675, 0.20053562047806653, -0.41037977153830457, ...]</td>\n",
              "      <td>20.0</td>\n",
              "    </tr>\n",
              "  </tbody>\n",
              "</table>\n",
              "</div>"
            ],
            "text/plain": [
              "                                                                                                                                                                                                                  Description  ... class\n",
              "0  login issue  verified user details  employee    manager name    checked the user name in ad and reset the password    advised the user to login and check    caller confirmed that he was able to login    issue resolved   ...  20.0\n",
              "1                              received from  hmjdrvpb komuaywn gmail com    hello team     my meetings skype meetings etc are not appearing in my outlook calendar  can somebody please advise how to correct this     kind   ...  20.0\n",
              "\n",
              "[2 rows x 9 columns]"
            ]
          },
          "metadata": {
            "tags": []
          },
          "execution_count": 10
        }
      ]
    },
    {
      "cell_type": "code",
      "metadata": {
        "id": "gbTCE2HPTsG0",
        "colab_type": "code",
        "colab": {
          "base_uri": "https://localhost:8080/",
          "height": 506
        },
        "outputId": "96edd3d5-9c68-40c9-8ce9-d7c93bf9886f"
      },
      "source": [
        "chart = sns.countplot(incidents['Assignment group'], palette=HAPPY_COLORS_PALETTE)"
      ],
      "execution_count": 11,
      "outputs": [
        {
          "output_type": "display_data",
          "data": {
            "image/png": "[encoded data removed]",
            "text/plain": [
              "<Figure size 864x576 with 1 Axes>"
            ]
          },
          "metadata": {
            "tags": [],
            "image/png": {
              "width": 765,
              "height": 489
            }
          }
        }
      ]
    },
    {
      "cell_type": "code",
      "metadata": {
        "id": "UOtwtaNbpBWl",
        "colab_type": "code",
        "colab": {}
      },
      "source": [
        "inc_clus = pd.DataFrame(incidents['Assignment group'].unique(),columns=['Assignment group'])\n",
        "for i in incidents['Assignment group'].unique():\n",
        "  inc_clus.loc[inc_clus['Assignment group']==i,'embedding'] = pd.Series([np.mean(incidents[incidents['Assignment group']==i]['embedding'])],\n",
        "                                                                        index=inc_clus.loc[inc_clus['Assignment group']==i].index,dtype='object')\n",
        "  inc_clus.loc[inc_clus['Assignment group']==i,'frequency'] = pd.Series(incidents[incidents['Assignment group']==i].shape[0],\n",
        "                                                                        index=inc_clus.loc[inc_clus['Assignment group']==i].index,dtype='object')\n",
        "  \n",
        "model = AgglomerativeClustering(n_clusters=45, affinity='euclidean',  linkage='average')\n",
        "model.fit(inc_clus['embedding'].values.tolist())\n",
        "inc_clus['class'] = model.labels_"
      ],
      "execution_count": 12,
      "outputs": []
    },
    {
      "cell_type": "code",
      "metadata": {
        "id": "QCny5duU0f6i",
        "colab_type": "code",
        "colab": {
          "base_uri": "https://localhost:8080/",
          "height": 87
        },
        "outputId": "f62506e2-0425-4959-ca97-efb93940c4ba"
      },
      "source": [
        "clus_arrngmt = pd.DataFrame([(i,inc_clus[inc_clus['class']==i]['Assignment group'].values) for i in inc_clus['class'].unique()],columns=['cluster id','cluster groups'])\n",
        "clus_arrngmt.set_index('cluster id',inplace=True)\n",
        "clus_arrngmt['ticket_counts'] = incidents['class'].value_counts()\n",
        "clus_arrngmt['class_counts'] = inc_clus['class'].value_counts()\n",
        "clus_arrngmt.reset_index(inplace=True)\n",
        "clus_arrngmt.sort_values(by='ticket_counts',ascending=False,inplace=True)\n",
        "clus_arrngmt=clus_arrngmt[clus_arrngmt['ticket_counts']>100]\n",
        "clus_arrngmt.sum()"
      ],
      "execution_count": 13,
      "outputs": [
        {
          "output_type": "execute_result",
          "data": {
            "text/plain": [
              "cluster id        117\n",
              "ticket_counts    7944\n",
              "class_counts       38\n",
              "dtype: int64"
            ]
          },
          "metadata": {
            "tags": []
          },
          "execution_count": 13
        }
      ]
    },
    {
      "cell_type": "code",
      "metadata": {
        "id": "dHrfT8601kIp",
        "colab_type": "code",
        "colab": {
          "base_uri": "https://localhost:8080/",
          "height": 343
        },
        "outputId": "fd7b2930-2d82-4029-f23d-250102462e81"
      },
      "source": [
        "clus_arrngmt"
      ],
      "execution_count": 14,
      "outputs": [
        {
          "output_type": "execute_result",
          "data": {
            "text/html": [
              "<div>\n",
              "<style scoped>\n",
              "    .dataframe tbody tr th:only-of-type {\n",
              "        vertical-align: middle;\n",
              "    }\n",
              "\n",
              "    .dataframe tbody tr th {\n",
              "        vertical-align: top;\n",
              "    }\n",
              "\n",
              "    .dataframe thead th {\n",
              "        text-align: right;\n",
              "    }\n",
              "</style>\n",
              "<table border=\"1\" class=\"dataframe\">\n",
              "  <thead>\n",
              "    <tr style=\"text-align: right;\">\n",
              "      <th></th>\n",
              "      <th>cluster id</th>\n",
              "      <th>cluster groups</th>\n",
              "      <th>ticket_counts</th>\n",
              "      <th>class_counts</th>\n",
              "    </tr>\n",
              "  </thead>\n",
              "  <tbody>\n",
              "    <tr>\n",
              "      <th>0</th>\n",
              "      <td>20</td>\n",
              "      <td>[GRP_0, GRP_3, GRP_19, GRP_25, GRP_51, GRP_59]</td>\n",
              "      <td>4513</td>\n",
              "      <td>6</td>\n",
              "    </tr>\n",
              "    <tr>\n",
              "      <th>2</th>\n",
              "      <td>0</td>\n",
              "      <td>[GRP_4, GRP_12, GRP_13, GRP_15, GRP_18, GRP_2, GRP_29, GRP_53, GRP_65]</td>\n",
              "      <td>989</td>\n",
              "      <td>9</td>\n",
              "    </tr>\n",
              "    <tr>\n",
              "      <th>5</th>\n",
              "      <td>33</td>\n",
              "      <td>[GRP_8]</td>\n",
              "      <td>661</td>\n",
              "      <td>1</td>\n",
              "    </tr>\n",
              "    <tr>\n",
              "      <th>3</th>\n",
              "      <td>18</td>\n",
              "      <td>[GRP_5, GRP_6, GRP_9]</td>\n",
              "      <td>565</td>\n",
              "      <td>3</td>\n",
              "    </tr>\n",
              "    <tr>\n",
              "      <th>12</th>\n",
              "      <td>27</td>\n",
              "      <td>[GRP_24]</td>\n",
              "      <td>289</td>\n",
              "      <td>1</td>\n",
              "    </tr>\n",
              "    <tr>\n",
              "      <th>7</th>\n",
              "      <td>2</td>\n",
              "      <td>[GRP_11, GRP_14, GRP_20, GRP_41, GRP_62]</td>\n",
              "      <td>249</td>\n",
              "      <td>5</td>\n",
              "    </tr>\n",
              "    <tr>\n",
              "      <th>8</th>\n",
              "      <td>1</td>\n",
              "      <td>[GRP_16, GRP_22, GRP_26, GRP_40]</td>\n",
              "      <td>217</td>\n",
              "      <td>4</td>\n",
              "    </tr>\n",
              "    <tr>\n",
              "      <th>6</th>\n",
              "      <td>3</td>\n",
              "      <td>[GRP_10, GRP_44, GRP_45]</td>\n",
              "      <td>190</td>\n",
              "      <td>3</td>\n",
              "    </tr>\n",
              "    <tr>\n",
              "      <th>17</th>\n",
              "      <td>9</td>\n",
              "      <td>[GRP_33, GRP_42, GRP_49]</td>\n",
              "      <td>150</td>\n",
              "      <td>3</td>\n",
              "    </tr>\n",
              "    <tr>\n",
              "      <th>14</th>\n",
              "      <td>4</td>\n",
              "      <td>[GRP_28, GRP_34, GRP_37]</td>\n",
              "      <td>121</td>\n",
              "      <td>3</td>\n",
              "    </tr>\n",
              "  </tbody>\n",
              "</table>\n",
              "</div>"
            ],
            "text/plain": [
              "    cluster id  ... class_counts\n",
              "0           20  ...            6\n",
              "2            0  ...            9\n",
              "5           33  ...            1\n",
              "3           18  ...            3\n",
              "12          27  ...            1\n",
              "7            2  ...            5\n",
              "8            1  ...            4\n",
              "6            3  ...            3\n",
              "17           9  ...            3\n",
              "14           4  ...            3\n",
              "\n",
              "[10 rows x 4 columns]"
            ]
          },
          "metadata": {
            "tags": []
          },
          "execution_count": 14
        }
      ]
    },
    {
      "cell_type": "markdown",
      "metadata": {
        "id": "IOKGkiUVqFE2",
        "colab_type": "text"
      },
      "source": [
        "Current clustering setup is the result of comparison of average of glove word embeddings. As we can see below, it has the class imbalance still."
      ]
    },
    {
      "cell_type": "code",
      "metadata": {
        "id": "2P6zr2ImxnlO",
        "colab_type": "code",
        "colab": {
          "base_uri": "https://localhost:8080/",
          "height": 506
        },
        "outputId": "d3fe004b-ba8d-4060-e5f9-660aa5ea230f"
      },
      "source": [
        "chart = sns.countplot(incidents['class'], palette=HAPPY_COLORS_PALETTE)"
      ],
      "execution_count": 15,
      "outputs": [
        {
          "output_type": "display_data",
          "data": {
            "image/png": "[encoded data removed]",
            "text/plain": [
              "<Figure size 864x576 with 1 Axes>"
            ]
          },
          "metadata": {
            "tags": [],
            "image/png": {
              "width": 752,
              "height": 489
            }
          }
        }
      ]
    },
    {
      "cell_type": "markdown",
      "metadata": {
        "id": "82p1qMn4qz1p",
        "colab_type": "text"
      },
      "source": [
        "Let us try a method to reduce records of most frequent classes."
      ]
    },
    {
      "cell_type": "markdown",
      "metadata": {
        "id": "iLIXvAB86kZQ",
        "colab_type": "text"
      },
      "source": [
        "Jaccard similarity is a raw method of determing similarity between sentences. It only considers the lexical representation and ignores the semantic representation. In simpler terms, it will look for common words but doesn't consider synonyms since it doesn't understand the meaning of words."
      ]
    },
    {
      "cell_type": "code",
      "metadata": {
        "id": "Gt9TjSfoHvwv",
        "colab_type": "code",
        "colab": {}
      },
      "source": [
        "def jaccard_similarity(query, document):\n",
        "    intersection = set(query).intersection(set(document))\n",
        "    union = set(query).union(set(document))\n",
        "    return len(intersection)/len(union)"
      ],
      "execution_count": 16,
      "outputs": []
    },
    {
      "cell_type": "code",
      "metadata": {
        "id": "bNZSSWytIAEW",
        "colab_type": "code",
        "colab": {
          "base_uri": "https://localhost:8080/",
          "height": 34
        },
        "outputId": "5901b0a2-02c0-4ca2-a700-92378d3c72b4"
      },
      "source": [
        "## Sample\n",
        "sent1= \"AI is our friend and it has been friendly\"\n",
        "sent2= \"AI and humans have always been friendly\"\n",
        "jaccard_similarity(sent1,sent2)"
      ],
      "execution_count": 17,
      "outputs": [
        {
          "output_type": "execute_result",
          "data": {
            "text/plain": [
              "0.7619047619047619"
            ]
          },
          "metadata": {
            "tags": []
          },
          "execution_count": 17
        }
      ]
    },
    {
      "cell_type": "markdown",
      "metadata": {
        "id": "b8Kn8is865nH",
        "colab_type": "text"
      },
      "source": [
        "Let us try a different type of comparison. Instead of tokens, let us use the embeddings and distance metrics such as cosine similarity."
      ]
    },
    {
      "cell_type": "code",
      "metadata": {
        "id": "vU5V7ebTiXAU",
        "colab_type": "code",
        "colab": {
          "base_uri": "https://localhost:8080/",
          "height": 210
        },
        "outputId": "e2f334c9-7a70-4953-8de0-69b952cb8c23"
      },
      "source": [
        "!wget https://storage.googleapis.com/bert_models/2018_10_18/uncased_L-12_H-768_A-12.zip"
      ],
      "execution_count": 18,
      "outputs": [
        {
          "output_type": "stream",
          "text": [
            "--2020-08-28 02:31:24--  https://storage.googleapis.com/bert_models/2018_10_18/uncased_L-12_H-768_A-12.zip\n",
            "Resolving storage.googleapis.com (storage.googleapis.com)... 108.177.125.128, 74.125.203.128, 64.233.189.128, ...\n",
            "Connecting to storage.googleapis.com (storage.googleapis.com)|108.177.125.128|:443... connected.\n",
            "HTTP request sent, awaiting response... 200 OK\n",
            "Length: 407727028 (389M) [application/zip]\n",
            "Saving to: ‘uncased_L-12_H-768_A-12.zip.8’\n",
            "\n",
            "uncased_L-12_H-768_ 100%[===================>] 388.84M  58.9MB/s    in 10s     \n",
            "\n",
            "2020-08-28 02:31:34 (37.8 MB/s) - ‘uncased_L-12_H-768_A-12.zip.8’ saved [407727028/407727028]\n",
            "\n"
          ],
          "name": "stdout"
        }
      ]
    },
    {
      "cell_type": "code",
      "metadata": {
        "id": "Ykf-AnCjQrZg",
        "colab_type": "code",
        "colab": {
          "base_uri": "https://localhost:8080/",
          "height": 140
        },
        "outputId": "62ad42c7-a9d1-4b46-c92c-36ae7aa70e58"
      },
      "source": [
        "!unzip uncased_L-12_H-768_A-12.zip"
      ],
      "execution_count": 19,
      "outputs": [
        {
          "output_type": "stream",
          "text": [
            "Archive:  uncased_L-12_H-768_A-12.zip\n",
            "   creating: uncased_L-12_H-768_A-12/\n",
            "  inflating: uncased_L-12_H-768_A-12/bert_model.ckpt.meta  \n",
            "  inflating: uncased_L-12_H-768_A-12/bert_model.ckpt.data-00000-of-00001  \n",
            "  inflating: uncased_L-12_H-768_A-12/vocab.txt  \n",
            "  inflating: uncased_L-12_H-768_A-12/bert_model.ckpt.index  \n",
            "  inflating: uncased_L-12_H-768_A-12/bert_config.json  \n"
          ],
          "name": "stdout"
        }
      ]
    },
    {
      "cell_type": "code",
      "metadata": {
        "id": "0kzDD_BlQq92",
        "colab_type": "code",
        "colab": {}
      },
      "source": [
        "os.makedirs('model', exist_ok=True)"
      ],
      "execution_count": 20,
      "outputs": []
    },
    {
      "cell_type": "code",
      "metadata": {
        "id": "Dh-cmLMVQqb5",
        "colab_type": "code",
        "colab": {}
      },
      "source": [
        "!mv uncased_L-12_H-768_A-12/ model"
      ],
      "execution_count": 21,
      "outputs": []
    },
    {
      "cell_type": "code",
      "metadata": {
        "id": "Avja10TqiWsJ",
        "colab_type": "code",
        "colab": {}
      },
      "source": [
        "bert_model_name = 'uncased_L-12_H-768_A-12'\n",
        "bert_ckpt_dir = os.path.join('model/',bert_model_name)\n",
        "bert_ckpt_file = os.path.join(bert_ckpt_dir, 'bert_model.ckpt')\n",
        "bert_config_file = os.path.join(bert_ckpt_dir, 'bert_config.json')"
      ],
      "execution_count": 22,
      "outputs": []
    },
    {
      "cell_type": "code",
      "metadata": {
        "id": "kSs0RgWFiWb-",
        "colab_type": "code",
        "colab": {
          "base_uri": "https://localhost:8080/",
          "height": 35
        },
        "outputId": "8ed7bbb5-750f-49e2-fb0a-739f11dc4c87"
      },
      "source": [
        "bert_ckpt_file"
      ],
      "execution_count": 23,
      "outputs": [
        {
          "output_type": "execute_result",
          "data": {
            "application/vnd.google.colaboratory.intrinsic+json": {
              "type": "string"
            },
            "text/plain": [
              "'model/uncased_L-12_H-768_A-12/bert_model.ckpt'"
            ]
          },
          "metadata": {
            "tags": []
          },
          "execution_count": 23
        }
      ]
    },
    {
      "cell_type": "code",
      "metadata": {
        "id": "f5axm2aG-3uO",
        "colab_type": "code",
        "colab": {
          "base_uri": "https://localhost:8080/",
          "height": 106
        },
        "outputId": "7ef13fbd-5c9b-4710-d4fd-ca8c56898960"
      },
      "source": [
        "inc_bert = incidents[['tokens','Assignment group']]\n",
        "inc_bert.head(2)"
      ],
      "execution_count": 24,
      "outputs": [
        {
          "output_type": "execute_result",
          "data": {
            "text/html": [
              "<div>\n",
              "<style scoped>\n",
              "    .dataframe tbody tr th:only-of-type {\n",
              "        vertical-align: middle;\n",
              "    }\n",
              "\n",
              "    .dataframe tbody tr th {\n",
              "        vertical-align: top;\n",
              "    }\n",
              "\n",
              "    .dataframe thead th {\n",
              "        text-align: right;\n",
              "    }\n",
              "</style>\n",
              "<table border=\"1\" class=\"dataframe\">\n",
              "  <thead>\n",
              "    <tr style=\"text-align: right;\">\n",
              "      <th></th>\n",
              "      <th>tokens</th>\n",
              "      <th>Assignment group</th>\n",
              "    </tr>\n",
              "  </thead>\n",
              "  <tbody>\n",
              "    <tr>\n",
              "      <th>0</th>\n",
              "      <td>login issue verify user detail employee manager name check user name ad reset password advise user login check caller confirm able login issue resolve</td>\n",
              "      <td>GRP_0</td>\n",
              "    </tr>\n",
              "    <tr>\n",
              "      <th>1</th>\n",
              "      <td>receive hmjdrvpb komuaywn gmail com hello team meeting skype meeting etc appear outlook calendar somebody please advise correct kind</td>\n",
              "      <td>GRP_0</td>\n",
              "    </tr>\n",
              "  </tbody>\n",
              "</table>\n",
              "</div>"
            ],
            "text/plain": [
              "                                                                                                                                                   tokens Assignment group\n",
              "0  login issue verify user detail employee manager name check user name ad reset password advise user login check caller confirm able login issue resolve            GRP_0\n",
              "1                    receive hmjdrvpb komuaywn gmail com hello team meeting skype meeting etc appear outlook calendar somebody please advise correct kind            GRP_0"
            ]
          },
          "metadata": {
            "tags": []
          },
          "execution_count": 24
        }
      ]
    },
    {
      "cell_type": "code",
      "metadata": {
        "id": "S6KRM33NPaRq",
        "colab_type": "code",
        "colab": {
          "base_uri": "https://localhost:8080/",
          "height": 34
        },
        "outputId": "f06f13de-ea3d-4f2d-881d-c6ae4d11a1fe"
      },
      "source": [
        "tokenizer = FullTokenizer(vocab_file = os.path.join(bert_ckpt_dir, 'vocab.txt'))\n",
        "tokens = tokenizer.tokenize(\"hello guys, my first project is great!\")\n",
        "tokenizer.convert_tokens_to_ids(tokens)"
      ],
      "execution_count": 25,
      "outputs": [
        {
          "output_type": "execute_result",
          "data": {
            "text/plain": [
              "[7592, 4364, 1010, 2026, 2034, 2622, 2003, 2307, 999]"
            ]
          },
          "metadata": {
            "tags": []
          },
          "execution_count": 25
        }
      ]
    },
    {
      "cell_type": "code",
      "metadata": {
        "id": "3QRoTZnNtJTt",
        "colab_type": "code",
        "colab": {}
      },
      "source": [
        "max_len_param = 300\n",
        "max_seq_len = 0\n",
        "\n",
        "x = []\n",
        "for i in inc_bert['tokens']:\n",
        "  tokens = tokenizer.tokenize(i)\n",
        "  tokens = [\"[CLS]\"] + tokens + [\"[SEP]\"]\n",
        "  token_ids = tokenizer.convert_tokens_to_ids(tokens)\n",
        "  max_seq_len = max(max_seq_len, len(token_ids))\n",
        "  x.append(token_ids)\n",
        "\n",
        "ids = np.array(x)\n",
        "max_seq_len = min(max_seq_len, max_len_param)\n",
        "\n",
        "x = []\n",
        "for i in ids:\n",
        "  cut_point = min(len(i), max_seq_len - 2)\n",
        "  i = i[:cut_point]\n",
        "  i = i + [0] * (max_seq_len - len(i))\n",
        "  x.append(np.array(i))\n",
        "\n",
        "embedding = np.array(x)\n"
      ],
      "execution_count": 26,
      "outputs": []
    },
    {
      "cell_type": "code",
      "metadata": {
        "id": "aZjAOscTrtax",
        "colab_type": "code",
        "colab": {
          "base_uri": "https://localhost:8080/",
          "height": 122
        },
        "outputId": "ae30dbcd-40c3-4fb0-9a83-25dd2aa1d544"
      },
      "source": [
        "inc_bert['embeds'] = embedding.tolist()"
      ],
      "execution_count": 27,
      "outputs": [
        {
          "output_type": "stream",
          "text": [
            "/usr/local/lib/python3.6/dist-packages/ipykernel_launcher.py:1: SettingWithCopyWarning: \n",
            "A value is trying to be set on a copy of a slice from a DataFrame.\n",
            "Try using .loc[row_indexer,col_indexer] = value instead\n",
            "\n",
            "See the caveats in the documentation: https://pandas.pydata.org/pandas-docs/stable/user_guide/indexing.html#returning-a-view-versus-a-copy\n",
            "  \"\"\"Entry point for launching an IPython kernel.\n"
          ],
          "name": "stderr"
        }
      ]
    },
    {
      "cell_type": "code",
      "metadata": {
        "id": "vNqFsYQsxsT7",
        "colab_type": "code",
        "colab": {
          "base_uri": "https://localhost:8080/",
          "height": 346
        },
        "outputId": "3bf8dce1-4bdd-4e12-f2fa-bbba65f0b6de"
      },
      "source": [
        "inc_bert.head()"
      ],
      "execution_count": 28,
      "outputs": [
        {
          "output_type": "execute_result",
          "data": {
            "text/html": [
              "<div>\n",
              "<style scoped>\n",
              "    .dataframe tbody tr th:only-of-type {\n",
              "        vertical-align: middle;\n",
              "    }\n",
              "\n",
              "    .dataframe tbody tr th {\n",
              "        vertical-align: top;\n",
              "    }\n",
              "\n",
              "    .dataframe thead th {\n",
              "        text-align: right;\n",
              "    }\n",
              "</style>\n",
              "<table border=\"1\" class=\"dataframe\">\n",
              "  <thead>\n",
              "    <tr style=\"text-align: right;\">\n",
              "      <th></th>\n",
              "      <th>tokens</th>\n",
              "      <th>Assignment group</th>\n",
              "      <th>embeds</th>\n",
              "    </tr>\n",
              "  </thead>\n",
              "  <tbody>\n",
              "    <tr>\n",
              "      <th>0</th>\n",
              "      <td>login issue verify user detail employee manager name check user name ad reset password advise user login check caller confirm able login issue resolve</td>\n",
              "      <td>GRP_0</td>\n",
              "      <td>[101, 8833, 2378, 3277, 20410, 5310, 6987, 7904, 3208, 2171, 4638, 5310, 2171, 4748, 25141, 20786, 18012, 5310, 8833, 2378, 4638, 20587, 12210, 2583, 8833, 2378, 3277, 10663, 102, 0, 0, 0, 0, 0, 0, 0, 0, 0, 0, 0, 0, 0, 0, 0, 0, 0, 0, 0, 0, 0, 0, 0, 0, 0, 0, 0, 0, 0, 0, 0, 0, 0, 0, 0, 0, 0, 0, 0, 0, 0, 0, 0, 0, 0, 0, 0, 0, 0, 0, 0, 0, 0, 0, 0, 0, 0, 0, 0, 0, 0, 0, 0, 0, 0, 0, 0, 0, 0, 0, 0, ...]</td>\n",
              "    </tr>\n",
              "    <tr>\n",
              "      <th>1</th>\n",
              "      <td>receive hmjdrvpb komuaywn gmail com hello team meeting skype meeting etc appear outlook calendar somebody please advise correct kind</td>\n",
              "      <td>GRP_0</td>\n",
              "      <td>[101, 4374, 20287, 3501, 13626, 2615, 2361, 2497, 12849, 12274, 4710, 7962, 20917, 4014, 4012, 7592, 2136, 3116, 3712, 5051, 3116, 4385, 3711, 17680, 8094, 8307, 3531, 18012, 6149, 2785, 102, 0, 0, 0, 0, 0, 0, 0, 0, 0, 0, 0, 0, 0, 0, 0, 0, 0, 0, 0, 0, 0, 0, 0, 0, 0, 0, 0, 0, 0, 0, 0, 0, 0, 0, 0, 0, 0, 0, 0, 0, 0, 0, 0, 0, 0, 0, 0, 0, 0, 0, 0, 0, 0, 0, 0, 0, 0, 0, 0, 0, 0, 0, 0, 0, 0, 0, 0, 0, 0, ...]</td>\n",
              "    </tr>\n",
              "    <tr>\n",
              "      <th>2</th>\n",
              "      <td>log vpn receive eylqgodm ybqkwiam gmail com hi log vpn best</td>\n",
              "      <td>GRP_0</td>\n",
              "      <td>[101, 8833, 21210, 2078, 4374, 1041, 8516, 4160, 3995, 22117, 1061, 2497, 4160, 2243, 9148, 3286, 20917, 4014, 4012, 7632, 8833, 21210, 2078, 2190, 102, 0, 0, 0, 0, 0, 0, 0, 0, 0, 0, 0, 0, 0, 0, 0, 0, 0, 0, 0, 0, 0, 0, 0, 0, 0, 0, 0, 0, 0, 0, 0, 0, 0, 0, 0, 0, 0, 0, 0, 0, 0, 0, 0, 0, 0, 0, 0, 0, 0, 0, 0, 0, 0, 0, 0, 0, 0, 0, 0, 0, 0, 0, 0, 0, 0, 0, 0, 0, 0, 0, 0, 0, 0, 0, 0, ...]</td>\n",
              "    </tr>\n",
              "    <tr>\n",
              "      <th>3</th>\n",
              "      <td>unable access hr_tool page</td>\n",
              "      <td>GRP_0</td>\n",
              "      <td>[101, 4039, 3229, 17850, 1035, 6994, 3931, 102, 0, 0, 0, 0, 0, 0, 0, 0, 0, 0, 0, 0, 0, 0, 0, 0, 0, 0, 0, 0, 0, 0, 0, 0, 0, 0, 0, 0, 0, 0, 0, 0, 0, 0, 0, 0, 0, 0, 0, 0, 0, 0, 0, 0, 0, 0, 0, 0, 0, 0, 0, 0, 0, 0, 0, 0, 0, 0, 0, 0, 0, 0, 0, 0, 0, 0, 0, 0, 0, 0, 0, 0, 0, 0, 0, 0, 0, 0, 0, 0, 0, 0, 0, 0, 0, 0, 0, 0, 0, 0, 0, 0, ...]</td>\n",
              "    </tr>\n",
              "    <tr>\n",
              "      <th>4</th>\n",
              "      <td>skype error</td>\n",
              "      <td>GRP_0</td>\n",
              "      <td>[101, 3712, 5051, 7561, 102, 0, 0, 0, 0, 0, 0, 0, 0, 0, 0, 0, 0, 0, 0, 0, 0, 0, 0, 0, 0, 0, 0, 0, 0, 0, 0, 0, 0, 0, 0, 0, 0, 0, 0, 0, 0, 0, 0, 0, 0, 0, 0, 0, 0, 0, 0, 0, 0, 0, 0, 0, 0, 0, 0, 0, 0, 0, 0, 0, 0, 0, 0, 0, 0, 0, 0, 0, 0, 0, 0, 0, 0, 0, 0, 0, 0, 0, 0, 0, 0, 0, 0, 0, 0, 0, 0, 0, 0, 0, 0, 0, 0, 0, 0, 0, ...]</td>\n",
              "    </tr>\n",
              "  </tbody>\n",
              "</table>\n",
              "</div>"
            ],
            "text/plain": [
              "                                                                                                                                                   tokens  ...                                                                                                                                                                                                                                                                                                                                                                                                               embeds\n",
              "0  login issue verify user detail employee manager name check user name ad reset password advise user login check caller confirm able login issue resolve  ...        [101, 8833, 2378, 3277, 20410, 5310, 6987, 7904, 3208, 2171, 4638, 5310, 2171, 4748, 25141, 20786, 18012, 5310, 8833, 2378, 4638, 20587, 12210, 2583, 8833, 2378, 3277, 10663, 102, 0, 0, 0, 0, 0, 0, 0, 0, 0, 0, 0, 0, 0, 0, 0, 0, 0, 0, 0, 0, 0, 0, 0, 0, 0, 0, 0, 0, 0, 0, 0, 0, 0, 0, 0, 0, 0, 0, 0, 0, 0, 0, 0, 0, 0, 0, 0, 0, 0, 0, 0, 0, 0, 0, 0, 0, 0, 0, 0, 0, 0, 0, 0, 0, 0, 0, 0, 0, 0, 0, 0, ...]\n",
              "1                    receive hmjdrvpb komuaywn gmail com hello team meeting skype meeting etc appear outlook calendar somebody please advise correct kind  ...  [101, 4374, 20287, 3501, 13626, 2615, 2361, 2497, 12849, 12274, 4710, 7962, 20917, 4014, 4012, 7592, 2136, 3116, 3712, 5051, 3116, 4385, 3711, 17680, 8094, 8307, 3531, 18012, 6149, 2785, 102, 0, 0, 0, 0, 0, 0, 0, 0, 0, 0, 0, 0, 0, 0, 0, 0, 0, 0, 0, 0, 0, 0, 0, 0, 0, 0, 0, 0, 0, 0, 0, 0, 0, 0, 0, 0, 0, 0, 0, 0, 0, 0, 0, 0, 0, 0, 0, 0, 0, 0, 0, 0, 0, 0, 0, 0, 0, 0, 0, 0, 0, 0, 0, 0, 0, 0, 0, 0, 0, ...]\n",
              "2                                                                                             log vpn receive eylqgodm ybqkwiam gmail com hi log vpn best  ...                       [101, 8833, 21210, 2078, 4374, 1041, 8516, 4160, 3995, 22117, 1061, 2497, 4160, 2243, 9148, 3286, 20917, 4014, 4012, 7632, 8833, 21210, 2078, 2190, 102, 0, 0, 0, 0, 0, 0, 0, 0, 0, 0, 0, 0, 0, 0, 0, 0, 0, 0, 0, 0, 0, 0, 0, 0, 0, 0, 0, 0, 0, 0, 0, 0, 0, 0, 0, 0, 0, 0, 0, 0, 0, 0, 0, 0, 0, 0, 0, 0, 0, 0, 0, 0, 0, 0, 0, 0, 0, 0, 0, 0, 0, 0, 0, 0, 0, 0, 0, 0, 0, 0, 0, 0, 0, 0, 0, ...]\n",
              "3                                                                                                                              unable access hr_tool page  ...                                                                             [101, 4039, 3229, 17850, 1035, 6994, 3931, 102, 0, 0, 0, 0, 0, 0, 0, 0, 0, 0, 0, 0, 0, 0, 0, 0, 0, 0, 0, 0, 0, 0, 0, 0, 0, 0, 0, 0, 0, 0, 0, 0, 0, 0, 0, 0, 0, 0, 0, 0, 0, 0, 0, 0, 0, 0, 0, 0, 0, 0, 0, 0, 0, 0, 0, 0, 0, 0, 0, 0, 0, 0, 0, 0, 0, 0, 0, 0, 0, 0, 0, 0, 0, 0, 0, 0, 0, 0, 0, 0, 0, 0, 0, 0, 0, 0, 0, 0, 0, 0, 0, 0, ...]\n",
              "4                                                                                                                                             skype error  ...                                                                                       [101, 3712, 5051, 7561, 102, 0, 0, 0, 0, 0, 0, 0, 0, 0, 0, 0, 0, 0, 0, 0, 0, 0, 0, 0, 0, 0, 0, 0, 0, 0, 0, 0, 0, 0, 0, 0, 0, 0, 0, 0, 0, 0, 0, 0, 0, 0, 0, 0, 0, 0, 0, 0, 0, 0, 0, 0, 0, 0, 0, 0, 0, 0, 0, 0, 0, 0, 0, 0, 0, 0, 0, 0, 0, 0, 0, 0, 0, 0, 0, 0, 0, 0, 0, 0, 0, 0, 0, 0, 0, 0, 0, 0, 0, 0, 0, 0, 0, 0, 0, 0, ...]\n",
              "\n",
              "[5 rows x 3 columns]"
            ]
          },
          "metadata": {
            "tags": []
          },
          "execution_count": 28
        }
      ]
    },
    {
      "cell_type": "markdown",
      "metadata": {
        "id": "kmyO8arqVBE-",
        "colab_type": "text"
      },
      "source": [
        "Since group 0 constitutes half of the records, let us handle them separately."
      ]
    },
    {
      "cell_type": "code",
      "metadata": {
        "id": "FFAlsaDMU-Fy",
        "colab_type": "code",
        "colab": {}
      },
      "source": [
        "inc_grp0 = inc_bert[inc_bert['Assignment group']=='GRP_0']\n",
        "inc_bert = inc_bert[inc_bert['Assignment group']!='GRP_0']"
      ],
      "execution_count": 29,
      "outputs": []
    },
    {
      "cell_type": "code",
      "metadata": {
        "id": "uOvFMcfhU9w2",
        "colab_type": "code",
        "colab": {
          "base_uri": "https://localhost:8080/",
          "height": 52
        },
        "outputId": "fbdfa464-3e6d-4792-d8a9-62aa247bb00a"
      },
      "source": [
        "print(inc_bert.shape)\n",
        "print(inc_grp0.shape)"
      ],
      "execution_count": 30,
      "outputs": [
        {
          "output_type": "stream",
          "text": [
            "(4523, 3)\n",
            "(3968, 3)\n"
          ],
          "name": "stdout"
        }
      ]
    },
    {
      "cell_type": "code",
      "metadata": {
        "id": "Rdhf1NN3QSZg",
        "colab_type": "code",
        "colab": {
          "base_uri": "https://localhost:8080/",
          "height": 34
        },
        "outputId": "df5c37af-607f-471e-aa64-79a9f2c3113e"
      },
      "source": [
        "inc_grp0.reset_index(drop=True,inplace=True)\n",
        "inc_grp0.index"
      ],
      "execution_count": 31,
      "outputs": [
        {
          "output_type": "execute_result",
          "data": {
            "text/plain": [
              "RangeIndex(start=0, stop=3968, step=1)"
            ]
          },
          "metadata": {
            "tags": []
          },
          "execution_count": 31
        }
      ]
    },
    {
      "cell_type": "markdown",
      "metadata": {
        "id": "BoGae3R14qzX",
        "colab_type": "text"
      },
      "source": [
        "Since we have collected embeddings, we can use comparison techniques. Let us try cosine distance in comparison to jaccard similarity illustrated on top already."
      ]
    },
    {
      "cell_type": "code",
      "metadata": {
        "id": "EUmeGlcd45T0",
        "colab_type": "code",
        "colab": {}
      },
      "source": [
        "#Let us consider preprocessed sentences for comparison\n",
        "sent1= \"AI is our friend and it has been friend\"\n",
        "sent2= \"AI and humans has always been friend\"\n",
        "sent3= \"Obama speaks media Illinois\"\n",
        "sent4= \"president greets press Chicago\""
      ],
      "execution_count": 32,
      "outputs": []
    },
    {
      "cell_type": "code",
      "metadata": {
        "id": "AQQAht594oAr",
        "colab_type": "code",
        "colab": {
          "base_uri": "https://localhost:8080/",
          "height": 122
        },
        "outputId": "3cc2093b-9878-43c6-8c24-f17f5913796d"
      },
      "source": [
        "import scipy\n",
        "import random\n",
        "\n",
        "print('Similarity between sentences 1 and 2:-')\n",
        "print('cosine metric:',1 - scipy.spatial.distance.cosine(tokenizer.convert_tokens_to_ids(tokenizer.tokenize(sent1)),tokenizer.convert_tokens_to_ids(tokenizer.tokenize(sent2))+[0]*2))\n",
        "print('Jaccard similarity:',jaccard_similarity(sent1,sent2))\n",
        "\n",
        "print('Similarity between sentences 3 and 4:-')\n",
        "print('cosine metric:',1 - scipy.spatial.distance.cosine(tokenizer.convert_tokens_to_ids(tokenizer.tokenize(sent3))+[0]*1,tokenizer.convert_tokens_to_ids(tokenizer.tokenize(sent4))))\n",
        "print('Jaccard similarity:',jaccard_similarity(sent3,sent4))"
      ],
      "execution_count": 34,
      "outputs": [
        {
          "output_type": "stream",
          "text": [
            "Similarity between sentences 1 and 2:-\n",
            "cosine metric: 0.9390806637650261\n",
            "Jaccard similarity: 0.7\n",
            "Similarity between sentences 3 and 4:-\n",
            "cosine metric: 0.8051660033160822\n",
            "Jaccard similarity: 0.42857142857142855\n"
          ],
          "name": "stdout"
        }
      ]
    },
    {
      "cell_type": "markdown",
      "metadata": {
        "id": "yvaz_2lw87Qs",
        "colab_type": "text"
      },
      "source": [
        "We could see that Jaccard identifies the first 2 sentences as similar successfully, but failed in the next 2 sentences because there is no lexical match though semantically similar."
      ]
    },
    {
      "cell_type": "code",
      "metadata": {
        "id": "TtpfGWbfeS1K",
        "colab_type": "code",
        "colab": {}
      },
      "source": [
        "\n",
        "for i in range(100000):  #randomly choosing 100k iterations of comparison\n",
        "  a=random.randint(0,inc_grp0.shape[0]-1)\n",
        "  b=random.randint(0,inc_grp0.shape[0]-1)\n",
        "  if (a!=b):\n",
        "    if ((1-scipy.spatial.distance.cosine(inc_grp0.iloc[a]['embeds'],inc_grp0.iloc[b]['embeds'])) > 0.6):\n",
        "      inc_grp0.drop(b, inplace=True)\n",
        "      inc_grp0.reset_index(drop=True, inplace=True)\n"
      ],
      "execution_count": 35,
      "outputs": []
    },
    {
      "cell_type": "code",
      "metadata": {
        "id": "3oT99nzkU89H",
        "colab_type": "code",
        "colab": {
          "base_uri": "https://localhost:8080/",
          "height": 34
        },
        "outputId": "6cd60ad7-7e14-4646-871e-f89a0c471907"
      },
      "source": [
        "print(inc_grp0.shape)"
      ],
      "execution_count": 36,
      "outputs": [
        {
          "output_type": "stream",
          "text": [
            "(307, 3)\n"
          ],
          "name": "stdout"
        }
      ]
    },
    {
      "cell_type": "markdown",
      "metadata": {
        "id": "eMhp2WqIV2yz",
        "colab_type": "text"
      },
      "source": [
        "We have reduced number of records for GRP_0 from 3968 to around 250 and also they must be covering records which are more dissimilar and specific in nature."
      ]
    },
    {
      "cell_type": "code",
      "metadata": {
        "id": "3UTxEt1zV2KB",
        "colab_type": "code",
        "colab": {
          "base_uri": "https://localhost:8080/",
          "height": 34
        },
        "outputId": "9aab6f52-0119-4e20-d350-f3eaf7c322be"
      },
      "source": [
        "inc_bert = pd.concat([inc_grp0, inc_bert])\n",
        "print(inc_bert.shape)"
      ],
      "execution_count": 37,
      "outputs": [
        {
          "output_type": "stream",
          "text": [
            "(4830, 3)\n"
          ],
          "name": "stdout"
        }
      ]
    },
    {
      "cell_type": "code",
      "metadata": {
        "id": "hGDw-riI8_KD",
        "colab_type": "code",
        "colab": {
          "base_uri": "https://localhost:8080/",
          "height": 506
        },
        "outputId": "9a66e130-464e-47d2-a9ec-f5a5e6189cca"
      },
      "source": [
        "chart = sns.countplot(inc_bert['Assignment group'], palette=HAPPY_COLORS_PALETTE)"
      ],
      "execution_count": 38,
      "outputs": [
        {
          "output_type": "display_data",
          "data": {
            "image/png": "[encoded data removed]",
            "text/plain": [
              "<Figure size 864x576 with 1 Axes>"
            ]
          },
          "metadata": {
            "tags": [],
            "image/png": {
              "width": 757,
              "height": 489
            }
          }
        }
      ]
    },
    {
      "cell_type": "code",
      "metadata": {
        "id": "hRlvvIb0AlgZ",
        "colab_type": "code",
        "colab": {}
      },
      "source": [
        "inc_clus = pd.DataFrame(inc_bert['Assignment group'].unique(),columns=['Assignment group'])\n",
        "for i in inc_bert['Assignment group'].unique():\n",
        "  inc_clus.loc[inc_clus['Assignment group']==i,'embeds'] = pd.Series([np.mean(inc_bert[inc_bert['Assignment group']==i]['embeds'].tolist(),axis=0)],\n",
        "                                                                        index=inc_clus.loc[inc_clus['Assignment group']==i].index,dtype='object')\n",
        "  inc_clus.loc[inc_clus['Assignment group']==i,'frequency'] = pd.Series(inc_bert[inc_bert['Assignment group']==i].shape[0],\n",
        "                                                                        index=inc_clus.loc[inc_clus['Assignment group']==i].index,dtype='object')\n",
        "  "
      ],
      "execution_count": 39,
      "outputs": []
    },
    {
      "cell_type": "code",
      "metadata": {
        "id": "kRKXEWjOGdiV",
        "colab_type": "code",
        "colab": {
          "base_uri": "https://localhost:8080/",
          "height": 968
        },
        "outputId": "8559e708-bcf8-401a-9b1f-a6184660bee6"
      },
      "source": [
        "inc_clus.head()"
      ],
      "execution_count": 40,
      "outputs": [
        {
          "output_type": "execute_result",
          "data": {
            "text/html": [
              "<div>\n",
              "<style scoped>\n",
              "    .dataframe tbody tr th:only-of-type {\n",
              "        vertical-align: middle;\n",
              "    }\n",
              "\n",
              "    .dataframe tbody tr th {\n",
              "        vertical-align: top;\n",
              "    }\n",
              "\n",
              "    .dataframe thead th {\n",
              "        text-align: right;\n",
              "    }\n",
              "</style>\n",
              "<table border=\"1\" class=\"dataframe\">\n",
              "  <thead>\n",
              "    <tr style=\"text-align: right;\">\n",
              "      <th></th>\n",
              "      <th>Assignment group</th>\n",
              "      <th>embeds</th>\n",
              "      <th>frequency</th>\n",
              "    </tr>\n",
              "  </thead>\n",
              "  <tbody>\n",
              "    <tr>\n",
              "      <th>0</th>\n",
              "      <td>GRP_0</td>\n",
              "      <td>[101.0, 7901.807817589576, 7331.280130293159, 7583.794788273615, 7401.231270358307, 6903.869706840391, 7114.299674267101, 7157.7557003257325, 6917.055374592834, 7260.065146579805, 7385.742671009772, 7588.068403908795, 7438.459283387622, 7931.267100977198, 6567.2540716612375, 6924.156351791531, 7438.729641693811, 7158.990228013029, 6581.801302931596, 7654.514657980456, 6380.019543973941, 6423.586319218241, 6293.671009771987, 6177.895765472313, 6282.348534201954, 6721.511400651466, 6222.882736156352, 6437.221498371336, 6166.0814332247555, 6343.28338762215, 6501.85342019544, 5535.771986970684, 6227.061889250815, 6426.99348534202, 5996.100977198697, 6295.0749185667755, 6560.840390879479, 6082.182410423453, 6180.723127035831, 6186.4169381107495, 5790.332247557003, 6446.459283387622, 6068.99348534202, 6132.332247557003, 5858.192182410424, 6296.228013029316, 5131.100977198697, 5872.71335504886, 6049.257328990228, 5296.107491856677, 5455.697068403909, 6527.768729641693, 5860.876221498372, 5600.214983713355, 6198.534201954398, 5164.456026058632, 5271.482084690554, 5518.882736156352, 4816.863192182411, 4744.241042345277, 4905.42996742671, 4723.599348534202, 4467.657980456026, 4617.179153094463, 4268.381107491857, 4197.85016286645, 4733.413680781759, 4256.628664495114, 5199.827361563518, 4243.758957654723, 4239.055374592834, 3916.267100977199, 4466.407166123779, 4360.732899022802, 4750.377850162867, 3882.485342019544, 3932.5895765472314, 3423.7068403908793, 3398.9348534201954, 3903.403908794788, 3779.7752442996743, 3867.0423452768728, 3222.511400651466, 3481.1042345276874, 3588.4364820846904, 2967.885993485342, 3561.228013029316, 3148.241042345277, 3251.355048859935, 2766.3387622149835, 3283.1237785016287, 3074.4918566775245, 2860.885993485342, 2288.7068403908793, 2888.413680781759, 3000.869706840391, 2626.8762214983713, 2614.5798045602605, 2659.840390879479, 2739.3843648208467, ...]</td>\n",
              "      <td>307</td>\n",
              "    </tr>\n",
              "    <tr>\n",
              "      <th>1</th>\n",
              "      <td>GRP_1</td>\n",
              "      <td>[101.0, 6933.0, 11129.032258064517, 3317.7741935483873, 9772.483870967742, 7855.322580645161, 7369.677419354839, 7300.193548387097, 7864.870967741936, 4441.193548387097, 5333.225806451613, 5383.225806451613, 6993.580645161291, 6579.8387096774195, 5615.225806451613, 6557.774193548387, 5571.225806451613, 5532.806451612903, 6225.290322580645, 6900.612903225807, 6481.064516129032, 7549.322580645161, 5651.806451612903, 5509.935483870968, 6989.774193548387, 6440.8387096774195, 5836.290322580645, 4024.451612903226, 7100.096774193548, 4912.032258064516, 4937.451612903225, 4519.1612903225805, 5495.096774193548, 5043.354838709677, 2421.516129032258, 3632.7096774193546, 3441.1290322580644, 2113.451612903226, 4826.645161290323, 3393.967741935484, 3590.967741935484, 2287.2580645161293, 4149.258064516129, 3407.6451612903224, 3045.8387096774195, 2735.2903225806454, 1853.483870967742, 1788.0967741935483, 1801.3225806451612, 3305.3548387096776, 967.1290322580645, 3275.1612903225805, 2331.451612903226, 1842.5806451612902, 3631.548387096774, 2318.7096774193546, 927.7741935483871, 1750.3548387096773, 3289.6774193548385, 1916.7096774193549, 2873.5806451612902, 808.741935483871, 2367.064516129032, 1368.032258064516, 2279.064516129032, 865.0322580645161, 690.0322580645161, 1624.1612903225807, 1330.516129032258, 1955.4193548387098, 1637.3548387096773, 912.0967741935484, 2385.6451612903224, 1569.5483870967741, 519.5806451612904, 1297.516129032258, 1171.4193548387098, 2179.8064516129034, 1325.4193548387098, 2357.7741935483873, 1159.5806451612902, 1368.2903225806451, 1697.1612903225807, 1223.0645161290322, 1650.1290322580646, 1846.6129032258063, 819.258064516129, 1088.8387096774193, 1237.8709677419354, 1623.3548387096773, 181.58064516129033, 550.9032258064516, 178.25806451612902, 201.67741935483872, 680.5806451612904, 207.09677419354838, 1085.5806451612902, 218.32258064516128, 856.1935483870968, 338.4516129032258, ...]</td>\n",
              "      <td>31</td>\n",
              "    </tr>\n",
              "    <tr>\n",
              "      <th>2</th>\n",
              "      <td>GRP_3</td>\n",
              "      <td>[101.0, 8293.315, 7463.475, 7370.23, 6537.085, 6581.49, 6716.8, 5813.205, 6472.03, 5658.53, 4688.33, 4621.86, 3581.11, 4224.715, 4227.01, 4107.915, 3230.135, 3396.065, 3182.625, 3180.41, 2296.04, 2453.705, 3039.085, 2328.98, 2458.265, 2355.0, 2371.175, 2332.425, 2301.535, 1778.775, 2008.59, 2451.28, 1791.475, 2265.15, 1556.095, 1662.935, 1807.15, 1557.475, 1322.68, 1895.385, 1900.83, 1763.545, 1617.24, 1509.595, 1095.26, 1080.645, 999.21, 1244.295, 1239.25, 1649.72, 1088.425, 1088.79, 933.35, 1057.115, 813.68, 910.58, 793.44, 1048.43, 906.89, 900.045, 1133.645, 630.83, 644.97, 1107.125, 929.295, 543.855, 569.06, 772.56, 688.675, 370.21, 473.2, 417.5, 608.955, 524.67, 673.325, 467.93, 469.125, 427.46, 346.54, 619.11, 361.385, 480.685, 692.735, 438.885, 697.005, 608.29, 334.865, 479.815, 671.475, 690.265, 483.355, 561.855, 379.16, 295.47, 501.785, 505.84, 440.495, 541.575, 434.065, 376.925, ...]</td>\n",
              "      <td>200</td>\n",
              "    </tr>\n",
              "    <tr>\n",
              "      <th>3</th>\n",
              "      <td>GRP_4</td>\n",
              "      <td>[101.0, 7421.78, 6078.6, 6908.25, 6596.11, 5961.0, 7431.5, 5397.44, 6697.61, 5357.75, 6267.88, 6818.2, 5095.69, 5236.91, 4417.38, 5011.02, 4779.0, 5542.71, 6386.25, 4636.85, 4265.92, 5568.85, 4131.89, 5152.74, 4637.55, 5962.38, 3574.47, 4024.56, 3181.74, 3327.33, 2970.51, 3247.62, 3409.94, 3474.71, 3394.57, 2125.47, 3665.29, 3350.51, 3355.27, 2971.4, 3470.93, 2472.42, 1845.85, 2743.95, 2527.88, 2358.99, 2398.77, 2909.39, 2364.74, 2858.18, 1970.35, 2614.74, 2257.23, 1324.02, 1681.36, 1573.34, 1533.5, 1650.13, 1988.93, 1956.17, 1826.46, 1522.29, 1727.3, 1074.53, 1140.79, 1040.14, 1236.7, 1153.83, 1164.1, 1519.45, 1147.66, 813.7, 746.03, 744.25, 776.26, 712.8, 472.19, 317.7, 354.32, 575.97, 583.18, 430.29, 349.32, 257.56, 845.1, 503.85, 458.61, 503.78, 579.23, 570.31, 534.99, 520.76, 648.24, 731.39, 448.91, 226.05, 250.29, 395.0, 322.59, 428.33, ...]</td>\n",
              "      <td>100</td>\n",
              "    </tr>\n",
              "    <tr>\n",
              "      <th>4</th>\n",
              "      <td>GRP_5</td>\n",
              "      <td>[101.0, 4051.5581395348836, 12161.821705426357, 2678.4806201550387, 6459.186046511628, 9305.023255813954, 6857.7131782945735, 6918.37984496124, 9279.596899224805, 3976.751937984496, 4330.131782945737, 3189.1162790697676, 4744.720930232558, 4204.643410852713, 6955.395348837209, 4010.1317829457366, 4577.542635658915, 6812.550387596899, 4997.860465116279, 5111.7441860465115, 4025.6511627906975, 4668.054263565891, 3887.9302325581393, 4016.3255813953488, 3968.0852713178297, 6356.077519379845, 4433.68992248062, 3502.232558139535, 8945.31007751938, 4018.3798449612405, 5084.68992248062, 4363.108527131783, 3420.2403100775196, 4489.37984496124, 3928.5503875968993, 4295.992248062015, 4661.2558139534885, 3210.8992248062013, 3972.2558139534885, 4678.573643410853, 4297.077519379845, 2581.5038759689924, 1743.8294573643411, 2214.6201550387595, 1881.4573643410852, 1262.1705426356589, 1757.8992248062016, 2057.031007751938, 1466.062015503876, 1391.6821705426357, 1174.2248062015503, 1537.8294573643411, 1989.6356589147288, 1478.7519379844962, 1088.4108527131782, 1550.4108527131782, 1262.2558139534883, 1285.1317829457364, 1170.4728682170542, 1295.3255813953488, 1112.7984496124031, 1128.9612403100775, 1121.5503875968993, 1275.7674418604652, 838.5038759689922, 1244.2403100775193, 747.4806201550388, 805.5348837209302, 765.5658914728682, 373.30232558139534, 680.8449612403101, 493.8759689922481, 397.1240310077519, 921.4883720930233, 753.2170542635658, 745.9147286821706, 710.1317829457364, 668.7984496124031, 689.2170542635658, 482.72868217054264, 308.7751937984496, 711.5426356589147, 688.2558139534884, 503.4496124031008, 453.70542635658916, 651.7054263565891, 810.5891472868217, 602.5891472868217, 544.5581395348837, 818.7751937984497, 539.3643410852713, 481.7519379844961, 542.5503875968992, 333.93023255813955, 958.1240310077519, 593.3178294573644, 476.5813953488372, 695.1317829457364, 301.31007751937983, 623.1627906976744, ...]</td>\n",
              "      <td>129</td>\n",
              "    </tr>\n",
              "  </tbody>\n",
              "</table>\n",
              "</div>"
            ],
            "text/plain": [
              "  Assignment group  ... frequency\n",
              "0            GRP_0  ...       307\n",
              "1            GRP_1  ...        31\n",
              "2            GRP_3  ...       200\n",
              "3            GRP_4  ...       100\n",
              "4            GRP_5  ...       129\n",
              "\n",
              "[5 rows x 3 columns]"
            ]
          },
          "metadata": {
            "tags": []
          },
          "execution_count": 40
        }
      ]
    },
    {
      "cell_type": "code",
      "metadata": {
        "id": "jYIpGmuxAR94",
        "colab_type": "code",
        "colab": {
          "base_uri": "https://localhost:8080/",
          "height": 70
        },
        "outputId": "8b7ee1b8-3e20-4799-ce5e-f1142d8422de"
      },
      "source": [
        "model = AgglomerativeClustering(n_clusters=5, affinity='euclidean',  linkage='average')\n",
        "model.fit(inc_clus['embeds'].values.tolist())\n",
        "#inc_clus['class'] = model.labels_"
      ],
      "execution_count": 41,
      "outputs": [
        {
          "output_type": "execute_result",
          "data": {
            "text/plain": [
              "AgglomerativeClustering(affinity='euclidean', compute_full_tree='auto',\n",
              "                        connectivity=None, distance_threshold=None,\n",
              "                        linkage='average', memory=None, n_clusters=5)"
            ]
          },
          "metadata": {
            "tags": []
          },
          "execution_count": 41
        }
      ]
    },
    {
      "cell_type": "code",
      "metadata": {
        "id": "ms_hi2seARs5",
        "colab_type": "code",
        "colab": {
          "base_uri": "https://localhost:8080/",
          "height": 720
        },
        "outputId": "c684d8d2-0441-4cc2-bd8f-fb5e42ebd19e"
      },
      "source": [
        "from scipy.cluster.hierarchy import cophenet, dendrogram, linkage\n",
        "\n",
        "plt.figure(figsize=(30, 10))\n",
        "plt.title('Agglomerative Hierarchical Clustering Dendogram')\n",
        "Z = linkage(inc_clus['embeds'].values.tolist(), metric='euclidean', method='average')\n",
        "dendrogram(Z, leaf_rotation=90, color_threshold=40, leaf_font_size=8)\n",
        "plt.tight_layout()"
      ],
      "execution_count": 42,
      "outputs": [
        {
          "output_type": "display_data",
          "data": {
            "image/png": "[encoded data removed]",
            "text/plain": [
              "<Figure size 2160x720 with 1 Axes>"
            ]
          },
          "metadata": {
            "tags": [],
            "image/png": {
              "width": 2143,
              "height": 703
            }
          }
        }
      ]
    },
    {
      "cell_type": "code",
      "metadata": {
        "id": "sVP7pcQYHGCQ",
        "colab_type": "code",
        "colab": {
          "base_uri": "https://localhost:8080/",
          "height": 228
        },
        "outputId": "d0cc816a-caca-4f5c-df6a-11660cee2d5a"
      },
      "source": [
        "inc_bert['Assignment group'].value_counts()"
      ],
      "execution_count": 43,
      "outputs": [
        {
          "output_type": "execute_result",
          "data": {
            "text/plain": [
              "GRP_8     661\n",
              "GRP_0     307\n",
              "GRP_24    289\n",
              "GRP_12    257\n",
              "GRP_9     252\n",
              "         ... \n",
              "GRP_73      1\n",
              "GRP_70      1\n",
              "GRP_35      1\n",
              "GRP_67      1\n",
              "GRP_61      1\n",
              "Name: Assignment group, Length: 74, dtype: int64"
            ]
          },
          "metadata": {
            "tags": []
          },
          "execution_count": 43
        }
      ]
    },
    {
      "cell_type": "code",
      "metadata": {
        "id": "1nDXcbZKJWm1",
        "colab_type": "code",
        "colab": {
          "base_uri": "https://localhost:8080/",
          "height": 562
        },
        "outputId": "cd87a29e-539a-409d-aba4-75538eb580cd"
      },
      "source": [
        "model = AgglomerativeClustering(n_clusters=30, affinity='euclidean',  linkage='average')\n",
        "model.fit(inc_clus['embeds'].values.tolist())\n",
        "inc_clus['class'] = model.labels_\n",
        "inc_clus['class'].value_counts()"
      ],
      "execution_count": 44,
      "outputs": [
        {
          "output_type": "execute_result",
          "data": {
            "text/plain": [
              "1     42\n",
              "2      3\n",
              "0      2\n",
              "28     1\n",
              "3      1\n",
              "4      1\n",
              "5      1\n",
              "6      1\n",
              "7      1\n",
              "8      1\n",
              "9      1\n",
              "10     1\n",
              "11     1\n",
              "12     1\n",
              "13     1\n",
              "29     1\n",
              "15     1\n",
              "16     1\n",
              "17     1\n",
              "18     1\n",
              "19     1\n",
              "20     1\n",
              "21     1\n",
              "22     1\n",
              "23     1\n",
              "24     1\n",
              "25     1\n",
              "26     1\n",
              "27     1\n",
              "14     1\n",
              "Name: class, dtype: int64"
            ]
          },
          "metadata": {
            "tags": []
          },
          "execution_count": 44
        }
      ]
    },
    {
      "cell_type": "code",
      "metadata": {
        "id": "bHcSv96TKC28",
        "colab_type": "code",
        "colab": {}
      },
      "source": [
        "for i in inc_bert['Assignment group'].unique():\n",
        "  inc_bert.loc[inc_bert['Assignment group']==i,'class'] = inc_clus[inc_clus['Assignment group']==i]['class'].values[0]"
      ],
      "execution_count": 48,
      "outputs": []
    },
    {
      "cell_type": "code",
      "metadata": {
        "id": "X0pk-10b8t_l",
        "colab_type": "code",
        "colab": {
          "base_uri": "https://localhost:8080/",
          "height": 562
        },
        "outputId": "678b2c24-8314-4e02-fd6e-4bcba4cd4507"
      },
      "source": [
        "inc_bert['class'].value_counts()"
      ],
      "execution_count": 49,
      "outputs": [
        {
          "output_type": "execute_result",
          "data": {
            "text/plain": [
              "1.0     3990\n",
              "0.0      322\n",
              "2.0      308\n",
              "29.0      81\n",
              "19.0      25\n",
              "24.0      19\n",
              "8.0       11\n",
              "28.0       8\n",
              "20.0       8\n",
              "23.0       6\n",
              "14.0       6\n",
              "17.0       6\n",
              "15.0       5\n",
              "21.0       4\n",
              "7.0        3\n",
              "10.0       3\n",
              "16.0       3\n",
              "26.0       3\n",
              "27.0       3\n",
              "22.0       2\n",
              "4.0        2\n",
              "12.0       2\n",
              "5.0        2\n",
              "25.0       2\n",
              "11.0       1\n",
              "13.0       1\n",
              "3.0        1\n",
              "6.0        1\n",
              "18.0       1\n",
              "9.0        1\n",
              "Name: class, dtype: int64"
            ]
          },
          "metadata": {
            "tags": []
          },
          "execution_count": 49
        }
      ]
    },
    {
      "cell_type": "markdown",
      "metadata": {
        "id": "FLIlPVKJ81BK",
        "colab_type": "text"
      },
      "source": [
        "As we can see above, the class imbalance is more prominent after using bert embeddings. In other words, Bert is able to distinctly understand the characteristic of each group."
      ]
    },
    {
      "cell_type": "code",
      "metadata": {
        "id": "LG1WRXXmIeQN",
        "colab_type": "code",
        "colab": {
          "base_uri": "https://localhost:8080/",
          "height": 87
        },
        "outputId": "422523c4-9f46-4cb1-8857-48b0f7907a2e"
      },
      "source": [
        "clus_arrngmt = pd.DataFrame([(i,inc_clus[inc_clus['class']==i]['Assignment group'].values) for i in inc_clus['class'].unique()],columns=['cluster id','cluster groups'])\n",
        "clus_arrngmt.set_index('cluster id',inplace=True)\n",
        "clus_arrngmt['ticket_counts'] = inc_bert['class'].value_counts()\n",
        "clus_arrngmt['class_counts'] = inc_clus['class'].value_counts()\n",
        "clus_arrngmt.reset_index(inplace=True)\n",
        "clus_arrngmt.sort_values(by='ticket_counts',ascending=False,inplace=True)\n",
        "clus_arrngmt=clus_arrngmt[clus_arrngmt['ticket_counts']>100]\n",
        "clus_arrngmt.sum()"
      ],
      "execution_count": 50,
      "outputs": [
        {
          "output_type": "execute_result",
          "data": {
            "text/plain": [
              "cluster id          3\n",
              "ticket_counts    4620\n",
              "class_counts       47\n",
              "dtype: int64"
            ]
          },
          "metadata": {
            "tags": []
          },
          "execution_count": 50
        }
      ]
    },
    {
      "cell_type": "code",
      "metadata": {
        "id": "EQ9JH26ZJN6f",
        "colab_type": "code",
        "colab": {
          "base_uri": "https://localhost:8080/",
          "height": 186
        },
        "outputId": "f4c7dc1d-330e-4d18-9fa5-f560d64d8072"
      },
      "source": [
        "clus_arrngmt"
      ],
      "execution_count": 51,
      "outputs": [
        {
          "output_type": "execute_result",
          "data": {
            "text/html": [
              "<div>\n",
              "<style scoped>\n",
              "    .dataframe tbody tr th:only-of-type {\n",
              "        vertical-align: middle;\n",
              "    }\n",
              "\n",
              "    .dataframe tbody tr th {\n",
              "        vertical-align: top;\n",
              "    }\n",
              "\n",
              "    .dataframe thead th {\n",
              "        text-align: right;\n",
              "    }\n",
              "</style>\n",
              "<table border=\"1\" class=\"dataframe\">\n",
              "  <thead>\n",
              "    <tr style=\"text-align: right;\">\n",
              "      <th></th>\n",
              "      <th>cluster id</th>\n",
              "      <th>cluster groups</th>\n",
              "      <th>ticket_counts</th>\n",
              "      <th>class_counts</th>\n",
              "    </tr>\n",
              "  </thead>\n",
              "  <tbody>\n",
              "    <tr>\n",
              "      <th>1</th>\n",
              "      <td>1</td>\n",
              "      <td>[GRP_1, GRP_3, GRP_4, GRP_5, GRP_6, GRP_7, GRP_8, GRP_9, GRP_10, GRP_11, GRP_12, GRP_13, GRP_14, GRP_15, GRP_16, GRP_18, GRP_19, GRP_2, GRP_20, GRP_21, GRP_22, GRP_23, GRP_25, GRP_26, GRP_27, GRP_28, GRP_29, GRP_30, GRP_31, GRP_33, GRP_34, GRP_37, GRP_40, GRP_41, GRP_42, GRP_45, GRP_47, GRP_50, GRP_52, GRP_53, GRP_60, GRP_62]</td>\n",
              "      <td>3990</td>\n",
              "      <td>42</td>\n",
              "    </tr>\n",
              "    <tr>\n",
              "      <th>0</th>\n",
              "      <td>0</td>\n",
              "      <td>[GRP_0, GRP_44]</td>\n",
              "      <td>322</td>\n",
              "      <td>2</td>\n",
              "    </tr>\n",
              "    <tr>\n",
              "      <th>3</th>\n",
              "      <td>2</td>\n",
              "      <td>[GRP_24, GRP_36, GRP_66]</td>\n",
              "      <td>308</td>\n",
              "      <td>3</td>\n",
              "    </tr>\n",
              "  </tbody>\n",
              "</table>\n",
              "</div>"
            ],
            "text/plain": [
              "   cluster id  ... class_counts\n",
              "1           1  ...           42\n",
              "0           0  ...            2\n",
              "3           2  ...            3\n",
              "\n",
              "[3 rows x 4 columns]"
            ]
          },
          "metadata": {
            "tags": []
          },
          "execution_count": 51
        }
      ]
    },
    {
      "cell_type": "markdown",
      "metadata": {
        "id": "vdp0rF0--hWM",
        "colab_type": "text"
      },
      "source": [
        "PREDICTION USING GLOVE EMBEDDINGS"
      ]
    },
    {
      "cell_type": "code",
      "metadata": {
        "id": "HopYPklK-gbN",
        "colab_type": "code",
        "colab": {}
      },
      "source": [
        "inc_clus = pd.DataFrame(incidents['Assignment group'].unique(),columns=['Assignment group'])\n",
        "\n",
        "for i in incidents['Assignment group'].unique():\n",
        "  inc_clus.loc[inc_clus['Assignment group']==i,'embedding'] = pd.Series([np.mean(incidents[incidents['Assignment group']==i]['embedding'])],\n",
        "                                                                        index=inc_clus.loc[inc_clus['Assignment group']==i].index,dtype='object')\n",
        "  inc_clus.loc[inc_clus['Assignment group']==i,'frequency'] = pd.Series(incidents[incidents['Assignment group']==i].shape[0],\n",
        "                                                                        index=inc_clus.loc[inc_clus['Assignment group']==i].index,dtype='object')"
      ],
      "execution_count": 63,
      "outputs": []
    },
    {
      "cell_type": "code",
      "metadata": {
        "id": "KctSPlWS-gDb",
        "colab_type": "code",
        "colab": {
          "base_uri": "https://localhost:8080/",
          "height": 70
        },
        "outputId": "001b84fb-a28c-4189-ff3a-bc03d52c87f3"
      },
      "source": [
        "#Agglomerative Clustering\n",
        "model = AgglomerativeClustering(n_clusters=5, affinity='euclidean', linkage='average')\n",
        "model.fit(inc_clus['embedding'].values.tolist())"
      ],
      "execution_count": 64,
      "outputs": [
        {
          "output_type": "execute_result",
          "data": {
            "text/plain": [
              "AgglomerativeClustering(affinity='euclidean', compute_full_tree='auto',\n",
              "                        connectivity=None, distance_threshold=None,\n",
              "                        linkage='average', memory=None, n_clusters=5)"
            ]
          },
          "metadata": {
            "tags": []
          },
          "execution_count": 64
        }
      ]
    },
    {
      "cell_type": "code",
      "metadata": {
        "id": "fNP5BHhW5INl",
        "colab_type": "code",
        "colab": {
          "base_uri": "https://localhost:8080/",
          "height": 720
        },
        "outputId": "990f7218-ab45-4bc2-87f8-93191e38a4b0"
      },
      "source": [
        "plt.figure(figsize=(30, 10))\n",
        "plt.title('Agglomerative Hierarchical Clustering Dendogram')\n",
        "Z = linkage(inc_clus['embedding'].values.tolist(), metric='euclidean', method='average')\n",
        "dendrogram(Z, leaf_rotation=90, color_threshold=40, leaf_font_size=8)\n",
        "plt.tight_layout()"
      ],
      "execution_count": 65,
      "outputs": [
        {
          "output_type": "display_data",
          "data": {
            "image/png": "[encoded data removed]",
            "text/plain": [
              "<Figure size 2160x720 with 1 Axes>"
            ]
          },
          "metadata": {
            "tags": [],
            "image/png": {
              "width": 2143,
              "height": 703
            }
          }
        }
      ]
    },
    {
      "cell_type": "markdown",
      "metadata": {
        "id": "j4oSFUXAIYGM",
        "colab_type": "text"
      },
      "source": [
        "**Observation:**\n",
        "\n",
        "From the above graph, records for specific groups are largely different from most other groups which seem to be similar. The motive behind performing clustering is to counter the class imbalance in our data. When we choose to form clusters, it needs to satisfy the below condition:\n",
        "* The clusters must restore some class balance in our data so that our classification model can predict precisely\n",
        "* The clusters must not be a combination of large number of assignment groups each, if so then we will not be able to infer properly from the classification\n",
        "\n",
        "Going by this logic, we go with 45 clusters"
      ]
    },
    {
      "cell_type": "code",
      "metadata": {
        "id": "6EzVhZ9M6NWE",
        "colab_type": "code",
        "colab": {
          "base_uri": "https://localhost:8080/",
          "height": 70
        },
        "outputId": "8d07660c-2829-47c2-b206-71c5cf164b3c"
      },
      "source": [
        "model = AgglomerativeClustering(n_clusters=45, affinity='euclidean',  linkage='average')\n",
        "model.fit(inc_clus['embedding'].values.tolist())"
      ],
      "execution_count": 66,
      "outputs": [
        {
          "output_type": "execute_result",
          "data": {
            "text/plain": [
              "AgglomerativeClustering(affinity='euclidean', compute_full_tree='auto',\n",
              "                        connectivity=None, distance_threshold=None,\n",
              "                        linkage='average', memory=None, n_clusters=45)"
            ]
          },
          "metadata": {
            "tags": []
          },
          "execution_count": 66
        }
      ]
    },
    {
      "cell_type": "code",
      "metadata": {
        "id": "Xl_K0myfA4HT",
        "colab_type": "code",
        "colab": {
          "base_uri": "https://localhost:8080/",
          "height": 826
        },
        "outputId": "8a059393-68f2-42ef-f713-a6332760ab63"
      },
      "source": [
        "inc_clus['class'] = model.labels_\n",
        "inc_clus['class'].value_counts()"
      ],
      "execution_count": 67,
      "outputs": [
        {
          "output_type": "execute_result",
          "data": {
            "text/plain": [
              "0     9\n",
              "20    6\n",
              "2     5\n",
              "1     4\n",
              "3     3\n",
              "4     3\n",
              "18    3\n",
              "9     3\n",
              "8     2\n",
              "14    1\n",
              "19    1\n",
              "17    1\n",
              "16    1\n",
              "15    1\n",
              "11    1\n",
              "13    1\n",
              "12    1\n",
              "21    1\n",
              "7     1\n",
              "6     1\n",
              "5     1\n",
              "10    1\n",
              "44    1\n",
              "43    1\n",
              "23    1\n",
              "42    1\n",
              "41    1\n",
              "40    1\n",
              "39    1\n",
              "38    1\n",
              "37    1\n",
              "36    1\n",
              "35    1\n",
              "34    1\n",
              "33    1\n",
              "32    1\n",
              "31    1\n",
              "30    1\n",
              "29    1\n",
              "28    1\n",
              "27    1\n",
              "26    1\n",
              "25    1\n",
              "24    1\n",
              "22    1\n",
              "Name: class, dtype: int64"
            ]
          },
          "metadata": {
            "tags": []
          },
          "execution_count": 67
        }
      ]
    },
    {
      "cell_type": "markdown",
      "metadata": {
        "id": "Mfv3Py5aAqw8",
        "colab_type": "text"
      },
      "source": [
        "We can see that most of the clusters have only one group each. This is not an ideal scenario since then there are lot of labels to classify."
      ]
    },
    {
      "cell_type": "code",
      "metadata": {
        "id": "k8RGnonmA15k",
        "colab_type": "code",
        "colab": {}
      },
      "source": [
        "for i in incidents['Assignment group'].unique():\n",
        "  incidents.loc[incidents['Assignment group']==i,'class'] = inc_clus[inc_clus['Assignment group']==i]['class'].values[0]"
      ],
      "execution_count": 68,
      "outputs": []
    },
    {
      "cell_type": "code",
      "metadata": {
        "id": "XCuy4g9GEAsa",
        "colab_type": "code",
        "colab": {
          "base_uri": "https://localhost:8080/",
          "height": 195
        },
        "outputId": "ef8d31fe-0211-428a-fe4e-1026a989884a"
      },
      "source": [
        "clus_arrngmt = pd.DataFrame([(i,inc_clus[inc_clus['class']==i]['Assignment group'].values) for i in inc_clus['class'].unique()],columns=['cluster id','cluster groups'])\n",
        "clus_arrngmt.set_index('cluster id',inplace=True)\n",
        "clus_arrngmt['ticket_counts'] = incidents['class'].value_counts()\n",
        "clus_arrngmt['class_counts'] = inc_clus['class'].value_counts()\n",
        "clus_arrngmt.reset_index(inplace=True)\n",
        "clus_arrngmt.head()"
      ],
      "execution_count": 69,
      "outputs": [
        {
          "output_type": "execute_result",
          "data": {
            "text/html": [
              "<div>\n",
              "<style scoped>\n",
              "    .dataframe tbody tr th:only-of-type {\n",
              "        vertical-align: middle;\n",
              "    }\n",
              "\n",
              "    .dataframe tbody tr th {\n",
              "        vertical-align: top;\n",
              "    }\n",
              "\n",
              "    .dataframe thead th {\n",
              "        text-align: right;\n",
              "    }\n",
              "</style>\n",
              "<table border=\"1\" class=\"dataframe\">\n",
              "  <thead>\n",
              "    <tr style=\"text-align: right;\">\n",
              "      <th></th>\n",
              "      <th>cluster id</th>\n",
              "      <th>cluster groups</th>\n",
              "      <th>ticket_counts</th>\n",
              "      <th>class_counts</th>\n",
              "    </tr>\n",
              "  </thead>\n",
              "  <tbody>\n",
              "    <tr>\n",
              "      <th>0</th>\n",
              "      <td>20</td>\n",
              "      <td>[GRP_0, GRP_3, GRP_19, GRP_25, GRP_51, GRP_59]</td>\n",
              "      <td>4513</td>\n",
              "      <td>6</td>\n",
              "    </tr>\n",
              "    <tr>\n",
              "      <th>1</th>\n",
              "      <td>8</td>\n",
              "      <td>[GRP_1, GRP_47]</td>\n",
              "      <td>58</td>\n",
              "      <td>2</td>\n",
              "    </tr>\n",
              "    <tr>\n",
              "      <th>2</th>\n",
              "      <td>0</td>\n",
              "      <td>[GRP_4, GRP_12, GRP_13, GRP_15, GRP_18, GRP_2, GRP_29, GRP_53, GRP_65]</td>\n",
              "      <td>989</td>\n",
              "      <td>9</td>\n",
              "    </tr>\n",
              "    <tr>\n",
              "      <th>3</th>\n",
              "      <td>18</td>\n",
              "      <td>[GRP_5, GRP_6, GRP_9]</td>\n",
              "      <td>565</td>\n",
              "      <td>3</td>\n",
              "    </tr>\n",
              "    <tr>\n",
              "      <th>4</th>\n",
              "      <td>44</td>\n",
              "      <td>[GRP_7]</td>\n",
              "      <td>68</td>\n",
              "      <td>1</td>\n",
              "    </tr>\n",
              "  </tbody>\n",
              "</table>\n",
              "</div>"
            ],
            "text/plain": [
              "   cluster id  ... class_counts\n",
              "0          20  ...            6\n",
              "1           8  ...            2\n",
              "2           0  ...            9\n",
              "3          18  ...            3\n",
              "4          44  ...            1\n",
              "\n",
              "[5 rows x 4 columns]"
            ]
          },
          "metadata": {
            "tags": []
          },
          "execution_count": 69
        }
      ]
    },
    {
      "cell_type": "code",
      "metadata": {
        "id": "4N3qm999J3LJ",
        "colab_type": "code",
        "colab": {
          "base_uri": "https://localhost:8080/",
          "height": 87
        },
        "outputId": "6671ef6f-81ab-4cda-a547-1dabe45aa4ab"
      },
      "source": [
        "clus_arrngmt.sort_values(by='ticket_counts',ascending=False,inplace=True)\n",
        "clus_arrngmt=clus_arrngmt[clus_arrngmt['ticket_counts']>100]\n",
        "clus_arrngmt.sum()"
      ],
      "execution_count": 70,
      "outputs": [
        {
          "output_type": "execute_result",
          "data": {
            "text/plain": [
              "cluster id        117\n",
              "ticket_counts    7944\n",
              "class_counts       38\n",
              "dtype: int64"
            ]
          },
          "metadata": {
            "tags": []
          },
          "execution_count": 70
        }
      ]
    },
    {
      "cell_type": "markdown",
      "metadata": {
        "id": "bu_YdYnFBIrT",
        "colab_type": "text"
      },
      "source": [
        "**Observation:**\n",
        "\n",
        "We have tried to counter the challenges by filtering those clusters which are associated with at least 100 records. We have arrived at 10 clusters, the class balance has been improved slightly."
      ]
    },
    {
      "cell_type": "code",
      "metadata": {
        "id": "S1yImvl2H0Ji",
        "colab_type": "code",
        "colab": {
          "base_uri": "https://localhost:8080/",
          "height": 343
        },
        "outputId": "f7039617-48f8-411a-b2b2-6290d02fe81d"
      },
      "source": [
        "clus_arrngmt"
      ],
      "execution_count": 71,
      "outputs": [
        {
          "output_type": "execute_result",
          "data": {
            "text/html": [
              "<div>\n",
              "<style scoped>\n",
              "    .dataframe tbody tr th:only-of-type {\n",
              "        vertical-align: middle;\n",
              "    }\n",
              "\n",
              "    .dataframe tbody tr th {\n",
              "        vertical-align: top;\n",
              "    }\n",
              "\n",
              "    .dataframe thead th {\n",
              "        text-align: right;\n",
              "    }\n",
              "</style>\n",
              "<table border=\"1\" class=\"dataframe\">\n",
              "  <thead>\n",
              "    <tr style=\"text-align: right;\">\n",
              "      <th></th>\n",
              "      <th>cluster id</th>\n",
              "      <th>cluster groups</th>\n",
              "      <th>ticket_counts</th>\n",
              "      <th>class_counts</th>\n",
              "    </tr>\n",
              "  </thead>\n",
              "  <tbody>\n",
              "    <tr>\n",
              "      <th>0</th>\n",
              "      <td>20</td>\n",
              "      <td>[GRP_0, GRP_3, GRP_19, GRP_25, GRP_51, GRP_59]</td>\n",
              "      <td>4513</td>\n",
              "      <td>6</td>\n",
              "    </tr>\n",
              "    <tr>\n",
              "      <th>2</th>\n",
              "      <td>0</td>\n",
              "      <td>[GRP_4, GRP_12, GRP_13, GRP_15, GRP_18, GRP_2, GRP_29, GRP_53, GRP_65]</td>\n",
              "      <td>989</td>\n",
              "      <td>9</td>\n",
              "    </tr>\n",
              "    <tr>\n",
              "      <th>5</th>\n",
              "      <td>33</td>\n",
              "      <td>[GRP_8]</td>\n",
              "      <td>661</td>\n",
              "      <td>1</td>\n",
              "    </tr>\n",
              "    <tr>\n",
              "      <th>3</th>\n",
              "      <td>18</td>\n",
              "      <td>[GRP_5, GRP_6, GRP_9]</td>\n",
              "      <td>565</td>\n",
              "      <td>3</td>\n",
              "    </tr>\n",
              "    <tr>\n",
              "      <th>12</th>\n",
              "      <td>27</td>\n",
              "      <td>[GRP_24]</td>\n",
              "      <td>289</td>\n",
              "      <td>1</td>\n",
              "    </tr>\n",
              "    <tr>\n",
              "      <th>7</th>\n",
              "      <td>2</td>\n",
              "      <td>[GRP_11, GRP_14, GRP_20, GRP_41, GRP_62]</td>\n",
              "      <td>249</td>\n",
              "      <td>5</td>\n",
              "    </tr>\n",
              "    <tr>\n",
              "      <th>8</th>\n",
              "      <td>1</td>\n",
              "      <td>[GRP_16, GRP_22, GRP_26, GRP_40]</td>\n",
              "      <td>217</td>\n",
              "      <td>4</td>\n",
              "    </tr>\n",
              "    <tr>\n",
              "      <th>6</th>\n",
              "      <td>3</td>\n",
              "      <td>[GRP_10, GRP_44, GRP_45]</td>\n",
              "      <td>190</td>\n",
              "      <td>3</td>\n",
              "    </tr>\n",
              "    <tr>\n",
              "      <th>17</th>\n",
              "      <td>9</td>\n",
              "      <td>[GRP_33, GRP_42, GRP_49]</td>\n",
              "      <td>150</td>\n",
              "      <td>3</td>\n",
              "    </tr>\n",
              "    <tr>\n",
              "      <th>14</th>\n",
              "      <td>4</td>\n",
              "      <td>[GRP_28, GRP_34, GRP_37]</td>\n",
              "      <td>121</td>\n",
              "      <td>3</td>\n",
              "    </tr>\n",
              "  </tbody>\n",
              "</table>\n",
              "</div>"
            ],
            "text/plain": [
              "    cluster id  ... class_counts\n",
              "0           20  ...            6\n",
              "2            0  ...            9\n",
              "5           33  ...            1\n",
              "3           18  ...            3\n",
              "12          27  ...            1\n",
              "7            2  ...            5\n",
              "8            1  ...            4\n",
              "6            3  ...            3\n",
              "17           9  ...            3\n",
              "14           4  ...            3\n",
              "\n",
              "[10 rows x 4 columns]"
            ]
          },
          "metadata": {
            "tags": []
          },
          "execution_count": 71
        }
      ]
    },
    {
      "cell_type": "code",
      "metadata": {
        "id": "KYBy_Wel_SBS",
        "colab_type": "code",
        "colab": {
          "base_uri": "https://localhost:8080/",
          "height": 34
        },
        "outputId": "22ce2dba-3950-408d-f0f8-01266f2cf5a6"
      },
      "source": [
        "incidents_clust = incidents[incidents['class'].isin(clus_arrngmt['cluster id'].values)]\n",
        "incidents_clust.shape"
      ],
      "execution_count": 72,
      "outputs": [
        {
          "output_type": "execute_result",
          "data": {
            "text/plain": [
              "(7944, 9)"
            ]
          },
          "metadata": {
            "tags": []
          },
          "execution_count": 72
        }
      ]
    },
    {
      "cell_type": "code",
      "metadata": {
        "id": "8UdEr0q_iWOt",
        "colab_type": "code",
        "colab": {}
      },
      "source": [
        "class TicketAssgnData:\n",
        "  DATA_COLUMN = 'tokens'\n",
        "  LABEL_COLUMN = 'class'\n",
        "\n",
        "  def __init__(self, train, test, tokenizer: FullTokenizer, classes, max_seq_len=350):\n",
        "    self.tokenizer = tokenizer\n",
        "    self.max_seq_len = 0\n",
        "    self.classes = classes\n",
        "\n",
        "    ((self.train_x, self.train_y), (self.test_x, self.test_y)) = map(self._prepare, [train, test])\n",
        "\n",
        "    self.max_seq_len = min(self.max_seq_len, max_seq_len)\n",
        "    self.train_x, self.test_x = map(self._pad, [self.train_x, self.test_x])\n",
        "\n",
        "  def _prepare(self, df):\n",
        "    x, y = [], []\n",
        "\n",
        "    for _, row in tqdm(df.iterrows()):\n",
        "      text, label = row[TicketAssgnData.DATA_COLUMN], row[TicketAssgnData.LABEL_COLUMN]\n",
        "      tokens = self.tokenizer.tokenize(text)\n",
        "      tokens = [\"[CLS]\"] + tokens + [\"[SEP]\"]\n",
        "      token_ids = self.tokenizer.convert_tokens_to_ids(tokens)\n",
        "      self.max_seq_len = max(self.max_seq_len, len(token_ids))\n",
        "      \n",
        "      x.append(token_ids)\n",
        "      y.append(self.classes.index(label))\n",
        "    return np.array(x), np.array(y)\n",
        "\n",
        "  def _pad(self, ids):\n",
        "    x= []\n",
        "    for input_ids in ids:\n",
        "      cut_point = min(len(input_ids), self.max_seq_len - 2)\n",
        "      input_ids = input_ids[:cut_point]\n",
        "      \n",
        "      input_ids = input_ids + [0] * (self.max_seq_len - len(input_ids))\n",
        "      x.append(np.array(input_ids))\n",
        "    return np.array(x)\n"
      ],
      "execution_count": 73,
      "outputs": []
    },
    {
      "cell_type": "code",
      "metadata": {
        "id": "H5DSjQMNiV8w",
        "colab_type": "code",
        "colab": {}
      },
      "source": [
        "tokenizer = FullTokenizer(vocab_file = os.path.join(bert_ckpt_dir, 'vocab.txt'))"
      ],
      "execution_count": 74,
      "outputs": []
    },
    {
      "cell_type": "code",
      "metadata": {
        "id": "JywOYFKHgVFY",
        "colab_type": "code",
        "colab": {}
      },
      "source": [
        "def create_model(max_seq_len, bert_config_file, bert_ckpt_file):\n",
        "\n",
        "  with tf.io.gfile.GFile(bert_config_file, 'r') as reader:\n",
        "    bc = StockBertConfig.from_json_string(reader.read())\n",
        "    bert_params = map_stock_config_to_params(bc)\n",
        "    bert_params.adapter_size = None\n",
        "    bert = BertModelLayer.from_params(bert_params, name='bert')\n",
        "\n",
        "  input_ids = keras.layers.Input(shape=(max_seq_len,),dtype='int32',name='input_ids')\n",
        "  bert_output = bert(input_ids)\n",
        "\n",
        "  print('bert shape', bert_output.shape)\n",
        " \n",
        "  cls_out = keras.layers.Lambda(lambda seq: seq[:, 0, :])(bert_output)\n",
        "  cls_out = keras.layers.Dropout(0.5)(cls_out)\n",
        "  logits = keras.layers.Dense(units=768, activation='tanh')(cls_out)\n",
        "  logits = keras.layers.Dropout(0.5)(logits)\n",
        "  logits = keras.layers.Dense(units=len(classes), activation='softmax')(logits)\n",
        "\n",
        "  model = keras.Model(inputs=input_ids, outputs=logits)\n",
        "  model.build(input_shape=(None, max_seq_len))\n",
        "\n",
        "  load_stock_weights(bert, bert_ckpt_file)\n",
        "\n",
        "  return model\n"
      ],
      "execution_count": 75,
      "outputs": []
    },
    {
      "cell_type": "code",
      "metadata": {
        "id": "epvwufcvHyfj",
        "colab_type": "code",
        "colab": {}
      },
      "source": [
        "from sklearn.model_selection import train_test_split\n",
        "#Prediction using glove embeddings\n",
        "train, test = train_test_split(incidents_clust[['tokens','class']], test_size=0.25, random_state=10)\n",
        "\n",
        "train.reset_index(drop=True,inplace=True)\n",
        "test.reset_index(drop=True,inplace=True)"
      ],
      "execution_count": 77,
      "outputs": []
    },
    {
      "cell_type": "code",
      "metadata": {
        "id": "SLs0BaPiTclP",
        "colab_type": "code",
        "colab": {
          "base_uri": "https://localhost:8080/",
          "height": 52
        },
        "outputId": "7543d309-6946-473f-93c2-1e585990b7f4"
      },
      "source": [
        "classes = train['class'].unique().tolist()\n",
        "\n",
        "data = TicketAssgnData(train, test, tokenizer, classes, max_seq_len=350)"
      ],
      "execution_count": 78,
      "outputs": [
        {
          "output_type": "stream",
          "text": [
            "5958it [00:04, 1421.88it/s]\n",
            "1986it [00:01, 1291.01it/s]\n"
          ],
          "name": "stderr"
        }
      ]
    },
    {
      "cell_type": "code",
      "metadata": {
        "id": "sqUT0ZxBTc4f",
        "colab_type": "code",
        "colab": {
          "base_uri": "https://localhost:8080/",
          "height": 266
        },
        "outputId": "a600a489-7e96-42db-b742-f56964a60c8c"
      },
      "source": [
        "model = create_model(data.max_seq_len, bert_config_file, bert_ckpt_file)"
      ],
      "execution_count": 79,
      "outputs": [
        {
          "output_type": "stream",
          "text": [
            "bert shape (None, 350, 768)\n",
            "Done loading 196 BERT weights from: model/uncased_L-12_H-768_A-12/bert_model.ckpt into <bert.model.BertModelLayer object at 0x7f8b5ad849b0> (prefix:bert). Count of weights not found in the checkpoint was: [0]. Count of weights with mismatched shape: [0]\n",
            "Unused weights from checkpoint: \n",
            "\tbert/embeddings/token_type_embeddings\n",
            "\tbert/pooler/dense/bias\n",
            "\tbert/pooler/dense/kernel\n",
            "\tcls/predictions/output_bias\n",
            "\tcls/predictions/transform/LayerNorm/beta\n",
            "\tcls/predictions/transform/LayerNorm/gamma\n",
            "\tcls/predictions/transform/dense/bias\n",
            "\tcls/predictions/transform/dense/kernel\n",
            "\tcls/seq_relationship/output_bias\n",
            "\tcls/seq_relationship/output_weights\n"
          ],
          "name": "stdout"
        }
      ]
    },
    {
      "cell_type": "code",
      "metadata": {
        "id": "bh50fmfzTdMq",
        "colab_type": "code",
        "colab": {
          "base_uri": "https://localhost:8080/",
          "height": 34
        },
        "outputId": "4baf83ad-aa35-4690-f6f7-1155cfbb5f01"
      },
      "source": [
        "data.train_x.shape"
      ],
      "execution_count": 81,
      "outputs": [
        {
          "output_type": "execute_result",
          "data": {
            "text/plain": [
              "(5958, 350)"
            ]
          },
          "metadata": {
            "tags": []
          },
          "execution_count": 81
        }
      ]
    },
    {
      "cell_type": "code",
      "metadata": {
        "id": "y8MIaEMOTdet",
        "colab_type": "code",
        "colab": {
          "base_uri": "https://localhost:8080/",
          "height": 34
        },
        "outputId": "66f702c6-5884-49c7-ba18-ec91da65db09"
      },
      "source": [
        "data.train_y[10]"
      ],
      "execution_count": 82,
      "outputs": [
        {
          "output_type": "execute_result",
          "data": {
            "text/plain": [
              "1"
            ]
          },
          "metadata": {
            "tags": []
          },
          "execution_count": 82
        }
      ]
    },
    {
      "cell_type": "code",
      "metadata": {
        "id": "K37oSMlCL1Il",
        "colab_type": "code",
        "colab": {
          "base_uri": "https://localhost:8080/",
          "height": 404
        },
        "outputId": "3f50b1a3-0a81-4e63-8905-b7591624b837"
      },
      "source": [
        "model.summary()"
      ],
      "execution_count": 83,
      "outputs": [
        {
          "output_type": "stream",
          "text": [
            "Model: \"functional_1\"\n",
            "_________________________________________________________________\n",
            "Layer (type)                 Output Shape              Param #   \n",
            "=================================================================\n",
            "input_ids (InputLayer)       [(None, 350)]             0         \n",
            "_________________________________________________________________\n",
            "bert (BertModelLayer)        (None, 350, 768)          108890112 \n",
            "_________________________________________________________________\n",
            "lambda (Lambda)              (None, 768)               0         \n",
            "_________________________________________________________________\n",
            "dropout (Dropout)            (None, 768)               0         \n",
            "_________________________________________________________________\n",
            "dense (Dense)                (None, 768)               590592    \n",
            "_________________________________________________________________\n",
            "dropout_1 (Dropout)          (None, 768)               0         \n",
            "_________________________________________________________________\n",
            "dense_1 (Dense)              (None, 10)                7690      \n",
            "=================================================================\n",
            "Total params: 109,488,394\n",
            "Trainable params: 109,488,394\n",
            "Non-trainable params: 0\n",
            "_________________________________________________________________\n"
          ],
          "name": "stdout"
        }
      ]
    },
    {
      "cell_type": "code",
      "metadata": {
        "id": "N6ybFGYHNASz",
        "colab_type": "code",
        "colab": {}
      },
      "source": [
        "model.compile(\n",
        "    optimizer=keras.optimizers.Adam(1e-5),\n",
        "    loss = keras.losses.SparseCategoricalCrossentropy(from_logits=True),\n",
        "    metrics=[keras.metrics.SparseCategoricalAccuracy(name='acc')]\n",
        ")"
      ],
      "execution_count": 84,
      "outputs": []
    },
    {
      "cell_type": "code",
      "metadata": {
        "id": "5MfDpFFUOfb1",
        "colab_type": "code",
        "colab": {
          "base_uri": "https://localhost:8080/",
          "height": 238
        },
        "outputId": "6c36c193-96fe-46e1-f582-d7e72e034a09"
      },
      "source": [
        "log_dir = 'log/ticket_classif' + datetime.datetime.now().strftime(\"%Y%m%d-%H%M%s\")\n",
        "tensorboard_callback = keras.callbacks.TensorBoard(log_dir=log_dir)\n",
        "\n",
        "history = model.fit(\n",
        "    x=data.train_x,\n",
        "    y=data.train_y,\n",
        "    validation_split=0.1,\n",
        "    batch_size=16,\n",
        "    shuffle=True,\n",
        "    epochs=5,\n",
        "    callbacks=[tensorboard_callback]\n",
        ")"
      ],
      "execution_count": 1,
      "outputs": [
        {
          "output_type": "error",
          "ename": "NameError",
          "evalue": "ignored",
          "traceback": [
            "\u001b[0;31m---------------------------------------------------------------------------\u001b[0m",
            "\u001b[0;31mNameError\u001b[0m                                 Traceback (most recent call last)",
            "\u001b[0;32m<ipython-input-1-55c04d81170d>\u001b[0m in \u001b[0;36m<module>\u001b[0;34m()\u001b[0m\n\u001b[0;32m----> 1\u001b[0;31m \u001b[0mlog_dir\u001b[0m \u001b[0;34m=\u001b[0m \u001b[0;34m'log/ticket_classif'\u001b[0m \u001b[0;34m+\u001b[0m \u001b[0mdatetime\u001b[0m\u001b[0;34m.\u001b[0m\u001b[0mdatetime\u001b[0m\u001b[0;34m.\u001b[0m\u001b[0mnow\u001b[0m\u001b[0;34m(\u001b[0m\u001b[0;34m)\u001b[0m\u001b[0;34m.\u001b[0m\u001b[0mstrftime\u001b[0m\u001b[0;34m(\u001b[0m\u001b[0;34m\"%Y%m%d-%H%M%s\"\u001b[0m\u001b[0;34m)\u001b[0m\u001b[0;34m\u001b[0m\u001b[0;34m\u001b[0m\u001b[0m\n\u001b[0m\u001b[1;32m      2\u001b[0m \u001b[0mtensorboard_callback\u001b[0m \u001b[0;34m=\u001b[0m \u001b[0mkeras\u001b[0m\u001b[0;34m.\u001b[0m\u001b[0mcallbacks\u001b[0m\u001b[0;34m.\u001b[0m\u001b[0mTensorBoard\u001b[0m\u001b[0;34m(\u001b[0m\u001b[0mlog_dir\u001b[0m\u001b[0;34m=\u001b[0m\u001b[0mlog_dir\u001b[0m\u001b[0;34m)\u001b[0m\u001b[0;34m\u001b[0m\u001b[0;34m\u001b[0m\u001b[0m\n\u001b[1;32m      3\u001b[0m \u001b[0;34m\u001b[0m\u001b[0m\n\u001b[1;32m      4\u001b[0m history = model.fit(\n\u001b[1;32m      5\u001b[0m     \u001b[0mx\u001b[0m\u001b[0;34m=\u001b[0m\u001b[0mdata\u001b[0m\u001b[0;34m.\u001b[0m\u001b[0mtrain_x\u001b[0m\u001b[0;34m,\u001b[0m\u001b[0;34m\u001b[0m\u001b[0;34m\u001b[0m\u001b[0m\n",
            "\u001b[0;31mNameError\u001b[0m: name 'datetime' is not defined"
          ]
        }
      ]
    },
    {
      "cell_type": "code",
      "metadata": {
        "id": "yOnQSrYunN40",
        "colab_type": "code",
        "colab": {}
      },
      "source": [
        ""
      ],
      "execution_count": null,
      "outputs": []
    },
    {
      "cell_type": "code",
      "metadata": {
        "id": "UFXJltJinNbn",
        "colab_type": "code",
        "colab": {}
      },
      "source": [
        ""
      ],
      "execution_count": null,
      "outputs": []
    }
  ]
}