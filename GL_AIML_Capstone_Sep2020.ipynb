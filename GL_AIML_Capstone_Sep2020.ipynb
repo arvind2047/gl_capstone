{
  "nbformat": 4,
  "nbformat_minor": 0,
  "metadata": {
    "colab": {
      "name": "GL_AIML_Capstone_Sep2020.ipynb",
      "provenance": [],
      "collapsed_sections": []
    },
    "kernelspec": {
      "name": "python3",
      "display_name": "Python 3"
    }
  },
  "cells": [
    {
      "cell_type": "markdown",
      "metadata": {
        "id": "A7k-BhbbrYUn",
        "colab_type": "text"
      },
      "source": [
        "**CAPSTONE PROJECT: AUTOMATIC TICKET ASSIGNMENT**\n",
        "\n",
        "\n",
        "#### Problem Statement:\n",
        "\n",
        "Manual assignment of incidents is time consuming and requires human efforts. There may be mistakes due to human errors and resource consumption is carried out ineffectively because of the misaddressing. On the other hand, manual assignment increases the response and resolution times which result in user satisfaction deterioration / poor customer service. \n",
        "\n",
        "Additional effort needed for Functional teams to re-assign to right functional groups. During this process, some of the incidents are in queue and not addressed timely resulting in poor customer service. Guided by powerful AI techniques that can classify incidents to right functional groups can help organizations to reduce the resolving time of the issue and can focus on more productive tasks.\n",
        "\n",
        {{ badge }}
        "#### The objective of the project is,\n",
        " Learn how to use different classification models.\n",
        "\n",
        " Use transfer learning to use pre-built models. \n",
        "\n",
        " Learn to set the optimizers, loss functions, epochs, learning rate, batch size, checkpointing, early stopping etc.\n",
        "\n",
        " Read different research papers of given domain to obtain the knowledge of advanced models for the given problem.\n"
      ]
    },
    {
      "cell_type": "code",
      "metadata": {
        "id": "uQGroVQ8TPP9",
        "colab_type": "code",
        "colab": {
          "base_uri": "https://localhost:8080/",
          "height": 794
        },
        "outputId": "7cca4074-3b47-426c-c510-056043dd8254"
      },
      "source": [
        "# Install libraries\n",
        "\n",
        "!pip install googletrans"
      ],
      "execution_count": null,
      "outputs": [
        {
          "output_type": "stream",
          "text": [
            "Collecting googletrans\n",
            "  Downloading https://files.pythonhosted.org/packages/71/3a/3b19effdd4c03958b90f40fe01c93de6d5280e03843cc5adf6956bfc9512/googletrans-3.0.0.tar.gz\n",
            "Collecting httpx==0.13.3\n",
            "\u001b[?25l  Downloading https://files.pythonhosted.org/packages/54/b4/698b284c6aed4d7c2b4fe3ba5df1fcf6093612423797e76fbb24890dd22f/httpx-0.13.3-py3-none-any.whl (55kB)\n",
            "\u001b[K     |████████████████████████████████| 61kB 3.7MB/s \n",
            "\u001b[?25hCollecting rfc3986<2,>=1.3\n",
            "  Downloading https://files.pythonhosted.org/packages/78/be/7b8b99fd74ff5684225f50dd0e865393d2265656ef3b4ba9eaaaffe622b8/rfc3986-1.4.0-py2.py3-none-any.whl\n",
            "Requirement already satisfied: chardet==3.* in /usr/local/lib/python3.6/dist-packages (from httpx==0.13.3->googletrans) (3.0.4)\n",
            "Collecting hstspreload\n",
            "\u001b[?25l  Downloading https://files.pythonhosted.org/packages/dc/b6/6694bfdd4b4b46a26bc1c14bd18c430210deb5852f6f20a2448784dd5675/hstspreload-2020.8.11-py3-none-any.whl (934kB)\n",
            "\u001b[K     |████████████████████████████████| 942kB 13.2MB/s \n",
            "\u001b[?25hCollecting httpcore==0.9.*\n",
            "\u001b[?25l  Downloading https://files.pythonhosted.org/packages/dd/d5/e4ff9318693ac6101a2095e580908b591838c6f33df8d3ee8dd953ba96a8/httpcore-0.9.1-py3-none-any.whl (42kB)\n",
            "\u001b[K     |████████████████████████████████| 51kB 5.0MB/s \n",
            "\u001b[?25hCollecting sniffio\n",
            "  Downloading https://files.pythonhosted.org/packages/b3/82/4bd4b7d9c0d1dc0fbfbc2a1e00138e7f3ab85bc239358fe9b78aa2ab586d/sniffio-1.1.0-py3-none-any.whl\n",
            "Requirement already satisfied: idna==2.* in /usr/local/lib/python3.6/dist-packages (from httpx==0.13.3->googletrans) (2.10)\n",
            "Requirement already satisfied: certifi in /usr/local/lib/python3.6/dist-packages (from httpx==0.13.3->googletrans) (2020.6.20)\n",
            "Collecting h11<0.10,>=0.8\n",
            "\u001b[?25l  Downloading https://files.pythonhosted.org/packages/5a/fd/3dad730b0f95e78aeeb742f96fa7bbecbdd56a58e405d3da440d5bfb90c6/h11-0.9.0-py2.py3-none-any.whl (53kB)\n",
            "\u001b[K     |████████████████████████████████| 61kB 7.0MB/s \n",
            "\u001b[?25hCollecting h2==3.*\n",
            "\u001b[?25l  Downloading https://files.pythonhosted.org/packages/25/de/da019bcc539eeab02f6d45836f23858ac467f584bfec7a526ef200242afe/h2-3.2.0-py2.py3-none-any.whl (65kB)\n",
            "\u001b[K     |████████████████████████████████| 71kB 7.2MB/s \n",
            "\u001b[?25hCollecting contextvars>=2.1; python_version < \"3.7\"\n",
            "  Downloading https://files.pythonhosted.org/packages/83/96/55b82d9f13763be9d672622e1b8106c85acb83edd7cc2fa5bc67cd9877e9/contextvars-2.4.tar.gz\n",
            "Collecting hyperframe<6,>=5.2.0\n",
            "  Downloading https://files.pythonhosted.org/packages/19/0c/bf88182bcb5dce3094e2f3e4fe20db28a9928cb7bd5b08024030e4b140db/hyperframe-5.2.0-py2.py3-none-any.whl\n",
            "Collecting hpack<4,>=3.0\n",
            "  Downloading https://files.pythonhosted.org/packages/8a/cc/e53517f4a1e13f74776ca93271caef378dadec14d71c61c949d759d3db69/hpack-3.0.0-py2.py3-none-any.whl\n",
            "Collecting immutables>=0.9\n",
            "\u001b[?25l  Downloading https://files.pythonhosted.org/packages/99/e0/ea6fd4697120327d26773b5a84853f897a68e33d3f9376b00a8ff96e4f63/immutables-0.14-cp36-cp36m-manylinux1_x86_64.whl (98kB)\n",
            "\u001b[K     |████████████████████████████████| 102kB 9.8MB/s \n",
            "\u001b[?25hBuilding wheels for collected packages: googletrans, contextvars\n",
            "  Building wheel for googletrans (setup.py) ... \u001b[?25l\u001b[?25hdone\n",
            "  Created wheel for googletrans: filename=googletrans-3.0.0-cp36-none-any.whl size=15736 sha256=3f55e42731f344d997ee410a4cbc736e98dd6501171c9061aec7145bc7a1ba4e\n",
            "  Stored in directory: /root/.cache/pip/wheels/28/1a/a7/eaf4d7a3417a0c65796c547cff4deb6d79c7d14c2abd29273e\n",
            "  Building wheel for contextvars (setup.py) ... \u001b[?25l\u001b[?25hdone\n",
            "  Created wheel for contextvars: filename=contextvars-2.4-cp36-none-any.whl size=7666 sha256=14077d8ac6f95ee0875fab4bfe83654718d146408a372cdec300a8072bc3cd15\n",
            "  Stored in directory: /root/.cache/pip/wheels/a5/7d/68/1ebae2668bda2228686e3c1cf16f2c2384cea6e9334ad5f6de\n",
            "Successfully built googletrans contextvars\n",
            "Installing collected packages: rfc3986, hstspreload, h11, immutables, contextvars, sniffio, hyperframe, hpack, h2, httpcore, httpx, googletrans\n",
            "Successfully installed contextvars-2.4 googletrans-3.0.0 h11-0.9.0 h2-3.2.0 hpack-3.0.0 hstspreload-2020.8.11 httpcore-0.9.1 httpx-0.13.3 hyperframe-5.2.0 immutables-0.14 rfc3986-1.4.0 sniffio-1.1.0\n"
          ],
          "name": "stdout"
        }
      ]
    },
    {
      "cell_type": "code",
      "metadata": {
        "id": "5j--DPLcrR1I",
        "colab_type": "code",
        "colab": {
          "base_uri": "https://localhost:8080/",
          "height": 178
        },
        "outputId": "97a49fdb-c529-4cef-b289-2ba6e760bb2e"
      },
      "source": [
        "# Importing libraries\n",
        "\n",
        "# Basic python computation and visualization\n",
        "import numpy as np\n",
        "import pandas as pd\n",
        "import matplotlib.pyplot as plt \n",
        "import seaborn as sns\n",
        "import scipy\n",
        "import scipy.stats as st\n",
        "from statsmodels.stats.proportion import proportions_ztest\n",
        "\n",
        "# Deep Learning Libraries and models\n",
        "import keras \n",
        "from keras.preprocessing.text import Tokenizer\n",
        "from keras.models import Sequential\n",
        "from keras.layers import Dense\n",
        "from keras.preprocessing.sequence import pad_sequences\n",
        "from keras.layers import Input, Dense, Dropout, Embedding, LSTM, Flatten\n",
        "from keras.models import Model\n",
        "from keras.utils import to_categorical\n",
        "from keras.callbacks import ModelCheckpoint\n",
        "import io\n",
        "import tensorflow as tf\n",
        "import tensorflow_datasets as tfds\n",
        "from tensorboard.plugins import projector\n",
        "\n",
        "# Model building\n",
        "from sklearn.model_selection import train_test_split\n",
        "from sklearn.metrics import accuracy_score\n",
        "from sklearn.metrics import classification_report, confusion_matrix, accuracy_score\n",
        "from sklearn.linear_model import LogisticRegression\n",
        "from sklearn.feature_selection import chi2\n",
        "from sklearn.cluster import AgglomerativeClustering \n",
        "from scipy.cluster.hierarchy import cophenet, dendrogram, linkage\n",
        "from scipy.spatial.distance import pdist\n",
        "import pickle\n",
        "plt.style.use('ggplot')\n",
        "%matplotlib inline\n",
        "\n",
        "# NLP text handling libraries\n",
        "import re\n",
        "import nltk\n",
        "from nltk.corpus import stopwords\n",
        "nltk.download('stopwords')\n",
        "nltk.download('wordnet')\n",
        "nltk.download('punkt')\n",
        "from nltk.tokenize import word_tokenize\n",
        "from nltk.tokenize import RegexpTokenizer\n",
        "from nltk.stem import WordNetLemmatizer\n",
        "from nltk import FreqDist\n",
        "from string import punctuation\n",
        "import googletrans\n",
        "from googletrans import Translator\n",
        "from collections import Counter\n",
        "from gensim.test.utils import datapath, get_tmpfile\n",
        "from gensim.models import KeyedVectors\n",
        "from gensim.scripts.glove2word2vec import glove2word2vec\n",
        "from sklearn.feature_extraction.text import TfidfVectorizer, CountVectorizer\n",
        "\n",
        "# General purpose\n",
        "import os\n",
        "from zipfile import ZipFile\n",
        "from google.colab import drive"
      ],
      "execution_count": null,
      "outputs": [
        {
          "output_type": "stream",
          "text": [
            "/usr/local/lib/python3.6/dist-packages/statsmodels/tools/_testing.py:19: FutureWarning: pandas.util.testing is deprecated. Use the functions in the public API at pandas.testing instead.\n",
            "  import pandas.util.testing as tm\n"
          ],
          "name": "stderr"
        },
        {
          "output_type": "stream",
          "text": [
            "[nltk_data] Downloading package stopwords to /root/nltk_data...\n",
            "[nltk_data]   Unzipping corpora/stopwords.zip.\n",
            "[nltk_data] Downloading package wordnet to /root/nltk_data...\n",
            "[nltk_data]   Unzipping corpora/wordnet.zip.\n",
            "[nltk_data] Downloading package punkt to /root/nltk_data...\n",
            "[nltk_data]   Unzipping tokenizers/punkt.zip.\n"
          ],
          "name": "stdout"
        }
      ]
    },
    {
      "cell_type": "code",
      "metadata": {
        "id": "QgAG04svwofV",
        "colab_type": "code",
        "colab": {
          "base_uri": "https://localhost:8080/",
          "height": 125
        },
        "outputId": "b94eed47-5833-427e-ea10-2e3a1a60b0c8"
      },
      "source": [
        "drive.mount('/content/drive')"
      ],
      "execution_count": null,
      "outputs": [
        {
          "output_type": "stream",
          "text": [
            "Go to this URL in a browser: https://accounts.google.com/o/oauth2/auth?client_id=947318989803-6bn6qk8qdgf4n4g3pfee6491hc0brc4i.apps.googleusercontent.com&redirect_uri=urn%3aietf%3awg%3aoauth%3a2.0%3aoob&scope=email%20https%3a%2f%2fwww.googleapis.com%2fauth%2fdocs.test%20https%3a%2f%2fwww.googleapis.com%2fauth%2fdrive%20https%3a%2f%2fwww.googleapis.com%2fauth%2fdrive.photos.readonly%20https%3a%2f%2fwww.googleapis.com%2fauth%2fpeopleapi.readonly&response_type=code\n",
            "\n",
            "Enter your authorization code:\n",
            "··········\n",
            "Mounted at /content/drive\n"
          ],
          "name": "stdout"
        }
      ]
    },
    {
      "cell_type": "code",
      "metadata": {
        "id": "Y-lmVG5JxcTa",
        "colab_type": "code",
        "colab": {
          "base_uri": "https://localhost:8080/",
          "height": 35
        },
        "outputId": "a441df0c-4f66-47f5-8170-ab2520ca8d23"
      },
      "source": [
        "# Setup project path:\n",
        "os.chdir('/content/drive/My Drive/GL AIML Capstone')\n",
        "os.getcwd()"
      ],
      "execution_count": null,
      "outputs": [
        {
          "output_type": "execute_result",
          "data": {
            "application/vnd.google.colaboratory.intrinsic+json": {
              "type": "string"
            },
            "text/plain": [
              "'/content/drive/My Drive/GL AIML Capstone'"
            ]
          },
          "metadata": {
            "tags": []
          },
          "execution_count": 4
        }
      ]
    },
    {
      "cell_type": "code",
      "metadata": {
        "id": "GUUyRsbhiiHm",
        "colab_type": "code",
        "colab": {
          "base_uri": "https://localhost:8080/",
          "height": 195
        },
        "outputId": "0bccc244-ab19-4c0f-f92d-bf258c1270aa"
      },
      "source": [
        "# read and load data\n",
        "incidents = pd.read_excel(\"input_data.xlsx\")\n",
        "incidents.head()"
      ],
      "execution_count": null,
      "outputs": [
        {
          "output_type": "execute_result",
          "data": {
            "text/html": [
              "<div>\n",
              "<style scoped>\n",
              "    .dataframe tbody tr th:only-of-type {\n",
              "        vertical-align: middle;\n",
              "    }\n",
              "\n",
              "    .dataframe tbody tr th {\n",
              "        vertical-align: top;\n",
              "    }\n",
              "\n",
              "    .dataframe thead th {\n",
              "        text-align: right;\n",
              "    }\n",
              "</style>\n",
              "<table border=\"1\" class=\"dataframe\">\n",
              "  <thead>\n",
              "    <tr style=\"text-align: right;\">\n",
              "      <th></th>\n",
              "      <th>Short description</th>\n",
              "      <th>Description</th>\n",
              "      <th>Caller</th>\n",
              "      <th>Assignment group</th>\n",
              "    </tr>\n",
              "  </thead>\n",
              "  <tbody>\n",
              "    <tr>\n",
              "      <th>0</th>\n",
              "      <td>login issue</td>\n",
              "      <td>-verified user details.(employee# &amp; manager na...</td>\n",
              "      <td>spxjnwir pjlcoqds</td>\n",
              "      <td>GRP_0</td>\n",
              "    </tr>\n",
              "    <tr>\n",
              "      <th>1</th>\n",
              "      <td>outlook</td>\n",
              "      <td>\\r\\n\\r\\nreceived from: hmjdrvpb.komuaywn@gmail...</td>\n",
              "      <td>hmjdrvpb komuaywn</td>\n",
              "      <td>GRP_0</td>\n",
              "    </tr>\n",
              "    <tr>\n",
              "      <th>2</th>\n",
              "      <td>cant log in to vpn</td>\n",
              "      <td>\\r\\n\\r\\nreceived from: eylqgodm.ybqkwiam@gmail...</td>\n",
              "      <td>eylqgodm ybqkwiam</td>\n",
              "      <td>GRP_0</td>\n",
              "    </tr>\n",
              "    <tr>\n",
              "      <th>3</th>\n",
              "      <td>unable to access hr_tool page</td>\n",
              "      <td>unable to access hr_tool page</td>\n",
              "      <td>xbkucsvz gcpydteq</td>\n",
              "      <td>GRP_0</td>\n",
              "    </tr>\n",
              "    <tr>\n",
              "      <th>4</th>\n",
              "      <td>skype error</td>\n",
              "      <td>skype error</td>\n",
              "      <td>owlgqjme qhcozdfx</td>\n",
              "      <td>GRP_0</td>\n",
              "    </tr>\n",
              "  </tbody>\n",
              "</table>\n",
              "</div>"
            ],
            "text/plain": [
              "               Short description  ... Assignment group\n",
              "0                    login issue  ...            GRP_0\n",
              "1                        outlook  ...            GRP_0\n",
              "2             cant log in to vpn  ...            GRP_0\n",
              "3  unable to access hr_tool page  ...            GRP_0\n",
              "4                   skype error   ...            GRP_0\n",
              "\n",
              "[5 rows x 4 columns]"
            ]
          },
          "metadata": {
            "tags": []
          },
          "execution_count": 37
        }
      ]
    },
    {
      "cell_type": "code",
      "metadata": {
        "id": "7gAOwc7Hk42k",
        "colab_type": "code",
        "colab": {
          "base_uri": "https://localhost:8080/",
          "height": 235
        },
        "outputId": "c7daf95c-69b9-4f05-985d-ee6837591294"
      },
      "source": [
        "## basic info\n",
        "print('Number of data items',incidents.shape[0],'\\n')\n",
        "incidents.info()"
      ],
      "execution_count": null,
      "outputs": [
        {
          "output_type": "stream",
          "text": [
            "Number of data items 8500 \n",
            "\n",
            "<class 'pandas.core.frame.DataFrame'>\n",
            "RangeIndex: 8500 entries, 0 to 8499\n",
            "Data columns (total 4 columns):\n",
            " #   Column             Non-Null Count  Dtype \n",
            "---  ------             --------------  ----- \n",
            " 0   Short description  8492 non-null   object\n",
            " 1   Description        8499 non-null   object\n",
            " 2   Caller             8500 non-null   object\n",
            " 3   Assignment group   8500 non-null   object\n",
            "dtypes: object(4)\n",
            "memory usage: 265.8+ KB\n"
          ],
          "name": "stdout"
        }
      ]
    },
    {
      "cell_type": "code",
      "metadata": {
        "id": "gWS7eoLpxsEw",
        "colab_type": "code",
        "colab": {
          "base_uri": "https://localhost:8080/",
          "height": 166
        },
        "outputId": "73b0379a-4e3a-4ec7-c45e-8fa697503e5b"
      },
      "source": [
        "incidents.describe()"
      ],
      "execution_count": null,
      "outputs": [
        {
          "output_type": "execute_result",
          "data": {
            "text/html": [
              "<div>\n",
              "<style scoped>\n",
              "    .dataframe tbody tr th:only-of-type {\n",
              "        vertical-align: middle;\n",
              "    }\n",
              "\n",
              "    .dataframe tbody tr th {\n",
              "        vertical-align: top;\n",
              "    }\n",
              "\n",
              "    .dataframe thead th {\n",
              "        text-align: right;\n",
              "    }\n",
              "</style>\n",
              "<table border=\"1\" class=\"dataframe\">\n",
              "  <thead>\n",
              "    <tr style=\"text-align: right;\">\n",
              "      <th></th>\n",
              "      <th>Short description</th>\n",
              "      <th>Description</th>\n",
              "      <th>Caller</th>\n",
              "      <th>Assignment group</th>\n",
              "    </tr>\n",
              "  </thead>\n",
              "  <tbody>\n",
              "    <tr>\n",
              "      <th>count</th>\n",
              "      <td>8492</td>\n",
              "      <td>8499</td>\n",
              "      <td>8500</td>\n",
              "      <td>8500</td>\n",
              "    </tr>\n",
              "    <tr>\n",
              "      <th>unique</th>\n",
              "      <td>7481</td>\n",
              "      <td>7817</td>\n",
              "      <td>2950</td>\n",
              "      <td>74</td>\n",
              "    </tr>\n",
              "    <tr>\n",
              "      <th>top</th>\n",
              "      <td>password reset</td>\n",
              "      <td>the</td>\n",
              "      <td>bpctwhsn kzqsbmtp</td>\n",
              "      <td>GRP_0</td>\n",
              "    </tr>\n",
              "    <tr>\n",
              "      <th>freq</th>\n",
              "      <td>38</td>\n",
              "      <td>56</td>\n",
              "      <td>810</td>\n",
              "      <td>3976</td>\n",
              "    </tr>\n",
              "  </tbody>\n",
              "</table>\n",
              "</div>"
            ],
            "text/plain": [
              "       Short description Description             Caller Assignment group\n",
              "count               8492        8499               8500             8500\n",
              "unique              7481        7817               2950               74\n",
              "top       password reset         the  bpctwhsn kzqsbmtp            GRP_0\n",
              "freq                  38          56                810             3976"
            ]
          },
          "metadata": {
            "tags": []
          },
          "execution_count": 39
        }
      ]
    },
    {
      "cell_type": "markdown",
      "metadata": {
        "id": "6nbIILVqyRmO",
        "colab_type": "text"
      },
      "source": [
        "*   There are empty 'Description' and 'Short Description' rows\n",
        "*   There are 74 unique assignment groups - GRP_0 the most frequent item with 3976 entries\n"
      ]
    },
    {
      "cell_type": "markdown",
      "metadata": {
        "id": "ONdUre-Lgt3C",
        "colab_type": "text"
      },
      "source": [
        "## Data cleaning"
      ]
    },
    {
      "cell_type": "code",
      "metadata": {
        "id": "6pnyHeAfp3sc",
        "colab_type": "code",
        "colab": {
          "base_uri": "https://localhost:8080/",
          "height": 314
        },
        "outputId": "b2339472-489c-4ab6-8663-ef707f55e3a5"
      },
      "source": [
        "## find NA\n",
        "incidents[incidents.isna().any(axis=1)]"
      ],
      "execution_count": null,
      "outputs": [
        {
          "output_type": "execute_result",
          "data": {
            "text/html": [
              "<div>\n",
              "<style scoped>\n",
              "    .dataframe tbody tr th:only-of-type {\n",
              "        vertical-align: middle;\n",
              "    }\n",
              "\n",
              "    .dataframe tbody tr th {\n",
              "        vertical-align: top;\n",
              "    }\n",
              "\n",
              "    .dataframe thead th {\n",
              "        text-align: right;\n",
              "    }\n",
              "</style>\n",
              "<table border=\"1\" class=\"dataframe\">\n",
              "  <thead>\n",
              "    <tr style=\"text-align: right;\">\n",
              "      <th></th>\n",
              "      <th>Short description</th>\n",
              "      <th>Description</th>\n",
              "      <th>Caller</th>\n",
              "      <th>Assignment group</th>\n",
              "    </tr>\n",
              "  </thead>\n",
              "  <tbody>\n",
              "    <tr>\n",
              "      <th>2604</th>\n",
              "      <td>NaN</td>\n",
              "      <td>\\r\\n\\r\\nreceived from: ohdrnswl.rezuibdt@gmail...</td>\n",
              "      <td>ohdrnswl rezuibdt</td>\n",
              "      <td>GRP_34</td>\n",
              "    </tr>\n",
              "    <tr>\n",
              "      <th>3383</th>\n",
              "      <td>NaN</td>\n",
              "      <td>\\r\\n-connected to the user system using teamvi...</td>\n",
              "      <td>qftpazns fxpnytmk</td>\n",
              "      <td>GRP_0</td>\n",
              "    </tr>\n",
              "    <tr>\n",
              "      <th>3906</th>\n",
              "      <td>NaN</td>\n",
              "      <td>-user unable  tologin to vpn.\\r\\n-connected to...</td>\n",
              "      <td>awpcmsey ctdiuqwe</td>\n",
              "      <td>GRP_0</td>\n",
              "    </tr>\n",
              "    <tr>\n",
              "      <th>3910</th>\n",
              "      <td>NaN</td>\n",
              "      <td>-user unable  tologin to vpn.\\r\\n-connected to...</td>\n",
              "      <td>rhwsmefo tvphyura</td>\n",
              "      <td>GRP_0</td>\n",
              "    </tr>\n",
              "    <tr>\n",
              "      <th>3915</th>\n",
              "      <td>NaN</td>\n",
              "      <td>-user unable  tologin to vpn.\\r\\n-connected to...</td>\n",
              "      <td>hxripljo efzounig</td>\n",
              "      <td>GRP_0</td>\n",
              "    </tr>\n",
              "    <tr>\n",
              "      <th>3921</th>\n",
              "      <td>NaN</td>\n",
              "      <td>-user unable  tologin to vpn.\\r\\n-connected to...</td>\n",
              "      <td>cziadygo veiosxby</td>\n",
              "      <td>GRP_0</td>\n",
              "    </tr>\n",
              "    <tr>\n",
              "      <th>3924</th>\n",
              "      <td>NaN</td>\n",
              "      <td>name:wvqgbdhm fwchqjor\\nlanguage:\\nbrowser:mic...</td>\n",
              "      <td>wvqgbdhm fwchqjor</td>\n",
              "      <td>GRP_0</td>\n",
              "    </tr>\n",
              "    <tr>\n",
              "      <th>4341</th>\n",
              "      <td>NaN</td>\n",
              "      <td>\\r\\n\\r\\nreceived from: eqmuniov.ehxkcbgj@gmail...</td>\n",
              "      <td>eqmuniov ehxkcbgj</td>\n",
              "      <td>GRP_0</td>\n",
              "    </tr>\n",
              "    <tr>\n",
              "      <th>4395</th>\n",
              "      <td>i am locked out of skype</td>\n",
              "      <td>NaN</td>\n",
              "      <td>viyglzfo ajtfzpkb</td>\n",
              "      <td>GRP_0</td>\n",
              "    </tr>\n",
              "  </tbody>\n",
              "</table>\n",
              "</div>"
            ],
            "text/plain": [
              "             Short description  ... Assignment group\n",
              "2604                       NaN  ...           GRP_34\n",
              "3383                       NaN  ...            GRP_0\n",
              "3906                       NaN  ...            GRP_0\n",
              "3910                       NaN  ...            GRP_0\n",
              "3915                       NaN  ...            GRP_0\n",
              "3921                       NaN  ...            GRP_0\n",
              "3924                       NaN  ...            GRP_0\n",
              "4341                       NaN  ...            GRP_0\n",
              "4395  i am locked out of skype  ...            GRP_0\n",
              "\n",
              "[9 rows x 4 columns]"
            ]
          },
          "metadata": {
            "tags": []
          },
          "execution_count": 40
        }
      ]
    },
    {
      "cell_type": "code",
      "metadata": {
        "id": "LiQI5-eJlGTV",
        "colab_type": "code",
        "colab": {
          "base_uri": "https://localhost:8080/",
          "height": 50
        },
        "outputId": "84d127b3-ffc2-40fd-c899-ec22f7c56077"
      },
      "source": [
        "# drop nulls\n",
        "incidents.dropna(inplace=True)\n",
        "print('Removing rows with null values')\n",
        "print(incidents.shape)"
      ],
      "execution_count": null,
      "outputs": [
        {
          "output_type": "stream",
          "text": [
            "Removing rows with null values\n",
            "(8491, 4)\n"
          ],
          "name": "stdout"
        }
      ]
    },
    {
      "cell_type": "code",
      "metadata": {
        "id": "NnbKCMztEDR2",
        "colab_type": "code",
        "colab": {
          "base_uri": "https://localhost:8080/",
          "height": 50
        },
        "outputId": "4e59a06f-fa01-42b1-990c-f1106b6ebdd3"
      },
      "source": [
        "# drop duplicates\n",
        "print('Removing',incidents[incidents.duplicated()].shape[0],'duplicate rows')\n",
        "incidents = incidents.drop_duplicates()\n",
        "print(incidents.shape)"
      ],
      "execution_count": null,
      "outputs": [
        {
          "output_type": "stream",
          "text": [
            "Removing 83 duplicate rows\n",
            "(8408, 4)\n"
          ],
          "name": "stdout"
        }
      ]
    },
    {
      "cell_type": "code",
      "metadata": {
        "id": "eiGYWXlgIpYn",
        "colab_type": "code",
        "colab": {
          "base_uri": "https://localhost:8080/",
          "height": 402
        },
        "outputId": "a6498bbf-0d59-4235-a39d-bf7100b620c2"
      },
      "source": [
        "# Converting to lowercase\n",
        "incidents.apply(lambda x: x.astype(str).str.lower())"
      ],
      "execution_count": null,
      "outputs": [
        {
          "output_type": "execute_result",
          "data": {
            "text/html": [
              "<div>\n",
              "<style scoped>\n",
              "    .dataframe tbody tr th:only-of-type {\n",
              "        vertical-align: middle;\n",
              "    }\n",
              "\n",
              "    .dataframe tbody tr th {\n",
              "        vertical-align: top;\n",
              "    }\n",
              "\n",
              "    .dataframe thead th {\n",
              "        text-align: right;\n",
              "    }\n",
              "</style>\n",
              "<table border=\"1\" class=\"dataframe\">\n",
              "  <thead>\n",
              "    <tr style=\"text-align: right;\">\n",
              "      <th></th>\n",
              "      <th>Short description</th>\n",
              "      <th>Description</th>\n",
              "      <th>Caller</th>\n",
              "      <th>Assignment group</th>\n",
              "    </tr>\n",
              "  </thead>\n",
              "  <tbody>\n",
              "    <tr>\n",
              "      <th>0</th>\n",
              "      <td>login issue</td>\n",
              "      <td>-verified user details.(employee# &amp; manager na...</td>\n",
              "      <td>spxjnwir pjlcoqds</td>\n",
              "      <td>grp_0</td>\n",
              "    </tr>\n",
              "    <tr>\n",
              "      <th>1</th>\n",
              "      <td>outlook</td>\n",
              "      <td>\\r\\n\\r\\nreceived from: hmjdrvpb.komuaywn@gmail...</td>\n",
              "      <td>hmjdrvpb komuaywn</td>\n",
              "      <td>grp_0</td>\n",
              "    </tr>\n",
              "    <tr>\n",
              "      <th>2</th>\n",
              "      <td>cant log in to vpn</td>\n",
              "      <td>\\r\\n\\r\\nreceived from: eylqgodm.ybqkwiam@gmail...</td>\n",
              "      <td>eylqgodm ybqkwiam</td>\n",
              "      <td>grp_0</td>\n",
              "    </tr>\n",
              "    <tr>\n",
              "      <th>3</th>\n",
              "      <td>unable to access hr_tool page</td>\n",
              "      <td>unable to access hr_tool page</td>\n",
              "      <td>xbkucsvz gcpydteq</td>\n",
              "      <td>grp_0</td>\n",
              "    </tr>\n",
              "    <tr>\n",
              "      <th>4</th>\n",
              "      <td>skype error</td>\n",
              "      <td>skype error</td>\n",
              "      <td>owlgqjme qhcozdfx</td>\n",
              "      <td>grp_0</td>\n",
              "    </tr>\n",
              "    <tr>\n",
              "      <th>...</th>\n",
              "      <td>...</td>\n",
              "      <td>...</td>\n",
              "      <td>...</td>\n",
              "      <td>...</td>\n",
              "    </tr>\n",
              "    <tr>\n",
              "      <th>8495</th>\n",
              "      <td>emails not coming in from zz mail</td>\n",
              "      <td>\\r\\n\\r\\nreceived from: avglmrts.vhqmtiua@gmail...</td>\n",
              "      <td>avglmrts vhqmtiua</td>\n",
              "      <td>grp_29</td>\n",
              "    </tr>\n",
              "    <tr>\n",
              "      <th>8496</th>\n",
              "      <td>telephony_software issue</td>\n",
              "      <td>telephony_software issue</td>\n",
              "      <td>rbozivdq gmlhrtvp</td>\n",
              "      <td>grp_0</td>\n",
              "    </tr>\n",
              "    <tr>\n",
              "      <th>8497</th>\n",
              "      <td>vip2: windows password reset for tifpdchb pedx...</td>\n",
              "      <td>vip2: windows password reset for tifpdchb pedx...</td>\n",
              "      <td>oybwdsgx oxyhwrfz</td>\n",
              "      <td>grp_0</td>\n",
              "    </tr>\n",
              "    <tr>\n",
              "      <th>8498</th>\n",
              "      <td>machine nã£o estã¡ funcionando</td>\n",
              "      <td>i am unable to access the machine utilities to...</td>\n",
              "      <td>ufawcgob aowhxjky</td>\n",
              "      <td>grp_62</td>\n",
              "    </tr>\n",
              "    <tr>\n",
              "      <th>8499</th>\n",
              "      <td>an mehreren pc`s lassen sich verschiedene prgr...</td>\n",
              "      <td>an mehreren pc`s lassen sich verschiedene prgr...</td>\n",
              "      <td>kqvbrspl jyzoklfx</td>\n",
              "      <td>grp_49</td>\n",
              "    </tr>\n",
              "  </tbody>\n",
              "</table>\n",
              "<p>8408 rows × 4 columns</p>\n",
              "</div>"
            ],
            "text/plain": [
              "                                      Short description  ... Assignment group\n",
              "0                                           login issue  ...            grp_0\n",
              "1                                               outlook  ...            grp_0\n",
              "2                                    cant log in to vpn  ...            grp_0\n",
              "3                         unable to access hr_tool page  ...            grp_0\n",
              "4                                          skype error   ...            grp_0\n",
              "...                                                 ...  ...              ...\n",
              "8495                  emails not coming in from zz mail  ...           grp_29\n",
              "8496                           telephony_software issue  ...            grp_0\n",
              "8497  vip2: windows password reset for tifpdchb pedx...  ...            grp_0\n",
              "8498                     machine nã£o estã¡ funcionando  ...           grp_62\n",
              "8499  an mehreren pc`s lassen sich verschiedene prgr...  ...           grp_49\n",
              "\n",
              "[8408 rows x 4 columns]"
            ]
          },
          "metadata": {
            "tags": []
          },
          "execution_count": 11
        }
      ]
    },
    {
      "cell_type": "code",
      "metadata": {
        "id": "WUvqXCdscBdw",
        "colab_type": "code",
        "colab": {}
      },
      "source": [
        "# Removing special characters\n",
        "incidents['Short description']  = incidents['Short description'].map(lambda x: re.sub(r'\\W', ' ', x))\n",
        "incidents['Description'] = incidents['Description'].map(lambda x: re.sub(r'\\W', ' ', x))"
      ],
      "execution_count": null,
      "outputs": []
    },
    {
      "cell_type": "code",
      "metadata": {
        "id": "Rian-6LwmrFn",
        "colab_type": "code",
        "colab": {
          "base_uri": "https://localhost:8080/",
          "height": 195
        },
        "outputId": "9bb46991-9397-45a8-c646-faccd5c6579b"
      },
      "source": [
        "incidents.head()"
      ],
      "execution_count": null,
      "outputs": [
        {
          "output_type": "execute_result",
          "data": {
            "text/html": [
              "<div>\n",
              "<style scoped>\n",
              "    .dataframe tbody tr th:only-of-type {\n",
              "        vertical-align: middle;\n",
              "    }\n",
              "\n",
              "    .dataframe tbody tr th {\n",
              "        vertical-align: top;\n",
              "    }\n",
              "\n",
              "    .dataframe thead th {\n",
              "        text-align: right;\n",
              "    }\n",
              "</style>\n",
              "<table border=\"1\" class=\"dataframe\">\n",
              "  <thead>\n",
              "    <tr style=\"text-align: right;\">\n",
              "      <th></th>\n",
              "      <th>Short description</th>\n",
              "      <th>Description</th>\n",
              "      <th>Caller</th>\n",
              "      <th>Assignment group</th>\n",
              "    </tr>\n",
              "  </thead>\n",
              "  <tbody>\n",
              "    <tr>\n",
              "      <th>0</th>\n",
              "      <td>login issue</td>\n",
              "      <td>verified user details  employee    manager na...</td>\n",
              "      <td>spxjnwir pjlcoqds</td>\n",
              "      <td>GRP_0</td>\n",
              "    </tr>\n",
              "    <tr>\n",
              "      <th>1</th>\n",
              "      <td>outlook</td>\n",
              "      <td>received from  hmjdrvpb komuaywn gmail com...</td>\n",
              "      <td>hmjdrvpb komuaywn</td>\n",
              "      <td>GRP_0</td>\n",
              "    </tr>\n",
              "    <tr>\n",
              "      <th>2</th>\n",
              "      <td>cant log in to vpn</td>\n",
              "      <td>received from  eylqgodm ybqkwiam gmail com...</td>\n",
              "      <td>eylqgodm ybqkwiam</td>\n",
              "      <td>GRP_0</td>\n",
              "    </tr>\n",
              "    <tr>\n",
              "      <th>3</th>\n",
              "      <td>unable to access hr_tool page</td>\n",
              "      <td>unable to access hr_tool page</td>\n",
              "      <td>xbkucsvz gcpydteq</td>\n",
              "      <td>GRP_0</td>\n",
              "    </tr>\n",
              "    <tr>\n",
              "      <th>4</th>\n",
              "      <td>skype error</td>\n",
              "      <td>skype error</td>\n",
              "      <td>owlgqjme qhcozdfx</td>\n",
              "      <td>GRP_0</td>\n",
              "    </tr>\n",
              "  </tbody>\n",
              "</table>\n",
              "</div>"
            ],
            "text/plain": [
              "               Short description  ... Assignment group\n",
              "0                    login issue  ...            GRP_0\n",
              "1                        outlook  ...            GRP_0\n",
              "2             cant log in to vpn  ...            GRP_0\n",
              "3  unable to access hr_tool page  ...            GRP_0\n",
              "4                   skype error   ...            GRP_0\n",
              "\n",
              "[5 rows x 4 columns]"
            ]
          },
          "metadata": {
            "tags": []
          },
          "execution_count": 13
        }
      ]
    },
    {
      "cell_type": "markdown",
      "metadata": {
        "id": "lIC73-VoPj2z",
        "colab_type": "text"
      },
      "source": [
        "## Exploratory Data Analysis"
      ]
    },
    {
      "cell_type": "markdown",
      "metadata": {
        "id": "wuCPmCL0huC0",
        "colab_type": "text"
      },
      "source": [
        "#### Distribution by group"
      ]
    },
    {
      "cell_type": "code",
      "metadata": {
        "id": "kWu45s-alSvO",
        "colab_type": "code",
        "colab": {
          "base_uri": "https://localhost:8080/",
          "height": 513
        },
        "outputId": "9aa04cea-57ba-418b-c7f4-b627cec4c3d0"
      },
      "source": [
        "assgn = incidents['Assignment group'].value_counts()\n",
        "plt.figure(figsize=(30,10))\n",
        "plt.rcParams['xtick.color'] = 'white'\n",
        "plt.rcParams['ytick.color'] = 'white'\n",
        "cntplot = sns.barplot(x=assgn.index,y=assgn.values)\n",
        "cntplot.set_xticklabels(cntplot.get_xticklabels(),rotation=90)\n",
        "for i in range(len(assgn)):\n",
        "  cntplot.text(i, assgn.values[i], assgn.values[i], color='black', ha='center', fontsize=13)\n",
        "plt.show()"
      ],
      "execution_count": null,
      "outputs": [
        {
          "output_type": "display_data",
          "data": {
            "image/png": "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\n",
            "text/plain": [
              "<Figure size 2160x720 with 1 Axes>"
            ]
          },
          "metadata": {
            "tags": [],
            "needs_background": "dark"
          }
        }
      ]
    },
    {
      "cell_type": "markdown",
      "metadata": {
        "id": "EplVG2RKDPRb",
        "colab_type": "text"
      },
      "source": [
        "The data is extremely unbalanced towards GRP_0 and GRP_8 with their data occupying 55% of the available data. We have to resolve the imbalance before modelling."
      ]
    },
    {
      "cell_type": "markdown",
      "metadata": {
        "id": "XppHf5KT24wr",
        "colab_type": "text"
      },
      "source": [
        "#### Caller - assignment group analysis to identify any patterns"
      ]
    },
    {
      "cell_type": "code",
      "metadata": {
        "id": "9LtPl35nize-",
        "colab_type": "code",
        "colab": {
          "base_uri": "https://localhost:8080/",
          "height": 105
        },
        "outputId": "7043d95f-1ccb-4107-8d21-a636e3a8275f"
      },
      "source": [
        "incidents['Caller'].describe()"
      ],
      "execution_count": null,
      "outputs": [
        {
          "output_type": "execute_result",
          "data": {
            "text/plain": [
              "count                  8408\n",
              "unique                 2948\n",
              "top       bpctwhsn kzqsbmtp\n",
              "freq                    788\n",
              "Name: Caller, dtype: object"
            ]
          },
          "metadata": {
            "tags": []
          },
          "execution_count": 15
        }
      ]
    },
    {
      "cell_type": "code",
      "metadata": {
        "id": "TUwUvqBzy-eP",
        "colab_type": "code",
        "colab": {
          "base_uri": "https://localhost:8080/",
          "height": 601
        },
        "outputId": "cb499f76-34b3-4c95-f172-d19402bb3d0b"
      },
      "source": [
        "incidents_freqgrp = incidents[incidents['Assignment group'].isin(list(incidents['Assignment group'].value_counts()[incidents['Assignment group'].value_counts()>10].index))]\n",
        "freq_grp = (np.max(pd.crosstab(incidents_freqgrp['Caller'],incidents_freqgrp['Assignment group'])) /\n",
        "            np.sum(pd.crosstab(incidents_freqgrp['Caller'],incidents_freqgrp['Assignment group']))).sort_values(ascending=False)\n",
        "print(freq_grp[freq_grp>0.4])\n",
        "freq_grp = freq_grp>0.4\n",
        "print('Total records for select groups')\n",
        "print(incidents[incidents['Assignment group'].isin(list(freq_grp[freq_grp].index))]['Assignment group'].value_counts())\n",
        "incidents_freqgrp[incidents_freqgrp['Assignment group'].isin(list(freq_grp[freq_grp].index))].groupby(by='Assignment group').agg(lambda x:x.value_counts().index[0])"
      ],
      "execution_count": null,
      "outputs": [
        {
          "output_type": "stream",
          "text": [
            "Assignment group\n",
            "GRP_60    0.750000\n",
            "GRP_5     0.742188\n",
            "GRP_9     0.607143\n",
            "GRP_41    0.550000\n",
            "GRP_8     0.536434\n",
            "GRP_6     0.480874\n",
            "GRP_10    0.428571\n",
            "dtype: float64\n",
            "Total records for select groups\n",
            "GRP_8     645\n",
            "GRP_9     252\n",
            "GRP_6     183\n",
            "GRP_10    140\n",
            "GRP_5     128\n",
            "GRP_41     40\n",
            "GRP_60     16\n",
            "Name: Assignment group, dtype: int64\n"
          ],
          "name": "stdout"
        },
        {
          "output_type": "execute_result",
          "data": {
            "text/html": [
              "<div>\n",
              "<style scoped>\n",
              "    .dataframe tbody tr th:only-of-type {\n",
              "        vertical-align: middle;\n",
              "    }\n",
              "\n",
              "    .dataframe tbody tr th {\n",
              "        vertical-align: top;\n",
              "    }\n",
              "\n",
              "    .dataframe thead th {\n",
              "        text-align: right;\n",
              "    }\n",
              "</style>\n",
              "<table border=\"1\" class=\"dataframe\">\n",
              "  <thead>\n",
              "    <tr style=\"text-align: right;\">\n",
              "      <th></th>\n",
              "      <th>Short description</th>\n",
              "      <th>Description</th>\n",
              "      <th>Caller</th>\n",
              "    </tr>\n",
              "    <tr>\n",
              "      <th>Assignment group</th>\n",
              "      <th></th>\n",
              "      <th></th>\n",
              "      <th></th>\n",
              "    </tr>\n",
              "  </thead>\n",
              "  <tbody>\n",
              "    <tr>\n",
              "      <th>GRP_10</th>\n",
              "      <td>res  ticket_no1558759    register   ie rj  tax...</td>\n",
              "      <td>received from  monitoring_tool company com    ...</td>\n",
              "      <td>bpctwhsn kzqsbmtp</td>\n",
              "    </tr>\n",
              "    <tr>\n",
              "      <th>GRP_41</th>\n",
              "      <td>otd to frozen date alert issue</td>\n",
              "      <td>there was a technical error   br  please try a...</td>\n",
              "      <td>entuakhp xrnhtdmk</td>\n",
              "    </tr>\n",
              "    <tr>\n",
              "      <th>GRP_5</th>\n",
              "      <td>abended job in job_scheduler  SID_27hot</td>\n",
              "      <td>received from  monitoring_tool company com    ...</td>\n",
              "      <td>bpctwhsn kzqsbmtp</td>\n",
              "    </tr>\n",
              "    <tr>\n",
              "      <th>GRP_6</th>\n",
              "      <td>unable to create delivery</td>\n",
              "      <td>please provide the following     what order nu...</td>\n",
              "      <td>bpctwhsn kzqsbmtp</td>\n",
              "    </tr>\n",
              "    <tr>\n",
              "      <th>GRP_60</th>\n",
              "      <td>the dynamics crm url checks is reporting a   d...</td>\n",
              "      <td>HostName_236  internal error  unable to find a...</td>\n",
              "      <td>bpctwhsn kzqsbmtp</td>\n",
              "    </tr>\n",
              "    <tr>\n",
              "      <th>GRP_8</th>\n",
              "      <td>abended job in job_scheduler  Job_593</td>\n",
              "      <td>india plant   india     node company ap ind kk...</td>\n",
              "      <td>bpctwhsn kzqsbmtp</td>\n",
              "    </tr>\n",
              "    <tr>\n",
              "      <th>GRP_9</th>\n",
              "      <td>abended job in job_scheduler  Job_1148</td>\n",
              "      <td>not able to open the existing hana report</td>\n",
              "      <td>bpctwhsn kzqsbmtp</td>\n",
              "    </tr>\n",
              "  </tbody>\n",
              "</table>\n",
              "</div>"
            ],
            "text/plain": [
              "                                                  Short description  ...             Caller\n",
              "Assignment group                                                     ...                   \n",
              "GRP_10            res  ticket_no1558759    register   ie rj  tax...  ...  bpctwhsn kzqsbmtp\n",
              "GRP_41                               otd to frozen date alert issue  ...  entuakhp xrnhtdmk\n",
              "GRP_5                       abended job in job_scheduler  SID_27hot  ...  bpctwhsn kzqsbmtp\n",
              "GRP_6                                     unable to create delivery  ...  bpctwhsn kzqsbmtp\n",
              "GRP_60            the dynamics crm url checks is reporting a   d...  ...  bpctwhsn kzqsbmtp\n",
              "GRP_8                         abended job in job_scheduler  Job_593  ...  bpctwhsn kzqsbmtp\n",
              "GRP_9                        abended job in job_scheduler  Job_1148  ...  bpctwhsn kzqsbmtp\n",
              "\n",
              "[7 rows x 3 columns]"
            ]
          },
          "metadata": {
            "tags": []
          },
          "execution_count": 16
        }
      ]
    },
    {
      "cell_type": "markdown",
      "metadata": {
        "id": "BzXp-kSpi2_-",
        "colab_type": "text"
      },
      "source": [
        "*   There are 2948 unique callers in our data   \n",
        "*   'bpctwhsn kzqsbmtp' is the most frequent caller with 788 records  \n",
        "*   As we can see in above table, he is the most frequent caller for certain groups - for example, of the 128 records for GRP_5, tickets from this caller accounts for around 75%   \n",
        "\n",
        "\n",
        "\n",
        "\n"
      ]
    },
    {
      "cell_type": "code",
      "metadata": {
        "id": "szSMLl4D2-3T",
        "colab_type": "code",
        "colab": {
          "base_uri": "https://localhost:8080/",
          "height": 518
        },
        "outputId": "3707c186-4b33-4048-b8d2-30524e80367f"
      },
      "source": [
        "incidents_freqcall = incidents[incidents['Caller'].isin(list(incidents['Caller'].value_counts()[incidents['Caller'].value_counts()>20].index))]\n",
        "freq_call = (np.max(pd.crosstab(incidents_freqcall['Assignment group'],incidents_freqcall['Caller'])) /\n",
        "            np.sum(pd.crosstab(incidents_freqcall['Assignment group'],incidents_freqcall['Caller']))).sort_values(ascending=False)\n",
        "print(freq_call[freq_call>0.7])\n",
        "freq_call = freq_call>0.7\n",
        "print(incidents[incidents['Caller'].isin(list(freq_call[freq_call].index))]['Caller'].value_counts())\n",
        "incidents_freqcall[incidents_freqcall['Caller'].isin(list(freq_call[freq_call].index))].groupby(by='Caller').agg(lambda x:x.value_counts().index[0])"
      ],
      "execution_count": null,
      "outputs": [
        {
          "output_type": "stream",
          "text": [
            "Caller\n",
            "efbwiadp dicafxhv    1.000000\n",
            "olckhmvx pcqobjnd    1.000000\n",
            "rbozivdq gmlhrtvp    0.986111\n",
            "fumkcsji sarmtlhy    0.984375\n",
            "jionmpsf wnkpzcmv    0.958333\n",
            "entuakhp xrnhtdmk    0.880000\n",
            "dtype: float64\n",
            "fumkcsji sarmtlhy    128\n",
            "rbozivdq gmlhrtvp     72\n",
            "olckhmvx pcqobjnd     47\n",
            "efbwiadp dicafxhv     45\n",
            "entuakhp xrnhtdmk     25\n",
            "jionmpsf wnkpzcmv     24\n",
            "Name: Caller, dtype: int64\n"
          ],
          "name": "stdout"
        },
        {
          "output_type": "execute_result",
          "data": {
            "text/html": [
              "<div>\n",
              "<style scoped>\n",
              "    .dataframe tbody tr th:only-of-type {\n",
              "        vertical-align: middle;\n",
              "    }\n",
              "\n",
              "    .dataframe tbody tr th {\n",
              "        vertical-align: top;\n",
              "    }\n",
              "\n",
              "    .dataframe thead th {\n",
              "        text-align: right;\n",
              "    }\n",
              "</style>\n",
              "<table border=\"1\" class=\"dataframe\">\n",
              "  <thead>\n",
              "    <tr style=\"text-align: right;\">\n",
              "      <th></th>\n",
              "      <th>Short description</th>\n",
              "      <th>Description</th>\n",
              "      <th>Assignment group</th>\n",
              "    </tr>\n",
              "    <tr>\n",
              "      <th>Caller</th>\n",
              "      <th></th>\n",
              "      <th></th>\n",
              "      <th></th>\n",
              "    </tr>\n",
              "  </thead>\n",
              "  <tbody>\n",
              "    <tr>\n",
              "      <th>efbwiadp dicafxhv</th>\n",
              "      <td>ticket update regarding ticket_no1543461 from ...</td>\n",
              "      <td>replied to email sending instructions how to i...</td>\n",
              "      <td>GRP_0</td>\n",
              "    </tr>\n",
              "    <tr>\n",
              "      <th>entuakhp xrnhtdmk</th>\n",
              "      <td>setup time not calculated properly</td>\n",
              "      <td>hello     when i use analysis for ms excel now...</td>\n",
              "      <td>GRP_41</td>\n",
              "    </tr>\n",
              "    <tr>\n",
              "      <th>fumkcsji sarmtlhy</th>\n",
              "      <td>ticket update inplant_858871</td>\n",
              "      <td>ticket update inplant_858871</td>\n",
              "      <td>GRP_0</td>\n",
              "    </tr>\n",
              "    <tr>\n",
              "      <th>jionmpsf wnkpzcmv</th>\n",
              "      <td>EU_tool ist sehr langsadgtym  ywqgrbnx jwnsyzb...</td>\n",
              "      <td>EU_tool ist sehr langsadgtym  ywqgrbnx jwnsyzb...</td>\n",
              "      <td>GRP_24</td>\n",
              "    </tr>\n",
              "    <tr>\n",
              "      <th>olckhmvx pcqobjnd</th>\n",
              "      <td>hwbipgfq sqiyfdax gmail com called to check ho...</td>\n",
              "      <td>hwbipgfq sqiyfdax gmail com called to check ho...</td>\n",
              "      <td>GRP_0</td>\n",
              "    </tr>\n",
              "    <tr>\n",
              "      <th>rbozivdq gmlhrtvp</th>\n",
              "      <td>blank call</td>\n",
              "      <td>name xvgftyr tryfuh language  browser microsof...</td>\n",
              "      <td>GRP_0</td>\n",
              "    </tr>\n",
              "  </tbody>\n",
              "</table>\n",
              "</div>"
            ],
            "text/plain": [
              "                                                   Short description  ... Assignment group\n",
              "Caller                                                                ...                 \n",
              "efbwiadp dicafxhv  ticket update regarding ticket_no1543461 from ...  ...            GRP_0\n",
              "entuakhp xrnhtdmk                 setup time not calculated properly  ...           GRP_41\n",
              "fumkcsji sarmtlhy                       ticket update inplant_858871  ...            GRP_0\n",
              "jionmpsf wnkpzcmv  EU_tool ist sehr langsadgtym  ywqgrbnx jwnsyzb...  ...           GRP_24\n",
              "olckhmvx pcqobjnd  hwbipgfq sqiyfdax gmail com called to check ho...  ...            GRP_0\n",
              "rbozivdq gmlhrtvp                                         blank call  ...            GRP_0\n",
              "\n",
              "[6 rows x 3 columns]"
            ]
          },
          "metadata": {
            "tags": []
          },
          "execution_count": 17
        }
      ]
    },
    {
      "cell_type": "markdown",
      "metadata": {
        "id": "EV08MWTtkD7w",
        "colab_type": "text"
      },
      "source": [
        "*   Based on the caller based analysis above, we can see that all the records for callers 'efbwiadp dicafxhv' and 'olckhmvx pcqobjnd' are assigned to GRP_0. Again, we can't consider this significant because GRP_0 records account for half of all input data.\n",
        "*   Consider the volume of total records, we conclude there is no significant correlation between caller and assignment group. Once we identify that certain groups are similar, we can cluster them and look back at similar analysis again.\n",
        "\n"
      ]
    },
    {
      "cell_type": "markdown",
      "metadata": {
        "id": "z4UJ-AUIlKm7",
        "colab_type": "text"
      },
      "source": [
        "#### Short description length analysis and its relation with assignment group"
      ]
    },
    {
      "cell_type": "code",
      "metadata": {
        "id": "pa-8Yaa0VtHL",
        "colab_type": "code",
        "colab": {}
      },
      "source": [
        "incidents['sdesc_len'] = incidents['Short description'].str.len()"
      ],
      "execution_count": null,
      "outputs": []
    },
    {
      "cell_type": "code",
      "metadata": {
        "id": "JhiAMAPWEMv6",
        "colab_type": "code",
        "colab": {
          "base_uri": "https://localhost:8080/",
          "height": 426
        },
        "outputId": "8f54ee23-6504-43e8-93de-997a2b9663dc"
      },
      "source": [
        "plt.figure(figsize=(12,6))\n",
        "sns.distplot(incidents['sdesc_len']).set_title('Distribution of length of short descriptions')"
      ],
      "execution_count": null,
      "outputs": [
        {
          "output_type": "execute_result",
          "data": {
            "text/plain": [
              "Text(0.5, 1.0, 'Distribution of length of short descriptions')"
            ]
          },
          "metadata": {
            "tags": []
          },
          "execution_count": 19
        },
        {
          "output_type": "display_data",
          "data": {
            "image/png": "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\n",
            "text/plain": [
              "<Figure size 864x432 with 1 Axes>"
            ]
          },
          "metadata": {
            "tags": [],
            "needs_background": "dark"
          }
        }
      ]
    },
    {
      "cell_type": "code",
      "metadata": {
        "id": "0987wcYfiYVp",
        "colab_type": "code",
        "colab": {
          "base_uri": "https://localhost:8080/",
          "height": 523
        },
        "outputId": "9649460a-5bf7-47eb-f5e5-38a30f2fdf1d"
      },
      "source": [
        "plt.figure(figsize=(30,10))\n",
        "lengths = sns.boxplot(data=incidents, x='Assignment group', y='sdesc_len')\n",
        "lengths.set_xticklabels(lengths.get_xticklabels(),rotation=90)\n",
        "plt.show()"
      ],
      "execution_count": null,
      "outputs": [
        {
          "output_type": "display_data",
          "data": {
            "image/png": "iVBORw0KGgoAAAANSUhEUgAABsMAAAJsCAYAAACoH937AAAABHNCSVQICAgIfAhkiAAAAAlwSFlzAAALEgAACxIB0t1+/AAAADh0RVh0U29mdHdhcmUAbWF0cGxvdGxpYiB2ZXJzaW9uMy4yLjIsIGh0dHA6Ly9tYXRwbG90bGliLm9yZy+WH4yJAAAgAElEQVR4nOzdf3Cc930f+Pdiqd+NtXYkyiYtME5Cy1Mpk4w0tgQUuDqJYye9BDvjTjjJ8I5NLpMoZtqZjs9tQrauZy4VqcuvXucaKkzaOHGO+cE2dwc0bTyJEzMkAsjOSJcfdmOJlhVCBmPRsrR2QxGKtNj7AwTMhUCKBHb32Wf39ZrBiN8Hiwcf7T672N3Pft5PpdVqBQAAAAAAAAbRSNEFAAAAAAAAQLdohgEAAAAAADCwNMMAAAAAAAAYWJphAAAAAAAADCzNMAAAAAAAAAaWZhgAAAAAAAADa1vRBXRQq+gCAAAAAAAAKExlo42D1AzL2bNniy4BAAAAAACAHtuxY8dlvycmEQAAAAAAgIGlGQYAAAAAAMDA0gwDAAAAAABgYGmGAQAAAAAAMLA0wwAAAAAAABhYmmEAAAAAAAAMLM0wAAAAAAAABpZmGAAAAAAAAANLMwwAAAAAAICBpRkGAAAAAADAwNIMAwAAAAAAYGBphgEAAAAAADCwNMMAAAAAAAAYWJphAAAAAAAADCzNMAAAAAAAAAaWZhgAAAAAAAADq1fNsF9Oci7Jp9Zt/ydJPpPk00l+6pLtB5J8NskTSd7TiwIBAAAAAAAYPNt69Ht+Jcm/S/KRS7Z9a5J6km9O8lKS7Re3/90k35fk7iQ7knwsyVuTNHtUKwAAAAAAAAOiV5NhJ5M8v27b+5I8nJVGWLIyOZasNMh+8+L2p7MyIfaOHtQIAAAAAADAgOnVZNhG3ppkMslDSZaSfCDJnyTZmeTRSy73+YvbNvIjF7+SJLfddttV/eLnn38+P/VTP5Uf//Efz+tf//prr5yB5dgAAAAAAIDBUmQzbFuSNyR5IMnbkxxP8vXXuI9fvPiVJK3nnnvuqn7oV3/1V/PpT386H/7wh7Nv375r/JUMMscGAAAAAACUz44dOy77vV7FJG7k80n+7yStJJ9MspzktiSLSe685HJvvritIxqNRmZnZ9NqtXLq1Kk0Go1O7ZqSc2wAAAAAAMDgKbIZ9v8m+daL/35rkuuTPJdkJsn3JbkhyVuS7M5Ks6wjpqens7y8nCRZXl7OzMxMp3ZNyTk2AAAAAABg8PSqGfYbSeaT3JWVibAfSvLLWYlF/FSS30zyj7IyJfbprEQm/rckH03yY0manSpkfn4+zebK7prNZubm5jq1a0rOsQEAAAAAAIOnV82w70/ypiTXZSX28D8k+dsk/1OSe5Lcm+QPL7n8Q0m+ISvNs9/tZCFjY2OpVqtJkmq1mvHx8U7unhJzbAAAAAAAwOApMiaxEPV6PSMjK//bIyMjmZqaKrgi+oVjAwAAAAAABs/QNcNqtVomJiZSqVQyOTmZWq1WdEn0CccGAAAAAAAMnm1FF1CEer2excVFkz+8imMDAAAAAAAGS6XVahVdQ6e0zp49W3QNAAAAAAAA9NiOHTuSpLLR94YuJhEAAAAAAIDhoRkGAAAAAADAwNIMAwAAAAAAYGBphgEAAAAAADCwNMMAAAAAAAAYWJphAAAAAAAADCzNMAAAAAAAAAaWZhgAAAAAAAADSzMMAAAAAACAgaUZBgAAAAAAwMDSDAMAAAAAAGBgaYYBAAAAAAAwsDTDAAAAAAAAGFiaYQAAAAAAAAwszTAAAAAAAAAGlmYYAPSxRqORQ4cOpdFoFF0KAAAAAJSSZhgA9LHp6emcPn06MzMzRZcCAAAAAKWkGQYAfarRaGR2djatViunTp0yHQYAAAAAmzCUzTCRUwCUwfT0dJaXl5Mky8vLpsMAAAAAYBOGshkmcgqAMpifn0+z2UySNJvNzM3NFVwRAAAAAJTP0DXDRE4BUBZjY2OpVqtJkmq1mvHx8YIrAgAAAIDyGbpmmMgpAMqiXq9nZGTlT/XIyEimpqYKrggAAAAAymfommEipwAoi1qtlomJiVQqlUxOTqZWqxVdEgAAAACUztA1w+67774rrgGgn9Tr9ezevdtUGAAAAABs0raiC+i1VqtVdAkAcNVqtVoOHjxYdBkAAAAAUFpDNxn2+OOPt60fe+yxgioBAAAAAACg24auGTY2NpaRkZX/7ZGRkYyPjxdcEQAAAAAAAN0ydM2wer2earWaJKlWq87BAgAAAAAAMMCGrhlWq9UyMTGRSqWSycnJ1Gq1oksCAAAAAACgS7YVXUAR6vV6FhcXTYUBAAAAAAAMuEqr1Sq6hk5pnT17tugaAAAAAAAA6LEdO3YkSWWj7w1dTCIAAAAAAADDQzMMAAAAAACAgaUZBpdoNBo5dOhQGo1GqfYNAAAAAABsTDMMLjE9PZ3Tp09nZmamVPsGAAAAAAA2phkGFzUajczOzqbVauXUqVMdneDq5r4BAAAAAIDL0wyDi6anp7O8vJwkWV5e7ugEVzf3DQAAAL0g/h8AKCvNMLhofn4+zWYzSdJsNjM3N1eKfQMAAEAviP8HAMpKMwwuGhsbS7VaTZJUq9WMj493bN/33XffFdcAAADQz8T/AwBlphkGF9Xr9YyMrNwlRkZGMjU11bF9t1qtju0LAAAAek38PwBQZpphcFGtVsvExEQqlUomJydTq9U6tu/HH3+8bf3YY491bN8AAADQbeL/AYAy0wyDS9Tr9ezevbujU2HJSgTjpVNnnYxgBAAAgG7r5qkFAAC6TTMMLlGr1XLw4MGOToUlK022S180dLrZBgAAAN3UzVMLAAB021A2wxqNRg4dOuRkr/RMNyMYAQAAoNu8rgUAymwom2HT09M5ffq0k73SU92KYAQAAIBe8LoWACirSqvVKrqGTmmdPXv2NS/UaDTyz/7ZP8vLL7+c6667Lj/90z/t00wAAAAAAAAltmPHjiSpbPS9oZsMm56ezvLycpJkeXnZdBg9I54TAAAAAAB6b+iaYfPz82k2m0mSZrOZubm5gitiWIjnBAAAAACA3hu6ZtjY2Fiq1WqSpFqtZnx8vOCKGAaNRiOzs7NptVo5deqU6TAAAAAAAOiRbT36Pb+c5LuTnEtyz7rv/a9JfibJ7Umey0qe479N8g+SvJjkB5I83qlC6vV6Zmdn02w2MzIy4qSv9MRG8Zz79u0ruKrBcOzYsSwsLKytz507lyTZvn172+VGR0ezd+/entYGAAAAAEDxejUZ9itJvnOD7XcmeXeShUu2fVeS3Re/fiTJI50spFarZWJiIpVKJZOTk6nVap3cPWxIPGfvLC0tZWlpqegyAAAAAADoE72aDDuZ5Os22P5vkvzzJNOXbKsn+UiSVpJHk9SSvCnJX3eqmHq9nsXFRVNh9MzY2FhOnjyZZrMpnrPD1k97HT58OEly4MCBIsoBAAAAAKDP9KoZtpF6ksUkf7Zu+84kz1yy/vzFbR1rhtVqtRw8eLBTuysVkXLFEM8JAAAAAADFKKoZdnOSg1mJSNyKH7n4lSS57bbbtri7wXfTTTfluuuuW1u/9NJLSdK2bfVyrs/Oue222/Kud70rH/3oR/Md3/Ed+cZv/MaiSxpYq8ey4xcAAAAAgKS4Ztg3JHlLvjoV9uYkjyd5R1amxe685LJvvrhtI7948StJWs8991znKx0w733ve9vWq5FyH/jAB151WddnZ73nPe/JU089lXe/+92u2y56+eWXkzh+AQAAAACGyY4dOy77vZEe1nGpv0iyPSvnEfu6rEQh3pvkC0lmkuxLUknyQJIvp4MRiVCU1XjOWq1WdCkAXddoNHLo0KE0Go2iSwEAAABgyPWqGfYbSeaT3JWVxtcPXeGy/zXJ55J8NskvJdnf9eoAgI6anp7O6dOnMzMzU3QpAAAAAAy5XsUkfv9rfP/rLvl3K8mPda8UAKCbGo1GZmdn02q1curUqUxNTZmKBQAAAKAwRcUkFkp0EwB0z/T0dJaXl5Mky8vLpsMAAAAAKNRQNsNENwFA98zPz6fZbCZJms1m5ubmCq4IAAAAgGE2dM2w9dFNpsMAoLPGxsZSrVaTJNVqNePj4wVXBAAAAMAw69U5w/rGRtFN+/btK7gqYJgcO3YsCwsLbdvOnTuXJNm+ffvattHR0ezdu7entUEn1Ov1zM7OptlsZmRkJFNTU0WXBAAAAMAQG7rJMNFNQD9aWlrK0tJS0WVAR9RqtUxMTKRSqWRycjK1Wq3okgAAAAAYYkM3GTY2NpaTJ0+m2WyKbgIKsdG01+HDh5MkBw4c6HU50BX1ej2Li4umwgAAAAAo3NBNhtXr9YyMrPxvi24CgO6o1Wo5ePCgqTAAAAAACjd0zTDRTQyaRqORQ4cOpdFoFF0KAAAAAAD0naFrhiUr02G7d+82FcZAmJ6ezunTpzMzM1N0KQAAAAAA0HeGshkmuolB0Wg0Mjs7m1arlVOnTpkOAwAAAACAdbYVXUCZHTt2LAsLC2vrc+fOJUm2b9/edrnR0dHs3bu3p7XRfxqNRo4cOZL9+/d3rBE7PT2d5eXlJMny8nJmZmayb9++juwbAAAAAAAGwVBOhnXL0tJSlpaWii6DPtWNOMP5+fk0m80kSbPZzNzcXMf2DQAAAAAAg8Bk2Basn/Y6fPhwkuTAgQNFlEMfWx9nODU11ZHpsLGxsZw8eTLNZjPVajXj4+MdqBYAAAAAAAaHyTDogY3iDDuhXq9nZGTlbjwyMpKpqamO7BcGVaPRyKFDh5xfDwAAAACGiGYY9EC34gxrtVomJiZSqVQyOTnZsXORwaDqRlwpAAAAANDfNMOgB+67774rrreiXq9n9+7dpsLgNayPKzUdBgAAAADDYSibYWKy6LVWq9W1fddqtRw8eNBUGLyGbsWVAgAAAAD9bSibYWKy6LXHH3+8bf3YY48VVAkMr27FlQIAAAAA/W3ommFisijCvffe27buZEwicHXGxsZSrVaTJNVqNePj4wVXBAAAAAD0wtA1w8RkUYRKpVJ0CTD06vV6RkZW/uyNjIw4z15JiToGAAAA4FoNXTNMTBZFWB+LKCYReq9Wq2ViYiKVSiWTk5POs1dSoo4BAAAAuFZD1wwTk0URHHfQH+r1enbv3m0qrKREHQMAAACwGUPXDBOTRREcd9AfarVaDh48aCqspEQdAwAAALAZQ9cME5NFERx3AFsn6hgAAACAzRi6ZlgiJotiOO4AtkbkLAAAAACbsa3oAorw+c9/PqdPn87i4mJfTugcO3YsCwsLbdvOnTuXJNm+ffvattHR0ezdu7entbF5q/FsANei0WjkyJEj2b9/f1/+zeqler2e2dnZNJtNkbMAAAAMNe8hw7UZysmwI0eOpNVq5ciRI0WXctWWlpaytLRUdBkA9Nj09HROnz7t/FgROQsAAABX4j1kuLyhmwz71Kc+lRdffDFJcv78+Xz605/O3XffXXBV7Tbq1B8+fDhJcuDAgV6XA0BBGo1GZmdn02q1curUqUxNTQ19A6her2dxcdFUGAAAAEPNe8hwbYauGbZ+GuzIkSP5+Z//+YKqYbPKGBt25syZPPzwwzlw4EBGR0eLLofXYNR8MKy/HTe6DZP+vR2np6ezvLycJFleXs7MzEz27dtXcFXFEjkLV6+Mz5cAAACgG4YuJnF1KmzV+fPnC6qErShjbNjRo0dz4cKFHD16tOhS2CSj5uVXtttwfn4+zWYzSdJsNjM3N1dwRUCZlPH5EgAAAHTD0E2G3XTTTblw4ULbmnIpY2zYmTNncvbs2STJ4uJiFhYWTIf1OaPmg2H97Vi22/C+++7LH//xH7etAa5GGZ8vAQAAQLcM3WTY7t2729Z33XVXQZWwWRvFhvW79dNgpsOAq9FqtYouASipMj5fAgAAgG4ZumbYk08+2bb+zGc+U1AlbFY3Y8MajUYOHTqURqPRsX0mWZsKW7W4uNjR/QOD6fHHH29bP/bYYwVVApSNmFUAAAD4qqFrho2NjWVkZOV/e2RkJOPj4wVXxLUaGxtLtVpNklSr1Y7eht06t8aOHTva1jt37uzo/oHB5G8WsFndfL4EAAAAZTN0zbB6vd72xsDU1FTBFXGt6vV625vDnboN159bo5PTYQ8++OAV1wAb8TcL2KxuPV8CAACAMtpWdAG9VqvV8va3vz1zc3N5xzve4UTiJVSr1TIxMZETJ05kcnKyY7fhRufW2LdvX0f2vWvXrtxxxx159tln88Y3vjGjo6Md2S8w2Lr1eAcMvrI8fhw7diwLCwtr63PnziVJtm/f3na50dHR7N27t6e10X8ajUaOHDmS/fv39+0xDQAA9KehmwxLkkqlUnQJbFG9Xs/u3bs7+innbp9bY7UBduedd3Z0v8Bg68bjHTAcyvj4sbS0lKWlpaLLoE91K9IcAAAYfEM3GdZoNPLJT34ySfLJT34y3/u93+tThSVUq9Vy8ODBju5zbGwsJ0+eTLPZ7Pi5NRqNRv70T/80SfKnf/qnaTQajjvgqnTj8Q4YDmV4/Fg/7XX48OEkyYEDB4oohz62PtJ8amrK82kAAOCqDV0zrJtReJRbvV7P7Oxsms1mx8+t4bgDAGAQ9Srq0vNpAFghNhhgc4YuJrHbUXiU1+q5NSqVSsfPreG4AwBgGHQr6tLzaQBYITYYYHOGbjKsm1F4lF+9Xs/i4mLHz63huAMAYBD1KurS82kAEBsMsBVDNxlWr9fTarWSJK1Wq1QnFKf7Vs+t0eknEvV6PZVKJUlSqVQcdwyERqORQ4cOpdFoFF0KAD3k8Z8i1Ov1jIysvHztdKQ5AJTFRrHBAFydoWuG1Wq1tj8aPj1BL9RqtVx//fVJkhtuuMFxx0AQzQAwnDz+U4RuRpoDQFmIDQbYvKFrhv3BH/xB2/rjH/94QZUwTM6cOZMXX3wxSXL+/Pm2k4xDGa2PZjAdADAcPP5TpHq9nt27d5sKA2BojY2NpVqtJonYYIBrNHTNsF/7tV9rW3/kIx8pqBKGydGjR6+4hrIRzfBqYsOAYeDxnyJ1K9IcAMpCbDDA5g1dM2y91fOHQTedPXu2bb24uFhQJdAZohleTWwYMAw8/gMAFEdsMMDmDX0zDHrh9a9//RXXUDaiGdqJDQOGhcd/AIBiiQ0G2JxtRRfQa5VKpW0arFKpFFgNw+IrX/nKFddQNvV6PadOnUoimiFZmQq7dFJiZmYm+/btK7iqdseOHXvV+QrPnTuXJNm+ffvattHR0ezdu7entbF5jUYjR44cyf79+30qlJ6o1+uZnZ1Ns9n0+A8AUIDV2GAArs3QTYatj0UUk0gvrL5Jfrk1lE2tVltroGzfvn3o34Sfn59vO4dOWWLDlpaWsrS0VHQZbIF4TnpNNA8AAABlZDLMZBg9MDIysvZG+eoayqzRaKxNFT377LNpNBpD/Ybovffe29YAu++++wqsZmMbTXsdPnw4SXLgwIFel0MHrI/nnJqaGur7Ib1Tr9ezuLhoKgwAAIDSGLpmmMkwinBpI2yj9VaIyOJS66PwNorBS7YehTc9Pb32+NlqtfoyFrCXfLCCIkxPT7dNJA77/ZDeEc0DDBOvtwAABoPxFCg5EVlcSbdi8Obn59vOkVWWWMBueeyxx664hm5wPwSA7vN6CwBgMAzdZBgUoVqttp0nbNu2ztz1RGSx3vppr27F4I2NjeXkyZNpNpupVqsZHx/v6P7LxvVBERx3ANBdXm8BAAyOoWuGXXfddXn55Zfb1tBtP/zDP5xf+IVfaFt3gogsilKv1zM7O5tms5mRkZGhP29MJ6+PXkVdUn7uhwDQXV5vAQAMjl7FJP5yknNJPnXJtp9O8pkkf57k/0ly6cerDiT5bJInkrynk4Vc2gjbaE05nDlzJu973/va3jDuZw888MDaOYVGRkZy//33d2S/IrIoSq1Wy8TERCqVSiYnJ4f+E7LdvD66FXVJ+bkf9tanPvWp/OAP/mA+/elPF10KDK1Go5FDhw6l0WgUXQpDwustXovHJQAoj15Nhv1Kkn+X5COXbPv9rDS9Xknyv1/8948n+btJvi/J3Ul2JPlYkrcmaaYDbr755rz44otr61tuuaUTu6XHjh49mgsXLuTo0aN56KGHii7nqtRqtbzwwgu59dZbO7bPsbGxfPzjH19bi8iil+r1ehYXF02jXNSp66NXUZcMBvfD3jly5EharVaOHDmSn//5ny+6HBhKl567yXQOvSCSmNficQkAyqNXk2Enkzy/btvvZaURliSPJnnzxX/Xk/xmkpeSPJ2VCbF3dKqQu+++u239Td/0TZ3aNT1y5syZnD17NkmyuLhYiumwM2fO5IUXXkiSvPDCCx2r+Z3vfOcV19BNtVotBw8eNI1ykeuDIjjueuNTn/rU2oepzp8/bzoMCrD+3E2mMOiFer2ekZGVt01EErOexyUAKJd+OWfY/5Lkty7+e2dWmmOrPn9xW0f8yZ/8Sdv60UcfzY/+6I92avf0wNGjR1+17vfpsG7VfOLEiVQqlbRarVQqlZw4ccKn0QCGyJkzZ/Lwww/nwIEDGR0dLbqcnlp/fr1k43PsdeL8ekeOHHnV2nQY9JZzN1GEWq2Wt7/97Zmbm8s73vEOHz6hjcclACiXfmiG/YusTIgd28TP/sjFryTJbbfdtqkCNvtz61133XUd3V8v9t3NmrtldSps1eLiYt/X362aP/GJT6TVaiVJWq1WHn300bz//e/f8n7LrIz3w27uu4z38W4q4/VRxuOO3vngBz+YCxcu5N//+3//qobNoLvpppvWjuFVL730UpK0bb/pppu2fIxfGrGdrEyHud90h8el8uvWbfiJT3yi7dxNnvfSKzfeeOPafz02cSmPS0A/8nwaLq/oZtgPJPnuJN+epHVx22KSOy+5zJsvbtvIL178SpLWc889t6kiNvtz67388ssd3V8v9t3Nmrtlx44dbc2lnTt39n39r3/969diElfXnaj5/vvvb8uwf+CBB/r+uui2Mt4Pu7nvMt7Hu6mM10cZjzt648yZM3nmmWeSJAsLC3n88ceHajrsve9976u2rZ5j7wMf+EDb9q0e4xudc9b9pjs8LpVft25Dz3spQqPRyKlTp5IkJ0+ezPd8z/eYDmONxyWgH3k+zbDbsWPHZb9XZDPsO5P88yR/P8mlH7edSfLrSX4uyY4ku5N8slO/dNu2bXnllVfa1nRHo9HIkSNHsn///o6+YHjwwQfzoQ99qG3d777yla9ccb1Z9Xo9s7OzaTabMuwBhkwZY4PLav/+/fmZn/mZtjXQW573UgQxeFxJWR6X1kdLbxQrnXQmWhoA+tlIj37PbySZT3JXVs4B9kNJ/l2Sr0ny+0n+NMkvXLzsp5McT/Lfknw0yY8laXaqkEsbYRut6Zzp6emcPn06MzMzHd3vrl271jq8O3fuLMWn4FejEy633qxarZaJiYlUKpVMTk76lCLAENkogpfuuOeee3LzzTcnWZkKu/vuuwuuCIaP570UYX5+vi0Gb25uruCK6CdlfVxaWlrK0tJS0WUAQM/1aizq+zfY9h+ucPmHLn51nMmw3mg0GpmdnU2r1cqpU6cyNTXV8emwhx9+uBRTYUlSrVbbGmCdPO7q9XoWFxf79lNoAHTHRrHBdM/+/fvzsz/7s6bCoECe99JrY2NjbTF44+PjRZdEnynD49L6aa/VWOkDBw4UUQ4AFGboOkEmw3qj23ESu3btyiOPPNKx/XXa+hiC22+/PV/4whfa1ocPH+5IDEGtVsvBgwe3tA8AyqeMscFlds899+TDH/5w0WUwZLoVO15WnvfSa2WJwaM4HpcAoDyGrhlGb2wUJzHM2eq33nprWzPsda97XYHVADAIVmODz549W5rYYODaXBo7PszPpaEoqzF4J06cKFUMHgCDaf2H7zey+v3VKdDLcZ5AhpFmGF0x7HESG/0x+Ymf+Il84QtfyPve977cf//9BVQFwKApW2wwcPW6HTsOXJ0yxOABMBwWFhbyzFMLGf2ay0fk37h8fZKkcq552css/Hfnm2Y4DV0zzDnDekOcxKvdeuutufXWWzXCGBiim9q5PihCv8cGA5vX7djxfrfRJ5/PnTuXJNm+ffvaNp9qptvE4AHQT0a/ZmcO3v9PtrSPQ5/4P9PqUD1QJiNFF9BrzhnWG6txEpVKRZwEDKhLo5twfQDQWRvFjg+7paWlLC0tFV0GAABQQkM3FnXzzTfnxRdfXFvfcsstBVYz2MRJwOAS3dTO9QFAp4kdf/W01+q5Lw4cONDrcgAAgJIbusmw/fv3X3FN56zGSXhDuLwajUYOHTqURqNRdCn0mY2im4aZ6wPYLH9ruZx6vZ6RkZWXa2LHAQAAtmbommH33HNP2/ruu+8uqBLof2LfuBzRTe1cH8Bm+VvL5YgdBwAA6Jyha4Y9+uijbetPfOITBVUC/W197JtPrHOpsbGxVKvVJBnK6Kb1XB/AZvhby2up1+vZvXu3qTAAAIAtGrpzhv3SL/3Sq9b3339/QdVA/9oo9m3fvn0FV0W/qNfrmZ2dTbPZFN0U10c3HTt2LAsLC2vrc+fOJUm2b9/edrnR0dENzy8D/czfWl7Lauw4AAAAWzN0k2GrMVarXnnllYIqgf4m9o0rEd3UzvXRO0tLS1laWiq6DOgIf2sBAACgN4ZuMqxarbY1xFZjrYB2Y2NjOXnyZJrNptg3NlSv17O4uGgK6iLXR3esn/Y6fPhwkuTAgQNFlAMd5W8tAAAA9MbQNcPe+ta35i//8i/X1m9729sKrAb6l9g3XovopnauD3qhW7GR6/d7uX2Lo+wsf2uBQeZvCwAA/WToYhKffvrptvVTTz1VUCXQ38S+AfS/bsZGiqTsPn9rgWHjbwsAAEUZusmwe++9t+18DPfdd1+B1UB/E/sG0F+6FRu50SfyRVL2hr+1wKDytwUAgH4ydM2wSqVSdAlQGmLfAKC7yvC3tlvxnAAAANArQxeT+Nhjj11xDXxVo9HIoUOH0mg0ii4F+p77CzAsxJwBAABQNkM3GTY2NpaPf/zja+vx8fECq4H+Nj09ndOnT2dmZib79u0ruhzoa+4vwKDqVjwnACak7EsAACAASURBVAAA9MrQTYatP0eYc4bBxhqNRmZnZ9NqtXLq1CnTLnAF7i8AAAAA0L+Grhn267/+61dcAyump6ezvLycJFleXs7MzEzBFUH/cn8BAAAAgP41dM2ws2fPtq0XFxcLqgT62/z8fJrNZpKk2Wxmbm6u4Iqgf7m/AAAAAED/Grpm2O23337FNbBibGws1Wo1SVKtVp1fD67A/QUAAAAA+te2ogsA+lO9Xs/s7GyazWZGRkYyNTVVdEnQt9xfYLAcO3YsCwsLbdvOnTuXJNm+ffvattHR0ezdu7entV1OGWsGANjI+uc1Gz2nSTyvAeDaDN1k2Be/+MUrroEVtVotExMTqVQqmZycTK1WK7ok6FvuLzD4lpaWsrS0VHQZ16SMNQMArOc5DQCdMHSTYa9//evzwgsvtK2BjdXr9SwuLppygavg/gKDY6NPGB8+fDhJcuDAgV6Xc1XKWDMAwEbWP6/xnAaAThi6ZthXvvKVK66Br6rVajl48GDRZUApuL8AAABAbzUajRw5ciT79++X0gKXEKX/akMXk9hsNq+4BgAAAACg/01PT+f06dOZmZkpuhToe8MeOzt0k2HVarWtAVatVgusBgAAAACAa9VoNDI7O5tWq5VTp05lamrKdBhcJEr/1YauGfY1X/M1aTQaa+vXve51BVYDAADQXSJSAIBBND09neXl5STJ8vJyZmZmsm/fvoKrAvrV0MUkXtoIS5IXXnihoEoAAACKMewRKQBA+c3Pz68lgDWbzczNzRVcEdDPhm4y7I477sizzz67tn7jG99YYDUAAADdJSIFABhEY2NjOXnyZJrNZqrVasbHx4suCehjQzcZNjo62ra+8847C6oEAAAAAIDNqNfrqVQqSZJKpZKpqamCKwL62dA1w/7iL/7iimsAAAAAAPpbrVZbO//pHXfckVqtVnBFQD8bupjEt7zlLfnLv/zLtfU3fMM3FFgNAABAORw7diwLCwtXvMzq91djGC9ndHR0w/hGAICr1Wg0cu7cuSTJuXPn0mg0NMSAyxq6ZtiTTz7Ztv7MZz5TUCUAAADlsbCwkCeefjqVr33DZS/TuhhV9ORXvnz5y3zp+Y7Xxuatb3Kuvqm4+kn7VRqYAPSb6enptFqtJMny8nJmZmayb9++gqsC+tXQNcOazeYV1wAAAGys8rVvyHXf8z9uaR8v/+f/0qFq6IalpaWiSwCAqzI/P7/23m6z2czc3JxmGHBZQ9cMGxkZyfLyctsaAAAAhtH6aa/ViMsDBw4UUQ4AXLWxsbGcPHkyzWYz1Wo14+PjRZcE9LGha4Zt27Ytf/u3f9u2BgAAAOilRqORI0eOZP/+/c5xAyW30Xk1N4qdFTnbWfV6PbOzs2k2mxkZGcnU1FTRJQF9bOjGoi5thG20BgAAAOi26enpnD59OjMzM0WXAnTB0tKS6Nkuq9VqmZiYSKVSyeTkpA8WAFc0dGNRN9xwQ1566aW19Y033lhgNQAAAMCwaTQamZ2dTavVyqlTpzI1NeVNXCixjaa9xM72Rr1ez+Lioqkw4DUNXTPslltuaWuG3XLLLQVWAwAAAPSL9VFnG8WcJVuPOpuenl47n/ny8nJmZmayb9++Te8PYFjVarUcPHiw6DKAEhi6mMTnn3++bf2lL32poEoAAACAftatmLP5+fk0m80kSbPZzNzcXMd/BwAAXzV0k2E7duzI2bNn19Y7d+4ssBoAAACgX6yf9upWzNnY2FhOnjyZZrOZarWa8fHxju4fAIB2QzcZ9u3f/u1t63e9610FVQIAAAAMo3q9npGRlbdkRkZGnOsGAKDLhm4y7Ld/+7fb1v/pP/2nfOu3fmtB1QAAANBL3Ton1Pr9dnLfDJ5arZaJiYmcOHEik5OTqdVqRZcE1+RqH/M83gHQL4auGfbiiy+2rc+fP19QJQAAABStG+eD6sW+Kb96vZ7FxUVTYQwMj3kA9LOha4bddNNNuXDhQtsaAACA4dCtc0JtNPnQrfNNMRhqtVoOHjxYdBmwKR7zACiboTtn2Fvf+ta29V133VVQJWzFmTNn8r73ve9VI/kAANBLjUYjhw4dSqPRKLoUAAAALmPommFPPPFE2/ozn/lMQZWwFUePHs2FCxdy9OjRoksBAGCITU9P5/Tp05mZmSm6FAAAAC5j6Jph99133xXX9L8zZ87k7NmzSZLFxUXTYQAAFKLRaGR2djatViunTp0yHQYAANCnhq4Z1mq1ii6BLVo/DWY6DOgHYrIAhs/09HSWl5eTJMvLy6bDAAAA+tTQNcMef/zxtvVjjz1WUCVs1upU2KrFxcWCKgH4KjFZAMNnfn4+zWYzSdJsNjM3N1dwRQAAAGxk6Jphd911V9v6bW97W0GVsFl33HFH2/qNb3xjQZUArBCTBTCcxsbGUq1WkyTVajXj4+MFVwQAAMBGtvXo9/xyku9Oci7JPRe3vSHJbyX5uiR/lWRPkheSVJL82yT/IMmLSX4gSfs41xY8+eSTbesnnniiU7umR0ZHR/Pss8+ure+8884CqwE6rdFo5MiRI9m/f39qtVrR5VyVjWKy9u3bV3BVAHRbvV7P7Oxsms1mRkZGMjU1VXRJAAAbOnbsWGZnZ9fWS0tLV3U6mUqlkhtvvLFt28TERPbu3dvxGgG6qVeTYb+S5DvXbfuJJH+QZPfF//7Exe3fdXHb7iQ/kuSRThZy4cKFK67pf3/xF39xxTVQbmWMGxSTBTCcarVaJiYmUqlUMjk5WZoPcQAAAAybXk2GnczKBNil6kneefHfv5rkRJIfv7j9I0laSR5NUkvypiR/3YlCrr/++vzt3/5t25pyGRsbyx/90R9leXk5IyMj4mhggKyPG5yamirFG4tjY2M5efJkms2mmCyAIVOv17O4uGgqDADoa3v37jXNBQy1XjXDNnJHvtrg+sLFdZLsTPLMJZf7/MVtHWmGvfLKK1dc0//q9XpOnTqV5eXlVKvVLb3xcOzYsSwsLKytz507lyTZvn172+VGR0c9YYAeKGvcoJgsgOFVq9Vy8ODBossAAIZEGU8tANAPimyGXap18eta/cjFryTJbbfd9po/sPom66Xrq/m5q3HddddddR39su9u1twtt912W970pjflmWeeyZve9KZ84zd+46b3ddNNN61dB0ny0ksvJUnbttXLbfU6KuN1XUZlvB92c99lO+4+8YlPtMUNPvroo3n/+9/fsf136/q47bbb8q53vSsf/ehH8x3f8R1belxar4zHXTeVseZucny0c320K+PfljJez2W1met6/XPkrf7+a72dHdO94fpoV8aa4UrKeB8v6/2wW3X/1m/9Vk6fPp3f+73fy/79+zu6b/rbddddl1fS7Ni+ynafYuvK+njaKUU2w57NV+MP35Tk3MXti0nuvORyb764bSO/ePErSVrPPffca/7SkZGRtobYyMhIrubnrsbLL7+cJB3bXy/23c2au6XRaOSv/3plUPDs2bP57Gc/u+lPwrz3ve9tWx8+fDhJ8oEPfOBVl93qdVTG67qMyng/7Oa+y3bc3X///W1xgw888EBHa+/m9fGe97wnTz31VN797neXpuayHR9JOWvuJsdHO9dHuzL+bSnj9VxWm7muV3+mU7//Wm9nx3RvuD7albFmuJIy3sfLej/sRt2NRiMf+9jH0mq18vu///t597vfbTpsiLz88supdHBfZbtPsXVlfTy9Fjt27Ljs94pshs0k+UdJHr743+lLtv/jJL+Z5P4kX06HIhKTZNu2bW3nDNu2rV+G47ha09PTabVWBglbrVZpYtSgzNZHiiYbx4puNVK0zHGDYrK4HDEmAABAJ5T11AIA/aBXnaDfSPLOJLdl5RxgH8pKE+x4kh9KcibJnouX/a9J/kGSzyZ5MckPdrKQSxthG63pf/Pz820xanNzc/7wQwGWlpY6vs9arZaJiYmcOHEik5OTGgcMhOnp6Zw+fdoLVQAAWGejD16ut/r91TSfyxmG8717Twxg83rVDPv+y2z/9g22tZL8WLcKueGGG9bOC7W6plzGxsbaYtTGx8eLLgkG3kYvKFZfiBw4cKCjv6ter2dxcbFUU2FwOY1GI7Ozs2m1Wjl16lSmpqY0eQEA4KKFhYX81dPP5PY37LrsZaqVG5Mk5788ctnLfPH5Mx2vrR95Twxg82QEDrBB/XRNmWPUOmH97bpRVF3SX7cZXAtxgwwSMSYAAHBlt79hV77vuz64pX385u/+ZJLlzhTUx4b9PTGArbj8RyoG1KVTYRutB8nCwkKe+dxTqXzp3GW/bmwt58bW8hUv88znnnrNplovrcaoVSoVMWpZiarrRlwdAFu3UYwJAADAZnhPDGDzhm4y7LrrrsvLL7/cth5ko7d+Tf7F5Nu3tI+HTv1JWh2qp1OGOUZt/bRXt6LqANg6MSYAAEAnDfN7YgBbMXSTYZc2wjZaUw6rMWo+AQNAP6vX6xkZWXm6JcYEAADYKu+JAWzO0DXDAKAbGo1GDh06lEajUXQp9JFarZZv/uZvTpJ8y7d8ixesAAAAAAUYupjE9SqVStElADAApqenc/r06czMzGTfvn1Fl0MfeeaZZ9r+CwAAZXPs2LHXPJ/86vdXT+dwOaOjo686BQQAdNvQTYZ927d9W9v6Xe96V0GVADAoGo1GZmdn02q1curUKdNhrDlz5kyeffbZJMkXvvCF13wDAQAA+tHCwkKefvqZ/M2XRy77NVK5MSOVG694maeffsZzYgAKMXSTYY8++mjbem5uzqdRANiS6enpLC8vJ0mWl5dNh5VUo9HIkSNHsn///o7FGR49evRV64ceeqgj+wYAgF66/Q278g+/+4Nb2sdv/85PJlnuTEEAPbJ+OvbcuXNJku3bt7ddzuRrfxu6ZtiLL77Ytj5//nxBlQAwKObn59NsNpMkzWYzc3NzmmEl1I2oy7Nnz7atFxcXO7JfAACgOGIjYbgtLS0VXQKbMHTNsBtuuCEvvfRS2xoAtmJsbCwnT55Ms9lMtVrN+Ph40SVxjdZHXU5NTXVkOmzHjh1tDbGdO3dueZ8AAECxFhYWcuZzz+SNr9912ctsy41JkpdeuPxZar7wwpmO1wZ03vqG9WqT+8CBA0WUwyYNXTMMuDwjv93hE2PXphtRdd1Wr9czOzubZrOZkZGRTE1NFV1S4cp2O3Yr6vLBBx/Mhz70obY1AADd43UtvfLG1+/KD37Hv9zSPj78+/86YiMBemPommGXToVttAa+yshvZywsLOTpzz2R26/QD1j9nNjfPP/EZS/zxUZn6+pX3Yiq67ZarZaJiYmcOHEik5OTpWj+dFvZbsduRV3u2rUr1Wo1zWYz27Zty+jo6Jb3CQDA1fO6FgBIhrAZdtNNN+XChQtta2CFkd/uub2WfO+3be0h9z/+4SsdqqZ/dSuqrhfq9XoWFxdNhaWct2O3oi7PnDmz1mR75ZVXsrCwoCEGANBFXtcCABsZumbY7t278+d//udr67vuuqvAagZb2SKygOJ1K6qu0zaKvlyNX3nkkUfWtg1r9EpZbsdLdSvq8ujRo69aP/TQQx3ZNwDARrwWBwB4taFrhj355JNt68985jMFVTL4yhaRBRSvW1F1vdBv8StFnquujLdjt6Iuz54927ZeXFzsyH4BAC7Ha3EAgFcbumbY6OhoW0Ns165dBVYzuMoYkQUUr1tRdZ22UWOo3+JXFhYW8tTnnsjr3nD5yyxXVv77xcblz1X3leev/XeX5XZcrxtRlzt27GhriO3cubNj+wYAWM9rcQCAjQ1dM2z9ZNgTT1z+DUA2r5MRWVeKI9u+ffvatmGNIxsmRU660Bv1ej2nTp1Kko5G1Q2r170heeC7Klvax6O/27rmn+lW5GAZPfjgg/nQhz7UtgYA6JYyxlUDAPTCSNEFMJg2isjqpKWlpb6LJKP7FhYW8lefeyIXnn/ysl/bciHbcuGKl/mrzz3xmk01ilGr1daa3Nu3b/cp1pJajRysVCodjRzstksjhTpl165d2bFjR5KVqbDR0dGO7RsAYL1uvxYHACiroZsMozc6GZFVhjgyeueOWiX/8zu39tD1ayde6VA1dFqj0Vib/Hz22WfTaDRK00ihXTciB7upm5FCDz74YB5++GFTYQBA15U1rhoAoNtMhtEV9Xo9IyMrh9ewR2QBV296ejqt1kosX6vV6uiEDr1Vq9Vy8ODB0jQzN4oU6pRdu3blkUceMRUGAHRdmV+LNxqNHDp0KI1Go+hSAIABpBlGV5Q1IgsollgXiuLYAwAGQZlfi3cjshoAYJVmGF1Tr9eze/fuUn0SDSjW2NhYqtVqkoh1oaccewDAoCjja/H1kdWmwwCAThu6Zthb3vKWtvXXf/3XF1QJAOuVOdaFcuvmsXfmzJm8733vy8LCQsf2CQBwOWWLq066G1kNAJAMYTPsr//6r9vWZ8+eLaiSwSfiALhWZY51ody6eewdPXo0Fy5cyNGjRzu2TwCAQSKyGgDotm1FF9Br9957b9uTqvvuu++qfu7YsWOv+Ynu1e8fPnz4ipcbHR3N3r17r+r3ltX6iIOpqSlvagNXpV6vZ3Fx0VQYPdeNY+/MmTNrH7xZXFzMwsJCRkdHO7Z/AIBBMDY2lpMnT6bZbIqsBoBN0L94bUPXDKtUKpv6uYWFhTzzuc9l162Xb+jc2Fr578iXnr/sZc58eThyrzeKONi3b1/BVQHQK41GI0eOHMn+/ftL82GI1UihTlo/DXb06NE89NBDHf0dAABlV6/XMzs7m2azKS4dADZhYWEhzzz1dEZvvf2yl7mxtRIUWHnuby6/ny9/seO19Yuha4Y99thjr1r/8A//8FX97K5ba/mX/8O3b+n3/+uTf5DlLe2hHDaKONAMA67GpRGrHjfKy+24Yn0c8+LiYkGVAAD0r9XI6hMnTohLB4BNGr319vzLv/e9W9rHv/7j/5hWh+rpN0N3zrC77rqrbf22t72toEoGm+sZ2Iz1EauNxnBM0w4at+NX7dixo229c+fOgioBAOhv9Xo9u3fvNhUGAHTF0E2GPfnkk23rJ554oqBKBpvrGdgMEauDwe34VQ8++GA+9KEPta0BAHi1bkRW0znnzp3L+b95Kb/9Oz+5pf188Utn8uJLN3SoKgC4ekM3GXbhwoUrrukM1zOwGRtFrFI+Zb0dG41GDh061NFJtl27dq1Nh+3cuTOjo6Md2zcAAAAAV2foJsNuvvnmvPjii2vrW265pcBqBpfrGdiMsbGxnDhxIq1WK5VKJePj40WXxCaMjY3l5MmTaTabqVarpbkdu3WeswcffDAPP/ywqTAAAEpr+/bt+ZsbRvIPv/uDW9rPb//OT+bv3LrcoaoA4OpdUzNsz5491yf5gSTfkuTvXPq948ePlyL/6IEHHsgf/uEfrq3L8gZd2ezfvz8/8zM/07YGeC3vfOc78/GPfzxJ0mq18s53vrPYgtiUer2e2dnZNJvNjIyMlOK8D+vPczY1NdWxE7fv2rUrjzzySEf2BQAAAMC1u9aYxF9N8k+T/PckT637KoVLG2FJ8rGPfaygSgbbPffck5tvvjnJylTY3XffXXBFQBmcOHHiimvKoVar5e1vf3uS5B3veEfHmkrdtNF5zjqlG/GLAAAAAFy9a41J/M4kbzl+/PjAvJvTarWKLmFg7d+/Pz/7sz9rKgy4avPz823rubm5jsbV0TuVSqXoEq7JRuc569Sx1634RQAAAACuzrVOhi0kuaEbhTB47rnnnnz4wx82FQZctbGxsVSr1SQp1bmmaNdoNPLJT34ySfLJT36yFBNR3Tr21scvluG6AAAAABg019oM+0iS6T179nz/nj17vu3Sr24UB8BwqdfraxNFlUqlFOea4tW6GTnYLfV6PSMjK0+LOnmes+np6baJszJcFwAAAACD5lpjEv/xxf8eWre9leTrt14OAMOsVqtl+/btOXv2bO64445SnGuKV+tm5GC31Gq1TExM5MSJE5mcnOzYsTc/P9/WGCzDdQEAAL1y7ty5nP+bl/Kbv/uTW9vPl87klpeEWQFwedfUDDt+/PhbulUIADQajZw7dy7JyouiRqOhIVZCY2NjOXnyZJrNZqniLuv1ehYXFzs6kXjvvfdmbm5ubX3fffd1bN8AAAAAXJ1rnQzLnj17rkvyQJIdx48f/609e/bckiTHjx8/3+niABgu09PTabVaSb4ar2eKpnzq9XpmZ2fTbDY7GjnYbbVaLQcPHuzoPldjPwFey7Fjx7KwsNC2bfUDItu3b1/bNjo6mr179/a0NgDolu3bt+f8DSP5vu/64Jb285u/+5O55dblDlUFwCC6pnOG7dmz55uSPJnkl5L8h4ub/36SX+5wXQAMoY3i9Sif1cjBSqXS0cjBMnrssceuuAa4kqWlpSwtLRVdBgAAQOld62TYI0n+1fHjx39tz549L1zc9kdZaY4BwJbcdddd+bM/+7O19dve9rYCq2EruhE5WEZljYwEem+jaa/Dhw8nSQ4cONDrcgAAAAbKtTbD7k7yf138dytZiUfcs2fPTR2tChgoYn+4Wk8++WTb+oknniioEraqG5GDZVSv13Pq1KkkK5GJw94cBAAArs3691Q2ej8l8Z4KwGu5ppjEJH+VpO3M73v27HlHks92qiBgOIj9YSMXLly44hrKplar5frrr0+S3HDDDUMdGQkAAGyd91MANudaJ8M+mOS/7Nmz5xeSXL9nz54DSX40yQ93vDJgYIj94WrdfPPNefHFF9fWt9xyS4HVwNadOXNm7Zg+f/58FhYWMjo6WnBVwCDbaCJ/I6uXWX1Odjk+ZQ4AxVr/d9j7KQCbc03NsOPHj//Onj17vjMrza8/SrIryXuPHz/ubPAMtat508EbDrByX5mdnW3btrS0lFarteHlz58/nx/4gR9IshIxd+ONN7Z9f2Jiwv2Fvnb06NFXrR966KGCqgGGwcLCQp54+nOpfO0brni5VqWSJHnyK43LX+ZLz3e0NgAAgKJc62RYjh8//v8l2d+FWqC0FhYWsvDUE3nzrZdPHr2htZwkWX7u9GUv8/kvL3e8NgCKc/bs2bb14uJiQZUAw6TytW/Idd/znVvez8v/+aMdqAYAAKB4r9kM27Nnz/92NTs6fvz4v9p6OVBeb751JP/0792wpX38H3/8Uoeqgf60d+/eK05yNRqNvP/978/y8nJGRkbycz/3c86xRKndfvvt+eIXv9i2BgAAAKC3Lj/G8lV3XsXXm7tVIADDY3p6OpWLsU2VSiUzMzMFVwQAAAAAlN1rToYdP378B69lh3v27Pn+48eP/8bmSwJgWM3Pz6fZbCZJms1m5ubmsm/fvoKrgs27dCpsozUAAAAA3Xc1k2HX6uhrXwQAXm1sbCzVajVJUq1WMz4+XnBFsDU7duxoW+/cubOgSgAAAACG12tOhm1CpQv7pIQajUaOHDmS/fv3O+cPcFXq9XpmZ2fTbDYzMjKSqampokuCa3bs2LEsLCwkSa677rq2723bti2HDx9OkoyOjl7xHHoMpkuPjyQ5d+5ckmT79u1tl3N8AADAq3k+DWxWN5phrS7skxKanp7O6dOnMzMzI+YMuCq1Wi0TExM5ceJEJicnNdIpvRtvvHHt39dff33bGpJkaWmp6BIAAKC0PJ+m09Y3XDey+v3VD7tejqbs/8/e3QfHcd93nv/MACDBBwwGHLApkcZAucpT1TrZ+OzEJk26vLHXTjYmYJeT2Vy4ZtabsxnzNhufc3FMShtdIlJkVLsVZVOmItVuqWIVfTYcrzSgfY5kyaYJCBRXkn3lsjcmaZJCUyDFJoaYweBhQGBm7o8GKAJCD2bQPejpmferCgUO+jdffNnoeepv/76/2lKNYhigdDqtwcFBFYtFDQwMqKenh5PaAMrS29urkZERZoUhsJa+0X3wwQdlmqYeeOABxeNxn7JCrVh6fCx8eDp06JAf6QAAAACBwvtpVJtpmrp66TXFI9scx7QW7LJK6Oa0c5zxG57nBncohqEqksmkCoWCJKlQKDA7DEDZotGoDh8+7HcagGdaW1v18z//8xTCAAAAAAAIgHhkm+7f9QlXMY4OPUULvRoTrkLM0nMI3+r/lPRjST+S9P9IapX0M5LOSfqppK9KWudlgqi+s2fPKp/PS5Ly+byGhoZ8zghAUKTTaT388MNKp9N+pwIAAAAAAACgDlRUDEskEvsTicQvL/nZP08kEnfKpH19fW+vIOQOSf9B0rskvV1Sk6TflfRXkv5a0s9KGpP0B5XkCf/t3Llz0e1du3b5lAmAoLl7vUEAAAAAAAAAcKvSmWEPSbq65GdXJR1xkUOzpA3z3zdKui7p1yX9w/z2v5f0URfxF9m4ceOi25s2bfIqNO7yzne+s+RtAFjO0vUGmR0GAAAAAAAAwK1Ki2ERSeNLfpaRFF3l7x+R9J9kt1a8Ph/rVUlpSXPzY16XPYPME1NTU4tuT05OehUad/nyl79c8jYALCeZTC5qscrsMAAAAAAAAABuNVc4/n9K+rikvrt+9jFJ/7TK398hqVf2GmFpSV+T9BsV3P/T81+SpM7OzlUlUc79WlpalF9V9OVjVZprS0uLpMr+jy0tLXcqim5VmvO1a9cW3R4ZGVn138cpH2n1f3Ov47a0tGjGwxwq/TtL3u+LWozd0tKiaQ9//1o8Du++nxfq/fg4d+6cCoWCJKlQKOill17S5z73Oc/iB21/uInr53FXTdX8G1ZLEI+7aseuliDuD3Jeu9hBtNr3S17nsPD7/X5t4ZheG+yPxYKYMxbjb7iYu88X3pwZe+tri/dxq80+D+RP3hzTizXS/rDP9Qbv8RI09n725gzkWj8v+VULCIpKi2F/Jun/TSQS/1rSJdlren1A0r9a5e//oKQrkm7O3/7vkt4re6ZZs+zZYW+TPYNsOU/Mf0lScXR0dFVJlHO/2dnZiqfRlYpVaa6zs7OSysv1fGJ8oAAAIABJREFU7vuEKvotpWNV8rs3bNig6enpRbdX+/dxykeqbH9UM+7C/bzKodK/s+T9vqjF2H7u57t/P8dH9WL/yq/8ioaGhu7cfsc73hGI545qxg7icVdN1fwbVksQj7tqx16NkydPyjTNkmMWtv/Jn/xJyXHxeFz79u2r6PfX2mPcz9hBzDmo/H6/tBBv4ff7/drCMb022B+LBTFnLMbfcDF3ny+8OTP21tcW7+NWm595c0wv1kj7w89zvY0kqPs5qHl7bfv27Y7bKiqG9fX1DSYSiV+S9L9J6pL0PyT9cV9f39J1xMplSnqP7LXCpmUX1l6R9F1Jvy3pK5J+X1JylfHhk7sLYcvdBoDlhEJevWwDqDemaer8lYtS5wbnQWH7g/D57OvOY0Z5TwIAAAAAQKOpdGaY+vr6hiUdl6REIrFBUsHF7z8n6R8kfV/2LLAfyJ7p9U3ZhbAj8z/7by5+BwAgIF599dW33P7Upz7lUzYAak7nBjV/9OdchZh75qJHyQAAAADeqqQbwrFjx0qOW003BACoZxXN500kEv8pkUj82vy/f0vSLUljiURir4scHpT0i5LeLukTkmYkXZb0a7LbMP7O/M8AAHXu7W9/+6Lbv/RLv+RTJgAAAAAArC3TNDV8+apu3wo5frWoVS1qLTlm+PLVFYtqANBoKp0Ztk/Sn8//+88l/RtJGUl/LemUh3kh4MLhsAqFNycNNjU1+ZgNgKB4/fXFrc2uXl1tF14AAAAAAILn3mhcB379AVcxHv/OEUlFbxICgDpRaTFsY19f31QikYhJ+l/6+vq+LkmJRKLb+9QQZHcXwiQpn8/7lAmAIHnjjTdK3kb5LMtSdkJ66VvuPgCN35KKty2PsgIAAACA4LMsS1MTM3ry20dcxbk+NqyNs+s9ygoAUEpFbRIlXUgkEvsk/XtJ35akRCLRKYmVyLHIhg0bSt4GgOVs37590e0dO3b4lAkAAAAAAACAelHpzLCDkv5G0qykfzf/sw9Les7LpLy0dOHJaDSqdDp953ZHR4eOHTvGopIe+7mf+zn98Ic/vHP7F37hF3zMBkBQHDhwQA8++OCi21gdwzAUWjem9/xmyFWcl75V1Nao4VFWAIAgsyxLxckJzZ76pqs4xVRKVo5loQEAwWUYhmZawvrkv3TXzvDJbx/R+o7CygMBAK5VVAzr6+t7WdKuJT87Kemkl0lV07Zt2xYVwwyDE3zVcOHChUW3f/KTn/iUCYAg6e7u1vbt23Xt2jXt2LFD8Xjc75QAAAAAAAAABFylM8OUSCT+paTflWT09fXtTSQS75IU6evr+47n2Xlgudlen/3sZ5VOp7V37159/OMf9yGr+rdz505997vfvXN7165dJUYDwJsOHDig48ePMysMAIAaYxiG0uPr1bL3t1zFmT31TRmRdo+yAgAAAICVVVQMSyQSfyTpjyX9V0m/Pf/jaUn/RUtmjNWybdu2adu2bRTCPLS0HeXc3Nydf4dCIQ0PD+vYsWOSREtKACV1d3frscce8zsNAAAAAAAAAHUiXOH4z0r6YF9f33FJCw1tfyKJBaGwSHNzs5qamiRJkUhEzc0VT0IEAAAAAAAAAABwrdIKRZukq/P/Ls5/b5F027OMEEjLzfR66KGHdO3aNf3FX/yFotGoD1kBAAAAAAAAAIBGV2kx7IykL0g6etfP/oOk7y4/HI2sublZ8XicQhgA1LmlrXIlybIsSfb6MgtqqU1uEHMGAMCt5V7/llrYvtDm3gmvkagFHNOoBJ8BAKCxVVoM+yNJpxKJxKcktSUSifOSspI+4nlmAAAgsHK5nN8pVCyIOQMAUAnTNHX+ymsKxwzHMYWQ3e7+4viU85iU5XluwGqYpqlLV66qrTPuOKYQbpUkWdmQ45jsaOmCGuoXnwEAoHFUVAzr6+u7nkgkflXSr0mKy26Z+D/6+voKpe8JAADq1XJXTS5ceXvo0KG1TqcsQcwZAAAvhGOGWvf+nqsYuVNf9igbwL22zrje1XvYVYxXkg/rzdVAUK/4DAAAja3SmWHq6+srSjo3/wUAAICAoaUQAAAAasXNW8P6yrcectyeHn9DkhSN3FMyxqb2Ls9zW2uWZWl6IqfHv3PEVZzr6WFtmGv1KCsAqA8rFsMSicRVlXF5TF9fn/OcdAAAANQMu03WeamzyXlQ2J74fz77U+cxo3mPMwMAAEAjiccXTic6N51KZexWhpvancdsau+6KxYAAG9Vzsywf3PXv39V0u9L+i+ShiV1S/r3kr7kfWoAAAComs4mNX2szVWI/NNZj5IBAABAIyqnw0AjtTI0DEO3m0M68OsPuIrz+HeOaN0WWn8CwN1WLIb19fV9b+HfiUTii5I+3NfXN3LXz74l6R8l/eeqZAgAAAAAAACgJFphAwDgrNI1w7ZLmljyswlJO7xJB6ge3hSiFI4PAAAAAECQmaapK1euKhbrdhwTCtnrSI2Phx3HpFLDnucGAIDfKi2G9UvqTyQSRyS9LqlL0uH5nwM1zTRNmZcuqKvdeX2U9UV77ZPi6CXHMVczrI9Sj0zT1GuXz8uIOo9ZOHKmbp13HGOlvc0LAAAAAIByxWLd2tvzH13FONX/kEqt4QUAQBBVWgz7Q0kPSvo72bPErknqk/SXHucFVEVXe5M+v6vdVYxHhjIeZYNaY0Sl3/0XlT4tLvaV7855lA0AAAAAAAAAwAuVnvXdKemJvr6+Q4lE4l5JfyXpHkntkqa9Tg4AAAAAAOBuS1ucW5YlSTIMY9E42pcDAABggXOD4OWdkLTQI+4/yy6mFSQ94WVSAAAAAAAA5cjlcsrlcn6nAQAAgBpW6cywHX19fWYikWiW9BuS4pJuy26XCAAAAAAAUFVLZ3sdO3ZMknTo0CE/0gEAAEAAVFoMG08kEtskvV3Sj/v6+iYSicQ6SS3ep9Y4lrZ4WM7C9oU3+U5oAwEAAAAgaPhMBDSW5R7zy7W75PEMAEB5LMtSLjupIy9+zVWc4cxNtRamPMqqtlRaDPtbSS9LWifps/M/e6+kn3iZVKMxTVNXL19Sd3u745jWYlGSFE6NOo4ZzmQ8zw0AAAAAqs00TZ2/ckWhWMxxTDEUkiRdGB93HpNKeZ4bgLVBq0sAAFBNFRXD+vr6/iqRSDwtKd/X13dp/scjkv53zzNrMN3t7XrgfXtcxThyZkAFj/IBAAAAUD3MhHqrUCymlr17XcWYPXXKo2wAVNNyz1m0uwQAYPUMw1AoPKEH3vs7ruIcefFrKnZu9iir2lLpzDD19fVdKHUbQDBwAgb1JojHdBBzBgB4w54JdVmhWIfjmKI9EUoXxsecx6SctwFoDEvfUy7XblDi/SIA/6TTaZ04cUIHDx5UNBr1Ox0ADariYhiA+mCapoYvn9e97SHHMS3z7Tlvp5xr3tczRc9zA1bDNE1dvnxeHc7nFO8YGztfYpuHSa3ANE1dunxe7VucxyycCB1NO+ecueVxYgCANRGKdail50OuYsz2P+dRNgDqBe0GgWC7njb1+HeOOG5PTdyQJMU2bysZo3tLl+e5rVYymdTFixfV39+v/fv3+50OgAZFMQxoYPe2h/Tp961zFeOJM7c9ygZwr6ND+uAH3cV4/nlvcilX+xZpz4edi9LlGHiWojQAAECjWjrbi3aDQHDF4/H5fzl/xpudsAve67Y4j+ne0nVXLH+l02kNDg6qWCxqYGBAPT09zA4D4AuKYQAAAAAAAEAJy7U4X64lJe0o4UY5x07QCt7JZFKFQkGSVCgUmB0GwDdhvxMAAAAAAAAAgiaXy9GWEljB2bNnlc/nJUn5fF5DQ0M+ZwSgUTEzDAACarkrE5da2L5w5ZgTrl4EAACAG7w3Rb1b7pgM2gwdwA87d+7UmTNnlM/n1dTUpF27dvmdEoAGRTEMAKrMsixNTkhf+86cqzg309LUnHXntmmaunL5vDpLtNpemP6bvXXeccxo2lVaAAAADYniz2Kmaer8ldcUjm1zHFMI2acgLo5PO49J3fA8N6wObQHXztJ9vdx+ltjXCKbe3l4NDg4qn88rHA6rp6fH75QANCiKYQAQYJ1R6WMfaHIV4+kX8h5lAwAA0Djs4s8VhWJbHccUQ/alSRfGJ5zHpG56nptfwrFt2tDjbh2Y6f4veZRNffK7CEtLwLXBfkY9iUaj2r17t06fPq09e/YoGi1xRS8AVBHFMACoMsMwNNE8pt/5dXdPuV/7zpw2bzFWHggAAIA1EYpt1fq9H3cVY+bU1z3KBpXyu7C0GqZp6sIVU02xtzmOyYfWS5IujRecx6ReX/F30RZw7Szd1+xn1Jve3l6NjIwwKwyBYFmWctkpHR16ylWc4fEbai1u9CgreIFiWJksy9JMdkJHzrzgKs5wOq31eXet0mpBED80VJP9JFnQoy/OuIrzeqag1oK18kAAAAAAgCv27L5hNcXudRxTCLVIkn46fttxTD513fPcSmmKvU1tvZ91FSObfNSjbOoX5z2Cj79h7YhGozp8+LDfaQBocBTDsCqmaerq5Z8q3r7JcUxr0W69FirxwcDMTHqeGwAAAAAA5WiK3atNPZ92FWOy/wmPskEtMU1Tl69cVXss7jimGGqVJKXGQ45jMqnSxRhUj2maeu3yVW3b0u04pnn+bzidDjuOuXFr2PPcANQuwzAUCk3r/l2fcBXn6NBTKm7d4FFW8ALFsDIZhqFwU7MeeN8HXMU5cuYFFWJbPMrKX/H2TTq85+2uYjw88CMVPcrHT4ZhqBDO6LPvXe8qzqMvzijcSRs8AI2JKzcBAABQS9pjce3pvd9VjIHkUakuznwE07Yt3frEhx9wFeOpZ49Icm47CgAIBophQIOyLEvT2aKeOOPc7qMc19NFbcjT2hGAe6Zp6qdXzmtTiWtG8vMX3V7PnHccM3nL48QAeIKCNwAAAADALxTDAABAzdi0Rfrl33JuM1OOH36TK2+BWmSvzXNJoVi745hiyH78XhgfdR6TyniemxvpdFonTpzQwYMHFY1G/U4HAAAAALAMimFAgzIMQ7eb0vr0+9a5ivPEmdtaF6O1IwAAWFko1q7m3j2uYswlBzzKxhvJZFIXL15Uf3+/9u/f73c6AAAAAIBlOK8OCQAAAABwlE6nNTg4qGKxqIGBAaXTab9TAgAAAAAsg5lhAIC3YF0XAABWlkwmVSgUJEmFQoHZYQAAAABQoyiGAQDewjRNXbl8XrEO5zELqzqNj513HJMa8zYvoJFQlAZq39mzZ5XP5yVJ+XxeQ0NDFMNqDM+lAAAAACSKYQAAB7EO6SMfcNdN9xsvFDzKBmg8pmnqwpXzaup0HpOff4heyjoXpfOjHicG4I6dO3fqzJkzyufzampq0q5du/xOCUuYpqnzV64oFHN+Mi2G7CfTC+NZ5zEpnkwBAACAIKMYhlWxLEu57KQeHviRqzjD6Um15i2PsgIAoL40dUrRj7orSqefoSiN8jGLpjK9vb0aHBxUPp9XOBxWT0+P3ylhGaFYp9bt/airGLdPPeNRNgAanZevtVJjvN4CAOAFimEAAAAAJC3MormkUCziOKYYsgusF8ZvOo9JjXueWy2KRqPavXu3Tp8+rT179igajfqdEgCgxpmmqctXrqoj1u08KNQqSRobL31R1Fhq2MvUAACoaxTDsCqGYSjUlNfhPW93FefhgR+pGDM8ygoAAABuhWIRNfe6a/c3lxzyKJva19vbq5GREWaFAQDK1hHr1od6H3Ad57nkEUl0AQAAoBwUw1BzaM8DAACAoIhGozp8+LDfaQAAAAAASqAYhppjmqbMSxcVb291HNNanLX/MXrVOU4m53VqAAAAAAAAAAAgYCiGoSbF21t1aPd9rmIcG3zNk1wAAAAAAAAAAEBwUQyrY5ZlKZfN6ujAy67iDKezas17lFQZ7LxzrotZZian1oLlTVI++fM//3PdvOm8OL0kzczMSJI+85nPrBhv69at+su//EtPcgMAoB6U055ZokUzAKzEsiwVJqc03f8lV3EKqRuychs9ygpAEC19f+b0PqxR3nexPwDAGxTDgBqWzWaVm57W+hKP1FDR/l6cnS4Za2bOjgcAAN5kmqbOX/mp1Lmp9MCwfWXQ+ex15zGjkx5mBgAAAElqbXVeRqMRsT8AYHUohtUxwzAUapLu3/OrruIcHXhZxZjhUVYrMwxDCs940yaxc+3yrgbDMLQlnNb/sWe961hfHJhRc8D3BwAAVdG5Sc29/8x1mLnkjz1IBgCCyTAMZcantaFnv6s40/1fkhHZ4FFWAIKI2U2LsT8AwBsUw7BqZmZSDw/8yHH7jYmcJGnbZucrVszMpLpinqfmi9czBT364ozj9puTBUnS1k3hkjHinZ6nVjcsy9LURFFPnZ5zFedGuqiNc8FuoQkAQZVOp3XixAkdPHhQ0WjU73QCq5z2jrR2BAAAXrp5a1hf/8ZDjtvT429IkqKRe0rG2Nze5XluAACspBaKYVFJ/1XS2yUVJf07SeclfVXSfZJek5SQNOZPelhOPB6XZP/BnOQm7RMwxdi9jmO6Ym/GCrJy/g8zU/b+CHc6j4131sf+AADASTKZ1MWLF9Xf36/9+93NHmhkdnvHSwrF2hzHFEP2hTgXxp0vACmmaKEMAABW9ua5ioLjmFsZ+6Loze3OYza3d3HeAwDgi1oohv2NpH+U9NuS1knaKOmwpBckHZf0hfmvP/MrQbxVOVcPL1yFfOjQoWqn4zv2x9owDEPTzWl94v3unrqeOj2nDVtoGQkAay2dTmtwcFDFYlEDAwPq6elhdpgLoVibmnvdtcOeS77sUTYAgLVgWZbmJnPKJh91FWcu9bqsHOsOoXyc9wAABJ3fxbB2Se+T9G/nb9+e/+qV9P75n/29pNOiGAYAABBoyWRShYJ9pXChUGB2GFAFlmWpODmh2VP/6DpWMXVLVu62B1kBAAAAgL/8Lob9jKSbkp6U9M8lvSrpjyVtk3R9fswb87eX8+n5L0lSZ2d5iy21tLRUNH7hPvmyR68c6+7fXa3YLS0tcrey0vJxK7mPVNl+XrjfbEX3KB3r7v3h1Uf5tdofXv4NF+IFfX9MV/RbSsda+jj0ylrFDmLO1eR3zqs9pr1Sa3/DWtsflfx+r49XN6+HXuZQC8fHuXPnlM/b73ry+bxeeuklfe5znyv793ilWs+lS2OXO16qneOjHo+7WlWt/REOO69PuxrhcDjQx0cQc66m6u8Pb96tr+1zqTefitbqb7hjxw5lUzNq6/2sqzjZ5KPaEVtfM++XVhvbvo83n5qXP6a9j23H9eosUPVi19L76dWyzyFUZ3+0tLRoxsd9jTfV2nFXTfZ5Qo67arP3sz/vadz+Lj9rAUHgdzGsWdL/KumPJJ2T3TLxC0vGFOW8NNUT81+SVBwdHS3rl87O2qWWcscv3Merj5Wzs7OLfne1Ys/OzipUhbiV3EeqbD/ffT8vLN0f1YhbyX2kyo87L7E/Fsda+jgMWuwg5lxNfufcSMd0ufeRamd/VPL7vT5ea+31sNqxS3n3u9+tM2fOKJ/Pq6mpSe95z3vKvm8QnkuXxi53vFQ7x0c9Hne1qlr7o7OzU7fWNatl72+4j3vqH9UZiQb6+AhiztVUr/uj1p5Lq8nvnKv1fmm1se37eHPmY/lj2vvYIyMjmpic0XPJI67jjqWGNZtbv+Q5z5szTLV2fKxGNffH7Oys3hi7qie/7fx3TGXfkCTF2u5xHPPG2LC6O7pqZp8FUa0dd9Xk97neRhHU/RzUvL22fft2x21+F8Nen/86N3/7H2QXw25Iulf27LB7JTmv+g0AAIBA6O3t1eDgoPL5vMLhsHp6evxOCQAAYFmWZSk7mdNA8qirOOnUsPKsz+YLy7I0NTGjp551V3i8cWtYG2+vX/SzeDw+/6+C4/3msjlJ0voO5zHdHV13xUI9OHnypAYHBxf9LJfLqVh0muvxplAopNbWN58vdu/eXdZ6fQDK43cx7A1JVyX9gqTzkj4g6X/Of/2+pOPz35N+JQgAAABvRKNR7d69W6dPn9aePXsUjUb9TgkAAGBNGYahlvGwPtT7gOtYzyWPqCPiXGhB9ZRToDh27Jgk6dChQ9VOBwBQBr+LYZLdIvGkpHWSLkv6pOw5zH2S/kDSsKSEb9ndZTiT1pEzLzhuf2NiQpJ0z+bNJWN0xbZ4nhsAAEAQ9Pb2amRkhFlhAACgphmGoabxkPb03u8qzkDyqGKRlWeEwHuGYWh6XVif+LC7wuNTzx7RhihFR5Rn3759zOYCalQtFMP+P0nvWubnH1jrREpZmLJc6qUvN2kXwwolil1dsS1MfwYABNrJkydlmmbJMQvbF66GdBKPx/mg0GCi0agOHz7sdxoAAAAAAKCB1EIxLBCY/gyUjxPlQH0zTVOXrpzX5hITnfPzq7beyJx3HDNxy+PEAAAAAAAAgGVQDAPgOdM0NXz5vO5pDzmOaZ5fOHQmdcFxzBsZWkkAbozfkl76lvPjaDJrf9/UVjrG1mWWddq8RXrXbzo/xsvxSoncAAAAAAAAAK9QDANQFfe0h/TJ97e4ivHk6VmPsgEaTzkteafH7RmaW6POY7dGy4sFAAAAAAAA1CqKYQAA1CHa+wIAANSnfOp1ZZOPOm/P3JQkNbVvLRlDkeBf8GRZlrKTOb2SfNhVnOzosDTd6lFWAACgFlEMAwAAAAAACIByZuyb6Rl7bCTsPCgSZ/Y/AABoKBTDAAAAAABATTp58qRM0yw5ZmH7wqz3UuLxeFkz6GsVs/8XMwxDyob0rt7DruK8knxYRhvr2QIAUM8ohgEAAAAAgJpkmqbOXxlWOHaP45hCyD61cXF8pmSsQuoNT3OrFUsLhk7FwaAXAgEAANygGAYAAABUgZezGTiBCaCRhWP3aGPPJ13Hmep/0oNsal9rK2tfAQAALEUxDAAAAKgCezbDT6XOzc6DwnlJ0vlsidkKoxMeZwYAqCdcLBE8Y6lhPZc84rg9m7HfF7S1O8+IXIjTEenyNDcAAOoVxTA0DMuylMvO6ZGhjKs4VzNzai1YHmUFAAgyZv5gRZ2b1dz7Dlch5pI/8CgZ1BLLslScnNBs/3Ou4hRTY7Jysx5lhXpnWZYKk1PKnfqyqziFlCUrt9GjrPxjWZbyk9Oa7H/CVZx86rqs3AaPskK9i8fj8/8qOI7JpnOSpI6I8xh7e9dd8QDUO/vc5rQePve3ruIMZ19Xq3jdQuOhGAYAALBKpmnq4pXzWh9zHnM7ND92/LzjmJmUx4kBAACgJpVz8dPCRVSHDh2qdjoAADQMimFoGIZhqBjO6vO72l3FeWQoo1Cn4VFWAICgWx+TunrDrmJcTZa+6hdA/TEMQ+nxFrX0fMhVnNn+52REOjzKCvXOMAxlxqfUuvf3XMXJnfqyjEjwZ4YZhqHx8dva1PNpV3Em+5+QEVnnUVYAACzPMAyFlNfhd/+RqzgPn/tbFY0mj7ICgoNiGAAAQIOxLEuazCv/dNZdoNG8rGlaBwMAAAAAgNrm7jJmAAAAAAAAAAAAoIYxMwwAAKDBGIahsey4mj7W5ipO/umsjDZaBwMAAAAA6oc5fkNHh55y3H5jckyStG2Tc7tyc/yGurbe53VqcIFiGAAAAAAAAAAAaHjxeFySVCwxJjd90x6zdYPjmK6t992JhdpAMQwAAAAAAAAAADS8ffv2rTjm2LFjkqRDhw5VOx14iGIYAAAAAAAAqubkyZMyTbPkmIXtCycYncTj8bJOVAJYG8s9vi3LUi6XW/G+ra2tMow3267z+AZQTRTD4InlXviGh4c1MzOjhx56SM3Nbx5qvLChFlmWpakJ6SvfnXMXJy1tnLM8ygpoLJZlaXJC+uE3SzUjWNlkSrJmeBwCAADUCtM09dMrpjZ2OreLmgu3SpKuZZ3jTI2WLqgBWHumacq8dFVva3/z8V2cllTG6ZViUSqMhiRJr2d4fJfDzI7o4XN/67j9xpTdvm/bxq0lY3QZtO/D6i2tBViWfQ7m7uK2VHt1AIphqJpCoaBisajR0VHdc889fqcDAAAAAAB8srEzrl/s/YKrGD9JHvcoGwBeelt7XJ997/2uYjz64lGVXqUJZa1lZd62xxhNjmO6jDhrWcFT5cwErQUUw+CJpRXedDqtP/3TP5UkTU1N6TOf+Yyi0agfqQFlMQxDU81j+t1/4e5p8SvfndPGLcbKAwG8hWEYyq8f0y//VshVnB9+syijncchAAAAAKB+sJYVVmJmburIi19z3H5jMi1J2rbJ+Ty9mbmprs7NJX/P0mMxKMcdxTBURTKZVKFQkGTPEOvv79f+/ft9zgoAAABALbIsS8XJSc2eOuUqTjGVkhWQK1MBYMHSdlNO66fVWrspAEDtKGvm4NQte0yJYldX5+a6nTlIMQxVcfbsWeXzeUlSPp/X0NAQxTAAAAAAAIAVtLa2+p0CACBgmDm4MophqIqdO3fqzJkzyufzampq0q5du/xOCQBWbemVmstxunpzKa7mBADgrQzDUHp8XC1797qKM3vqlIxIxKOsAGBt8Pmgem7cGtZTzx5x3D6WfUOS1NHmvNb9jVvDui/a5XluAIC1RTEMVdHb26vBwUHl83mFw2H19PT4nRKACliWpckJ6RsvFFzFSY1JuVnLo6z8Y5qmLl8+r2jHymNvjZ133JYeW3zbsixlJ6SBZ90tEpy5JRVuB38/AwAAAIBX3mzz5fy59ua43Vp3Q9R5zH3RrrptGQYAjYRiGKoiGo1q9+7dOn36tPbs2aNo1HlRPvjneqaoJ87cdtyemrBP0Mc2h0rG6I55nhpQc6Id0vs/5PxYKMfp59wVvQAAAAAA5aFlGADgbhTDUDW9vb0aGRlhVliNKueqptlJu+3bupjz2O5YebEQLIZhaLxlTB/5QNhVnG+8UFCkw/Aoq/pjGIbC68a058PuimwDzxbVGWU/AwAAAAAAAMuhGIaqiUajOnzJRLFmAAAgAElEQVT4sN9pwAFXSAEAAAAAAAAAGgHFMAAAUPdOnjwp0zRLjlnYvnAhgJN4PM4i5z6wLEuanNbcMxfdBRqdljXNGnvAahVTtzR76pvO2zPjkqRQe6RkDEXaPc8NAADUFz7HAfASxTAAAFARy7KUnZBe+Za7NdCyKSk0szZFCdM09dMr57WhxBqHc/PdKkfGzzuOmU55nBgABEg5rbHNdMYeW6rYFWmnzTYAAFiRaZoyL11VV5vz+4b1hVZJUtFyXn7garZ0QQ1AY6AYBgAAGsKGmPTzH3G3Dt6FbxQ8ygaVMgxDY9nbav7oz7mKM/fMRRltrLEHrAZttgEAwFrraovr8+92twzLI+celuTuYk4AwUcxDAAAVMQwDBXXj+ldv+l85V05XvlWUUY7RQkAAIBaQDsyAABQzyiGAQDqgmVZmpiQnn/eXZyxMWl2lvWEAAAA0FhM09SFK6bWxbocx8yF1kuSXht3nmFxO3XV89wAAADcohgGAAAAAAAArYt16d7ez7uKcT35iEfZAAAAeIdiGACgLhiGoZaWMX3wg+7iPP+81NFB6z4AjcmyLBUns5pLDrmKU0yNy8qxLgMAINgyKVMDyaOO2ycyNyRJm9u3lYwRizjPtgOCzrIs5bI5Pfqi82OlHK9nhtVaaPUoKwB4K4phAAAAAACgJlmWpcLklKb6n3Qdq5C6Liu30YOs0Aji8fj8v5wv7phM5yRJsYjzmFik665YAADALxTDAAAAAEiyZ9mmx0Nq7t3lKs5cckhGZKtHWQEAsPb27du34phjx45Jkg4dOlTtdICaZRiGCuGQPvve+13FefTFowp30lkAQPVQDAMAAAAAADXJMAxlxme0seeTrmNN9T8pI7Leg6wAYLGTJ0/KNM1FP1u4vVA0lewZh+UUWgEA3qMYBgAAAAAAAAAeam1l/SsAqCUUw2qAZVmayWZ15MyAqzjD6YzW5wseZQUAAAAAAABgJcz2AoDaRzEMAACgBlmWpblJKf2Muwtd5kYla9ryKCsAS9sgWZb9+DIMY9E42iABAAAgqJZr/bnc+17e8yJIKIbVAMMwFG4K64H37XEV58iZARVinR5lBQAAAGAluVzO7xQAAACAquN9L4KOYhgAz1mWpalsUU+ennUV53q6qI15ZjMAaEyGYSibHVP0o2FXcdLPFGS0GSsPBFCWpVe+Hjt2TJJ06NAhP9IBKlZIWcqd+rLz9syYJCnc3lEyhiL3eZ0aAACoEcvN9uJ9L4Kurophy03fXM7CmIUHsBOmeQIAgFIsy9LMpHQ16a6V4UxKsnIU//1gWZY0Oam55I/dBxudpCUlakIxdUuzp/6x9JhMVpIUam8rGUeRqKe5wV/xeHzFMWZ61B4b2eg8KHJfWbHwJtpNAQAA+KuuimGmaerq5cvqbt9SclxrMSRJCqfSjmOGM7c8zQ1oJIZhaKYprU++v8VVnCdPz2p9jNkMAAAA5Sq3QGGmx+3xpYpdkSgFjzpTTpGFq77XDu2mAAAA1k5dFcMkqbt9ix7Y82HXcY4MPCt313gDAIB6ZxiGcuNj6up118rwarIgI0Lx3w+GYWgsm1dz7z9zHWsu+WNaUsJ35c4ooeABrC3aTQEAAPjL3ZkbAAAAAAAAAAAAoIbV3cwwAAAAAAAAAAAAuLPcuqdLLWxfmPXuxO+1USmGAQCAik3ckl75VtFx+5S9FI02RkrH2NbucWIA4KF6+uAHAAAAAJUyTVNXL11RvL3TcUxr0W5AGBrNOsfJjHqeW6UohgEAgIrE4/EVx5gZ++Twtnbnsdvay4uFYFtaTLAsS5K9VtfdKBSgFpmmqfNXLisUizqOKYbs7xfGbzmPSaW9Tg0AAFRouYtclruohfellXs9Y+rRF486br85eUOStHXTtpIx4p1dnucGwL14e6ce2P0xVzGODD4t50uq1wbFMAAAUJFyPhiyIDyc5HI5v1MAKhKKRdXS8wFXMWb7X1j258XUmGb7n3O8XzFjX1kZam9zHpMakyIdrvIDAKBRtba2+p1C4L15gaPzae6ZKfszQLjTeUy8s4uLJQFUFcUw1CQzk9Oxwdcct1uTtyVJxqZ1JWPEnWdvAgCANbC0eEqhFLCVNcs2bRfD4qWKXZEOThwBAFAGZntVBxdLAggKimGoOeV8mM9NzU9rLzF9Ot5J+y0AAADUJk4cAQAAAMDaqZViWJOkVySNSPqIpJ+R9BVJMUmvSvqEpNu+ZYdV+eIXv6iXX35Z73nPe/SHf/iHZd+PEwNAeSzL0uSE9PQLeVdxRtPS9JzlUVYAAACNwbIsFScnNXPq667iFFM3ZeWmPMoKAACsxnJryi233jFrysGNkydPanBwcNHPcrmcisWVV9MKhUKLWrvu3r2bY7FCYb8TmPfHkv7prtt/JemvJf2spDFJf+BHUnDn5ZdfliS99NJLPmcCAAAAAAAAAOXL5XKseQzUkVqYGfY2Sb8l6aikz0kKSfp1Sb83v/3vJf3fkh7zIzmszhe/+MVFt//u7/6uotlhAFZmGIayzWP62AeaXMV5+oW82rYYKw8EAADAHYZhKD0+ofV7P+4qzsypr8uIbPYoKwAAsBrLzbChMxW8tm/fPmZz+agWimGPSvq8pLb52zFJaUlz87dfl7TDh7zgwsKssAUvvfQSxTAAAACP2O3ZsppLvrzy4BKKqawsLnYFAAAIjHQ6rRMnTujgwYOKRqN+pxNYy7VFXGph+0JRzAmtE4Fg8LsY9hFJlux1wd6/ivt/ev5LktTS0iJ3K+cs1tLSos7OzorGS6roPgv38yrvu3NuaWm5U1H0Mu5qub3/3Vazr1taWjxbeG41+2O1OXv1N1yIt1bH9ExF9ygd6+5jeroKcRdue2WtYgcx52oK4v7wez+v9jFerdj8DYP/vFTueGl1ry1eqdbfsJqxl+7ncNi7bufhcDjwx3S1+J1zrT1PVzNutfb16Oioitmsbp96xlXMYmpUo7dnAn9Ml8Pd39Cbd+tvfS716tPFW2PnU8Oa7H/CcXwhk5IkhdtjjmPyqetqif1sTT3GV8POx5tPzcu/Bsx6HtuO682n5lp7nl4NOx9vzjDVw/6oV1/96ld18eJFPffcczp48KDf6ZTFzWvL7So9xq9fv66rl0zFN8cd79Oat9dnCt1wjmtOmHXxOu537KAJ6r7w+/y0348Vv4th75XUI+lfSWqVFJH0N5KisnObk91GccTh/k/Mf0lScXZ21tNF0GZnZzU6OlrReEkV3Wfhfl7lfXfOs7OzClUh7mq5vf/dVrOvF+7j1e9fzd9Z8i/nhXhrdUx7ZekxXY24axH7Zlr62necXzrSE/b3aIkOOTfT0uYtwd8f1RLE/eH3fl7tY7xasfkbru3zUrVilzNeqs/XlmrGXrqfOzs7dWtdQc29v+oq7lzyZXVGOgN/TFeL3znX2vN0NeNWa18XCgXP4hYKhcAf0+Wotb9hNZ+n77333hXjm2l7ezyyznlQpFv33ntvTT3GVyOIrwF2XG/OfNTa8/Rq2Pl4c4apHvZHPUqn03r++edVLBb17W9/Wx/60IcCMTvM3WtLdR7js7Ozim+O69C7vuAq7rFXjtfF67jfsYMmqPtitedqaqnGsJLt27c7bvO7GHZo/kuyZ4b9X5L2SfqapN+W9BVJvy8p6UdyWL3W1tZFC0y2trb6mA3qyY10UU+ddi4qjU0UJUkdm52fpm+ki7pvi+epOYrHna8yWnBrwp56v3mL89jNW8qLBQAAEETFVEqzp045b89kJEmh9vaSMRSJ3Lltr+uV1bq9H3WV2+1Tz8iItK08sEqWa+VkWZYk+/+4gDZNlSlnX7FeDIBakkwm71zoUSgU1N/fr/379/ucVTBZlqVcNqdjrxx3FWc4a6o1xHnPerf0vZhTC03ei9U2v4thTv5MdiHsiKQfSPpv/qaDSt1dCFvutl+uZvJ6ZCjjuN2atNsJGJuaSsaIB2sGbN0opxB0c76otKFEUem+NS4q8SEbAACgtHLem5nptD32rmLXW0QiDXPxUK18xgIArJ2zZ88qn7fPXeXzeQ0NDVEMA3zAxI9gqqVi2On5L0m6LOnXfMsErm3fvl3Xrl27c3vHjh0+ZmMr50PxzJRdSAl1Oo+NdzI7xy8UlQAAAOoT7/NKW27/NPL+AIBGtXPnTp05c0b5fF5NTU3atWuX3ykFlmEYChXlSZvEorHyOAQbs73qQy0Vw1BHDhw4oAcffHDRbb8F9QP2SKaoLw44Lxg9Omm3BezcVLp760imqG5mtAEAAAAAAARSb2+vBgcHlc/nFQ6H1dPT43dKABAYFMNQFd3d3WpqalI+n1dzczMzqVapnP12e342W3OJ2WyS1M2MNgAAAAAAgMCKRqPavXu3Tp8+rT179igajfqdEgAEBsUwVMXw8PCdHsZzc3MyTZNCzCoEdTYbAAAAAAAAvNfb26uRkRFmhQFAhSiGoSoef/zxt9w+evSoT9kAAFA9MynparLguP12xv6+rr10DEW8zQv+syxLmpzQXPIH7gKNTsiatrxJCgAAAIEWjUZ1+PBhv9MAgMChGIaquHbt2qLbIyMjPmUCAED1lDPr2Uzb7WzjkRJjI7SyBQAAAAAAqBaKYaiK7du3LyqI7dixw8dsAACoDtrZohTDMDSWLai59x2u4swlfyCjzfAoKwAAAAAAGg/FMFTFgQMH9OCDDy66DQAAgMZlWZaKk1nNJQdcxSmmMrJyzq1JvWTnPKHZ/hdcxSmm0rJycx5lBdSuQuqGpvu/5Lw9MyZJCrd3lIyhyH1ep9ZQ0um0Tpw4oYMHDyoajfqdDgAAQE2gGIaq6O7uvjM7bMeOHbR+AgAAAIA6Vl7r4Jv22MgG50GR+/j86FIymdTFixfV39+v/fv3+50OAABATaAYhqo5cOCAjh8/zqwwAAAAyDAMpcfDau7d4yrOXHJARqTTo6xKs3NuVkvPB1zFme1/QUZki0dZAbWJ1sG1IZ1Oa3BwUMViUQMDA+rp6WF2GAAAgCiGoYq6u7v12GOP+Z0GgFVKjUnfeMG5DVUma39vbysdI+LcBQeAn0bzyj+ddd6emX/8t4dLxlCJ5wAAALC2ksmkCgX7NbxQKDA7DAAAYB7FMADAW5TTmiadNSVJkQ7nsZGO8mIBWFtltbIasx/j8bYSY9t4jAMAUEvOnj2rfD4vScrn8xoaGqIYBgAAIIphAIBl0OYGqG88xgEAqE87d+7UmTNnlM/n1dTUpF27dvmdEgCgxp08eVKmaa44bmHMwmdFJ/F4vKzPnMBaoxgGAAAAAABQB3p7ezU4OKh8Pq9wOKyenh6/UwIA1DjTNHX10rDike0lx7UWWiRJoZuzzrHGr3maG+AlimF1zsxkdXTgZcftNyamJEnbNm8sGaMrZlT8u9PptE6cOKGDBw+yYC8AoCyTt6QffrPouD03bn9vjZSOoXZv8wIAYC2Vc4U2V2djOdFoVLt379bp06e1Z8+eij6LW5al25M5XU8+4iqH26mrsnKtrmIAANZWPLJd97/7M67jHD33mJw/0QP+ohhWxxbW8Cj1BJSbtD9AFUsUu7pixqrWA0kmk7p48SIL9gIAylLWOlYZ+3Xr3vYSY9tZxwoAEGymaer8ldcUjm11HFMINUmSLo5POo9J3fQ8N9S+3t5ejYyM1NSsMMuyNDWZ00+Sx13FmRo1ZU1TaAMAYK1YlqVcdlJHBp92FWc4M6rWwrRHWa0OxbA65ud6IOl0WoODgyoWixoYGFBPTw+zwwAAJbGOFQAAbwrHtmr93oSrGDOn+jzKBkESjUZ1+PDhiu9nGIamxou6t/fzrn7/9eQjMiIhVzEAAAC8RjEMVZFMJlUoFCRJhUKB2WEAAAAIpGIqrdn+F5y3ZyYkSaH2zSVjKLLF89yARlFIvaGp/iedt2dSkqRwe2zFOIp0e5qbE1pdLmYYhuay0i/2fsFVnJ8kj8to8ygpuLLcMb7cMV0Pxy8ANDLDMBQKZ/XA7o+5inNk8GkVO/19EacYhqo4e/as8vm8JCmfz2toaIhiGAAAAAKlrPatabsYFi9V7IpsoX0rsErlPQ7n7LGR9aUHRrrX7LFot7ocVlNsh+OYQmidJOmn43OOY/KpEc9zA6qltZUWlgCA2kUxDFXxzne+Uy+++OKi2wAAAECQ0L4V8F+QH4dNsR3a3HPQVYyJ/hMeZQN4i9leAICgoRiGqigWi36nAFTMSktf+a7zVZlj9oXf6nDugiQrLd1HFyRUIHNLGnjW+TlzMmt/31RiJnnmltTJsowAAKy5YuqmZk593Xl7Ji1JCrU7v1AXUzelSIk3mAAAAECFaGf7VhTDUBXf//73F91+9dVX9alPfcqnbICVldMuZXTCfsHYuMV57H1byosFSOUdK1Pj9nHXGXUe2xnluAMAYK2V177vlj22VLErspnXcQAAAFRdo7ezpRiGqti5c6e+973vqVAoKBwOa9euXX6nBJQU5PYrCC6OOwAAgovXcQAAANSqRpntVQmKYaiK3t5eDQwMqFAoqKmpST09PX6nBAAAAAAAULcsy9Lk5IxO9T/kKk4qNaxcbr1HWQEAUBsohqEqotGoDMPQtWvXZBiGolEWswEAoFL5USn9TMF5e8b+3tReOoZKrDkHAPWumBrV7VPPOG/P2E+moXbnJ9NialSK8GQKAAAABBXFMFRFOp2WZVmSpBs3biidTlMQazBvZIp68vSs4/bURFGSFNscKhmjO+Z5agAQCGWtRTNmrykXbysxto015QA0rvLW9Rqzx5YqdkXaeC4FUPMMw9D4eFh7e/6jqzin+h9SJOJ8QRYAAEFUV8Uwy7I0k53QkYFnXccaTt/S+vxtD7Iq8/dlMjpyZsBx+xsTk5KkezZvKhmjK9bpeW6rkUwmVSzaxY5isaj+/n7t37/f56ywVso5UTA3aZ/AXR9zHtsd4wQuaoNlWZqYkE4/V3QVJz0mzc1aHmWFesdaNADgXlCfSy3LUmFyUjOn+lzFKaQsWTnnz5AAANQyy7KUy+b0yLmHXcW5mh1Wq1o9ygq16uTJkzJNc9HPFiZrGIZx52fxeJz1tBpUXRXDgmrhZH+pa25yk1P2mBLFrq5YZ80UDs6ePat8Pi9JyufzGhoaohjWQIJ60gEAAAAAAABAfcjlcn6ngBpSV8UwwzAUblqnB/Z82HWsIwPPqhBbm7Z+9Vg42Llzp86cOaN8Pq+mpibt2rXL75QAYNUMw1Bzy5je/yHntp7lOP1cUVs6jJUHAgCAhmYYhjLjk1q/N+EqzsypPhkRZoYBAILJMAwVFdLn333YVZxHzj2skOGu00s9s2fgTevoucdcxxoev6bW4gYPsqrccufYg3ZOHdVVV8Uw1I7e3l4NDNhtH8PhsHp6enzOCEAjGBuTnn/eeXs2a39vK7EkyNiY1NHhbV7wn2VZmpqULnzD3doHUynJytHq0slybSmWWti+8KHECa0rAAAAAACAVyiGoSqi0agMw9C1a9dkGIai0bWZZQegcZXTJjabtU/Cd3Q4j+3oYK06YLVM09T5KxelznXOg8KzkqTz2WHnMaNrt24rAAAAADQywzAUCs3q/nd/xnWso+ceU3FriwdZAd6jGIaqSKfTdxYovHHjhtLpNAUxAFVVjy1n4R3DMDQ7Pqaf/0jYVZwL3yjIiNDqsqTOdWr62A5XIfJPj3iUDFajmBrXXHLIeXtmUpIUanduvVZMjUuRrZ7nBgAAAADAalAMc2FpKyCntj+N2OYnmUyqWLR78RaLRfX392v//v0+ZwUAAIBSypkZa6an7bGlil2RrcyyrSHLtTBd7rNLI35uAQAACKpGf49Hm35UimKYh1pbW/1OoWacPXtW+XxekpTP5zU0NEQxDAAAoMYxy7Zx8NkFAACg/jTSezzTNHX10muKR+5xHNNasMsfoZs55zjjb3ieG2oTxTAXqBY727lzp86cOaN8Pq+mpibt2rXL75QAAACAhsTnFgC1YGrU1E+Sxx235zL2Ugut7c4tqadGTamNmccAIPEeT5LikXt0/85Puopx9OyTKnqUD2obxTBURW9vrwYHB5XP5xUOh9XT0+N3Smuq0acpAwCA6iumsppLvuy8PTMlSQq1bywZQ6yDB9SkQuqmZk71OW/PpCVJ4XbntZkLqZtSxHl9P2CtlNWGd8y+an97W4lBbXHa8AIBwNIyWHDy5EkNDg4u+lkul7uzvE4poVBo0Uy33bt3c7zAFYphqIpoNKrdu3fr9OnT2rNnj6JR5w9ojaKRpilj7YympadfyDtuz0zY39s3l47RtsXjxAAAVVXe2l72SYd4qWJXxOCkIlCDynuMp+yxpYpdkU08xlETaMMLNDbOiQGoBRTDUDW9vb0aGRlpuFlhEtOUsTbKObExNmGfCG3b4jy2bUt5sQAAtYOTikB94zEOAAgyzothwb59+zgeUDMohqFqotGoDh8+7HcaQN3iJAkAAAAAAAAArIxiGAAAABrb6KTmkj8uPSZjr2Oi9hItXkYnpVLrnKBqlq5FsNp1CCTWIgAAAEDjMcev6ei5x0qOuTE5KknatqmzZJyurd2e5ubEsizlslM6evZJV3GGx99Qa9F5nWXUD4phAAAAaFjltok1x+bX32q713lQG21nAQAAgKAwJ0wde+W44/YbU5YkadtG5zV4zQlTXduC/Rlg4TPMSpeS5aZn7XFbWxzHdG3t5jMRahbFMAAAADSscmcA0Xa2trEWAQAAACpRTgEoZ9rdIYrbnMd0bYsHvvgT1M9EhmEoFMrp/p2fdBXn6NknVdxaogMI6gbFMGCNDA8P6/jx4zp06FDgXyQBAAAAwC8nT56UaZp3bi/8e+Ek3YJ4PE6hHAAC7mrW1CPnHnbcbk3dkCQZG50rVlezpuJG16KfsQ470HgohgFr5PHHH9f09LQef/xxHT161O90AAAAAKAuLF37DwBQH968mNx5/tbM/OytkOE8Jm50cWE6AIphwFoYHh7WtWvXJEkjIyMyTZMXYQAAAABYBWZ7AUBjYPYWUBvMzKiODD7tuP3GZEaStG1Te8kYXZ1tnudWCYphaGhr1V7j8ccff8ttZocBwNqaTkkXvlFw3D5jv3fTeuf3bppOSYp4mxeAYKE9G4ByWJal/OS0JvpPuIqTT43Iym3wKCsAAIDKlLW+3tSYPaZEsaurs833ySEUw4C7VKu9xsKssAUjIyNV+T0AgOWV84bLTNsntHdESoyNlBerUVmWJU3OKP+0y9e50RlZ05Y3SQFVRns2AAAAAPWqnmZoUgxDQ1urq3W3b9++qCC2Y8eONfm9AABbPb15A+AvZnsBKIdhGBofn9PmnoOu4kz0n5AR4dQNAACAW7yjQtWk02mdOHFCBw8eVDQa9TsdXx04cEAPPvjgotsAANQbwzA0lp1W08fcXfSRf3pERpvhUVYAEHxL23NKy7fopD2ne7RCBQAAWBsnT57U4ODgndu5XE7FYqmGjLZQKPSWDh27d+9e8b1ZeHVpAitLJpO6ePGi+vv7/U7Fd93d3dq+fbske1YYLbYAAAAAuNHa2kqbzjXAfgYAAKgPzAxDVaTTaQ0ODqpYLGpgYEA9PT3MDjtwQMePH2dWGAAAAICKMANp7bCvAQAA1sa+ffvW9L1X3RXDhjO3dGTg2ZJj3pjISpLu2dxWMk5XrLGLN24kk0kVCgVJUqFQUH9/v/bv3+9zVv7q7u7WY4895ncaAOA5WjcBKFcxldFccsB5e2ZSkhRq31QyhiKdnucGAEA9SKWGdar/IcftmcwbkqT29ntKxohEujzPDQAAP9VVMWyh9VxhhXG5yXF7XIliV1csSis7F86ePat8Pi9JyufzGhoaavhiGAA0EtoJAViqnPfWZnrKHluq2BXp5H06AADLePP10fnMWDqdkyRFIs5jIpEuXmsBAHWnroph5V5tvnCV+qFDh6qZTkN75zvfqRdffHHRbQBAfWK2F9bM6LTmnrnovD0zY39vX18yhpybA3hvdEJzyR84b89M29/bN5SMsaY5V0k5zxW8TwcAYPV4rQUAwFldFcNQO4rFot8pYBWWtjpbrs2ZRKszNKb0mHT6OefntvkOvCrRgVfpMWlLh8eJAQ2irFlFY/brVrztbc6D2sqL5YXKcnZuVbSWOQMAAAAAUI/8LoZ1SfqSpG2SipKekPQ3krZI+qqk+yS9JikhacyXDLEq3//+9xfdfvXVV/WpT33Kp2ywWrQ5A2zlnISeyNontLd0OI/d0sEJbWC1gnilcxBzBgAAAACgHvldDJuT9CeSvi+7+curkr4t6d9KekHScUlfmP/6M39SxGrs3LlT3/ve91QoFBQOh7Vr1y6/U0IZmO0FLI8T2gAAAAAAAEBw+V0Muz7/JUlZSf8kaYekXknvn//530s6/f+3d+9xctX1/cdfm3CJXFcF0QhR8NYKXqp9qImh+FNRqzZRa0/V1qBVa5uf1bbSWlJbaatoq/68kvrzhv09ipfjNVFbREUMMUEiFBTUNuIFCIKgLCpgwN3v74/vWTO7bJZlz3xn5jPzej4e88jO7Oa97/3OfGfO7nfOObgYFsratWvZunUrU1NTLF26lDVr1vS7Ut9NTEywceNG1q9fz/j4eL/rSJIkSZIU3s+uv4KvbTptr5+/+cZrATjg0CPmzbjHwUd1vZskqawrfnoNr9t+xl4/f+1NPwHgiAPvNm/GUYfft9vVNID6vRjW6b7AbwBfJR82cXqR7Jrm+lz+uLkAcNhhhy3oG+2777536usHQanOpXIPO+wwnvjEJ3LWWWdx4okncv/737+r+RHvw4985CPs3LmTs88+m/Xr13ctN+JYQLzHdNTsiJ1LijgeETuXFHE8InZebPb0/+nW97+zP9egjUc/c0tmR+wcVcTxiPj4iNi5JMejO/LP+suuZfVizHLnW7uW1YvX8Qc96EF3uP3x3YndANz7boC5uQ0AACAASURBVPP8Cexux3DMMccM1LZHKRE7S/Pxdat3Bm08FvIasPu71wGwz/K9n+D9mOUHL+o1QHsM2mNjbwZlMewg4OPAnwM/nfW51Fzm8u7mApCuv/76BX2z2267DYCFfv0gKNW55Fg8+clP5vLLL+dJT3pSqN4lTExM8IUvfIGUEp///Od50pOe1LW9w6KNxbSIj+mI2RE7lxRxPCJ2LinieETsvNjs6f/Tre9/Z3+uQRuPfuaWzI7YOaqI4xHx8RGxc0mOR3f0+zVxsd+nm1m9eB1/1rOedYdfM30485NPPvkOv3aQtj1KidhZmo+vW70zaOPR79cA7TFIj43ly5fv9XODsBi2L3kh7EzgE81t1wL3Iu8ddi/gR/2ppjbGx8fZsGFDv2sMhE2bNjE1NQXA1NQUmzdvZt26dX1uJUmSJEmSJEkznXnmmVxxxRUzbpu+Pr3ABLBixYoFnWddGgRL+vz9x4D3kc8V9n86bt8MnNR8fBKwqce9pK7avn07k5OTAExOTrJt27Y+N5IkSZIkSZKkhVm2bBnLli3rdw1p0fq9Z9hjgecD3wAubm7bALwBqIEXAT8Aqr60k7pk5cqVbNmyhcnJSZYuXcqqVav6XUmSJEmSpBlu/fGV/HDTv+z187+8MR+4Z59D7zFvBoes6Ho3SVLvuLeXhlG/F8O2kvcOm8sTellEKmnt2rVs3bqVyclJlixZwpo1a/pdSZIkSZKkX1mx4o4XsK6Y2J2/9pC9/SkHOGTFgrIkSZJ6qd+LYdJIGB8fZ/Xq1Zx77rkcf/zxjI+P97vSglx66aW8+c1v5uSTT+bYY4/tdx1JkqSBMzExwcaNG1m/fn2YbTxJmstC9gKYPk/MKaecUrrOwPH8OZIkxdbvc4ZJI2Pt2rU84AEPCLVX2MaNG0kpsXHjxn5XkSRJGkibNm1i586dbN68ud9VJEk95vlzJEmKwz3DpB4ZHx9nw4YN/a6xYJdeeik333wzADfddBOXXXaZe4dJkiR1mJiYYOvWraSUOO+881izZo17h0nSkHJvL0mSYnMxTNKcZu8NtnHjRk4//fQ+tZEkhXH9rUx+ctfeP3/jbfnfQ/edN4ODu1tLKmHTpk1MTU0BMDU1xebNm1m3bl2fW0nS4POQg5IkqddcDJM0p+m9wqbddNNNfWoiSYpixYoVd/g1V9yQ/9C14uB5vvbghWVJ/bZ9+3YmJycBmJycZNu2bS6GSdIiebhBSZJUkothkuZ0wAEHzFgQO/DAA/vYRpIUwULeuT39bu9TTjmldB2puJUrV7JlyxYmJydZunQpq1at6nclSQrBvb0kSVKvuRgmaU7r16/nTW9604zri+UhMCRJ0jBau3YtW7duZXJykiVLlrBmzZp+V5IkSZIkzWFJvwtIGkzHHXccBxxwAJD3Cjv22GO7mr9s2TIPgyFJkkIbHx9n9erVjI2NcfzxxzM+Pt7vSpIkSZKkObhnmKS9Wr9+PW9+85tb7RUGHgJDkiQNr7Vr17Jr1y73CpMkSZKkAeZimKS9Ou644zjjjDP6XUOSJN0BD0ncP+Pj42zYsKHfNXQnzJ4vc80VcL605fMSTP54Fz/fvHGvn5+68XoAlhx62LwZHHKfrneTJElarKjb0y6GSZIkSUPIwxFLC+Nc6Z1RGusVK1bc4ddcMXFr/tpD5vnTzCH3WVCWJElSv0TZxnMxTJIkSQpukN5tJw0650tvjPo4L+Tnn3739CmnnFK6jiRJUtdE3c5zMUySJEmSJElDIeqhmyQtjHNce+MhmnVHXAyTJEmSJEnSUIpy6CZJi+Mc13x8fKiTi2GSJEmSJEkaCr7bXxpuznHtjY8N3REXw1TMxMQEGzduZP369YyPj/e7jiRJkjSwPKxLfAu9D8H7UZIkSeq1Jf0uoOG1adMmdu7cyebNm/tdRZIkSQpn2bJlHtolOO9DSZIkaTC4Z5iKmJiYYOvWraSUOO+881izZo17h0mSJEl74V5C8XkfSpIkSYPLxTAVsWnTJqampgCYmppi8+bNrFu3rs+tJEmS+mv2YdQ8hJqkfvN5SZIkD1ktjQIPk6gitm/fzuTkJACTk5Ns27atz40kSZIGj4dQkzRofF6SJCnzNVEaLu4ZpiJWrlzJli1bmJycZOnSpaxatarflSRJkvrOd5FKGjQ+L0mS5OuhNApcDBsxvToExtq1a9m6dSuTk5MsWbKENWvWLDrL3ZSl/nMeSgvn4aYkSdIw8HeA4eC2qSRJmYdJHHGldvcdHx9n9erVjI2NcfzxxzM+Pt7VfHdTlvrPeaj5TExMcNpppzExMdHvKn3nXJEkScPC7Zr4vA8lSaPKPcNGTC/f5bN27Vp27drVaq8wcDdlaRA4D3Vnbdq0iZ07d7J582bWrVvX7zo95XyRJEnDwG2a4eD9KElS5p5hKmZ8fJwNGzZ0fa8wSdJgm5iYYOvWraSUOO+889w7TJIkSZIkSX3lnmGSJKmrNm3axNTUFABTU1MjuXeYpIXxPCaSJEmSpF5wzzBJktRV27dvZ3JyEoDJyUm2bdvW50aSovA8JpIkSZKkEtwzTJIkddXKlSvZsmULk5OTLF26lFWrVvW7kqQB5d5ekiRJkqRecDFMkjS0PPxWf6xdu5atW7cyOTnJkiVLWLNmTb8rDQ0f05IkxTT7NRzmfh33NVySJKkMD5MoSRoZHn6rN8bHx1m9ejVjY2Mcf/zxjI+P97vS0PIxLUlSXL6OS5Ik9Y57hkmShpbvqu2ftWvXsmvXLvcK6zIf05IkxeRruCRJUn+5GDaAPHyC1H/OQ82n5ONjWA6DNz4+zoYNG/pdQ5JU2LC8bkmSJEkabi6GBeGhE6T+cx5qPqUeHz7uJEmR+LolSZIkaRC5GDaAfMek1H/OQ82n5OPDx54kKRJftyRJkiRF4GKYpNA8NI803JzjvRHx0LARO0taOOe4JEmSpG5yMUzSUPHQPNJwc473TsSxjthZ0sI5xyVJkiQtlothkkLzncDScHOO90bEcY7YWdLCOcclSZIkdZOLYZIkaeR4+C1JkiRJkqTR4WKYJEkSHn5LkiRJkiRpWLkYJkmSRo57e0mSJEmSJI2OJf0uIEmSJEmSJEmSJJXiYpgkSZIkSZIkSZKGlothkiRJkiRJkiRJGlqeM0wK5swzz+SKK6741fXpj1//+tfP+LoVK1Z4TpwBNfs+hLnvR+9DdZOPO/WLr1vxeR9KkiRJkqJzMUwKbtmyZf2uoC7wflQ/+LhTP/i4i8/7UJIkSZIUjYthUjC+4zo+70P1g4879YuPvfi8DyVJkiRJ0bkYJklDxENZSZIkSZIkSdJMLoZJ0hDzUFaSJEmSJEmSRp2LYZI0RNzbS5IkSZIkSZJmWtLvApIkSZIkSZIkSVIp7hkmSZIkdZh9/kWY+xyMnn9RkiRJkqQYXAyTJEmS7oDnYJQkSZIkKS4XwyRJkqQO7u0lSZIkSdJwGUsp9bvDfJ4CvA1YCrwXeMM8X5uuvvrq290432FuVqxY8avbPMyNJEmSJEmSJElSTMuXLwcYm+tzS3pb5U5ZCpwO/DbwYOC5zb+tLVu2zEPdSJIkSZIkSZIkjYBBPkzio4DvAN9trn8YWAt8886EuLeXJEmSJEmSJEnS6BrkPcPuDVzZcf2q5jZJkiRJkiRJkiRpQQZ5z7CF+OPmAsBhhx3WxyqSJEmSJEmSJEkaNIO8GLYLOKrj+pHNbZ3e3VwA0vXXX9+LXpIkSZIkSZIkSRogy5cv3+vnBvkwiTuABwBHA/sBzwE297WRJEmSJEmSJEmSQhnkPcN+CbwM+BywFHg/cFlfG0mSJEmSJEmSJCmUQV4MA/iP5iJJkiRJkiRJkiTdaYN8mERJkiRJkiRJkiSpFRfDJEmSJEmSJEmSNLRcDJMkSZIkSZIkSdLQcjFMkiRJkiRJkiRJQ8vFMEmSJEmSJEmSJA0tF8MkSZIkSZIkSZI0tFwMkyRJkiRJkiRJ0tByMUySJEmSJEmSJElDy8UwSZIkSZIkSZIkDS0XwyRJkiRJkiRJkjS0XAyTJEmSJEmSJEnS0HIxTJIkSZIkSZIkSUPLxTBJkiRJkiRJkiQNLRfDJEmSJEmSJEmSNLRcDJMkSZIkSZIkSdLQcjFMkiRJkiRJkiRJQ2sspdTvDt0yND+IJEmSJEmSJEmS7rSxuW4cpj3Dxu7k5cJF/J9+5trZ8Ri2zo6H4zFsnR0Px2PYOjsejsewdXY8HI9h6+x4xO/seDgew9bZ8XA8hq2z4+F4DFvnURmPOQ3TYpgkSZIkSZIkSZI0g4thkiRJkiRJkiRJGlpLTz311H536KcLg+WWzI7YuWS2neNnR+xcMtvO8bMjdi6Zbef42RE7l8y2c/zsiJ1LZts5frad42dH7Fwy287xsyN2Lplt5/jZETuXzLZz/OyB7jyWUupGEUmSJEmSJEmSJGngeJhESZIkSZIkSZIkDS0XwyRJkiRJkiRJkjS0XAyTJEmSJEmSJEnS0HIxTJIkSZIkSZIkSUNr6amnntrvDr1yBPAg4F7AFHBT4e93EHBrlzPvBtzS5UyANcB/F8iFcp3vD/wvYAy4rkXOOPCLrjSa2z7kxxvkx8RDm+/XjTE5nPyYvgf58dytx9uvAS8Cfh/4bXLnnwDXdyl/Li8ELm7x/38NeBj5sdA5Dk8BvtMiF+BRwHLgauDBwPOBuwI7W+bO5f8Bn+xy5mrg2cDBwOUtsx4N/AzYDdwF+DvglcDDgR3N7YvxcvL4/rRlv7nsB/wBeb58F3ge8FLgaPJjbmrv/3VBjmHPfHlSk/s/LH4sesE5PlOv5niJ+Q3O8ZJzvOT8PhR4BvBkYCWwAthF2W2SE8ljtFj3JG/L/Jw83k8hv7GuzXbY3pwGfLFA7tHA44FEu+e8FeTHwS/J26IvJD9W7kv7x90a4AdNdrf9FrAM+DHwWPJju1vPdweRuz+Z/Lx6V/LjLXUhu9fzpe1cATgEOBK4YdbtDwWubZndq7noPCwzD6HcXCw5D91+nMntxz3cfry9UtuQEedhyddD5/jedWuOl5rfEHeOl/wdMeIcDzcPx1LqxnbRQHs48C7yL1G7mtuOBCaA9cBFhb7vFeQN9MV6LPBe8gT9I+C15Am3H1AB2xeZ+6xZ18eA08ljAfCJReYCvJrcE/KD9FPAvs33+H3gqy2yvwT8HvkJ4PnkJ+At5CfmdwPvWGTuL4FzgQ8BHyc/LrrlBcCbyb/kvII8zt8DHgj8dfM9F+PBwNvJv+itAP6LvCD25eb73Nii86uA5wIfBq5qbjsSeE5z2xtaZM+nzXx5OfC/gW+R5/srgE3N5y4CHtGi12vIL0D7AJ8nP96+RP4jyeeA17XI3jzr+hh5gfec5vqaReZeQH7BAHgJeWw+SX6R/jTt7sPLyC9yvyTPu5uBjwFPaG6f/fyyUDeSF3QvJ8+Lj9K9P+icSb7/DiDP74PIz3NPII/5SS2yXw48nfxc9FTyXJwAnkl+Tj13kbkPAd4D3Bv4T/K8nP7lofP+XQzn+Eyl5nip+Q3O8dlKzfFS8xtgHfmxdzYzt01PBP6B/EtxCW3m4UuBvyGP6T+Tt3EuJf+i/S/A+1r0evus62Pkbb3pcXh5i+xPkRdRANYCbyXfd6uA1wMfWGTupeR5eDN5PO7XfK/HN5//o0XmQn7D1E3k5/8PkZ+LJlvkTXsrufM+TeYTmu9xAvnx/VctsivgZODr5Oe6beTFmYeQ/xDxjRbZ/ZgvbX+Pq8jj/SPy70IvIP/BCNq/bpWai87DmUrNQyg3F0vOQ7cfZ3L7cSa3H2cqtQ0ZcR6WfD10js9Uao6Xmt8Qc46X/B0x4hyPOA8hpTTsl4tTSo+e4/bHpJQuaZn9l3u5vDKl9JOW2ReklB6SUlqZUro+pbS6uf0RKaWvtMi9LaX0mZTS+1NKZzSXnzX/vr9l54s6Pv5sSum3m48flVLa1jL70o6Pd6SU7t58fEBK6estcr+RUnp6SunMlNKPU0qbUkrPSSndpWXf6ezDUkpHp5R+mlK6X3P7ES07n59SelDH2P5b8/FLUkofa9n5f1JK+85x+34ppZ0ts7++l8s3Ukq7W47zQc3H900pfS2l9Irm+n914T5cmvLj7KcppUOa2+/S8j4k5fny7ymlx6WUTmj+/WHz8Qktcjt/5h0ppcObjw9sfp42nb81q3/n5y5u2XlJSulJKaX3pZSuSymdlVI6KaV0cMvO0/fTPimla5v7k5TSWBfuw2905B2QUjq3+XhFavfY25pSekpKaTyldHJK6bK05/mj7WPaOT73fdjtOV5qfs/+mZ3j5eZ4qflNSum/U57fs2+/a8pztE325r1cPp1SuqnleByQ8vbXz1NK9+zo3OaxQUrpypTny7qUHxMnpfwYmf64TXbnfbUt5W0yUt4+a/N7wDc7Pr4w5cf39PW2v1/8VzOuL0kpfTHlx/W7UvvnjstSnhcHpJRuaP4l5deES1tmf70j77CU0ueajx+a2v8OUGq+lJorpDwn7tV8/KiU0rdTSs/suH/bZJeai87D23cuMQ9J5eZiyXno9uPts91+3HNx+3Huxwepu9uQEedh6ddD5/ieS6k5Xmp+T3eONsdL/o4YcY5HnIfs02KFLooDmXuPpPObz7VxGvBG5j58Qtvzse3LnndvXQdsbT6+iLxr6mKtIq8m7wD+tbntceTdIrtpOfkdbpDfodCmM8Bt5L0kdpEPCTJ9mMvdwNKWuZ9pLncBfoe86n46eaX5eS2yJ8l7sl1P7jy9a3LbXcHvwp7DWl5A3vMR8p4kf9kye4p83/1g1u3Thxdt4wjyITtm7x4/Rn7n4mItIY8vwPfJj+ePAfdpstv4Jfl+vJl8/03vvn0L7cfjN8nvmvhb8jtAL25yv9wydwl5t+ElzDyM6E20P9TLpeTnijOAS8g/w9fIezve1iI3kcfz7OayL/kdIM8F3kTetX2xlpD3qD2Q/K6gQ8m7me/ffJ+29iE/RvYnv9sI8jtr2mQfDJzVfPwm4MLm+vNpf5gb5/hMpeZ4qfkNzvHZSs7xEvMb8v0211yeov1j+njgD9kzZzq/Z5u9Sm8jz5PpuXJNc/sNtH9eejDwT+RDaZxMPgzGa4B/a5kLM7vtQ95DH/K2WZs5fiV575NzyM9LR5GfV+/eInNaIo/re5rLPcnvrH4D+d2hR7XInZ6L09dprrf9vWWMPYcAv4l8xALIe6gc0oXsEvOl1FyB/LvJD5uPLyC/6/sz5Puu7XwpNRedhzOVmofT2SXmYsl56PbjTG4/zuT24+2V2IaMOA9Lvh46x2cqNcdLzW+IO8dL/Y4YcY5HnIcjsRj2n8BnyYd4uLK57SjyITfO2tt/WqCLyIdiuHCOz724ZXbnhvApsz63X4vcHeRdCv+MvHvhq+jOMcQhH8ZxM/kBfyT5Cefm5nNtnxT+gvzk+HHybrrnkBerVpOflBerc3LeAtTNZfrcBG1cQT70x8HAt8mHTPwE8ET2bBAsxuXkw0SeQ94lefrYrvvS/o8Zf04+N8BO9syXFeRztL2sZfZnyC8Ucx2L9twWudeSd8edzv05ebfl95MPC9LGrex5HD+y4/ZDaf9iNAW8hbwr+FvIP0c3npMPJT8nTf/x6F7kx9tBtH8xejHwNvIhUa8nH671yubS5jlvdq/byM8lm8nj38b7yPNvKXmj86PkY0Y/hryreRvvJT+nfpX8R7V/bm4/nLyh1cah7Dnk6ZeA3yU//92tZa5zfKZSc7zU/Abn+Gyl5njJ+f068jbk2cychyeS/xjdxvnkx/Ncv1S3OT9sIm9n3AY8reP2ZbTf9vgZ+bnpkeRDmny2C5nTHkb+xWmM/Avr9HzZj3Zvpnox+XeLU8nP1Rc3l3HavzFp9ny5hnwIu7eTf7FcrM8C55Hvs/eSt3fPJx+abUuLXID/IP9etYW8mPLR5va70f55qdR8KTVXID+m78eeN8L9kPwHwE8Cx7bMLjUXnYczlZqHUG4ulpyHbj/O5PbjTG4/zlRqGzLiPJzr9fBx5L+jtn09dI7PVGqOl5rfzNErwhwv+TtixDkecR6OxDnDIK8sryXvWQR576LN5A3GNh5EPh/UXCeyO4J2ewCtAb7AnsWkafcj/1H0X1pkT1tOPn7vb5IXsto6Ydb1C8kT4QjyiRtPb5l/KHlPrQeSXzCuIh+L9NstMk8mv+OghEPIx05NwDvJq/AvJK/yv5bFL4iNAxvI7+C8hPwOxZ+Rx+fXyb9MtbGE/I7Yzvmyg+4dJ7/bjiS/Y+CaOT73WOArLbL3Z+6TYB5G3rhoc+z92Z5G7ruhi5mdDiDPxe/d0RcuwCHkk4ROz8O2ezs+kHzC0VKWN/9eTZ4/TyQvVl/QhexjyfPuUto9F3V6HnlDbfZcXkFeCH9Jy3zn+B69muOl5zc4x6H7c7zE/J52V/J2Qec8/By3f7feoFhB3m6Z/Q7Qe5PH6Atd+j5j5OPtryTvtVPKOLn3Ys/BO+3XmblduoP2b5Z5HO1+KZ3PSvJ26fnk3ymeSZ4rH6N976eyZ9v0881tS8gLN21PKB5tvjyM/Dvc7JN770veu+jMFtkryM91s9/l3c256DwsOw+h3FwsOQ/dftyjV9uPTycf2cftxzKi/Y4I8eZhydfDYZjjkX5H7Pb8hrhzvOTviNHmeMh5OCqLYQvxDvLeUmaXzY2abef8LoLZh5IZ9OyInUtm23k4sqeVfF6S1Ft3o/27CXudHbFzyWw79y57Dbc/Cf0g50bNtnP87JKdIz5/2Dl+dsTOpbLvT15s+hbwzUDZpcY54njYOX52N3PHgYnWjXqbHbFz1w59MAwea3ZPcqNm27n7L0a9yI7YuWS2nYcje9pi5vhDye9CvhJ4N/nd9tPavkOqVPZDCuWCnXuVHXE8So7zY8m/MF0GPJr87v0dzfdaOaDZETuXzC7ZeVWh7IjjDPmQ4LMv7+74uFu5v9ul3KjZpcZ5ruxR7lwyu2TnV3d8/GDyO/kvJJ8f5NEDmj0snb/Whdy9ZUccj0HvXDL7S+Q9IiCfS/o/yEfB+gjt3yBZKrvk9kHE8bBz/OySna8n7+H/IvJCUDeVyo7YeSTOGSZp4fZ2fP0x9pwYctCyI3YumW3n4cguZSP53Brnk4/xvZX8ruHLaX9ux1LZ/1ooF+zcq+yI41FynN9CPjTMQeRzxzyjyX8EeY/PNm9mKZUdsXPJ7JKd3xqwc8nsj5APifgj9pxb4kDgd8iHmfvEgOVGzbZz/Ozp3Os6butW52eRD/MP8EbgFeRzsz+K/Jy1agCz7Rw/O2LnktmHs+cULS8nLyb9mHwYvPPJr7eLVSq75PZBxPGwc/zskp2/RX6OeC751EhbgQ+RTw90S4vcktkRO7sYJmmG08gbbLPPQwDt9yQtlR2xc8lsOw9HdikHk0+uDvl8iRc2159P/kPJIGbbOX62nWfalz3HOL+OvGEPcBFwlwHNjti5ZLade5e9inx+3B3khXXI53N64YDmRs22c/zs6dwLupw723LyH/ZpvlfbOd6LbDvHz47YudvZt5HPI7SLfDj+m5rbdwNLW+SWzC65fRBxPOwcP7t05880l7uQ38zyHOB08ptdnjeA2RE7uxjWYeyOv2SksiN2Lpk9Kp0vAj5F/qPfbC9uV6dYdsTOJbPtPBzZC7HY545DgRubj79EPozOx8nHb2+rVLad42fbeY/OxfJTZn1uvwHNjti5ZLade5e9AziRfOiZLwGvov2CdMncqNl2jp9dsvMx5HOPjQFHkt8Bf3PzubZ7S5fKtnP87IidS2b/BXA2eVv0MuAc8h+EVwNntMgtmV1y+yDieNg5fnbJzp1/37kFqJvLoeS9KgcxO2Jnlp566qlt/n8Uh5OP1Xsz8Iu9fM1u4OIRyY7YuWS2nffYCvyQPRtrnT7Innc9LEap7IidS2bbeTiyS83xn5LfCHNVx23Xknc1vwfw6TuZ14tsO8fPtvNMV5PPlXAb8O2O2+/X3PaVAcyO2Llktp17lw35D/pfJZ9r5B/J77R/W8vMkrlRs+0cP7tU7vbmso38h6hrgFuBI8jbqjsGMNvO8bMjdi6Z/X3gTOBo8rlsrwV+Qj4U4eYWfUtml9w++D7xxqNUbsnsUrlRs0vlQj4yybY5bt8NXDKg2RE7Q0pp2C8vTin9KKW0PaV0TUppzYhnR+zsePSu80Iv7wiYHbGz4xG/82KyneODlWtnx2PYOjsejsewdXY8HI9h6+x4OB7D1tnxcDyGrbPjEb+z4zGi4zEKh0n8c+BY8vFpjyGv4LZdrY2cHbFzyWw7L06bE532Kzti55LZdh7cbOf4YOWWzI7YuWS2neNnR+xcMtvO8bMjdi6Zbef42RE7l8y2c/zsiJ1LZts5frad42dH7Fwye6A6L7njLwnvVvIfFAG+C+w/4tkRO5fMtrOkQeMclyRJkiRJkrpoFPYMOxJ4+zzXXz5i2RE7l8y2s6RB4xyXJEmSJEmSumgUFsP+atb1C0c8O2Lnktl2XpyxgNkRO5fMtvPgZjvHByu3ZHbEziWz7Rw/O2Lnktl2jp8dsXPJbDvHz47YuWS2neNnR+xcMtvO8bPtHD87YueS2QPVeempp55aoMdAuWSeyw3AjSOWHbFzyWw7397hwIOBm4Ff7OVrdgMXD1B2xM4ls+0cO9s53rvcktkRO5fMtnP87IidS2bbOX52xM4ls+0cPzti55LZdo6fHbFzyWw7x8+2c/zsiJ1LZsfrnFIahcvKlNKzU0r3aK4/NKX0wZTSlSOaHbGz49Gb3BenlH6UUtqeUrompbSmC2NQOjtiZ8cjfufS2c5xOw9Ttp3jZ0fs7HjE7+x4OB7D1tnxcDyGrbPj4XgMW2fHI35nx8PxmPfSrYKDfHljSulbKaUPpZR2pJRe2wziK1JKy0YwO2Jnx6N3nS9NKR3efHxMyk86bfJ6kR2xs+MRv3PJ+iq+vQAADPhJREFUbOe4nYct287xsyN2djzid3Y8HI9h6+x4OB7D1tnxcDyGrbPjEb+z4+F4zHsZhXOGPQ34DfLudHcFrgSOA74/otkRO5fMtvNMtwLXNR9/F9i/C5mlsyN2Lplt5/jZzvHe5JbMjti5ZLad42dH7Fwy287xsyN2Lplt5/jZETuXzLZz/OyInUtm2zl+tp3jZ0fsXDI7YueRWAz7BXuOK3kDsJPu/EExanbEziWz7TzTkcDb57n+8gHMjti5ZLad42c7x3uTWzI7YueS2XaOnx2xc8lsO8fPjti5ZLad42dH7Fwy287xsyN2Lplt5/jZdo6fHbFzyeyInUdiMewYYHPH9aOb62NAAtaMWHbEziWz7TzTX826fmGLrF5lR+xcMtvO8bOd473JLZkdsXPJbDvHz47YuWS2neNnR+xcMtvO8bMjdi6Zbef42RE7l8y2c/xsO8fPjti5ZHbEzoyllLqVNahOmOO26R96DPjyiGVH7Fwy284LtwK4Ilh2xM4ls+0cI9s53v/cktkRO5fMtnP87IidS2bbOX52xM4ls+0cPzti55LZdo6fHbFzyWw7x8+2c/zsiJ1LZg9s5yVdLDKoxsnnWvlyc3kj8G/AB4B7jGB2xM4ls+18eyuBZ3dkPRT4IPCVAc6O2Llktp1jZzvHe5dbMjti55LZdo6fHbFzyWw7x8+O2Llktp3jZ0fsXDLbzvGzI3YumW3n+Nl2jp8dsXPJ7HidU0rDfvlKSumojusXp5TunlJakVL64ghmR+zsePSu8xtTSt9KKX0opbQjpfTalNI1KaVXpJSWDWh2xM6OR/zOJbOd43Yetmw7x8+O2NnxiN/Z8XA8hq2z4+F4DFtnx8PxGLbOjkf8zo6H4zHvpU2pKJcds66/s+Pj80cwO2Jnx6N3nb+Z9jyp3DWl9POU0n1bZpbOjtjZ8YjfuWS2c9zOw5Zt5/jZETs7HvE7Ox6Ox7B1djwcj2Hr7Hg4HsPW2fGI39nxcDzmvYzCYRLvOuv6yzo+PnwEsyN2Lplt55l+0VwAbgB2At9vmVk6O2Lnktl2jp/tHO9NbsnsiJ1LZts5fnbEziWz7Rw/O2Lnktl2jp8dsXPJbDvHz47YuWS2neNn2zl+dsTOJbMjdmYspdSNnEF2JnAu8J5Zt78UeBzw3BHLjti5ZLadZ5oAtnRc/63m+hiQgDUDmB2xc8lsO8fPdo73JrdkdsTOJbPtHD87YueS2XaOnx2xc8lsO8fPjti5ZLad42dH7Fwy287xs+0cPzti55LZETuPxGLYPYBPAbuBi5rbHgnsDzwDuHbEsiN2Lplt55lOmOO26SeJMeDLA5gdsXPJbDvHz3aO9ya3ZHbEziWz7Rw/O2Lnktl2jp8dsXPJbDvHz47YuWS2neNnR+xcMtvO8bPtHD87YueS2RE7s89i/2MgPwJWAY8Hjm1u+yxwzohmR+xcMtvOM40DRwKnN9cvIB+WLQGvGtDsiJ1LZts5frZzvDe5JbMjdi6Zbef42RE7l8y2c/zsiJ1LZts5fnbEziWz7Rw/O2Lnktl2jp9t5/jZETuXzI7YmW6c0MyLFy/Dc/lKSumojusXp5TunlJakVL64oBmR+zseMTvXDq71CXieNg5frad42dH7Ox4xO/seDgew9bZ8XA8hq2z4+F4DFtnxyN+Z8fD8Zj3Mgp7hklauP2AKzuubwV+3FwOHNDsiJ1LZtt5OLJLiTgedo6fbef42RE7l8y2c/zsiJ1LZts5fnbEziWz7Rw/O2Lnktl2jp9t5/jZETuXzI7YeSTOGSZp4b4D3H8vn7scuN8AZkfsXDLbzsORXUrE8bBz/Gw7x8+O2Llktp3jZ0fsXDLbzvGzI3YumW3n+NkRO5fMtnP8bDvHz47YuWR2xM4sWex/lDSUvgq8ZI7bX0o+PusgZkfsXDLbzsORXUrE8bBz/Gw7x8+O2Llktp3jZ0fsXDLbzvGzI3YumW3n+NkRO5fMtnP8bDvHz47YuWR2xM7uGSZphnsAnwJ2Axc1tz0S2B94BnDtAGZH7Fwy287DkV1KxPGwc/xsO8fPjti5ZLad42dH7Fwy287xsyN2Lplt5/jZETuXzLZz/Gw7x8+O2LlkdsTOLoZJmtPjgWObjy8DzgmQHbFzyWw7D0d2KRHHw87xs+0cPzti55LZdo6fHbFzyWw7x8+O2Llktp3jZ0fsXDLbzvGz7Rw/O2LnktmhOrsYJkmSJEmSJEmSpKHlOcMkSZIkSZIkSZI0tFwMkyRJkiRJkiRJ0tByMUySJEmSWqqq6rKqqh7X7x6SJEmSpNvznGGSJEmSRlJVVecCDwPuWdf17j7X6bmqqk4F7l/X9R/2u4skSZIkleSeYZIkSZJGTlVV9wWOBxKwpr9thkNVVfv0u4MkSZIkzcU9wyRJkiSNnKqq/h54MvBV4IF1XT+943NPBd4EHAX8FHhLXddvqqrqMOADwGpgCrgMOKGu66mqqr4PvLiu6y9UVXUX4F3kRbZrgDOAl9d1fWST/33gncA64D7AWcBJdV3/ojnU4r8DbwdOBiaBPwVuBd4KHAa8qa7r05qsJcBfAy8BxoEvAn9S1/VPmgW/7wEvAP4JOKD5WV5XVdVTgM3AGLAbuLyu64fNMU6PAN4H3L/pOQXsrOv61R1d3wH8BfB54MXAPwNVE1EDr6rrendVVS9oxmh1R34CHlDX9XeqqvoA8AvgfsBjgIuAdXVd/2Cu+1CSJEmSFso9wyRJkiSNonXAmc3lyVVVHdHxufcBL63r+mDgOOCc5vZXAlcBhwNHABvIe5bN9hrgvsAxwInAXIchrICnAEcDDyUvWE27J7AMuDfw98B7moxHkvdm+7uqqo5uvvbPgGcAJwDLgRuA02d9r9XAg4AnAH9fVdWv13V9FnAa8JG6rg/ay0LYfsAnyQuAdwM+BDxz1pfds/ncfYA/Bv6WvJD1cPIhKB8FvHqOn39v/oC8cHcYcDH5/pEkSZKkVlwMkyRJkjRSqqpaTV68qeu6vhC4HHhex5fcBjy4qqpD6rq+oa7rizpuvxdwn7qub6vr+ry6rudaDKuA05r/exV5L6/Z3l7X9dV1Xf8E+DR58ajz+7+uruvbgA+TF4beVtf1z+q6vgz4JnmhCeBPgL+t6/qq5rxnpwLPnnXIwn+o6/qWuq4vAS7p+L935DHAPk3X2+q6/gRwwayvmQJeU9f17rqubyEvZv1jXdc/quv6OuAfgOcv8PsBfLau6y3Nz/K3wMqqqo66E/9fkiRJkm7HxTBJkiRJo+Yk4Oy6rq9vrn+wuW3a7wJPBX5QVdWXq6pa2dz+RuA7wNlVVX23qqq/2Uv+cuDKjutXzvE113R8fDNwUMf1H9d1Pdl8fEvz77Udn7+l4+vvA3yyqqqJqqomgG+RD63YuafbfN9rPsuBXbMW/Gb/LNfVdf2LWf+n87CGP2huW6hf5dd1/XPgJ3fy/0uSJEnS7XiCY0mSJEkjozmfVwUsrapqepFof2C8qqqH1XV9SV3XO4C1VVXtC7yMfN6ro+q6/hn5UImvrKrqOOCcqqp21HX9xVnf5ofAkeQ9uCCfe6yUK4E/quv6K7M/0ZwzbD53dALpHwL3rqpqrGNB7CjynnR7y7iavEB3WXN9RXMbwE3k85ZN97vnHN/zqI7PH0Q+BOPVc3ydJEmSJC2Yi2GSJEmSRskzyHtOPQS4teP2GlhXVdUpwO8Bn6nr+saqqn5KPhQgVVU9Hfg2eTHoxiZnao7vUQOnVFW1g7z487JCPwvAu4DXVVV1Ul3XP6iq6nBgVV3Xmxbwf68FTqyqakld13P9HNvJP+PLqqr6V+Bp5HOAnTtP5oeAVzc/eyKf8+zfm89dAhxbVdXDyeN46hz//6nNYSwvIJ877Py6rufas06SJEmSFszDJEqSJEkaJScBZ9R1fUVd19dMX4B3ks93BfkcV99vFsL+pOP2BwBfAH5OXijaWNf1l+b4Hv8IXAV8r/n6jwG7C/08bwM2kw/d+DPgfODRC/y/H23+/XFVVRfN/mRd17cCzwJeBEwAfwh8hvl/ltcCXwO+DnwDuKi5jbqu/4c8Nl8AdgJb5/j/HwReQz484iOb7ylJkiRJrYyldEdHxpAkSZIkLVZVVX8KPKeu6xP63aWtqqq+CryrruszCmR/ALiqrutXdztbkiRJ0mjzMImSJEmS1EVVVd0LOIa899gDyOcZe2dfSy1SVVUnAP8NXE/eQ+6hwFl9LSVJkiRJd5KLYZIkSZLUXfsB/xc4mnx4wQ8DG/vaaPEeRD4H2oHAd4Fn13X9w/5WkiRJkqQ7x8MkSpIkSZIkSZIkaWgt6XcBSZIkSZIkSZIkqRQXwyRJkiRJkiRJkjS0XAyTJEmSJEmSJEnS0HIxTJIkSZIkSZIkSUPLxTBJkiRJkiRJkiQNLRfDJEmSJEmSJEmSNLT+PyHutL8yf+ErAAAAAElFTkSuQmCC\n",
            "text/plain": [
              "<Figure size 2160x720 with 1 Axes>"
            ]
          },
          "metadata": {
            "tags": [],
            "needs_background": "dark"
          }
        }
      ]
    },
    {
      "cell_type": "markdown",
      "metadata": {
        "id": "5J1FcSFzimKV",
        "colab_type": "text"
      },
      "source": [
        "We can see most of the short description are around 30 to 80 characters long with mean length around 50. However, we can see data for certain groups are either on the upper range (GRP_20, GRP_1, GRP_56), while some have a characteristic to have lower lengths (GRP_0, GRP_48, GRP_19)."
      ]
    },
    {
      "cell_type": "code",
      "metadata": {
        "id": "QkvdPjMTmMsS",
        "colab_type": "code",
        "colab": {
          "base_uri": "https://localhost:8080/",
          "height": 529
        },
        "outputId": "a3c88b4c-0de1-4aa6-9ea2-9d8ca0a983e7"
      },
      "source": [
        "plt.figure(figsize=(30,10))\n",
        "plt.rcParams['xtick.color'] = 'white'\n",
        "plt.rcParams['ytick.color'] = 'white'\n",
        "plot_meansdesc_len=sns.barplot(x=incidents.groupby(['Assignment group']).mean()['sdesc_len'].sort_values().index,\n",
        "                               y=incidents.groupby(['Assignment group']).mean()['sdesc_len'].sort_values().values)\n",
        "plot_meansdesc_len.set_xticklabels(plot_meansdesc_len.get_xticklabels(),rotation=90)\n",
        "plt.show()"
      ],
      "execution_count": null,
      "outputs": [
        {
          "output_type": "display_data",
          "data": {
            "image/png": "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\n",
            "text/plain": [
              "<Figure size 2160x720 with 1 Axes>"
            ]
          },
          "metadata": {
            "tags": [],
            "needs_background": "dark"
          }
        }
      ]
    },
    {
      "cell_type": "markdown",
      "metadata": {
        "id": "_2l23zfqmWiu",
        "colab_type": "text"
      },
      "source": [
        "Again, we are seeing a pattern with GRP_56 and GRP_43 records typically having longer lengths in contrast to most other groups having lengths below 200 characters. "
      ]
    },
    {
      "cell_type": "markdown",
      "metadata": {
        "id": "8CYH-r0KyRCO",
        "colab_type": "text"
      },
      "source": [
        "#### Description length analysis and its relation with assignment group"
      ]
    },
    {
      "cell_type": "code",
      "metadata": {
        "id": "wzu2KE7klixj",
        "colab_type": "code",
        "colab": {}
      },
      "source": [
        "incidents['desc_len'] = incidents['Description'].str.len()"
      ],
      "execution_count": null,
      "outputs": []
    },
    {
      "cell_type": "code",
      "metadata": {
        "id": "ZKHbYJZHFkw1",
        "colab_type": "code",
        "colab": {
          "base_uri": "https://localhost:8080/",
          "height": 426
        },
        "outputId": "96d9cc44-70b2-49c1-8e29-41cb9a6ea6a5"
      },
      "source": [
        "plt.figure(figsize=(12,6))\n",
        "sns.distplot(incidents['desc_len']).set_title('Distribution of length of descriptions')"
      ],
      "execution_count": null,
      "outputs": [
        {
          "output_type": "execute_result",
          "data": {
            "text/plain": [
              "Text(0.5, 1.0, 'Distribution of length of descriptions')"
            ]
          },
          "metadata": {
            "tags": []
          },
          "execution_count": 23
        },
        {
          "output_type": "display_data",
          "data": {
            "image/png": "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\n",
            "text/plain": [
              "<Figure size 864x432 with 1 Axes>"
            ]
          },
          "metadata": {
            "tags": [],
            "needs_background": "dark"
          }
        }
      ]
    },
    {
      "cell_type": "markdown",
      "metadata": {
        "id": "M6d_ENiYjeNw",
        "colab_type": "text"
      },
      "source": [
        "The distribution of description lengths is extremely skewed, let us try to omit the tail and focus the major portion from the right skewed graph."
      ]
    },
    {
      "cell_type": "code",
      "metadata": {
        "id": "KuwxmGIPZv-t",
        "colab_type": "code",
        "colab": {
          "base_uri": "https://localhost:8080/",
          "height": 210
        },
        "outputId": "e9605dc8-f39f-43d7-9b95-f67386276ba8"
      },
      "source": [
        "incidents['desc_len'].describe(percentiles=[0.25,0.5,0.75,0.9,0.95])"
      ],
      "execution_count": null,
      "outputs": [
        {
          "output_type": "execute_result",
          "data": {
            "text/plain": [
              "count     8408.00000\n",
              "mean       205.55471\n",
              "std        522.22436\n",
              "min          1.00000\n",
              "25%         42.00000\n",
              "50%        106.00000\n",
              "75%        203.00000\n",
              "90%        397.00000\n",
              "95%        680.65000\n",
              "max      13001.00000\n",
              "Name: desc_len, dtype: float64"
            ]
          },
          "metadata": {
            "tags": []
          },
          "execution_count": 24
        }
      ]
    },
    {
      "cell_type": "code",
      "metadata": {
        "id": "-gf0fymnY_lu",
        "colab_type": "code",
        "colab": {
          "base_uri": "https://localhost:8080/",
          "height": 34
        },
        "outputId": "a518e875-dd8f-4aae-ea4a-87e98df97228"
      },
      "source": [
        "len(incidents[incidents['desc_len'] > 680])"
      ],
      "execution_count": null,
      "outputs": [
        {
          "output_type": "execute_result",
          "data": {
            "text/plain": [
              "421"
            ]
          },
          "metadata": {
            "tags": []
          },
          "execution_count": 25
        }
      ]
    },
    {
      "cell_type": "markdown",
      "metadata": {
        "id": "EGcPKfgzj992",
        "colab_type": "text"
      },
      "source": [
        "95% of the descriptions have length lesser than 680 characters, lets plot the distribution for them."
      ]
    },
    {
      "cell_type": "code",
      "metadata": {
        "id": "0tZNEd9CX36P",
        "colab_type": "code",
        "colab": {
          "base_uri": "https://localhost:8080/",
          "height": 426
        },
        "outputId": "b2b5571c-0ab9-4fae-a15f-e5a9fb62ff56"
      },
      "source": [
        "incidents_95 = incidents[incidents['desc_len'] < incidents['desc_len'].quantile(0.95)]\n",
        "plt.figure(figsize=(12,6))\n",
        "sns.distplot(incidents_95['desc_len']).set_title('Distribution of length of descriptions')"
      ],
      "execution_count": null,
      "outputs": [
        {
          "output_type": "execute_result",
          "data": {
            "text/plain": [
              "Text(0.5, 1.0, 'Distribution of length of descriptions')"
            ]
          },
          "metadata": {
            "tags": []
          },
          "execution_count": 26
        },
        {
          "output_type": "display_data",
          "data": {
            "image/png": "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\n",
            "text/plain": [
              "<Figure size 864x432 with 1 Axes>"
            ]
          },
          "metadata": {
            "tags": [],
            "needs_background": "dark"
          }
        }
      ]
    },
    {
      "cell_type": "code",
      "metadata": {
        "id": "FB_fPlxeaZHO",
        "colab_type": "code",
        "colab": {
          "base_uri": "https://localhost:8080/",
          "height": 520
        },
        "outputId": "8f223082-6967-4194-8e78-6a17572bffbe"
      },
      "source": [
        "plt.figure(figsize=(30,10))\n",
        "lengths = sns.boxplot(data=incidents, x='Assignment group', y='desc_len')\n",
        "lengths.set_xticklabels(lengths.get_xticklabels(),rotation=90)\n",
        "plt.show()"
      ],
      "execution_count": null,
      "outputs": [
        {
          "output_type": "display_data",
          "data": {
            "image/png": "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\n",
            "text/plain": [
              "<Figure size 2160x720 with 1 Axes>"
            ]
          },
          "metadata": {
            "tags": [],
            "needs_background": "dark"
          }
        }
      ]
    },
    {
      "cell_type": "markdown",
      "metadata": {
        "id": "yi4zYZ6gkLqd",
        "colab_type": "text"
      },
      "source": [
        "We can see clearly GRP_56 is dominating with long descriptions. We will again try to restrict data of only particular limit."
      ]
    },
    {
      "cell_type": "code",
      "metadata": {
        "id": "y2HVtkVrdD-t",
        "colab_type": "code",
        "colab": {
          "base_uri": "https://localhost:8080/",
          "height": 523
        },
        "outputId": "89ac7faa-df53-47ee-c7eb-a29d6bb08baa"
      },
      "source": [
        "plt.figure(figsize=(30,10))\n",
        "lengths = sns.boxplot(data=incidents_95, x='Assignment group', y='desc_len')\n",
        "lengths.set_xticklabels(lengths.get_xticklabels(),rotation=90)\n",
        "plt.show()"
      ],
      "execution_count": null,
      "outputs": [
        {
          "output_type": "display_data",
          "data": {
            "image/png": "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\n",
            "text/plain": [
              "<Figure size 2160x720 with 1 Axes>"
            ]
          },
          "metadata": {
            "tags": [],
            "needs_background": "dark"
          }
        }
      ]
    },
    {
      "cell_type": "markdown",
      "metadata": {
        "id": "-JUnphsbkfbt",
        "colab_type": "text"
      },
      "source": [
        "Let us plot the mean lengths of description columns."
      ]
    },
    {
      "cell_type": "code",
      "metadata": {
        "id": "aUv0Pa9WRpzz",
        "colab_type": "code",
        "colab": {
          "base_uri": "https://localhost:8080/",
          "height": 526
        },
        "outputId": "20b4217c-5337-4205-d00e-c42c9ae9ae48"
      },
      "source": [
        "plt.figure(figsize=(30,10))\n",
        "plt.rcParams['xtick.color'] = 'white'\n",
        "plt.rcParams['ytick.color'] = 'white'\n",
        "plot_meandesc_len=sns.barplot(x=incidents.groupby(['Assignment group']).mean()['desc_len'].sort_values().index,\n",
        "                               y=incidents.groupby(['Assignment group']).mean()['desc_len'].sort_values().values)\n",
        "plot_meandesc_len.set_xticklabels(plot_meandesc_len.get_xticklabels(),rotation=90)\n",
        "plt.show()"
      ],
      "execution_count": null,
      "outputs": [
        {
          "output_type": "display_data",
          "data": {
            "image/png": "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\n",
            "text/plain": [
              "<Figure size 2160x720 with 1 Axes>"
            ]
          },
          "metadata": {
            "tags": [],
            "needs_background": "dark"
          }
        }
      ]
    },
    {
      "cell_type": "markdown",
      "metadata": {
        "id": "aXUueWKsyoEL",
        "colab_type": "text"
      },
      "source": [
        "There is a clear distinction between the data of five groups which have very large description data. We will consider this significant and try to identify if the length has any relation with the content once we generate embeddings."
      ]
    },
    {
      "cell_type": "markdown",
      "metadata": {
        "id": "uSO6tp1FveSJ",
        "colab_type": "text"
      },
      "source": [
        "## Data preprocessing"
      ]
    },
    {
      "cell_type": "markdown",
      "metadata": {
        "id": "RY8GDLJmoEEr",
        "colab_type": "text"
      },
      "source": [
        "#### Language translation"
      ]
    },
    {
      "cell_type": "code",
      "metadata": {
        "id": "ty3K0bJtY_bc",
        "colab_type": "code",
        "colab": {
          "base_uri": "https://localhost:8080/",
          "height": 34
        },
        "outputId": "b05ab3a7-2086-4750-8daf-b5b554f9071e"
      },
      "source": [
        "translator = Translator()\n",
        "\n",
        "incidents['desc_lang'] = ''\n",
        "desc_lang=[]\n",
        "desc_trans=[]\n",
        "for i,row in incidents.iterrows():\n",
        "    try:\n",
        "        language = translator.translate(row['Description']).src\n",
        "        trans = translator.translate(row['Description']).text if language != 'en' else row['Description']\n",
        "    except:\n",
        "        language = \"error\"\n",
        "        print(\"This row throws an error:\", row['Description'])\n",
        "    desc_lang.append(language)\n",
        "    desc_trans.append(trans)\n",
        "incidents['desc_lang']=desc_lang\n",
        "incidents['Description']=desc_trans"
      ],
      "execution_count": null,
      "outputs": [
        {
          "output_type": "stream",
          "text": [
            "This row throws an error: i want recover folder  \n"
          ],
          "name": "stdout"
        }
      ]
    },
    {
      "cell_type": "code",
      "metadata": {
        "id": "yyTvd0EfGS37",
        "colab_type": "code",
        "colab": {}
      },
      "source": [
        "incidents['desc_lang'].value_counts()[incidents['desc_lang'].value_counts()>50]"
      ],
      "execution_count": null,
      "outputs": []
    },
    {
      "cell_type": "code",
      "metadata": {
        "id": "IrIiVQcQZGN-",
        "colab_type": "code",
        "colab": {}
      },
      "source": [
        "incidents['sdesc_lang'] = ''\n",
        "sdesc_lang=[]\n",
        "sdesc_trans=[]\n",
        "for i,row in incidents.iterrows():\n",
        "    try:\n",
        "        language = translator.translate(row['Short description']).src\n",
        "        trans = translator.translate(row['Short description']).text if language != 'en' else row['Short description']\n",
        "    except:\n",
        "        language = \"error\"\n",
        "        print(\"This row throws an error:\", row['Short description'])\n",
        "    sdesc_lang.append(language)\n",
        "    sdesc_trans.append(trans)\n",
        "incidents['sdesc_lang']=sdesc_lang\n",
        "incidents['Short description']=sdesc_trans"
      ],
      "execution_count": null,
      "outputs": []
    },
    {
      "cell_type": "code",
      "metadata": {
        "id": "WQ9Bm5NDzyNf",
        "colab_type": "code",
        "colab": {}
      },
      "source": [
        "incidents['sdesc_lang'].value_counts()[incidents['sdesc_lang'].value_counts()>50]"
      ],
      "execution_count": null,
      "outputs": []
    },
    {
      "cell_type": "code",
      "metadata": {
        "id": "Zt1eYC-QWlYP",
        "colab_type": "code",
        "colab": {
          "base_uri": "https://localhost:8080/",
          "height": 195
        },
        "outputId": "99168262-7e9b-41d4-ab2c-8636409df1c3"
      },
      "source": [
        "incidents.head()"
      ],
      "execution_count": null,
      "outputs": [
        {
          "output_type": "execute_result",
          "data": {
            "text/html": [
              "<div>\n",
              "<style scoped>\n",
              "    .dataframe tbody tr th:only-of-type {\n",
              "        vertical-align: middle;\n",
              "    }\n",
              "\n",
              "    .dataframe tbody tr th {\n",
              "        vertical-align: top;\n",
              "    }\n",
              "\n",
              "    .dataframe thead th {\n",
              "        text-align: right;\n",
              "    }\n",
              "</style>\n",
              "<table border=\"1\" class=\"dataframe\">\n",
              "  <thead>\n",
              "    <tr style=\"text-align: right;\">\n",
              "      <th></th>\n",
              "      <th>Short description</th>\n",
              "      <th>Description</th>\n",
              "      <th>Caller</th>\n",
              "      <th>Assignment group</th>\n",
              "      <th>sdesc_len</th>\n",
              "      <th>desc_len</th>\n",
              "      <th>desc_lang</th>\n",
              "      <th>sdesc_lang</th>\n",
              "    </tr>\n",
              "  </thead>\n",
              "  <tbody>\n",
              "    <tr>\n",
              "      <th>0</th>\n",
              "      <td>login issue</td>\n",
              "      <td>verified user details  employee    manager na...</td>\n",
              "      <td>spxjnwir pjlcoqds</td>\n",
              "      <td>GRP_0</td>\n",
              "      <td>11</td>\n",
              "      <td>206</td>\n",
              "      <td>en</td>\n",
              "      <td>en</td>\n",
              "    </tr>\n",
              "    <tr>\n",
              "      <th>1</th>\n",
              "      <td>outlook</td>\n",
              "      <td>received from  hmjdrvpb komuaywn gmail com...</td>\n",
              "      <td>hmjdrvpb komuaywn</td>\n",
              "      <td>GRP_0</td>\n",
              "      <td>7</td>\n",
              "      <td>194</td>\n",
              "      <td>en</td>\n",
              "      <td>en</td>\n",
              "    </tr>\n",
              "    <tr>\n",
              "      <th>2</th>\n",
              "      <td>cant log in to vpn</td>\n",
              "      <td>received from  eylqgodm ybqkwiam gmail com...</td>\n",
              "      <td>eylqgodm ybqkwiam</td>\n",
              "      <td>GRP_0</td>\n",
              "      <td>18</td>\n",
              "      <td>87</td>\n",
              "      <td>en</td>\n",
              "      <td>en</td>\n",
              "    </tr>\n",
              "    <tr>\n",
              "      <th>3</th>\n",
              "      <td>unable to access hr_tool page</td>\n",
              "      <td>unable to access hr_tool page</td>\n",
              "      <td>xbkucsvz gcpydteq</td>\n",
              "      <td>GRP_0</td>\n",
              "      <td>29</td>\n",
              "      <td>29</td>\n",
              "      <td>en</td>\n",
              "      <td>en</td>\n",
              "    </tr>\n",
              "    <tr>\n",
              "      <th>4</th>\n",
              "      <td>skype error</td>\n",
              "      <td>skype error</td>\n",
              "      <td>owlgqjme qhcozdfx</td>\n",
              "      <td>GRP_0</td>\n",
              "      <td>12</td>\n",
              "      <td>12</td>\n",
              "      <td>en</td>\n",
              "      <td>en</td>\n",
              "    </tr>\n",
              "  </tbody>\n",
              "</table>\n",
              "</div>"
            ],
            "text/plain": [
              "               Short description  ... sdesc_lang\n",
              "0                    login issue  ...         en\n",
              "1                        outlook  ...         en\n",
              "2             cant log in to vpn  ...         en\n",
              "3  unable to access hr_tool page  ...         en\n",
              "4                   skype error   ...         en\n",
              "\n",
              "[5 rows x 8 columns]"
            ]
          },
          "metadata": {
            "tags": []
          },
          "execution_count": 37
        }
      ]
    },
    {
      "cell_type": "markdown",
      "metadata": {
        "id": "lst9SFgBoZZh",
        "colab_type": "text"
      },
      "source": [
        "#### Pickling the data post language translation for reuse, further preprocessing to be performed"
      ]
    },
    {
      "cell_type": "code",
      "metadata": {
        "id": "T5uz-x4YLokl",
        "colab_type": "code",
        "colab": {}
      },
      "source": [
        "with open('incidents_trans.pickle', 'wb') as output:\n",
        "    pickle.dump(incidents, output)"
      ],
      "execution_count": null,
      "outputs": []
    },
    {
      "cell_type": "code",
      "metadata": {
        "id": "ZS_Dha4RoJ-k",
        "colab_type": "code",
        "colab": {}
      },
      "source": [
        "with open('incidents_trans.pickle', 'rb') as data:\n",
        "    incidents = pickle.load(data)"
      ],
      "execution_count": null,
      "outputs": []
    },
    {
      "cell_type": "code",
      "metadata": {
        "id": "r688Nkpen9-R",
        "colab_type": "code",
        "colab": {}
      },
      "source": [
        "stop_words=set(stopwords.words('english'))\n",
        "#We will remove the caller names as well along with stopwords from the description column\n",
        "stop_words = list(stop_words) + list(np.unique(word_tokenize(' '.join(incidents['Caller'].unique()))))"
      ],
      "execution_count": null,
      "outputs": []
    },
    {
      "cell_type": "code",
      "metadata": {
        "id": "bSIhRxAroAgx",
        "colab_type": "code",
        "colab": {}
      },
      "source": [
        "def text_to_wordlist(text, remove_stop_words=True, lemma_words=True):\n",
        "    # Clean the text, with the option to remove stop_words and to stem words.\n",
        "\n",
        "    # Clean the text\n",
        "    text = re.sub(r\"[^A-Za-z0-9]\", \" \", text)\n",
        "    text = re.sub(r\"what's\", \"\", text)\n",
        "    text = re.sub(r\"What's\", \"\", text)\n",
        "    text = re.sub(r\"\\'s\", \" \", text)\n",
        "    text = re.sub(r\"\\'ve\", \" have \", text)\n",
        "    text = re.sub(r\"can't\", \"cannot \", text)\n",
        "    text = re.sub(r\"n't\", \" not \", text)\n",
        "    text = re.sub(r\"I'm\", \"I am\", text)\n",
        "    text = re.sub(r\" m \", \" am \", text)\n",
        "    text = re.sub(r\"\\'re\", \" are \", text)\n",
        "    text = re.sub(r\"\\'d\", \" would \", text)\n",
        "    text = re.sub(r\"\\'ll\", \" will \", text)\n",
        "    text = re.sub(r\"\\0s\", \"0\", text)\n",
        "    text = re.sub(r\"e-mail\", \"email\", text)\n",
        "    text = re.sub(r\"\\s{2,}\", \" \", text)\n",
        "    \n",
        "    # Remove punctuation from text\n",
        "    text = ''.join([c for c in text if c not in punctuation])\n",
        "    \n",
        "    # Optionally, remove stop words\n",
        "    if remove_stop_words:\n",
        "        text = text.split()\n",
        "        text = [w for w in text if not w in stop_words]\n",
        "        text = \" \".join(text)\n",
        "    \n",
        "    # Optionally, shorten words to their stems\n",
        "    if lemma_words:\n",
        "        text = text.split()\n",
        "        lemmatizer = WordNetLemmatizer()\n",
        "        lemma_words = [lemmatizer.lemmatize(word) for word in text]\n",
        "        text = \" \".join(lemma_words)\n",
        "    \n",
        "    # Return a list of words\n",
        "    return(text)"
      ],
      "execution_count": null,
      "outputs": []
    },
    {
      "cell_type": "code",
      "metadata": {
        "id": "0MKLmSXFNQ5h",
        "colab_type": "code",
        "colab": {
          "base_uri": "https://localhost:8080/",
          "height": 195
        },
        "outputId": "04d4d961-7b34-4f65-feb0-054f95278369"
      },
      "source": [
        "incidents.head()"
      ],
      "execution_count": null,
      "outputs": [
        {
          "output_type": "execute_result",
          "data": {
            "text/html": [
              "<div>\n",
              "<style scoped>\n",
              "    .dataframe tbody tr th:only-of-type {\n",
              "        vertical-align: middle;\n",
              "    }\n",
              "\n",
              "    .dataframe tbody tr th {\n",
              "        vertical-align: top;\n",
              "    }\n",
              "\n",
              "    .dataframe thead th {\n",
              "        text-align: right;\n",
              "    }\n",
              "</style>\n",
              "<table border=\"1\" class=\"dataframe\">\n",
              "  <thead>\n",
              "    <tr style=\"text-align: right;\">\n",
              "      <th></th>\n",
              "      <th>Short description</th>\n",
              "      <th>Description</th>\n",
              "      <th>Caller</th>\n",
              "      <th>Assignment group</th>\n",
              "      <th>sdesc_len</th>\n",
              "      <th>desc_len</th>\n",
              "      <th>desc_lang</th>\n",
              "      <th>sdesc_lang</th>\n",
              "    </tr>\n",
              "  </thead>\n",
              "  <tbody>\n",
              "    <tr>\n",
              "      <th>0</th>\n",
              "      <td>login issue</td>\n",
              "      <td>verified user details  employee    manager na...</td>\n",
              "      <td>spxjnwir pjlcoqds</td>\n",
              "      <td>GRP_0</td>\n",
              "      <td>11</td>\n",
              "      <td>206</td>\n",
              "      <td>en</td>\n",
              "      <td>en</td>\n",
              "    </tr>\n",
              "    <tr>\n",
              "      <th>1</th>\n",
              "      <td>outlook</td>\n",
              "      <td>received from  hmjdrvpb komuaywn gmail com...</td>\n",
              "      <td>hmjdrvpb komuaywn</td>\n",
              "      <td>GRP_0</td>\n",
              "      <td>7</td>\n",
              "      <td>194</td>\n",
              "      <td>en</td>\n",
              "      <td>en</td>\n",
              "    </tr>\n",
              "    <tr>\n",
              "      <th>2</th>\n",
              "      <td>cant log in to vpn</td>\n",
              "      <td>received from  eylqgodm ybqkwiam gmail com...</td>\n",
              "      <td>eylqgodm ybqkwiam</td>\n",
              "      <td>GRP_0</td>\n",
              "      <td>18</td>\n",
              "      <td>87</td>\n",
              "      <td>en</td>\n",
              "      <td>en</td>\n",
              "    </tr>\n",
              "    <tr>\n",
              "      <th>3</th>\n",
              "      <td>unable to access hr_tool page</td>\n",
              "      <td>unable to access hr_tool page</td>\n",
              "      <td>xbkucsvz gcpydteq</td>\n",
              "      <td>GRP_0</td>\n",
              "      <td>29</td>\n",
              "      <td>29</td>\n",
              "      <td>en</td>\n",
              "      <td>en</td>\n",
              "    </tr>\n",
              "    <tr>\n",
              "      <th>4</th>\n",
              "      <td>skype error</td>\n",
              "      <td>skype error</td>\n",
              "      <td>owlgqjme qhcozdfx</td>\n",
              "      <td>GRP_0</td>\n",
              "      <td>12</td>\n",
              "      <td>12</td>\n",
              "      <td>en</td>\n",
              "      <td>en</td>\n",
              "    </tr>\n",
              "  </tbody>\n",
              "</table>\n",
              "</div>"
            ],
            "text/plain": [
              "               Short description  ... sdesc_lang\n",
              "0                    login issue  ...         en\n",
              "1                        outlook  ...         en\n",
              "2             cant log in to vpn  ...         en\n",
              "3  unable to access hr_tool page  ...         en\n",
              "4                   skype error   ...         en\n",
              "\n",
              "[5 rows x 8 columns]"
            ]
          },
          "metadata": {
            "tags": []
          },
          "execution_count": 8
        }
      ]
    },
    {
      "cell_type": "code",
      "metadata": {
        "id": "fk1r4xHvwkN4",
        "colab_type": "code",
        "colab": {}
      },
      "source": [
        "desc_text=[]\n",
        "for i,row in incidents.iterrows():\n",
        "    text = text_to_wordlist(row['Description'])\n",
        "    desc_text.append(text)\n",
        "incidents['Description']=desc_text"
      ],
      "execution_count": null,
      "outputs": []
    },
    {
      "cell_type": "code",
      "metadata": {
        "id": "EjeuhkKnscln",
        "colab_type": "code",
        "colab": {}
      },
      "source": [
        "sdesc_text=[]\n",
        "for i,row in incidents.iterrows():\n",
        "    text = text_to_wordlist(row['Short description'])\n",
        "    sdesc_text.append(text)\n",
        "incidents['Short description']=sdesc_text"
      ],
      "execution_count": null,
      "outputs": []
    },
    {
      "cell_type": "code",
      "metadata": {
        "id": "kTmMvfusj-Ly",
        "colab_type": "code",
        "colab": {
          "base_uri": "https://localhost:8080/",
          "height": 195
        },
        "outputId": "bdf69690-018a-4972-886f-67c63404db2e"
      },
      "source": [
        "incidents['Group id'] = incidents['Assignment group'].factorize()[0]\n",
        "incidents.head()"
      ],
      "execution_count": null,
      "outputs": [
        {
          "output_type": "execute_result",
          "data": {
            "text/html": [
              "<div>\n",
              "<style scoped>\n",
              "    .dataframe tbody tr th:only-of-type {\n",
              "        vertical-align: middle;\n",
              "    }\n",
              "\n",
              "    .dataframe tbody tr th {\n",
              "        vertical-align: top;\n",
              "    }\n",
              "\n",
              "    .dataframe thead th {\n",
              "        text-align: right;\n",
              "    }\n",
              "</style>\n",
              "<table border=\"1\" class=\"dataframe\">\n",
              "  <thead>\n",
              "    <tr style=\"text-align: right;\">\n",
              "      <th></th>\n",
              "      <th>Short description</th>\n",
              "      <th>Description</th>\n",
              "      <th>Caller</th>\n",
              "      <th>Assignment group</th>\n",
              "      <th>sdesc_len</th>\n",
              "      <th>desc_len</th>\n",
              "      <th>desc_lang</th>\n",
              "      <th>sdesc_lang</th>\n",
              "      <th>Group id</th>\n",
              "    </tr>\n",
              "  </thead>\n",
              "  <tbody>\n",
              "    <tr>\n",
              "      <th>0</th>\n",
              "      <td>login issue</td>\n",
              "      <td>verified user detail employee manager name che...</td>\n",
              "      <td>spxjnwir pjlcoqds</td>\n",
              "      <td>GRP_0</td>\n",
              "      <td>11</td>\n",
              "      <td>206</td>\n",
              "      <td>en</td>\n",
              "      <td>en</td>\n",
              "      <td>0</td>\n",
              "    </tr>\n",
              "    <tr>\n",
              "      <th>1</th>\n",
              "      <td>outlook</td>\n",
              "      <td>received gmail com hello team meeting skype me...</td>\n",
              "      <td>hmjdrvpb komuaywn</td>\n",
              "      <td>GRP_0</td>\n",
              "      <td>7</td>\n",
              "      <td>194</td>\n",
              "      <td>en</td>\n",
              "      <td>en</td>\n",
              "      <td>0</td>\n",
              "    </tr>\n",
              "    <tr>\n",
              "      <th>2</th>\n",
              "      <td>cant log vpn</td>\n",
              "      <td>received gmail com hi cannot log vpn best</td>\n",
              "      <td>eylqgodm ybqkwiam</td>\n",
              "      <td>GRP_0</td>\n",
              "      <td>18</td>\n",
              "      <td>87</td>\n",
              "      <td>en</td>\n",
              "      <td>en</td>\n",
              "      <td>0</td>\n",
              "    </tr>\n",
              "    <tr>\n",
              "      <th>3</th>\n",
              "      <td>unable access hr tool page</td>\n",
              "      <td>unable access hr tool page</td>\n",
              "      <td>xbkucsvz gcpydteq</td>\n",
              "      <td>GRP_0</td>\n",
              "      <td>29</td>\n",
              "      <td>29</td>\n",
              "      <td>en</td>\n",
              "      <td>en</td>\n",
              "      <td>0</td>\n",
              "    </tr>\n",
              "    <tr>\n",
              "      <th>4</th>\n",
              "      <td>skype error</td>\n",
              "      <td>skype error</td>\n",
              "      <td>owlgqjme qhcozdfx</td>\n",
              "      <td>GRP_0</td>\n",
              "      <td>12</td>\n",
              "      <td>12</td>\n",
              "      <td>en</td>\n",
              "      <td>en</td>\n",
              "      <td>0</td>\n",
              "    </tr>\n",
              "  </tbody>\n",
              "</table>\n",
              "</div>"
            ],
            "text/plain": [
              "            Short description  ... Group id\n",
              "0                 login issue  ...        0\n",
              "1                     outlook  ...        0\n",
              "2                cant log vpn  ...        0\n",
              "3  unable access hr tool page  ...        0\n",
              "4                 skype error  ...        0\n",
              "\n",
              "[5 rows x 9 columns]"
            ]
          },
          "metadata": {
            "tags": []
          },
          "execution_count": 11
        }
      ]
    },
    {
      "cell_type": "code",
      "metadata": {
        "id": "3N9w79U0kcI5",
        "colab_type": "code",
        "colab": {}
      },
      "source": [
        "group_id_df = incidents[['Assignment group', 'Group id']].drop_duplicates().sort_values('Group id')"
      ],
      "execution_count": null,
      "outputs": []
    },
    {
      "cell_type": "code",
      "metadata": {
        "id": "2Wg-0-t8krpP",
        "colab_type": "code",
        "colab": {}
      },
      "source": [
        "group_to_id = dict(group_id_df.values)\n",
        "id_to_group = dict(group_id_df[['Group id', 'Assignment group']].values)"
      ],
      "execution_count": null,
      "outputs": []
    },
    {
      "cell_type": "code",
      "metadata": {
        "id": "5RnDB-0pbsU3",
        "colab_type": "code",
        "colab": {
          "base_uri": "https://localhost:8080/",
          "height": 381
        },
        "outputId": "24e786cd-6baa-43fd-b421-46fab74733d1"
      },
      "source": [
        "def freq_words(x, terms = 30):\n",
        "  all_words = ' '.join([text for text in x])\n",
        "  all_words = all_words.split()\n",
        "\n",
        "  fdist = FreqDist(all_words)\n",
        "  words_df = pd.DataFrame({'word':list(fdist.keys()), 'count':list(fdist.values())})\n",
        "\n",
        "  # selecting top n most frequent words\n",
        "  d = words_df.nlargest(columns=\"count\", n = terms) \n",
        "  plt.figure(figsize=(20,5))\n",
        "  plt.rcParams['xtick.color'] = 'white'\n",
        "  plt.rcParams['ytick.color'] = 'white'\n",
        "  ax = sns.barplot(data=d, x= \"word\", y = \"count\")\n",
        "  ax.set(ylabel = 'Count')\n",
        "  ax.set_xticklabels(ax.get_xticklabels(),rotation=90)\n",
        "  plt.show()\n",
        "\n",
        "freq_words(list(incidents['Description']))\n"
      ],
      "execution_count": null,
      "outputs": [
        {
          "output_type": "display_data",
          "data": {
            "image/png": "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\n",
            "text/plain": [
              "<Figure size 1440x360 with 1 Axes>"
            ]
          },
          "metadata": {
            "tags": [],
            "needs_background": "dark"
          }
        }
      ]
    },
    {
      "cell_type": "code",
      "metadata": {
        "id": "Dc9F9El4-HSt",
        "colab_type": "code",
        "colab": {}
      },
      "source": [
        "incidents['isSubstr'] = incidents.apply(lambda x: x['Short description'] not in x['Description'], axis=1)\n",
        "incidents.loc[incidents['isSubstr']==True, 'Description'] = incidents['Short description'] + ' ' + incidents['Description']"
      ],
      "execution_count": null,
      "outputs": []
    },
    {
      "cell_type": "code",
      "metadata": {
        "id": "xsMvh8Qg-P5M",
        "colab_type": "code",
        "colab": {
          "base_uri": "https://localhost:8080/",
          "height": 195
        },
        "outputId": "48a720e3-a104-4935-971c-934553847c56"
      },
      "source": [
        "incidents.drop(columns=['Short description','Caller','sdesc_len','desc_len','desc_lang','sdesc_lang','isSubstr'],inplace=True)\n",
        "incidents.head()"
      ],
      "execution_count": null,
      "outputs": [
        {
          "output_type": "execute_result",
          "data": {
            "text/html": [
              "<div>\n",
              "<style scoped>\n",
              "    .dataframe tbody tr th:only-of-type {\n",
              "        vertical-align: middle;\n",
              "    }\n",
              "\n",
              "    .dataframe tbody tr th {\n",
              "        vertical-align: top;\n",
              "    }\n",
              "\n",
              "    .dataframe thead th {\n",
              "        text-align: right;\n",
              "    }\n",
              "</style>\n",
              "<table border=\"1\" class=\"dataframe\">\n",
              "  <thead>\n",
              "    <tr style=\"text-align: right;\">\n",
              "      <th></th>\n",
              "      <th>Description</th>\n",
              "      <th>Assignment group</th>\n",
              "      <th>Group id</th>\n",
              "    </tr>\n",
              "  </thead>\n",
              "  <tbody>\n",
              "    <tr>\n",
              "      <th>0</th>\n",
              "      <td>verified user detail employee manager name che...</td>\n",
              "      <td>GRP_0</td>\n",
              "      <td>0</td>\n",
              "    </tr>\n",
              "    <tr>\n",
              "      <th>1</th>\n",
              "      <td>received gmail com hello team meeting skype me...</td>\n",
              "      <td>GRP_0</td>\n",
              "      <td>0</td>\n",
              "    </tr>\n",
              "    <tr>\n",
              "      <th>2</th>\n",
              "      <td>cant log vpn received gmail com hi cannot log ...</td>\n",
              "      <td>GRP_0</td>\n",
              "      <td>0</td>\n",
              "    </tr>\n",
              "    <tr>\n",
              "      <th>3</th>\n",
              "      <td>unable access hr tool page</td>\n",
              "      <td>GRP_0</td>\n",
              "      <td>0</td>\n",
              "    </tr>\n",
              "    <tr>\n",
              "      <th>4</th>\n",
              "      <td>skype error</td>\n",
              "      <td>GRP_0</td>\n",
              "      <td>0</td>\n",
              "    </tr>\n",
              "  </tbody>\n",
              "</table>\n",
              "</div>"
            ],
            "text/plain": [
              "                                         Description Assignment group  Group id\n",
              "0  verified user detail employee manager name che...            GRP_0         0\n",
              "1  received gmail com hello team meeting skype me...            GRP_0         0\n",
              "2  cant log vpn received gmail com hi cannot log ...            GRP_0         0\n",
              "3                         unable access hr tool page            GRP_0         0\n",
              "4                                        skype error            GRP_0         0"
            ]
          },
          "metadata": {
            "tags": []
          },
          "execution_count": 16
        }
      ]
    },
    {
      "cell_type": "code",
      "metadata": {
        "id": "cIOSNNKDQYMH",
        "colab_type": "code",
        "colab": {}
      },
      "source": [
        "tokenizer = RegexpTokenizer(r'\\w+')\n",
        "incidents['tokens'] = incidents['Description'].apply(tokenizer.tokenize)"
      ],
      "execution_count": null,
      "outputs": []
    },
    {
      "cell_type": "code",
      "metadata": {
        "id": "8vskU0eGI3jL",
        "colab_type": "code",
        "colab": {}
      },
      "source": [
        "glove_file = \"glove.6B.zip\"\n",
        "#Extract Glove embedding zip file\n",
        "with ZipFile(glove_file, 'r') as z:\n",
        "  z.extractall()"
      ],
      "execution_count": null,
      "outputs": []
    },
    {
      "cell_type": "code",
      "metadata": {
        "id": "kv1odDWpVj52",
        "colab_type": "code",
        "colab": {}
      },
      "source": [
        "EMBEDDING_FILE = './glove.6B.300d.txt'\n",
        "\n",
        "embeddings = {}\n",
        "for o in open(EMBEDDING_FILE):\n",
        "    word = o.split(\" \")[0]\n",
        "    embd = o.split(\" \")[1:]\n",
        "    embd = np.asarray(embd, dtype='float32')\n",
        "    embeddings[word] = embd"
      ],
      "execution_count": null,
      "outputs": []
    },
    {
      "cell_type": "code",
      "metadata": {
        "id": "LU7R5lb1ZM7G",
        "colab_type": "code",
        "colab": {}
      },
      "source": [
        "def get_sentence_embedding(tokens, vector):\n",
        "  if len(tokens)<1:\n",
        "    return np.zeros(300)\n",
        "  sentvec = [vector[word] if word in vector else np.zeros(300) for word in tokens]\n",
        "  length = len(sentvec)\n",
        "  sum = np.sum(sentvec, axis=0)\n",
        "  avg = np.divide(sum,length)\n",
        "  return(avg)\n",
        "\n",
        "sentence_embeddings = np.array(incidents['tokens'].apply(lambda x: get_sentence_embedding(x, embeddings)).values.tolist())"
      ],
      "execution_count": null,
      "outputs": []
    },
    {
      "cell_type": "code",
      "metadata": {
        "id": "8_cNSKf3ZJen",
        "colab_type": "code",
        "colab": {
          "base_uri": "https://localhost:8080/",
          "height": 34
        },
        "outputId": "4239fb0f-0de5-4370-a836-1450453a4e7d"
      },
      "source": [
        "sentence_embeddings.shape"
      ],
      "execution_count": null,
      "outputs": [
        {
          "output_type": "execute_result",
          "data": {
            "text/plain": [
              "(8408, 300)"
            ]
          },
          "metadata": {
            "tags": []
          },
          "execution_count": 21
        }
      ]
    },
    {
      "cell_type": "code",
      "metadata": {
        "id": "wMpX9v1Tc1tG",
        "colab_type": "code",
        "colab": {}
      },
      "source": [
        "incidents['embedding'] = incidents['tokens'].apply(lambda x: get_sentence_embedding(x, embeddings))"
      ],
      "execution_count": null,
      "outputs": []
    },
    {
      "cell_type": "code",
      "metadata": {
        "id": "Hy_Ij4HWNfO5",
        "colab_type": "code",
        "colab": {
          "base_uri": "https://localhost:8080/",
          "height": 195
        },
        "outputId": "283f36cb-669c-4a08-c887-5e523b45fbae"
      },
      "source": [
        "incidents.head()"
      ],
      "execution_count": null,
      "outputs": [
        {
          "output_type": "execute_result",
          "data": {
            "text/html": [
              "<div>\n",
              "<style scoped>\n",
              "    .dataframe tbody tr th:only-of-type {\n",
              "        vertical-align: middle;\n",
              "    }\n",
              "\n",
              "    .dataframe tbody tr th {\n",
              "        vertical-align: top;\n",
              "    }\n",
              "\n",
              "    .dataframe thead th {\n",
              "        text-align: right;\n",
              "    }\n",
              "</style>\n",
              "<table border=\"1\" class=\"dataframe\">\n",
              "  <thead>\n",
              "    <tr style=\"text-align: right;\">\n",
              "      <th></th>\n",
              "      <th>Description</th>\n",
              "      <th>Assignment group</th>\n",
              "      <th>Group id</th>\n",
              "      <th>tokens</th>\n",
              "      <th>embedding</th>\n",
              "    </tr>\n",
              "  </thead>\n",
              "  <tbody>\n",
              "    <tr>\n",
              "      <th>0</th>\n",
              "      <td>verified user detail employee manager name che...</td>\n",
              "      <td>GRP_0</td>\n",
              "      <td>0</td>\n",
              "      <td>[verified, user, detail, employee, manager, na...</td>\n",
              "      <td>[-0.21624695, 0.23975979, 0.033469737, -0.1661...</td>\n",
              "    </tr>\n",
              "    <tr>\n",
              "      <th>1</th>\n",
              "      <td>received gmail com hello team meeting skype me...</td>\n",
              "      <td>GRP_0</td>\n",
              "      <td>0</td>\n",
              "      <td>[received, gmail, com, hello, team, meeting, s...</td>\n",
              "      <td>[-0.15075332, -0.05970553, -0.09480174, -0.109...</td>\n",
              "    </tr>\n",
              "    <tr>\n",
              "      <th>2</th>\n",
              "      <td>cant log vpn received gmail com hi cannot log ...</td>\n",
              "      <td>GRP_0</td>\n",
              "      <td>0</td>\n",
              "      <td>[cant, log, vpn, received, gmail, com, hi, can...</td>\n",
              "      <td>[-0.23506926, 0.050125826, -0.1719449, -0.0365...</td>\n",
              "    </tr>\n",
              "    <tr>\n",
              "      <th>3</th>\n",
              "      <td>unable access hr tool page</td>\n",
              "      <td>GRP_0</td>\n",
              "      <td>0</td>\n",
              "      <td>[unable, access, hr, tool, page]</td>\n",
              "      <td>[-0.173643, -0.031263802, 0.077628, -0.098002,...</td>\n",
              "    </tr>\n",
              "    <tr>\n",
              "      <th>4</th>\n",
              "      <td>skype error</td>\n",
              "      <td>GRP_0</td>\n",
              "      <td>0</td>\n",
              "      <td>[skype, error]</td>\n",
              "      <td>[-0.11543, 0.24757999, -0.081420444, 0.2060400...</td>\n",
              "    </tr>\n",
              "  </tbody>\n",
              "</table>\n",
              "</div>"
            ],
            "text/plain": [
              "                                         Description  ...                                          embedding\n",
              "0  verified user detail employee manager name che...  ...  [-0.21624695, 0.23975979, 0.033469737, -0.1661...\n",
              "1  received gmail com hello team meeting skype me...  ...  [-0.15075332, -0.05970553, -0.09480174, -0.109...\n",
              "2  cant log vpn received gmail com hi cannot log ...  ...  [-0.23506926, 0.050125826, -0.1719449, -0.0365...\n",
              "3                         unable access hr tool page  ...  [-0.173643, -0.031263802, 0.077628, -0.098002,...\n",
              "4                                        skype error  ...  [-0.11543, 0.24757999, -0.081420444, 0.2060400...\n",
              "\n",
              "[5 rows x 5 columns]"
            ]
          },
          "metadata": {
            "tags": []
          },
          "execution_count": 23
        }
      ]
    },
    {
      "cell_type": "code",
      "metadata": {
        "id": "XtUlIKwJiAZv",
        "colab_type": "code",
        "colab": {}
      },
      "source": [
        "inc_clus = pd.DataFrame(incidents['Assignment group'].unique(),columns=['Assignment group'])"
      ],
      "execution_count": null,
      "outputs": []
    },
    {
      "cell_type": "code",
      "metadata": {
        "id": "v56L-L_phxTx",
        "colab_type": "code",
        "colab": {}
      },
      "source": [
        "for i in incidents['Assignment group'].unique():\n",
        "  inc_clus.loc[inc_clus['Assignment group']==i,'embedding'] = pd.Series([np.mean(incidents[incidents['Assignment group']==i]['embedding'])],\n",
        "                                                                        index=inc_clus.loc[inc_clus['Assignment group']==i].index,dtype='object')"
      ],
      "execution_count": null,
      "outputs": []
    },
    {
      "cell_type": "code",
      "metadata": {
        "id": "NILwk2aMhNOV",
        "colab_type": "code",
        "colab": {
          "base_uri": "https://localhost:8080/",
          "height": 195
        },
        "outputId": "d9b16b6d-04e1-48c7-b3a0-58cb67998b38"
      },
      "source": [
        "inc_clus.head()"
      ],
      "execution_count": null,
      "outputs": [
        {
          "output_type": "execute_result",
          "data": {
            "text/html": [
              "<div>\n",
              "<style scoped>\n",
              "    .dataframe tbody tr th:only-of-type {\n",
              "        vertical-align: middle;\n",
              "    }\n",
              "\n",
              "    .dataframe tbody tr th {\n",
              "        vertical-align: top;\n",
              "    }\n",
              "\n",
              "    .dataframe thead th {\n",
              "        text-align: right;\n",
              "    }\n",
              "</style>\n",
              "<table border=\"1\" class=\"dataframe\">\n",
              "  <thead>\n",
              "    <tr style=\"text-align: right;\">\n",
              "      <th></th>\n",
              "      <th>Assignment group</th>\n",
              "      <th>embedding</th>\n",
              "    </tr>\n",
              "  </thead>\n",
              "  <tbody>\n",
              "    <tr>\n",
              "      <th>0</th>\n",
              "      <td>GRP_0</td>\n",
              "      <td>[-0.16315127199575924, 0.04913027900563959, -0...</td>\n",
              "    </tr>\n",
              "    <tr>\n",
              "      <th>1</th>\n",
              "      <td>GRP_1</td>\n",
              "      <td>[-0.15480446117631264, 0.09281953166444776, 0....</td>\n",
              "    </tr>\n",
              "    <tr>\n",
              "      <th>2</th>\n",
              "      <td>GRP_3</td>\n",
              "      <td>[-0.11482628699213471, 0.05128328068068337, -0...</td>\n",
              "    </tr>\n",
              "    <tr>\n",
              "      <th>3</th>\n",
              "      <td>GRP_4</td>\n",
              "      <td>[-0.13525782893077473, 0.02391786318813164, 0....</td>\n",
              "    </tr>\n",
              "    <tr>\n",
              "      <th>4</th>\n",
              "      <td>GRP_5</td>\n",
              "      <td>[-0.14182900345303484, 0.13576893288939776, 0....</td>\n",
              "    </tr>\n",
              "  </tbody>\n",
              "</table>\n",
              "</div>"
            ],
            "text/plain": [
              "  Assignment group                                          embedding\n",
              "0            GRP_0  [-0.16315127199575924, 0.04913027900563959, -0...\n",
              "1            GRP_1  [-0.15480446117631264, 0.09281953166444776, 0....\n",
              "2            GRP_3  [-0.11482628699213471, 0.05128328068068337, -0...\n",
              "3            GRP_4  [-0.13525782893077473, 0.02391786318813164, 0....\n",
              "4            GRP_5  [-0.14182900345303484, 0.13576893288939776, 0...."
            ]
          },
          "metadata": {
            "tags": []
          },
          "execution_count": 26
        }
      ]
    },
    {
      "cell_type": "code",
      "metadata": {
        "id": "yD7n6XAWq5RZ",
        "colab_type": "code",
        "colab": {
          "base_uri": "https://localhost:8080/",
          "height": 70
        },
        "outputId": "de2f4fbc-f7a4-47a1-c721-51b42c612b2a"
      },
      "source": [
        "model = AgglomerativeClustering(n_clusters=5, affinity='euclidean', linkage='average')\n",
        "model.fit(inc_clus['embedding'].values.tolist())"
      ],
      "execution_count": null,
      "outputs": [
        {
          "output_type": "execute_result",
          "data": {
            "text/plain": [
              "AgglomerativeClustering(affinity='euclidean', compute_full_tree='auto',\n",
              "                        connectivity=None, distance_threshold=None,\n",
              "                        linkage='average', memory=None, n_clusters=5)"
            ]
          },
          "metadata": {
            "tags": []
          },
          "execution_count": 31
        }
      ]
    },
    {
      "cell_type": "code",
      "metadata": {
        "id": "fNP5BHhW5INl",
        "colab_type": "code",
        "colab": {
          "base_uri": "https://localhost:8080/",
          "height": 485
        },
        "outputId": "fa9237cc-29c9-45e0-d41c-db01082cef8c"
      },
      "source": [
        "plt.figure(figsize=(30, 10))\n",
        "plt.title('Agglomerative Hierarchical Clustering Dendogram')\n",
        "Z = linkage(inc_clus['embedding'].values.tolist(), metric='euclidean', method='average')\n",
        "dendrogram(Z, leaf_rotation=90, color_threshold=40, leaf_font_size=8)\n",
        "plt.tight_layout()"
      ],
      "execution_count": null,
      "outputs": [
        {
          "output_type": "display_data",
          "data": {
            "image/png": "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\n",
            "text/plain": [
              "<Figure size 2160x720 with 1 Axes>"
            ]
          },
          "metadata": {
            "tags": [],
            "needs_background": "dark"
          }
        }
      ]
    },
    {
      "cell_type": "markdown",
      "metadata": {
        "id": "j4oSFUXAIYGM",
        "colab_type": "text"
      },
      "source": [
        "From the above graph, records for specific groups are largely different from most other groups which seem to be similar. Let us choose 12 clusters for a start."
      ]
    },
    {
      "cell_type": "code",
      "metadata": {
        "id": "6EzVhZ9M6NWE",
        "colab_type": "code",
        "colab": {
          "base_uri": "https://localhost:8080/",
          "height": 70
        },
        "outputId": "e7949e1d-0bed-4c69-ec1e-f03bebd6544d"
      },
      "source": [
        "model = AgglomerativeClustering(n_clusters=12, affinity='euclidean',  linkage='average')\n",
        "model.fit(inc_clus['embedding'].values.tolist())"
      ],
      "execution_count": null,
      "outputs": [
        {
          "output_type": "execute_result",
          "data": {
            "text/plain": [
              "AgglomerativeClustering(affinity='euclidean', compute_full_tree='auto',\n",
              "                        connectivity=None, distance_threshold=None,\n",
              "                        linkage='average', memory=None, n_clusters=12)"
            ]
          },
          "metadata": {
            "tags": []
          },
          "execution_count": 33
        }
      ]
    },
    {
      "cell_type": "code",
      "metadata": {
        "id": "xQ_tBT6Z6W0E",
        "colab_type": "code",
        "colab": {
          "base_uri": "https://localhost:8080/",
          "height": 246
        },
        "outputId": "139a09e8-c8df-4f86-9dd9-91d3cee45e27"
      },
      "source": [
        "inc_clus['class'] = model.labels_\n",
        "inc_clus['class'].value_counts()"
      ],
      "execution_count": null,
      "outputs": [
        {
          "output_type": "execute_result",
          "data": {
            "text/plain": [
              "1     57\n",
              "4      5\n",
              "2      2\n",
              "0      2\n",
              "11     1\n",
              "10     1\n",
              "9      1\n",
              "8      1\n",
              "7      1\n",
              "6      1\n",
              "5      1\n",
              "3      1\n",
              "Name: class, dtype: int64"
            ]
          },
          "metadata": {
            "tags": []
          },
          "execution_count": 34
        }
      ]
    },
    {
      "cell_type": "code",
      "metadata": {
        "id": "XCuy4g9GEAsa",
        "colab_type": "code",
        "colab": {
          "base_uri": "https://localhost:8080/",
          "height": 213
        },
        "outputId": "115f1b99-808f-455b-9b94-c098fa69cfff"
      },
      "source": [
        "print([(i,inc_clus[inc_clus['class']==i]['Assignment group'].values) for i in inc_clus['class'].unique()])"
      ],
      "execution_count": null,
      "outputs": [
        {
          "output_type": "stream",
          "text": [
            "[(1, array(['GRP_0', 'GRP_1', 'GRP_3', 'GRP_4', 'GRP_5', 'GRP_6', 'GRP_7',\n",
            "       'GRP_8', 'GRP_9', 'GRP_10', 'GRP_11', 'GRP_12', 'GRP_13', 'GRP_14',\n",
            "       'GRP_15', 'GRP_16', 'GRP_18', 'GRP_19', 'GRP_2', 'GRP_20',\n",
            "       'GRP_21', 'GRP_22', 'GRP_23', 'GRP_25', 'GRP_26', 'GRP_27',\n",
            "       'GRP_28', 'GRP_29', 'GRP_34', 'GRP_36', 'GRP_37', 'GRP_38',\n",
            "       'GRP_39', 'GRP_40', 'GRP_41', 'GRP_43', 'GRP_44', 'GRP_45',\n",
            "       'GRP_46', 'GRP_47', 'GRP_49', 'GRP_50', 'GRP_51', 'GRP_52',\n",
            "       'GRP_53', 'GRP_55', 'GRP_56', 'GRP_57', 'GRP_59', 'GRP_60',\n",
            "       'GRP_32', 'GRP_62', 'GRP_64', 'GRP_65', 'GRP_67', 'GRP_68',\n",
            "       'GRP_69'], dtype=object)), (7, array(['GRP_17'], dtype=object)), (4, array(['GRP_24', 'GRP_30', 'GRP_33', 'GRP_42', 'GRP_48'], dtype=object)), (0, array(['GRP_31', 'GRP_73'], dtype=object)), (9, array(['GRP_35'], dtype=object)), (2, array(['GRP_54', 'GRP_71'], dtype=object)), (11, array(['GRP_58'], dtype=object)), (6, array(['GRP_61'], dtype=object)), (10, array(['GRP_63'], dtype=object)), (8, array(['GRP_66'], dtype=object)), (3, array(['GRP_70'], dtype=object)), (5, array(['GRP_72'], dtype=object))]\n"
          ],
          "name": "stdout"
        }
      ]
    },
    {
      "cell_type": "code",
      "metadata": {
        "id": "C1nwskpPJ7S4",
        "colab_type": "code",
        "colab": {
          "base_uri": "https://localhost:8080/",
          "height": 195
        },
        "outputId": "17bf0068-6de5-44bb-f188-ba91dcd0b893"
      },
      "source": [
        "inc_clus.head()"
      ],
      "execution_count": null,
      "outputs": [
        {
          "output_type": "execute_result",
          "data": {
            "text/html": [
              "<div>\n",
              "<style scoped>\n",
              "    .dataframe tbody tr th:only-of-type {\n",
              "        vertical-align: middle;\n",
              "    }\n",
              "\n",
              "    .dataframe tbody tr th {\n",
              "        vertical-align: top;\n",
              "    }\n",
              "\n",
              "    .dataframe thead th {\n",
              "        text-align: right;\n",
              "    }\n",
              "</style>\n",
              "<table border=\"1\" class=\"dataframe\">\n",
              "  <thead>\n",
              "    <tr style=\"text-align: right;\">\n",
              "      <th></th>\n",
              "      <th>Assignment group</th>\n",
              "      <th>embedding</th>\n",
              "      <th>class</th>\n",
              "    </tr>\n",
              "  </thead>\n",
              "  <tbody>\n",
              "    <tr>\n",
              "      <th>0</th>\n",
              "      <td>GRP_0</td>\n",
              "      <td>[-0.16315127199575924, 0.04913027900563959, -0...</td>\n",
              "      <td>1</td>\n",
              "    </tr>\n",
              "    <tr>\n",
              "      <th>1</th>\n",
              "      <td>GRP_1</td>\n",
              "      <td>[-0.15480446117631264, 0.09281953166444776, 0....</td>\n",
              "      <td>1</td>\n",
              "    </tr>\n",
              "    <tr>\n",
              "      <th>2</th>\n",
              "      <td>GRP_3</td>\n",
              "      <td>[-0.11482628699213471, 0.05128328068068337, -0...</td>\n",
              "      <td>1</td>\n",
              "    </tr>\n",
              "    <tr>\n",
              "      <th>3</th>\n",
              "      <td>GRP_4</td>\n",
              "      <td>[-0.13525782893077473, 0.02391786318813164, 0....</td>\n",
              "      <td>1</td>\n",
              "    </tr>\n",
              "    <tr>\n",
              "      <th>4</th>\n",
              "      <td>GRP_5</td>\n",
              "      <td>[-0.14182900345303484, 0.13576893288939776, 0....</td>\n",
              "      <td>1</td>\n",
              "    </tr>\n",
              "  </tbody>\n",
              "</table>\n",
              "</div>"
            ],
            "text/plain": [
              "  Assignment group                                          embedding  class\n",
              "0            GRP_0  [-0.16315127199575924, 0.04913027900563959, -0...      1\n",
              "1            GRP_1  [-0.15480446117631264, 0.09281953166444776, 0....      1\n",
              "2            GRP_3  [-0.11482628699213471, 0.05128328068068337, -0...      1\n",
              "3            GRP_4  [-0.13525782893077473, 0.02391786318813164, 0....      1\n",
              "4            GRP_5  [-0.14182900345303484, 0.13576893288939776, 0....      1"
            ]
          },
          "metadata": {
            "tags": []
          },
          "execution_count": 36
        }
      ]
    },
    {
      "cell_type": "code",
      "metadata": {
        "id": "Xse50eqlJUP8",
        "colab_type": "code",
        "colab": {}
      },
      "source": [
        "for i in incidents['Assignment group'].unique():\n",
        "  incidents.loc[incidents['Assignment group']==i,'class'] = inc_clus[inc_clus['Assignment group']==i]['class'].values[0]"
      ],
      "execution_count": null,
      "outputs": []
    },
    {
      "cell_type": "code",
      "metadata": {
        "id": "4N3qm999J3LJ",
        "colab_type": "code",
        "colab": {
          "base_uri": "https://localhost:8080/",
          "height": 246
        },
        "outputId": "e29254ba-5b15-4cea-d3f9-b8b33a040591"
      },
      "source": [
        "incidents['class'].value_counts()"
      ],
      "execution_count": null,
      "outputs": [
        {
          "output_type": "execute_result",
          "data": {
            "text/plain": [
              "1.0     7758\n",
              "4.0      493\n",
              "0.0       70\n",
              "7.0       68\n",
              "8.0        4\n",
              "2.0        4\n",
              "11.0       3\n",
              "10.0       3\n",
              "5.0        2\n",
              "9.0        1\n",
              "3.0        1\n",
              "6.0        1\n",
              "Name: class, dtype: int64"
            ]
          },
          "metadata": {
            "tags": []
          },
          "execution_count": 38
        }
      ]
    },
    {
      "cell_type": "markdown",
      "metadata": {
        "id": "VRpVW2QqLR3s",
        "colab_type": "text"
      },
      "source": [
        "As we could most of the groups fall under cluster 1 which also has most number of records associated with it. We will need to be able to differentiate between the groups within the cluster 1 to be able to provide valuable classification mechanism."
      ]
    },
    {
      "cell_type": "code",
      "metadata": {
        "id": "LRjG6FNkenDx",
        "colab_type": "code",
        "colab": {}
      },
      "source": [
        "X_train, X_test, y_train, y_test = train_test_split(incidents['embedding'].values.tolist(), incidents['class'], test_size=0.15, random_state=10)"
      ],
      "execution_count": null,
      "outputs": []
    },
    {
      "cell_type": "code",
      "metadata": {
        "id": "Cd3GMHyDeoKR",
        "colab_type": "code",
        "colab": {
          "base_uri": "https://localhost:8080/",
          "height": 246
        },
        "outputId": "490fd8ba-e766-4358-e089-d956b862bfed"
      },
      "source": [
        "lgr = LogisticRegression(random_state=8)\n",
        "lgr.fit(X_train,y_train)"
      ],
      "execution_count": null,
      "outputs": [
        {
          "output_type": "stream",
          "text": [
            "/usr/local/lib/python3.6/dist-packages/sklearn/linear_model/_logistic.py:940: ConvergenceWarning: lbfgs failed to converge (status=1):\n",
            "STOP: TOTAL NO. of ITERATIONS REACHED LIMIT.\n",
            "\n",
            "Increase the number of iterations (max_iter) or scale the data as shown in:\n",
            "    https://scikit-learn.org/stable/modules/preprocessing.html\n",
            "Please also refer to the documentation for alternative solver options:\n",
            "    https://scikit-learn.org/stable/modules/linear_model.html#logistic-regression\n",
            "  extra_warning_msg=_LOGISTIC_SOLVER_CONVERGENCE_MSG)\n"
          ],
          "name": "stderr"
        },
        {
          "output_type": "execute_result",
          "data": {
            "text/plain": [
              "LogisticRegression(C=1.0, class_weight=None, dual=False, fit_intercept=True,\n",
              "                   intercept_scaling=1, l1_ratio=None, max_iter=100,\n",
              "                   multi_class='auto', n_jobs=None, penalty='l2',\n",
              "                   random_state=8, solver='lbfgs', tol=0.0001, verbose=0,\n",
              "                   warm_start=False)"
            ]
          },
          "metadata": {
            "tags": []
          },
          "execution_count": 40
        }
      ]
    },
    {
      "cell_type": "code",
      "metadata": {
        "id": "4_L7wJDyeouf",
        "colab_type": "code",
        "colab": {
          "base_uri": "https://localhost:8080/",
          "height": 34
        },
        "outputId": "1139d3b6-94d0-46c6-ca2f-375c325db231"
      },
      "source": [
        "print(accuracy_score(y_test,lgr.predict(X_test)))"
      ],
      "execution_count": null,
      "outputs": [
        {
          "output_type": "stream",
          "text": [
            "0.9540412044374009\n"
          ],
          "name": "stdout"
        }
      ]
    },
    {
      "cell_type": "code",
      "metadata": {
        "id": "-7DHTw93epBv",
        "colab_type": "code",
        "colab": {
          "base_uri": "https://localhost:8080/",
          "height": 318
        },
        "outputId": "7f843cea-cfdc-47cd-92b6-8535891a9e2c"
      },
      "source": [
        "print(classification_report(y_test,lgr.predict(X_test)))"
      ],
      "execution_count": null,
      "outputs": [
        {
          "output_type": "stream",
          "text": [
            "              precision    recall  f1-score   support\n",
            "\n",
            "         0.0       0.67      0.17      0.27        12\n",
            "         1.0       0.97      0.99      0.98      1158\n",
            "         2.0       0.00      0.00      0.00         3\n",
            "         3.0       0.00      0.00      0.00         1\n",
            "         4.0       0.77      0.67      0.71        75\n",
            "         7.0       0.83      0.91      0.87        11\n",
            "         8.0       0.00      0.00      0.00         2\n",
            "\n",
            "    accuracy                           0.95      1262\n",
            "   macro avg       0.46      0.39      0.40      1262\n",
            "weighted avg       0.95      0.95      0.95      1262\n",
            "\n"
          ],
          "name": "stdout"
        },
        {
          "output_type": "stream",
          "text": [
            "/usr/local/lib/python3.6/dist-packages/sklearn/metrics/_classification.py:1272: UndefinedMetricWarning: Precision and F-score are ill-defined and being set to 0.0 in labels with no predicted samples. Use `zero_division` parameter to control this behavior.\n",
            "  _warn_prf(average, modifier, msg_start, len(result))\n"
          ],
          "name": "stderr"
        }
      ]
    },
    {
      "cell_type": "markdown",
      "metadata": {
        "id": "fCOOpnV9VrRo",
        "colab_type": "text"
      },
      "source": [
        "The prediction happened very well on the majority class but faltering in the other classes."
      ]
    }
  ]
}
