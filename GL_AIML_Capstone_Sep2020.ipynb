{
  "nbformat": 4,
  "nbformat_minor": 0,
  "metadata": {
    "colab": {
      "name": "GL_AIML_Capstone_Sep2020.ipynb",
      "provenance": [],
      "collapsed_sections": [],
      "include_colab_link": true
    },
    "kernelspec": {
      "name": "python3",
      "display_name": "Python 3"
    }
  },
  "cells": [
    {
      "cell_type": "markdown",
      "metadata": {
        "id": "view-in-github",
        "colab_type": "text"
      },
      "source": [
        "<a href=\"https://colab.research.google.com/github/arvind2047/gl_capstone/blob/interim_week1_workarea/GL_AIML_Capstone_Sep2020.ipynb\" target=\"_parent\"><img src=\"https://colab.research.google.com/assets/colab-badge.svg\" alt=\"Open In Colab\"/></a>"
      ]
    },
    {
      "cell_type": "markdown",
      "metadata": {
        "id": "A7k-BhbbrYUn",
        "colab_type": "text"
      },
      "source": [
        "**CAPSTONE PROJECT: AUTOMATIC TICKET ASSIGNMENT**\n",
        "\n",
        "\n",
        "#### Problem Statement:\n",
        "\n",
        "Manual assignment of incidents is time consuming and requires human efforts. There may be mistakes due to human errors and resource consumption is carried out ineffectively because of the misaddressing. On the other hand, manual assignment increases the response and resolution times which result in user satisfaction deterioration / poor customer service. \n",
        "\n",
        "Additional effort needed for Functional teams to re-assign to right functional groups. During this process, some of the incidents are in queue and not addressed timely resulting in poor customer service. Guided by powerful AI techniques that can classify incidents to right functional groups can help organizations to reduce the resolving time of the issue and can focus on more productive tasks.\n",
        "\n",
        "#### The objective of the project is,\n",
        " Learn how to use different classification models.\n",
        "\n",
        " Use transfer learning to use pre-built models. \n",
        "\n",
        " Learn to set the optimizers, loss functions, epochs, learning rate, batch size, checkpointing, early stopping etc.\n",
        "\n",
        " Read different research papers of given domain to obtain the knowledge of advanced models for the given problem.\n"
      ]
    },
    {
      "cell_type": "code",
      "metadata": {
        "id": "5j--DPLcrR1I",
        "colab_type": "code",
        "colab": {
          "base_uri": "https://localhost:8080/",
          "height": 51
        },
        "outputId": "81cdd74c-6e1a-4c50-8b81-8ef39d0ec794"
      },
      "source": [
        "#Importing libraries:\n",
        "import numpy as np\n",
        "import pandas as pd\n",
        "import matplotlib.pyplot as plt \n",
        "import seaborn as sns\n",
        "import scipy\n",
        "import scipy.stats as st\n",
        "\n",
        "import keras \n",
        "from keras.preprocessing.text import Tokenizer\n",
        "from keras.models import Sequential\n",
        "from keras.layers import Dense\n",
        "from keras.preprocessing.sequence import pad_sequences\n",
        "from keras.layers import Input, Dense, Dropout, Embedding, LSTM, Flatten\n",
        "from keras.models import Model\n",
        "from keras.utils import to_categorical\n",
        "from keras.callbacks import ModelCheckpoint\n",
        "\n",
        "from sklearn.model_selection import train_test_split\n",
        "from sklearn.metrics import accuracy_score\n",
        "plt.style.use('ggplot')\n",
        "%matplotlib inline"
      ],
      "execution_count": null,
      "outputs": [
        {
          "output_type": "stream",
          "text": [
            "/usr/local/lib/python3.6/dist-packages/statsmodels/tools/_testing.py:19: FutureWarning: pandas.util.testing is deprecated. Use the functions in the public API at pandas.testing instead.\n",
            "  import pandas.util.testing as tm\n"
          ],
          "name": "stderr"
        }
      ]
    },
    {
      "cell_type": "code",
      "metadata": {
        "id": "QgAG04svwofV",
        "colab_type": "code",
        "colab": {
          "base_uri": "https://localhost:8080/",
          "height": 122
        },
        "outputId": "bf71c2cc-3286-413a-a025-3d1f644d18ad"
      },
      "source": [
        "from google.colab import drive\n",
        "drive.mount('/content/drive')"
      ],
      "execution_count": null,
      "outputs": [
        {
          "output_type": "stream",
          "text": [
            "Go to this URL in a browser: https://accounts.google.com/o/oauth2/auth?client_id=947318989803-6bn6qk8qdgf4n4g3pfee6491hc0brc4i.apps.googleusercontent.com&redirect_uri=urn%3aietf%3awg%3aoauth%3a2.0%3aoob&response_type=code&scope=email%20https%3a%2f%2fwww.googleapis.com%2fauth%2fdocs.test%20https%3a%2f%2fwww.googleapis.com%2fauth%2fdrive%20https%3a%2f%2fwww.googleapis.com%2fauth%2fdrive.photos.readonly%20https%3a%2f%2fwww.googleapis.com%2fauth%2fpeopleapi.readonly\n",
            "\n",
            "Enter your authorization code:\n",
            "··········\n",
            "Mounted at /content/drive\n"
          ],
          "name": "stdout"
        }
      ]
    },
    {
      "cell_type": "code",
      "metadata": {
        "id": "Y-lmVG5JxcTa",
        "colab_type": "code",
        "colab": {}
      },
      "source": [
        "# Setup project path:\n",
        "import os\n",
        "os.chdir('/content/drive/My Drive/GL AIML Capstone')"
      ],
      "execution_count": null,
      "outputs": []
    },
    {
      "cell_type": "code",
      "metadata": {
        "id": "Rre6PZ1li7yR",
        "colab_type": "code",
        "colab": {
          "base_uri": "https://localhost:8080/",
          "height": 34
        },
        "outputId": "785975a2-1dd0-426a-eae9-2e3e7220b80e"
      },
      "source": [
        "from google.colab import drive\n",
        "drive.mount('/content/drive/', force_remount=True)\n"
      ],
      "execution_count": null,
      "outputs": [
        {
          "output_type": "stream",
          "text": [
            "Mounted at /content/drive/\n"
          ],
          "name": "stdout"
        }
      ]
    },
    {
      "cell_type": "code",
      "metadata": {
        "id": "3qDJjeqOpaLj",
        "colab_type": "code",
        "colab": {
          "base_uri": "https://localhost:8080/",
          "height": 35
        },
        "outputId": "4c87fd40-a40a-4842-d24d-92cb33f41d33"
      },
      "source": [
        "import os\n",
        "#project_path = '/content/drive/My Drive/Capstone Project NLP/' \n",
        "project_path = '/content/drive/My Drive/GL AIML Capstone/' \n",
        "os.chdir(project_path) \n",
        "os.getcwd()"
      ],
      "execution_count": null,
      "outputs": [
        {
          "output_type": "execute_result",
          "data": {
            "application/vnd.google.colaboratory.intrinsic+json": {
              "type": "string"
            },
            "text/plain": [
              "'/content/drive/My Drive/GL AIML Capstone'"
            ]
          },
          "metadata": {
            "tags": []
          },
          "execution_count": 7
        }
      ]
    },
    {
      "cell_type": "code",
      "metadata": {
        "id": "GUUyRsbhiiHm",
        "colab_type": "code",
        "colab": {
          "base_uri": "https://localhost:8080/",
          "height": 142
        },
        "outputId": "cfeeb7d8-c84e-40b1-d19b-fdce5370d702"
      },
      "source": [
        "# read and load data\n",
        "## Read the data from EXCEL\n",
        "incidents = pd.read_excel(project_path + \"input_data.xlsx\")\n",
        "\n",
        "## Quick View \n",
        "incidents.head(3)"
      ],
      "execution_count": null,
      "outputs": [
        {
          "output_type": "execute_result",
          "data": {
            "text/html": [
              "<div>\n",
              "<style scoped>\n",
              "    .dataframe tbody tr th:only-of-type {\n",
              "        vertical-align: middle;\n",
              "    }\n",
              "\n",
              "    .dataframe tbody tr th {\n",
              "        vertical-align: top;\n",
              "    }\n",
              "\n",
              "    .dataframe thead th {\n",
              "        text-align: right;\n",
              "    }\n",
              "</style>\n",
              "<table border=\"1\" class=\"dataframe\">\n",
              "  <thead>\n",
              "    <tr style=\"text-align: right;\">\n",
              "      <th></th>\n",
              "      <th>Short description</th>\n",
              "      <th>Description</th>\n",
              "      <th>Caller</th>\n",
              "      <th>Assignment group</th>\n",
              "    </tr>\n",
              "  </thead>\n",
              "  <tbody>\n",
              "    <tr>\n",
              "      <th>0</th>\n",
              "      <td>login issue</td>\n",
              "      <td>-verified user details.(employee# &amp; manager na...</td>\n",
              "      <td>spxjnwir pjlcoqds</td>\n",
              "      <td>GRP_0</td>\n",
              "    </tr>\n",
              "    <tr>\n",
              "      <th>1</th>\n",
              "      <td>outlook</td>\n",
              "      <td>\\r\\n\\r\\nreceived from: hmjdrvpb.komuaywn@gmail...</td>\n",
              "      <td>hmjdrvpb komuaywn</td>\n",
              "      <td>GRP_0</td>\n",
              "    </tr>\n",
              "    <tr>\n",
              "      <th>2</th>\n",
              "      <td>cant log in to vpn</td>\n",
              "      <td>\\r\\n\\r\\nreceived from: eylqgodm.ybqkwiam@gmail...</td>\n",
              "      <td>eylqgodm ybqkwiam</td>\n",
              "      <td>GRP_0</td>\n",
              "    </tr>\n",
              "  </tbody>\n",
              "</table>\n",
              "</div>"
            ],
            "text/plain": [
              "    Short description  ... Assignment group\n",
              "0         login issue  ...            GRP_0\n",
              "1             outlook  ...            GRP_0\n",
              "2  cant log in to vpn  ...            GRP_0\n",
              "\n",
              "[3 rows x 4 columns]"
            ]
          },
          "metadata": {
            "tags": []
          },
          "execution_count": 8
        }
      ]
    },
    {
      "cell_type": "code",
      "metadata": {
        "id": "7gAOwc7Hk42k",
        "colab_type": "code",
        "colab": {
          "base_uri": "https://localhost:8080/",
          "height": 204
        },
        "outputId": "83c9727e-6d86-4e6c-f3e8-c7bf13ef66e0"
      },
      "source": [
        "## basic info\n",
        "incidents.info()"
      ],
      "execution_count": null,
      "outputs": [
        {
          "output_type": "stream",
          "text": [
            "<class 'pandas.core.frame.DataFrame'>\n",
            "RangeIndex: 8500 entries, 0 to 8499\n",
            "Data columns (total 4 columns):\n",
            " #   Column             Non-Null Count  Dtype \n",
            "---  ------             --------------  ----- \n",
            " 0   Short description  8492 non-null   object\n",
            " 1   Description        8499 non-null   object\n",
            " 2   Caller             8500 non-null   object\n",
            " 3   Assignment group   8500 non-null   object\n",
            "dtypes: object(4)\n",
            "memory usage: 265.8+ KB\n"
          ],
          "name": "stdout"
        }
      ]
    },
    {
      "cell_type": "code",
      "metadata": {
        "id": "rs9D6X5jk5ce",
        "colab_type": "code",
        "colab": {
          "base_uri": "https://localhost:8080/",
          "height": 34
        },
        "outputId": "2bc2f32e-51ea-48d2-f978-023975bfc8fd"
      },
      "source": [
        "## Shape\n",
        "incidents.shape"
      ],
      "execution_count": null,
      "outputs": [
        {
          "output_type": "execute_result",
          "data": {
            "text/plain": [
              "(8500, 4)"
            ]
          },
          "metadata": {
            "tags": []
          },
          "execution_count": 10
        }
      ]
    },
    {
      "cell_type": "code",
      "metadata": {
        "id": "o1g4bn47k8qf",
        "colab_type": "code",
        "colab": {
          "base_uri": "https://localhost:8080/",
          "height": 34
        },
        "outputId": "1e4843a4-22f7-4c95-f577-1fe7ddf334bd"
      },
      "source": [
        "incidents.columns"
      ],
      "execution_count": null,
      "outputs": [
        {
          "output_type": "execute_result",
          "data": {
            "text/plain": [
              "Index(['Short description', 'Description', 'Caller', 'Assignment group'], dtype='object')"
            ]
          },
          "metadata": {
            "tags": []
          },
          "execution_count": 11
        }
      ]
    },
    {
      "cell_type": "code",
      "metadata": {
        "id": "zPNW9mqCk-kG",
        "colab_type": "code",
        "colab": {
          "base_uri": "https://localhost:8080/",
          "height": 238
        },
        "outputId": "97edcab2-bef0-47ee-a8d9-273d7fc96794"
      },
      "source": [
        "incidents[\"Assignment group\"].unique()"
      ],
      "execution_count": null,
      "outputs": [
        {
          "output_type": "execute_result",
          "data": {
            "text/plain": [
              "array(['GRP_0', 'GRP_1', 'GRP_3', 'GRP_4', 'GRP_5', 'GRP_6', 'GRP_7',\n",
              "       'GRP_8', 'GRP_9', 'GRP_10', 'GRP_11', 'GRP_12', 'GRP_13', 'GRP_14',\n",
              "       'GRP_15', 'GRP_16', 'GRP_17', 'GRP_18', 'GRP_19', 'GRP_2',\n",
              "       'GRP_20', 'GRP_21', 'GRP_22', 'GRP_23', 'GRP_24', 'GRP_25',\n",
              "       'GRP_26', 'GRP_27', 'GRP_28', 'GRP_29', 'GRP_30', 'GRP_31',\n",
              "       'GRP_33', 'GRP_34', 'GRP_35', 'GRP_36', 'GRP_37', 'GRP_38',\n",
              "       'GRP_39', 'GRP_40', 'GRP_41', 'GRP_42', 'GRP_43', 'GRP_44',\n",
              "       'GRP_45', 'GRP_46', 'GRP_47', 'GRP_48', 'GRP_49', 'GRP_50',\n",
              "       'GRP_51', 'GRP_52', 'GRP_53', 'GRP_54', 'GRP_55', 'GRP_56',\n",
              "       'GRP_57', 'GRP_58', 'GRP_59', 'GRP_60', 'GRP_61', 'GRP_32',\n",
              "       'GRP_62', 'GRP_63', 'GRP_64', 'GRP_65', 'GRP_66', 'GRP_67',\n",
              "       'GRP_68', 'GRP_69', 'GRP_70', 'GRP_71', 'GRP_72', 'GRP_73'],\n",
              "      dtype=object)"
            ]
          },
          "metadata": {
            "tags": []
          },
          "execution_count": 12
        }
      ]
    },
    {
      "cell_type": "code",
      "metadata": {
        "id": "FHDLeV0wlAsV",
        "colab_type": "code",
        "colab": {
          "base_uri": "https://localhost:8080/",
          "height": 34
        },
        "outputId": "c8ec2bc7-1226-4df5-e264-13ca44217a03"
      },
      "source": [
        "incidents[\"Assignment group\"].nunique()"
      ],
      "execution_count": null,
      "outputs": [
        {
          "output_type": "execute_result",
          "data": {
            "text/plain": [
              "74"
            ]
          },
          "metadata": {
            "tags": []
          },
          "execution_count": 13
        }
      ]
    },
    {
      "cell_type": "code",
      "metadata": {
        "id": "yMiGjWhRlEX0",
        "colab_type": "code",
        "colab": {
          "base_uri": "https://localhost:8080/",
          "height": 328
        },
        "outputId": "f63cccba-8c73-4a3d-ae61-acbfb2f81b11"
      },
      "source": [
        "## find nulls\n",
        "incidents[incidents.isnull().any(axis=1)]"
      ],
      "execution_count": null,
      "outputs": [
        {
          "output_type": "execute_result",
          "data": {
            "text/html": [
              "<div>\n",
              "<style scoped>\n",
              "    .dataframe tbody tr th:only-of-type {\n",
              "        vertical-align: middle;\n",
              "    }\n",
              "\n",
              "    .dataframe tbody tr th {\n",
              "        vertical-align: top;\n",
              "    }\n",
              "\n",
              "    .dataframe thead th {\n",
              "        text-align: right;\n",
              "    }\n",
              "</style>\n",
              "<table border=\"1\" class=\"dataframe\">\n",
              "  <thead>\n",
              "    <tr style=\"text-align: right;\">\n",
              "      <th></th>\n",
              "      <th>Short description</th>\n",
              "      <th>Description</th>\n",
              "      <th>Caller</th>\n",
              "      <th>Assignment group</th>\n",
              "    </tr>\n",
              "  </thead>\n",
              "  <tbody>\n",
              "    <tr>\n",
              "      <th>2604</th>\n",
              "      <td>NaN</td>\n",
              "      <td>\\r\\n\\r\\nreceived from: ohdrnswl.rezuibdt@gmail...</td>\n",
              "      <td>ohdrnswl rezuibdt</td>\n",
              "      <td>GRP_34</td>\n",
              "    </tr>\n",
              "    <tr>\n",
              "      <th>3383</th>\n",
              "      <td>NaN</td>\n",
              "      <td>\\r\\n-connected to the user system using teamvi...</td>\n",
              "      <td>qftpazns fxpnytmk</td>\n",
              "      <td>GRP_0</td>\n",
              "    </tr>\n",
              "    <tr>\n",
              "      <th>3906</th>\n",
              "      <td>NaN</td>\n",
              "      <td>-user unable  tologin to vpn.\\r\\n-connected to...</td>\n",
              "      <td>awpcmsey ctdiuqwe</td>\n",
              "      <td>GRP_0</td>\n",
              "    </tr>\n",
              "    <tr>\n",
              "      <th>3910</th>\n",
              "      <td>NaN</td>\n",
              "      <td>-user unable  tologin to vpn.\\r\\n-connected to...</td>\n",
              "      <td>rhwsmefo tvphyura</td>\n",
              "      <td>GRP_0</td>\n",
              "    </tr>\n",
              "    <tr>\n",
              "      <th>3915</th>\n",
              "      <td>NaN</td>\n",
              "      <td>-user unable  tologin to vpn.\\r\\n-connected to...</td>\n",
              "      <td>hxripljo efzounig</td>\n",
              "      <td>GRP_0</td>\n",
              "    </tr>\n",
              "    <tr>\n",
              "      <th>3921</th>\n",
              "      <td>NaN</td>\n",
              "      <td>-user unable  tologin to vpn.\\r\\n-connected to...</td>\n",
              "      <td>cziadygo veiosxby</td>\n",
              "      <td>GRP_0</td>\n",
              "    </tr>\n",
              "    <tr>\n",
              "      <th>3924</th>\n",
              "      <td>NaN</td>\n",
              "      <td>name:wvqgbdhm fwchqjor\\nlanguage:\\nbrowser:mic...</td>\n",
              "      <td>wvqgbdhm fwchqjor</td>\n",
              "      <td>GRP_0</td>\n",
              "    </tr>\n",
              "    <tr>\n",
              "      <th>4341</th>\n",
              "      <td>NaN</td>\n",
              "      <td>\\r\\n\\r\\nreceived from: eqmuniov.ehxkcbgj@gmail...</td>\n",
              "      <td>eqmuniov ehxkcbgj</td>\n",
              "      <td>GRP_0</td>\n",
              "    </tr>\n",
              "    <tr>\n",
              "      <th>4395</th>\n",
              "      <td>i am locked out of skype</td>\n",
              "      <td>NaN</td>\n",
              "      <td>viyglzfo ajtfzpkb</td>\n",
              "      <td>GRP_0</td>\n",
              "    </tr>\n",
              "  </tbody>\n",
              "</table>\n",
              "</div>"
            ],
            "text/plain": [
              "             Short description  ... Assignment group\n",
              "2604                       NaN  ...           GRP_34\n",
              "3383                       NaN  ...            GRP_0\n",
              "3906                       NaN  ...            GRP_0\n",
              "3910                       NaN  ...            GRP_0\n",
              "3915                       NaN  ...            GRP_0\n",
              "3921                       NaN  ...            GRP_0\n",
              "3924                       NaN  ...            GRP_0\n",
              "4341                       NaN  ...            GRP_0\n",
              "4395  i am locked out of skype  ...            GRP_0\n",
              "\n",
              "[9 rows x 4 columns]"
            ]
          },
          "metadata": {
            "tags": []
          },
          "execution_count": 14
        }
      ]
    },
    {
      "cell_type": "code",
      "metadata": {
        "id": "6pnyHeAfp3sc",
        "colab_type": "code",
        "colab": {
          "base_uri": "https://localhost:8080/",
          "height": 328
        },
        "outputId": "7a48f554-e172-4d76-efd1-f2042b0983a2"
      },
      "source": [
        "## find NA\n",
        "incidents[incidents.isna().any(axis=1)]"
      ],
      "execution_count": null,
      "outputs": [
        {
          "output_type": "execute_result",
          "data": {
            "text/html": [
              "<div>\n",
              "<style scoped>\n",
              "    .dataframe tbody tr th:only-of-type {\n",
              "        vertical-align: middle;\n",
              "    }\n",
              "\n",
              "    .dataframe tbody tr th {\n",
              "        vertical-align: top;\n",
              "    }\n",
              "\n",
              "    .dataframe thead th {\n",
              "        text-align: right;\n",
              "    }\n",
              "</style>\n",
              "<table border=\"1\" class=\"dataframe\">\n",
              "  <thead>\n",
              "    <tr style=\"text-align: right;\">\n",
              "      <th></th>\n",
              "      <th>Short description</th>\n",
              "      <th>Description</th>\n",
              "      <th>Caller</th>\n",
              "      <th>Assignment group</th>\n",
              "    </tr>\n",
              "  </thead>\n",
              "  <tbody>\n",
              "    <tr>\n",
              "      <th>2604</th>\n",
              "      <td>NaN</td>\n",
              "      <td>\\r\\n\\r\\nreceived from: ohdrnswl.rezuibdt@gmail...</td>\n",
              "      <td>ohdrnswl rezuibdt</td>\n",
              "      <td>GRP_34</td>\n",
              "    </tr>\n",
              "    <tr>\n",
              "      <th>3383</th>\n",
              "      <td>NaN</td>\n",
              "      <td>\\r\\n-connected to the user system using teamvi...</td>\n",
              "      <td>qftpazns fxpnytmk</td>\n",
              "      <td>GRP_0</td>\n",
              "    </tr>\n",
              "    <tr>\n",
              "      <th>3906</th>\n",
              "      <td>NaN</td>\n",
              "      <td>-user unable  tologin to vpn.\\r\\n-connected to...</td>\n",
              "      <td>awpcmsey ctdiuqwe</td>\n",
              "      <td>GRP_0</td>\n",
              "    </tr>\n",
              "    <tr>\n",
              "      <th>3910</th>\n",
              "      <td>NaN</td>\n",
              "      <td>-user unable  tologin to vpn.\\r\\n-connected to...</td>\n",
              "      <td>rhwsmefo tvphyura</td>\n",
              "      <td>GRP_0</td>\n",
              "    </tr>\n",
              "    <tr>\n",
              "      <th>3915</th>\n",
              "      <td>NaN</td>\n",
              "      <td>-user unable  tologin to vpn.\\r\\n-connected to...</td>\n",
              "      <td>hxripljo efzounig</td>\n",
              "      <td>GRP_0</td>\n",
              "    </tr>\n",
              "    <tr>\n",
              "      <th>3921</th>\n",
              "      <td>NaN</td>\n",
              "      <td>-user unable  tologin to vpn.\\r\\n-connected to...</td>\n",
              "      <td>cziadygo veiosxby</td>\n",
              "      <td>GRP_0</td>\n",
              "    </tr>\n",
              "    <tr>\n",
              "      <th>3924</th>\n",
              "      <td>NaN</td>\n",
              "      <td>name:wvqgbdhm fwchqjor\\nlanguage:\\nbrowser:mic...</td>\n",
              "      <td>wvqgbdhm fwchqjor</td>\n",
              "      <td>GRP_0</td>\n",
              "    </tr>\n",
              "    <tr>\n",
              "      <th>4341</th>\n",
              "      <td>NaN</td>\n",
              "      <td>\\r\\n\\r\\nreceived from: eqmuniov.ehxkcbgj@gmail...</td>\n",
              "      <td>eqmuniov ehxkcbgj</td>\n",
              "      <td>GRP_0</td>\n",
              "    </tr>\n",
              "    <tr>\n",
              "      <th>4395</th>\n",
              "      <td>i am locked out of skype</td>\n",
              "      <td>NaN</td>\n",
              "      <td>viyglzfo ajtfzpkb</td>\n",
              "      <td>GRP_0</td>\n",
              "    </tr>\n",
              "  </tbody>\n",
              "</table>\n",
              "</div>"
            ],
            "text/plain": [
              "             Short description  ... Assignment group\n",
              "2604                       NaN  ...           GRP_34\n",
              "3383                       NaN  ...            GRP_0\n",
              "3906                       NaN  ...            GRP_0\n",
              "3910                       NaN  ...            GRP_0\n",
              "3915                       NaN  ...            GRP_0\n",
              "3921                       NaN  ...            GRP_0\n",
              "3924                       NaN  ...            GRP_0\n",
              "4341                       NaN  ...            GRP_0\n",
              "4395  i am locked out of skype  ...            GRP_0\n",
              "\n",
              "[9 rows x 4 columns]"
            ]
          },
          "metadata": {
            "tags": []
          },
          "execution_count": 15
        }
      ]
    },
    {
      "cell_type": "code",
      "metadata": {
        "id": "LiQI5-eJlGTV",
        "colab_type": "code",
        "colab": {
          "base_uri": "https://localhost:8080/",
          "height": 34
        },
        "outputId": "a4003744-e0de-4dd0-ba10-6c8f3bcc88ea"
      },
      "source": [
        "# drop nulls\n",
        "incidents.dropna(inplace=True)\n",
        "incidents.shape"
      ],
      "execution_count": null,
      "outputs": [
        {
          "output_type": "execute_result",
          "data": {
            "text/plain": [
              "(8491, 4)"
            ]
          },
          "metadata": {
            "tags": []
          },
          "execution_count": 16
        }
      ]
    },
    {
      "cell_type": "code",
      "metadata": {
        "id": "HiI2bO8plJDk",
        "colab_type": "code",
        "colab": {
          "base_uri": "https://localhost:8080/",
          "height": 419
        },
        "outputId": "2b7bc503-4bf3-4056-d416-e32e6efcf80c"
      },
      "source": [
        "## Duplicates \n",
        "sub_incidents = incidents[['Short description', 'Description', 'Caller','Assignment group']].copy()\n",
        "duplicateRowsDF = sub_incidents[sub_incidents.duplicated()]\n",
        "duplicateRowsDF"
      ],
      "execution_count": null,
      "outputs": [
        {
          "output_type": "execute_result",
          "data": {
            "text/html": [
              "<div>\n",
              "<style scoped>\n",
              "    .dataframe tbody tr th:only-of-type {\n",
              "        vertical-align: middle;\n",
              "    }\n",
              "\n",
              "    .dataframe tbody tr th {\n",
              "        vertical-align: top;\n",
              "    }\n",
              "\n",
              "    .dataframe thead th {\n",
              "        text-align: right;\n",
              "    }\n",
              "</style>\n",
              "<table border=\"1\" class=\"dataframe\">\n",
              "  <thead>\n",
              "    <tr style=\"text-align: right;\">\n",
              "      <th></th>\n",
              "      <th>Short description</th>\n",
              "      <th>Description</th>\n",
              "      <th>Caller</th>\n",
              "      <th>Assignment group</th>\n",
              "    </tr>\n",
              "  </thead>\n",
              "  <tbody>\n",
              "    <tr>\n",
              "      <th>51</th>\n",
              "      <td>call for ecwtrjnq jpecxuty</td>\n",
              "      <td>call for ecwtrjnq jpecxuty</td>\n",
              "      <td>olckhmvx pcqobjnd</td>\n",
              "      <td>GRP_0</td>\n",
              "    </tr>\n",
              "    <tr>\n",
              "      <th>229</th>\n",
              "      <td>call for ecwtrjnq jpecxuty</td>\n",
              "      <td>call for ecwtrjnq jpecxuty</td>\n",
              "      <td>olckhmvx pcqobjnd</td>\n",
              "      <td>GRP_0</td>\n",
              "    </tr>\n",
              "    <tr>\n",
              "      <th>493</th>\n",
              "      <td>ticket update on inplant_872730</td>\n",
              "      <td>ticket update on inplant_872730</td>\n",
              "      <td>fumkcsji sarmtlhy</td>\n",
              "      <td>GRP_0</td>\n",
              "    </tr>\n",
              "    <tr>\n",
              "      <th>512</th>\n",
              "      <td>blank call //gso</td>\n",
              "      <td>blank call //gso</td>\n",
              "      <td>rbozivdq gmlhrtvp</td>\n",
              "      <td>GRP_0</td>\n",
              "    </tr>\n",
              "    <tr>\n",
              "      <th>667</th>\n",
              "      <td>job bkbackup_tool_powder_prod_full failed in j...</td>\n",
              "      <td>received from: monitoring_tool@company.com\\r\\n...</td>\n",
              "      <td>bpctwhsn kzqsbmtp</td>\n",
              "      <td>GRP_8</td>\n",
              "    </tr>\n",
              "    <tr>\n",
              "      <th>...</th>\n",
              "      <td>...</td>\n",
              "      <td>...</td>\n",
              "      <td>...</td>\n",
              "      <td>...</td>\n",
              "    </tr>\n",
              "    <tr>\n",
              "      <th>7836</th>\n",
              "      <td>probleme mit erpgui \\tmqfjard qzhgdoua</td>\n",
              "      <td>probleme mit erpgui \\tmqfjard qzhgdoua</td>\n",
              "      <td>tmqfjard qzhgdoua</td>\n",
              "      <td>GRP_24</td>\n",
              "    </tr>\n",
              "    <tr>\n",
              "      <th>8051</th>\n",
              "      <td>issue on pricing in distributor_tool</td>\n",
              "      <td>we have agreed price with many of the distribu...</td>\n",
              "      <td>hbmwlprq ilfvyodx</td>\n",
              "      <td>GRP_21</td>\n",
              "    </tr>\n",
              "    <tr>\n",
              "      <th>8093</th>\n",
              "      <td>reset passwords for prgthyuulla ramdntythanjes...</td>\n",
              "      <td>the</td>\n",
              "      <td>boirqctx bkijgqry</td>\n",
              "      <td>GRP_17</td>\n",
              "    </tr>\n",
              "    <tr>\n",
              "      <th>8347</th>\n",
              "      <td>blank call // loud noise</td>\n",
              "      <td>blank call // loud noise</td>\n",
              "      <td>rbozivdq gmlhrtvp</td>\n",
              "      <td>GRP_0</td>\n",
              "    </tr>\n",
              "    <tr>\n",
              "      <th>8405</th>\n",
              "      <td>unable to launch outlook</td>\n",
              "      <td>unable to launch outlook</td>\n",
              "      <td>wjtzrmqc ikqpbflg</td>\n",
              "      <td>GRP_0</td>\n",
              "    </tr>\n",
              "  </tbody>\n",
              "</table>\n",
              "<p>83 rows × 4 columns</p>\n",
              "</div>"
            ],
            "text/plain": [
              "                                      Short description  ... Assignment group\n",
              "51                           call for ecwtrjnq jpecxuty  ...            GRP_0\n",
              "229                          call for ecwtrjnq jpecxuty  ...            GRP_0\n",
              "493                     ticket update on inplant_872730  ...            GRP_0\n",
              "512                                    blank call //gso  ...            GRP_0\n",
              "667   job bkbackup_tool_powder_prod_full failed in j...  ...            GRP_8\n",
              "...                                                 ...  ...              ...\n",
              "7836             probleme mit erpgui \\tmqfjard qzhgdoua  ...           GRP_24\n",
              "8051               issue on pricing in distributor_tool  ...           GRP_21\n",
              "8093  reset passwords for prgthyuulla ramdntythanjes...  ...           GRP_17\n",
              "8347                           blank call // loud noise  ...            GRP_0\n",
              "8405                           unable to launch outlook  ...            GRP_0\n",
              "\n",
              "[83 rows x 4 columns]"
            ]
          },
          "metadata": {
            "tags": []
          },
          "execution_count": 17
        }
      ]
    },
    {
      "cell_type": "code",
      "metadata": {
        "id": "dhyLt9uWlQSu",
        "colab_type": "code",
        "colab": {}
      },
      "source": [
        "# Remove Duplicates\n",
        "incidents_upd = incidents.drop_duplicates(['Short description', 'Description', 'Caller', 'Assignment group'])"
      ],
      "execution_count": null,
      "outputs": []
    },
    {
      "cell_type": "markdown",
      "metadata": {
        "id": "Ex4CNRN9vTRi",
        "colab_type": "text"
      },
      "source": [
        "#### Basic cleansing of data"
      ]
    },
    {
      "cell_type": "code",
      "metadata": {
        "id": "rO-d1Y0utoKn",
        "colab_type": "code",
        "colab": {
          "base_uri": "https://localhost:8080/",
          "height": 545
        },
        "outputId": "cfb73798-c727-436a-be46-b7010a4e596b"
      },
      "source": [
        "# before removing caller we can see that similar string is present in description, we can clean decription first\n",
        "\n",
        "\n",
        "incidents_upd['Caller email'] = incidents_upd.apply(lambda x: x['Caller'].replace(' ', '.'), axis=1)\n",
        "incidents_upd['Caller email'] = incidents_upd.apply(lambda x: x['Caller email'] + '@gmail.com', axis=1)\n",
        "incidents_upd.head(10)"
      ],
      "execution_count": null,
      "outputs": [
        {
          "output_type": "stream",
          "text": [
            "/usr/local/lib/python3.6/dist-packages/ipykernel_launcher.py:4: SettingWithCopyWarning: \n",
            "A value is trying to be set on a copy of a slice from a DataFrame.\n",
            "Try using .loc[row_indexer,col_indexer] = value instead\n",
            "\n",
            "See the caveats in the documentation: https://pandas.pydata.org/pandas-docs/stable/user_guide/indexing.html#returning-a-view-versus-a-copy\n",
            "  after removing the cwd from sys.path.\n",
            "/usr/local/lib/python3.6/dist-packages/ipykernel_launcher.py:5: SettingWithCopyWarning: \n",
            "A value is trying to be set on a copy of a slice from a DataFrame.\n",
            "Try using .loc[row_indexer,col_indexer] = value instead\n",
            "\n",
            "See the caveats in the documentation: https://pandas.pydata.org/pandas-docs/stable/user_guide/indexing.html#returning-a-view-versus-a-copy\n",
            "  \"\"\"\n"
          ],
          "name": "stderr"
        },
        {
          "output_type": "execute_result",
          "data": {
            "text/html": [
              "<div>\n",
              "<style scoped>\n",
              "    .dataframe tbody tr th:only-of-type {\n",
              "        vertical-align: middle;\n",
              "    }\n",
              "\n",
              "    .dataframe tbody tr th {\n",
              "        vertical-align: top;\n",
              "    }\n",
              "\n",
              "    .dataframe thead th {\n",
              "        text-align: right;\n",
              "    }\n",
              "</style>\n",
              "<table border=\"1\" class=\"dataframe\">\n",
              "  <thead>\n",
              "    <tr style=\"text-align: right;\">\n",
              "      <th></th>\n",
              "      <th>Short description</th>\n",
              "      <th>Description</th>\n",
              "      <th>Caller</th>\n",
              "      <th>Assignment group</th>\n",
              "      <th>Caller email</th>\n",
              "    </tr>\n",
              "  </thead>\n",
              "  <tbody>\n",
              "    <tr>\n",
              "      <th>0</th>\n",
              "      <td>login issue</td>\n",
              "      <td>-verified user details.(employee# &amp; manager na...</td>\n",
              "      <td>spxjnwir pjlcoqds</td>\n",
              "      <td>GRP_0</td>\n",
              "      <td>spxjnwir.pjlcoqds@gmail.com</td>\n",
              "    </tr>\n",
              "    <tr>\n",
              "      <th>1</th>\n",
              "      <td>outlook</td>\n",
              "      <td>\\r\\n\\r\\nreceived from: hmjdrvpb.komuaywn@gmail...</td>\n",
              "      <td>hmjdrvpb komuaywn</td>\n",
              "      <td>GRP_0</td>\n",
              "      <td>hmjdrvpb.komuaywn@gmail.com</td>\n",
              "    </tr>\n",
              "    <tr>\n",
              "      <th>2</th>\n",
              "      <td>cant log in to vpn</td>\n",
              "      <td>\\r\\n\\r\\nreceived from: eylqgodm.ybqkwiam@gmail...</td>\n",
              "      <td>eylqgodm ybqkwiam</td>\n",
              "      <td>GRP_0</td>\n",
              "      <td>eylqgodm.ybqkwiam@gmail.com</td>\n",
              "    </tr>\n",
              "    <tr>\n",
              "      <th>3</th>\n",
              "      <td>unable to access hr_tool page</td>\n",
              "      <td>unable to access hr_tool page</td>\n",
              "      <td>xbkucsvz gcpydteq</td>\n",
              "      <td>GRP_0</td>\n",
              "      <td>xbkucsvz.gcpydteq@gmail.com</td>\n",
              "    </tr>\n",
              "    <tr>\n",
              "      <th>4</th>\n",
              "      <td>skype error</td>\n",
              "      <td>skype error</td>\n",
              "      <td>owlgqjme qhcozdfx</td>\n",
              "      <td>GRP_0</td>\n",
              "      <td>owlgqjme.qhcozdfx@gmail.com</td>\n",
              "    </tr>\n",
              "    <tr>\n",
              "      <th>5</th>\n",
              "      <td>unable to log in to engineering tool and skype</td>\n",
              "      <td>unable to log in to engineering tool and skype</td>\n",
              "      <td>eflahbxn ltdgrvkz</td>\n",
              "      <td>GRP_0</td>\n",
              "      <td>eflahbxn.ltdgrvkz@gmail.com</td>\n",
              "    </tr>\n",
              "    <tr>\n",
              "      <th>6</th>\n",
              "      <td>event: critical:HostName_221.company.com the v...</td>\n",
              "      <td>event: critical:HostName_221.company.com the v...</td>\n",
              "      <td>jyoqwxhz clhxsoqy</td>\n",
              "      <td>GRP_1</td>\n",
              "      <td>jyoqwxhz.clhxsoqy@gmail.com</td>\n",
              "    </tr>\n",
              "    <tr>\n",
              "      <th>7</th>\n",
              "      <td>ticket_no1550391- employment status - new non-...</td>\n",
              "      <td>ticket_no1550391- employment status - new non-...</td>\n",
              "      <td>eqzibjhw ymebpoih</td>\n",
              "      <td>GRP_0</td>\n",
              "      <td>eqzibjhw.ymebpoih@gmail.com</td>\n",
              "    </tr>\n",
              "    <tr>\n",
              "      <th>8</th>\n",
              "      <td>unable to disable add ins on outlook</td>\n",
              "      <td>unable to disable add ins on outlook</td>\n",
              "      <td>mdbegvct dbvichlg</td>\n",
              "      <td>GRP_0</td>\n",
              "      <td>mdbegvct.dbvichlg@gmail.com</td>\n",
              "    </tr>\n",
              "    <tr>\n",
              "      <th>9</th>\n",
              "      <td>ticket update on inplant_874773</td>\n",
              "      <td>ticket update on inplant_874773</td>\n",
              "      <td>fumkcsji sarmtlhy</td>\n",
              "      <td>GRP_0</td>\n",
              "      <td>fumkcsji.sarmtlhy@gmail.com</td>\n",
              "    </tr>\n",
              "  </tbody>\n",
              "</table>\n",
              "</div>"
            ],
            "text/plain": [
              "                                   Short description  ...                 Caller email\n",
              "0                                        login issue  ...  spxjnwir.pjlcoqds@gmail.com\n",
              "1                                            outlook  ...  hmjdrvpb.komuaywn@gmail.com\n",
              "2                                 cant log in to vpn  ...  eylqgodm.ybqkwiam@gmail.com\n",
              "3                      unable to access hr_tool page  ...  xbkucsvz.gcpydteq@gmail.com\n",
              "4                                       skype error   ...  owlgqjme.qhcozdfx@gmail.com\n",
              "5     unable to log in to engineering tool and skype  ...  eflahbxn.ltdgrvkz@gmail.com\n",
              "6  event: critical:HostName_221.company.com the v...  ...  jyoqwxhz.clhxsoqy@gmail.com\n",
              "7  ticket_no1550391- employment status - new non-...  ...  eqzibjhw.ymebpoih@gmail.com\n",
              "8               unable to disable add ins on outlook  ...  mdbegvct.dbvichlg@gmail.com\n",
              "9                    ticket update on inplant_874773  ...  fumkcsji.sarmtlhy@gmail.com\n",
              "\n",
              "[10 rows x 5 columns]"
            ]
          },
          "metadata": {
            "tags": []
          },
          "execution_count": 16
        }
      ]
    },
    {
      "cell_type": "code",
      "metadata": {
        "id": "mlTuBsK-ttZp",
        "colab_type": "code",
        "colab": {
          "base_uri": "https://localhost:8080/",
          "height": 444
        },
        "outputId": "3d9b456f-d409-44d7-f6a8-36424abf07a3"
      },
      "source": [
        "incidents_upd['Description']=incidents_upd.apply(lambda x: x['Description'].replace(x['Caller email'], ''), axis=1)\n",
        "incidents_upd.head(10)"
      ],
      "execution_count": null,
      "outputs": [
        {
          "output_type": "stream",
          "text": [
            "/usr/local/lib/python3.6/dist-packages/ipykernel_launcher.py:1: SettingWithCopyWarning: \n",
            "A value is trying to be set on a copy of a slice from a DataFrame.\n",
            "Try using .loc[row_indexer,col_indexer] = value instead\n",
            "\n",
            "See the caveats in the documentation: https://pandas.pydata.org/pandas-docs/stable/user_guide/indexing.html#returning-a-view-versus-a-copy\n",
            "  \"\"\"Entry point for launching an IPython kernel.\n"
          ],
          "name": "stderr"
        },
        {
          "output_type": "execute_result",
          "data": {
            "text/html": [
              "<div>\n",
              "<style scoped>\n",
              "    .dataframe tbody tr th:only-of-type {\n",
              "        vertical-align: middle;\n",
              "    }\n",
              "\n",
              "    .dataframe tbody tr th {\n",
              "        vertical-align: top;\n",
              "    }\n",
              "\n",
              "    .dataframe thead th {\n",
              "        text-align: right;\n",
              "    }\n",
              "</style>\n",
              "<table border=\"1\" class=\"dataframe\">\n",
              "  <thead>\n",
              "    <tr style=\"text-align: right;\">\n",
              "      <th></th>\n",
              "      <th>Short description</th>\n",
              "      <th>Description</th>\n",
              "      <th>Caller</th>\n",
              "      <th>Assignment group</th>\n",
              "      <th>Caller email</th>\n",
              "    </tr>\n",
              "  </thead>\n",
              "  <tbody>\n",
              "    <tr>\n",
              "      <th>0</th>\n",
              "      <td>login issue</td>\n",
              "      <td>-verified user details.(employee# &amp; manager na...</td>\n",
              "      <td>spxjnwir pjlcoqds</td>\n",
              "      <td>GRP_0</td>\n",
              "      <td>spxjnwir.pjlcoqds@gmail.com</td>\n",
              "    </tr>\n",
              "    <tr>\n",
              "      <th>1</th>\n",
              "      <td>outlook</td>\n",
              "      <td>\\r\\n\\r\\nreceived from: \\r\\n\\r\\nhello team,\\r\\n...</td>\n",
              "      <td>hmjdrvpb komuaywn</td>\n",
              "      <td>GRP_0</td>\n",
              "      <td>hmjdrvpb.komuaywn@gmail.com</td>\n",
              "    </tr>\n",
              "    <tr>\n",
              "      <th>2</th>\n",
              "      <td>cant log in to vpn</td>\n",
              "      <td>\\r\\n\\r\\nreceived from: \\r\\n\\r\\nhi\\r\\n\\r\\ni can...</td>\n",
              "      <td>eylqgodm ybqkwiam</td>\n",
              "      <td>GRP_0</td>\n",
              "      <td>eylqgodm.ybqkwiam@gmail.com</td>\n",
              "    </tr>\n",
              "    <tr>\n",
              "      <th>3</th>\n",
              "      <td>unable to access hr_tool page</td>\n",
              "      <td>unable to access hr_tool page</td>\n",
              "      <td>xbkucsvz gcpydteq</td>\n",
              "      <td>GRP_0</td>\n",
              "      <td>xbkucsvz.gcpydteq@gmail.com</td>\n",
              "    </tr>\n",
              "    <tr>\n",
              "      <th>4</th>\n",
              "      <td>skype error</td>\n",
              "      <td>skype error</td>\n",
              "      <td>owlgqjme qhcozdfx</td>\n",
              "      <td>GRP_0</td>\n",
              "      <td>owlgqjme.qhcozdfx@gmail.com</td>\n",
              "    </tr>\n",
              "    <tr>\n",
              "      <th>5</th>\n",
              "      <td>unable to log in to engineering tool and skype</td>\n",
              "      <td>unable to log in to engineering tool and skype</td>\n",
              "      <td>eflahbxn ltdgrvkz</td>\n",
              "      <td>GRP_0</td>\n",
              "      <td>eflahbxn.ltdgrvkz@gmail.com</td>\n",
              "    </tr>\n",
              "    <tr>\n",
              "      <th>6</th>\n",
              "      <td>event: critical:HostName_221.company.com the v...</td>\n",
              "      <td>event: critical:HostName_221.company.com the v...</td>\n",
              "      <td>jyoqwxhz clhxsoqy</td>\n",
              "      <td>GRP_1</td>\n",
              "      <td>jyoqwxhz.clhxsoqy@gmail.com</td>\n",
              "    </tr>\n",
              "    <tr>\n",
              "      <th>7</th>\n",
              "      <td>ticket_no1550391- employment status - new non-...</td>\n",
              "      <td>ticket_no1550391- employment status - new non-...</td>\n",
              "      <td>eqzibjhw ymebpoih</td>\n",
              "      <td>GRP_0</td>\n",
              "      <td>eqzibjhw.ymebpoih@gmail.com</td>\n",
              "    </tr>\n",
              "    <tr>\n",
              "      <th>8</th>\n",
              "      <td>unable to disable add ins on outlook</td>\n",
              "      <td>unable to disable add ins on outlook</td>\n",
              "      <td>mdbegvct dbvichlg</td>\n",
              "      <td>GRP_0</td>\n",
              "      <td>mdbegvct.dbvichlg@gmail.com</td>\n",
              "    </tr>\n",
              "    <tr>\n",
              "      <th>9</th>\n",
              "      <td>ticket update on inplant_874773</td>\n",
              "      <td>ticket update on inplant_874773</td>\n",
              "      <td>fumkcsji sarmtlhy</td>\n",
              "      <td>GRP_0</td>\n",
              "      <td>fumkcsji.sarmtlhy@gmail.com</td>\n",
              "    </tr>\n",
              "  </tbody>\n",
              "</table>\n",
              "</div>"
            ],
            "text/plain": [
              "                                   Short description  ...                 Caller email\n",
              "0                                        login issue  ...  spxjnwir.pjlcoqds@gmail.com\n",
              "1                                            outlook  ...  hmjdrvpb.komuaywn@gmail.com\n",
              "2                                 cant log in to vpn  ...  eylqgodm.ybqkwiam@gmail.com\n",
              "3                      unable to access hr_tool page  ...  xbkucsvz.gcpydteq@gmail.com\n",
              "4                                       skype error   ...  owlgqjme.qhcozdfx@gmail.com\n",
              "5     unable to log in to engineering tool and skype  ...  eflahbxn.ltdgrvkz@gmail.com\n",
              "6  event: critical:HostName_221.company.com the v...  ...  jyoqwxhz.clhxsoqy@gmail.com\n",
              "7  ticket_no1550391- employment status - new non-...  ...  eqzibjhw.ymebpoih@gmail.com\n",
              "8               unable to disable add ins on outlook  ...  mdbegvct.dbvichlg@gmail.com\n",
              "9                    ticket update on inplant_874773  ...  fumkcsji.sarmtlhy@gmail.com\n",
              "\n",
              "[10 rows x 5 columns]"
            ]
          },
          "metadata": {
            "tags": []
          },
          "execution_count": 17
        }
      ]
    },
    {
      "cell_type": "code",
      "metadata": {
        "id": "d9fNu3LZtwCt",
        "colab_type": "code",
        "colab": {}
      },
      "source": [
        "# Observation :: caller column is useless and can be dropped\n",
        "\n",
        "incidents_upd = incidents_upd.drop(['Caller'],axis=1)\n",
        "incidents_upd = incidents_upd.drop(['Caller email'],axis=1)"
      ],
      "execution_count": null,
      "outputs": []
    },
    {
      "cell_type": "code",
      "metadata": {
        "id": "Uqk3DCa6twpN",
        "colab_type": "code",
        "colab": {
          "base_uri": "https://localhost:8080/",
          "height": 343
        },
        "outputId": "9c09968d-cc67-4ae3-d67c-4ffe60a9d498"
      },
      "source": [
        "#remove spaces trailing\n",
        "incidents_upd['Short description'] = incidents_upd['Short description'].str.strip()\n",
        "incidents_upd['Description'] = incidents_upd['Description'].str.strip()\n",
        "\n",
        "#remove tabs and carriage returns\n",
        "incidents_upd.replace(to_replace=[r\"\\\\t|\\\\n|\\\\r\", \"\\t|\\n|\\r\"], value=[\" \",\" \"], regex=True, inplace=True)\n",
        "\n",
        "#Getting rid of numbers & special characters etc\n",
        "\n",
        "spec_chars = [\"!\",'\"',\"#\",\"%\",\"&\",\"'\",\"(\",\")\",\n",
        "              \"*\",\"+\",\",\",\"-\",\".\",\"/\",\":\",\";\",\"<\",\n",
        "              \"=\",\">\",\"?\",\"@\",\"[\",\"\\\\\",\"]\",\"^\",\"_\",\n",
        "              \"`\",\"{\",\"|\",\"}\",\"~\",\"–\"]\n",
        "for char in spec_chars:\n",
        "    incidents_upd['Short description'] = incidents_upd['Description'].str.replace(char, ' ')\n",
        "    incidents_upd['Description'] = incidents_upd['Description'].str.replace(char, ' ')\n",
        "\n",
        "#remove numbers    \n",
        "incidents_upd['Description'] = incidents_upd['Description'].replace('\\d+', '', regex=True)\n",
        "incidents_upd['Short description'] = incidents_upd['Short description'].replace('\\d+', '', regex=True)\n",
        "    \n",
        "#remove more than 1 space\n",
        "incidents_upd.replace('\\s+', ' ', regex=True, inplace=True)\n",
        "\n",
        "#make lower case\n",
        "incidents_upd.apply(lambda x: x.astype(str).str.lower())\n",
        "\n",
        "incidents_upd.head(10)"
      ],
      "execution_count": null,
      "outputs": [
        {
          "output_type": "execute_result",
          "data": {
            "text/html": [
              "<div>\n",
              "<style scoped>\n",
              "    .dataframe tbody tr th:only-of-type {\n",
              "        vertical-align: middle;\n",
              "    }\n",
              "\n",
              "    .dataframe tbody tr th {\n",
              "        vertical-align: top;\n",
              "    }\n",
              "\n",
              "    .dataframe thead th {\n",
              "        text-align: right;\n",
              "    }\n",
              "</style>\n",
              "<table border=\"1\" class=\"dataframe\">\n",
              "  <thead>\n",
              "    <tr style=\"text-align: right;\">\n",
              "      <th></th>\n",
              "      <th>Short description</th>\n",
              "      <th>Description</th>\n",
              "      <th>Assignment group</th>\n",
              "    </tr>\n",
              "  </thead>\n",
              "  <tbody>\n",
              "    <tr>\n",
              "      <th>0</th>\n",
              "      <td>verified user details employee manager name c...</td>\n",
              "      <td>verified user details employee manager name c...</td>\n",
              "      <td>GRP_0</td>\n",
              "    </tr>\n",
              "    <tr>\n",
              "      <th>1</th>\n",
              "      <td>received from hello team my meetings skype mee...</td>\n",
              "      <td>received from hello team my meetings skype mee...</td>\n",
              "      <td>GRP_0</td>\n",
              "    </tr>\n",
              "    <tr>\n",
              "      <th>2</th>\n",
              "      <td>received from hi i cannot log on to vpn best</td>\n",
              "      <td>received from hi i cannot log on to vpn best</td>\n",
              "      <td>GRP_0</td>\n",
              "    </tr>\n",
              "    <tr>\n",
              "      <th>3</th>\n",
              "      <td>unable to access hr tool page</td>\n",
              "      <td>unable to access hr tool page</td>\n",
              "      <td>GRP_0</td>\n",
              "    </tr>\n",
              "    <tr>\n",
              "      <th>4</th>\n",
              "      <td>skype error</td>\n",
              "      <td>skype error</td>\n",
              "      <td>GRP_0</td>\n",
              "    </tr>\n",
              "    <tr>\n",
              "      <th>5</th>\n",
              "      <td>unable to log in to engineering tool and skype</td>\n",
              "      <td>unable to log in to engineering tool and skype</td>\n",
              "      <td>GRP_0</td>\n",
              "    </tr>\n",
              "    <tr>\n",
              "      <th>6</th>\n",
              "      <td>event critical HostName company com the value ...</td>\n",
              "      <td>event critical HostName company com the value ...</td>\n",
              "      <td>GRP_1</td>\n",
              "    </tr>\n",
              "    <tr>\n",
              "      <th>7</th>\n",
              "      <td>ticket no employment status new non employee e...</td>\n",
              "      <td>ticket no employment status new non employee e...</td>\n",
              "      <td>GRP_0</td>\n",
              "    </tr>\n",
              "    <tr>\n",
              "      <th>8</th>\n",
              "      <td>unable to disable add ins on outlook</td>\n",
              "      <td>unable to disable add ins on outlook</td>\n",
              "      <td>GRP_0</td>\n",
              "    </tr>\n",
              "    <tr>\n",
              "      <th>9</th>\n",
              "      <td>ticket update on inplant</td>\n",
              "      <td>ticket update on inplant</td>\n",
              "      <td>GRP_0</td>\n",
              "    </tr>\n",
              "  </tbody>\n",
              "</table>\n",
              "</div>"
            ],
            "text/plain": [
              "                                   Short description  ... Assignment group\n",
              "0   verified user details employee manager name c...  ...            GRP_0\n",
              "1  received from hello team my meetings skype mee...  ...            GRP_0\n",
              "2       received from hi i cannot log on to vpn best  ...            GRP_0\n",
              "3                      unable to access hr tool page  ...            GRP_0\n",
              "4                                        skype error  ...            GRP_0\n",
              "5     unable to log in to engineering tool and skype  ...            GRP_0\n",
              "6  event critical HostName company com the value ...  ...            GRP_1\n",
              "7  ticket no employment status new non employee e...  ...            GRP_0\n",
              "8               unable to disable add ins on outlook  ...            GRP_0\n",
              "9                          ticket update on inplant   ...            GRP_0\n",
              "\n",
              "[10 rows x 3 columns]"
            ]
          },
          "metadata": {
            "tags": []
          },
          "execution_count": 19
        }
      ]
    },
    {
      "cell_type": "code",
      "metadata": {
        "id": "3bfs_e-9t1rr",
        "colab_type": "code",
        "colab": {
          "base_uri": "https://localhost:8080/",
          "height": 343
        },
        "outputId": "eb4024f5-5cf1-4dd9-a603-501f4355955b"
      },
      "source": [
        "#merge short Description & Description\n",
        "\n",
        "incidents_upd['isSubstr'] = incidents_upd.apply(lambda x: x['Short description'] not in x['Description'], axis=1)\n",
        "\n",
        "#Now we see many places short description is redundant. We will append short description to description if True only then drop short descrition\n",
        "incidents_upd_combined = incidents_upd.copy()\n",
        "incidents_upd_combined.loc[incidents_upd_combined['isSubstr'] == True, 'Description'] = incidents_upd_combined['Short description'] + \" \"+ incidents_upd_combined['Description']\n",
        "#Drop Short description\n",
        "incidents_upd_combined = incidents_upd_combined.drop(['Short description'],axis=1)\n",
        "incidents_upd_combined = incidents_upd_combined.drop(['isSubstr'],axis=1)\n",
        "incidents_upd_combined.tail(10)"
      ],
      "execution_count": null,
      "outputs": [
        {
          "output_type": "execute_result",
          "data": {
            "text/html": [
              "<div>\n",
              "<style scoped>\n",
              "    .dataframe tbody tr th:only-of-type {\n",
              "        vertical-align: middle;\n",
              "    }\n",
              "\n",
              "    .dataframe tbody tr th {\n",
              "        vertical-align: top;\n",
              "    }\n",
              "\n",
              "    .dataframe thead th {\n",
              "        text-align: right;\n",
              "    }\n",
              "</style>\n",
              "<table border=\"1\" class=\"dataframe\">\n",
              "  <thead>\n",
              "    <tr style=\"text-align: right;\">\n",
              "      <th></th>\n",
              "      <th>Description</th>\n",
              "      <th>Assignment group</th>\n",
              "    </tr>\n",
              "  </thead>\n",
              "  <tbody>\n",
              "    <tr>\n",
              "      <th>8490</th>\n",
              "      <td>please contact ed pasgryowski pasgryo about hi...</td>\n",
              "      <td>GRP_29</td>\n",
              "    </tr>\n",
              "    <tr>\n",
              "      <th>8491</th>\n",
              "      <td>received from i need a vpn for my new laptop n...</td>\n",
              "      <td>GRP_34</td>\n",
              "    </tr>\n",
              "    <tr>\n",
              "      <th>8492</th>\n",
              "      <td>hr tool etime option not visitble</td>\n",
              "      <td>GRP_0</td>\n",
              "    </tr>\n",
              "    <tr>\n",
              "      <th>8493</th>\n",
              "      <td>i am sorry i have another two accounts that ne...</td>\n",
              "      <td>GRP_10</td>\n",
              "    </tr>\n",
              "    <tr>\n",
              "      <th>8494</th>\n",
              "      <td>tablet needs reimaged due to multiple issues w...</td>\n",
              "      <td>GRP_3</td>\n",
              "    </tr>\n",
              "    <tr>\n",
              "      <th>8495</th>\n",
              "      <td>received from good afternoon i am not receivin...</td>\n",
              "      <td>GRP_29</td>\n",
              "    </tr>\n",
              "    <tr>\n",
              "      <th>8496</th>\n",
              "      <td>telephony software issue</td>\n",
              "      <td>GRP_0</td>\n",
              "    </tr>\n",
              "    <tr>\n",
              "      <th>8497</th>\n",
              "      <td>vip windows password reset for tifpdchb pedxruyf</td>\n",
              "      <td>GRP_0</td>\n",
              "    </tr>\n",
              "    <tr>\n",
              "      <th>8498</th>\n",
              "      <td>i am unable to access the machine utilities to...</td>\n",
              "      <td>GRP_62</td>\n",
              "    </tr>\n",
              "    <tr>\n",
              "      <th>8499</th>\n",
              "      <td>an mehreren pc s lassen sich verschiedene prgr...</td>\n",
              "      <td>GRP_49</td>\n",
              "    </tr>\n",
              "  </tbody>\n",
              "</table>\n",
              "</div>"
            ],
            "text/plain": [
              "                                            Description Assignment group\n",
              "8490  please contact ed pasgryowski pasgryo about hi...           GRP_29\n",
              "8491  received from i need a vpn for my new laptop n...           GRP_34\n",
              "8492                  hr tool etime option not visitble            GRP_0\n",
              "8493  i am sorry i have another two accounts that ne...           GRP_10\n",
              "8494  tablet needs reimaged due to multiple issues w...            GRP_3\n",
              "8495  received from good afternoon i am not receivin...           GRP_29\n",
              "8496                           telephony software issue            GRP_0\n",
              "8497   vip windows password reset for tifpdchb pedxruyf            GRP_0\n",
              "8498  i am unable to access the machine utilities to...           GRP_62\n",
              "8499  an mehreren pc s lassen sich verschiedene prgr...           GRP_49"
            ]
          },
          "metadata": {
            "tags": []
          },
          "execution_count": 20
        }
      ]
    },
    {
      "cell_type": "code",
      "metadata": {
        "colab_type": "code",
        "id": "xN93MjBa7EdT",
        "colab": {
          "base_uri": "https://localhost:8080/",
          "height": 402
        },
        "outputId": "5754daba-3800-44ce-ee7f-3abee002211b"
      },
      "source": [
        "## Group by Categories\n",
        "df_grp = incidents_upd_combined.groupby(['Assignment group']).size().reset_index(name='counts')\n",
        "df_grp"
      ],
      "execution_count": null,
      "outputs": [
        {
          "output_type": "execute_result",
          "data": {
            "text/html": [
              "<div>\n",
              "<style scoped>\n",
              "    .dataframe tbody tr th:only-of-type {\n",
              "        vertical-align: middle;\n",
              "    }\n",
              "\n",
              "    .dataframe tbody tr th {\n",
              "        vertical-align: top;\n",
              "    }\n",
              "\n",
              "    .dataframe thead th {\n",
              "        text-align: right;\n",
              "    }\n",
              "</style>\n",
              "<table border=\"1\" class=\"dataframe\">\n",
              "  <thead>\n",
              "    <tr style=\"text-align: right;\">\n",
              "      <th></th>\n",
              "      <th>Assignment group</th>\n",
              "      <th>counts</th>\n",
              "    </tr>\n",
              "  </thead>\n",
              "  <tbody>\n",
              "    <tr>\n",
              "      <th>0</th>\n",
              "      <td>GRP_0</td>\n",
              "      <td>3926</td>\n",
              "    </tr>\n",
              "    <tr>\n",
              "      <th>1</th>\n",
              "      <td>GRP_1</td>\n",
              "      <td>31</td>\n",
              "    </tr>\n",
              "    <tr>\n",
              "      <th>2</th>\n",
              "      <td>GRP_10</td>\n",
              "      <td>140</td>\n",
              "    </tr>\n",
              "    <tr>\n",
              "      <th>3</th>\n",
              "      <td>GRP_11</td>\n",
              "      <td>30</td>\n",
              "    </tr>\n",
              "    <tr>\n",
              "      <th>4</th>\n",
              "      <td>GRP_12</td>\n",
              "      <td>257</td>\n",
              "    </tr>\n",
              "    <tr>\n",
              "      <th>...</th>\n",
              "      <td>...</td>\n",
              "      <td>...</td>\n",
              "    </tr>\n",
              "    <tr>\n",
              "      <th>69</th>\n",
              "      <td>GRP_71</td>\n",
              "      <td>2</td>\n",
              "    </tr>\n",
              "    <tr>\n",
              "      <th>70</th>\n",
              "      <td>GRP_72</td>\n",
              "      <td>2</td>\n",
              "    </tr>\n",
              "    <tr>\n",
              "      <th>71</th>\n",
              "      <td>GRP_73</td>\n",
              "      <td>1</td>\n",
              "    </tr>\n",
              "    <tr>\n",
              "      <th>72</th>\n",
              "      <td>GRP_8</td>\n",
              "      <td>645</td>\n",
              "    </tr>\n",
              "    <tr>\n",
              "      <th>73</th>\n",
              "      <td>GRP_9</td>\n",
              "      <td>252</td>\n",
              "    </tr>\n",
              "  </tbody>\n",
              "</table>\n",
              "<p>74 rows × 2 columns</p>\n",
              "</div>"
            ],
            "text/plain": [
              "   Assignment group  counts\n",
              "0             GRP_0    3926\n",
              "1             GRP_1      31\n",
              "2            GRP_10     140\n",
              "3            GRP_11      30\n",
              "4            GRP_12     257\n",
              "..              ...     ...\n",
              "69           GRP_71       2\n",
              "70           GRP_72       2\n",
              "71           GRP_73       1\n",
              "72            GRP_8     645\n",
              "73            GRP_9     252\n",
              "\n",
              "[74 rows x 2 columns]"
            ]
          },
          "metadata": {
            "tags": []
          },
          "execution_count": 21
        }
      ]
    },
    {
      "cell_type": "code",
      "metadata": {
        "colab_type": "code",
        "id": "_AUjEimV7Edf",
        "colab": {
          "base_uri": "https://localhost:8080/",
          "height": 284
        },
        "outputId": "d8f926c8-8f80-4d52-dee4-b11add025130"
      },
      "source": [
        "df_grp.describe()"
      ],
      "execution_count": null,
      "outputs": [
        {
          "output_type": "execute_result",
          "data": {
            "text/html": [
              "<div>\n",
              "<style scoped>\n",
              "    .dataframe tbody tr th:only-of-type {\n",
              "        vertical-align: middle;\n",
              "    }\n",
              "\n",
              "    .dataframe tbody tr th {\n",
              "        vertical-align: top;\n",
              "    }\n",
              "\n",
              "    .dataframe thead th {\n",
              "        text-align: right;\n",
              "    }\n",
              "</style>\n",
              "<table border=\"1\" class=\"dataframe\">\n",
              "  <thead>\n",
              "    <tr style=\"text-align: right;\">\n",
              "      <th></th>\n",
              "      <th>counts</th>\n",
              "    </tr>\n",
              "  </thead>\n",
              "  <tbody>\n",
              "    <tr>\n",
              "      <th>count</th>\n",
              "      <td>74.000000</td>\n",
              "    </tr>\n",
              "    <tr>\n",
              "      <th>mean</th>\n",
              "      <td>113.621622</td>\n",
              "    </tr>\n",
              "    <tr>\n",
              "      <th>std</th>\n",
              "      <td>459.823990</td>\n",
              "    </tr>\n",
              "    <tr>\n",
              "      <th>min</th>\n",
              "      <td>1.000000</td>\n",
              "    </tr>\n",
              "    <tr>\n",
              "      <th>25%</th>\n",
              "      <td>5.250000</td>\n",
              "    </tr>\n",
              "    <tr>\n",
              "      <th>50%</th>\n",
              "      <td>26.000000</td>\n",
              "    </tr>\n",
              "    <tr>\n",
              "      <th>75%</th>\n",
              "      <td>81.000000</td>\n",
              "    </tr>\n",
              "    <tr>\n",
              "      <th>max</th>\n",
              "      <td>3926.000000</td>\n",
              "    </tr>\n",
              "  </tbody>\n",
              "</table>\n",
              "</div>"
            ],
            "text/plain": [
              "            counts\n",
              "count    74.000000\n",
              "mean    113.621622\n",
              "std     459.823990\n",
              "min       1.000000\n",
              "25%       5.250000\n",
              "50%      26.000000\n",
              "75%      81.000000\n",
              "max    3926.000000"
            ]
          },
          "metadata": {
            "tags": []
          },
          "execution_count": 22
        }
      ]
    },
    {
      "cell_type": "code",
      "metadata": {
        "id": "Rwc2YNbRl6L3",
        "colab_type": "code",
        "colab": {
          "base_uri": "https://localhost:8080/",
          "height": 68
        },
        "outputId": "a793d9c5-ac88-4da4-ad50-739620d0bbab"
      },
      "source": [
        "df_grp.isna().sum()"
      ],
      "execution_count": null,
      "outputs": [
        {
          "output_type": "execute_result",
          "data": {
            "text/plain": [
              "Assignment group    0\n",
              "counts              0\n",
              "dtype: int64"
            ]
          },
          "metadata": {
            "tags": []
          },
          "execution_count": 21
        }
      ]
    },
    {
      "cell_type": "markdown",
      "metadata": {
        "id": "F0Gyk9Va5cxx",
        "colab_type": "text"
      },
      "source": [
        "\n",
        "**Observation**\n",
        "\n",
        "* The Target class distrubtion is extremely skewed\n",
        "* Large no of entries for GRP_0 (mounting to 3926) which account for ~50% of the data\n",
        "* There are groups with 1 entry also. Need to merge all groups with small entries to a group to reduce the imbalance in the target. This may reduce the imbalance to some extent."
      ]
    },
    {
      "cell_type": "markdown",
      "metadata": {
        "id": "iqjsU6AV8dYO",
        "colab_type": "text"
      },
      "source": [
        "#### Fix the class imbalance"
      ]
    },
    {
      "cell_type": "code",
      "metadata": {
        "id": "CAMDuo6F5uKs",
        "colab_type": "code",
        "colab": {
          "base_uri": "https://localhost:8080/",
          "height": 185
        },
        "outputId": "c6b4a83f-bec7-4c66-8df4-6c473101db78"
      },
      "source": [
        "sample = incidents_upd_combined.groupby(['Assignment group'])\n",
        "regroup=[]\n",
        "for grp in incidents_upd_combined['Assignment group'].unique():\n",
        "  if(sample.get_group(grp).shape[0]<10):\n",
        "    regroup.append(grp)\n",
        "print('Found {} groups which have less than 10 samples'.format(len(regroup)))\n",
        "incidents_upd_combined['Assignment group']=incidents_upd_combined['Assignment group'].apply(lambda x : 'misc_grp' if x in regroup  else x)\n",
        "\n",
        "# Unique Groups check \n",
        "incidents_upd_combined['Assignment group'].unique()"
      ],
      "execution_count": null,
      "outputs": [
        {
          "output_type": "stream",
          "text": [
            "Found 25 groups which have less than 10 samples\n"
          ],
          "name": "stdout"
        },
        {
          "output_type": "execute_result",
          "data": {
            "text/plain": [
              "array(['GRP_0', 'GRP_1', 'GRP_3', 'GRP_4', 'GRP_5', 'GRP_6', 'GRP_7',\n",
              "       'GRP_8', 'GRP_9', 'GRP_10', 'GRP_11', 'GRP_12', 'GRP_13', 'GRP_14',\n",
              "       'GRP_15', 'GRP_16', 'GRP_17', 'GRP_18', 'GRP_19', 'GRP_2',\n",
              "       'GRP_20', 'GRP_21', 'GRP_22', 'GRP_23', 'GRP_24', 'GRP_25',\n",
              "       'GRP_26', 'GRP_27', 'GRP_28', 'GRP_29', 'GRP_30', 'GRP_31',\n",
              "       'GRP_33', 'GRP_34', 'misc_grp', 'GRP_36', 'GRP_37', 'GRP_39',\n",
              "       'GRP_40', 'GRP_41', 'GRP_42', 'GRP_44', 'GRP_45', 'GRP_47',\n",
              "       'GRP_48', 'GRP_50', 'GRP_53', 'GRP_60', 'GRP_62', 'GRP_65'],\n",
              "      dtype=object)"
            ]
          },
          "metadata": {
            "tags": []
          },
          "execution_count": 23
        }
      ]
    },
    {
      "cell_type": "markdown",
      "metadata": {
        "id": "_EHrDGA38la1",
        "colab_type": "text"
      },
      "source": [
        "### Text Pre-processing"
      ]
    },
    {
      "cell_type": "code",
      "metadata": {
        "id": "d9E1Xe5a8AI_",
        "colab_type": "code",
        "colab": {
          "base_uri": "https://localhost:8080/",
          "height": 312
        },
        "outputId": "356e9d9b-0fa4-46ff-cfd9-255f412214b0"
      },
      "source": [
        "import nltk\n",
        "import string\n",
        "from nltk import FreqDist\n",
        "nltk.download('stopwords') \n",
        "from nltk.tokenize import word_tokenize\n",
        "from nltk.corpus import stopwords, wordnet\n",
        "from nltk.stem import WordNetLemmatizer\n",
        "plt.xticks(rotation=70)\n",
        "pd.options.mode.chained_assignment = None\n",
        "pd.set_option('display.max_colwidth', 100)"
      ],
      "execution_count": null,
      "outputs": [
        {
          "output_type": "stream",
          "text": [
            "[nltk_data] Downloading package stopwords to /root/nltk_data...\n",
            "[nltk_data]   Unzipping corpora/stopwords.zip.\n"
          ],
          "name": "stdout"
        },
        {
          "output_type": "display_data",
          "data": {
            "image/png": "[encoded data removed]",
            "text/plain": [
              "<Figure size 432x288 with 1 Axes>"
            ]
          },
          "metadata": {
            "tags": [],
            "needs_background": "light"
          }
        }
      ]
    },
    {
      "cell_type": "code",
      "metadata": {
        "id": "AXenRcVn_wqM",
        "colab_type": "code",
        "colab": {
          "base_uri": "https://localhost:8080/",
          "height": 235
        },
        "outputId": "98397c1c-55e4-444a-dfdc-4f36b5b8e87e"
      },
      "source": [
        "!pip install fasttext"
      ],
      "execution_count": null,
      "outputs": [
        {
          "output_type": "stream",
          "text": [
            "Collecting fasttext\n",
            "\u001b[?25l  Downloading https://files.pythonhosted.org/packages/f8/85/e2b368ab6d3528827b147fdb814f8189acc981a4bc2f99ab894650e05c40/fasttext-0.9.2.tar.gz (68kB)\n",
            "\r\u001b[K     |████▊                           | 10kB 16.4MB/s eta 0:00:01\r\u001b[K     |█████████▌                      | 20kB 1.7MB/s eta 0:00:01\r\u001b[K     |██████████████▎                 | 30kB 2.3MB/s eta 0:00:01\r\u001b[K     |███████████████████             | 40kB 2.5MB/s eta 0:00:01\r\u001b[K     |███████████████████████▉        | 51kB 1.9MB/s eta 0:00:01\r\u001b[K     |████████████████████████████▋   | 61kB 2.2MB/s eta 0:00:01\r\u001b[K     |████████████████████████████████| 71kB 1.9MB/s \n",
            "\u001b[?25hRequirement already satisfied: pybind11>=2.2 in /usr/local/lib/python3.6/dist-packages (from fasttext) (2.5.0)\n",
            "Requirement already satisfied: setuptools>=0.7.0 in /usr/local/lib/python3.6/dist-packages (from fasttext) (49.2.0)\n",
            "Requirement already satisfied: numpy in /usr/local/lib/python3.6/dist-packages (from fasttext) (1.18.5)\n",
            "Building wheels for collected packages: fasttext\n",
            "  Building wheel for fasttext (setup.py) ... \u001b[?25l\u001b[?25hdone\n",
            "  Created wheel for fasttext: filename=fasttext-0.9.2-cp36-cp36m-linux_x86_64.whl size=3019520 sha256=3cf86d2d8be41aac793cbca83b74187db81e737616c16bbc199d57d90bffc30f\n",
            "  Stored in directory: /root/.cache/pip/wheels/98/ba/7f/b154944a1cf5a8cee91c154b75231136cc3a3321ab0e30f592\n",
            "Successfully built fasttext\n",
            "Installing collected packages: fasttext\n",
            "Successfully installed fasttext-0.9.2\n"
          ],
          "name": "stdout"
        }
      ]
    },
    {
      "cell_type": "code",
      "metadata": {
        "id": "kA1Rv9_2Bf-W",
        "colab_type": "code",
        "colab": {
          "base_uri": "https://localhost:8080/",
          "height": 302
        },
        "outputId": "6beadee7-c356-496d-b0b1-4e55bd724720"
      },
      "source": [
        "!pip install contractions"
      ],
      "execution_count": null,
      "outputs": [
        {
          "output_type": "stream",
          "text": [
            "Collecting contractions\n",
            "  Downloading https://files.pythonhosted.org/packages/00/92/a05b76a692ac08d470ae5c23873cf1c9a041532f1ee065e74b374f218306/contractions-0.0.25-py2.py3-none-any.whl\n",
            "Collecting textsearch\n",
            "  Downloading https://files.pythonhosted.org/packages/42/a8/03407021f9555043de5492a2bd7a35c56cc03c2510092b5ec018cae1bbf1/textsearch-0.0.17-py2.py3-none-any.whl\n",
            "Collecting pyahocorasick\n",
            "\u001b[?25l  Downloading https://files.pythonhosted.org/packages/f4/9f/f0d8e8850e12829eea2e778f1c90e3c53a9a799b7f412082a5d21cd19ae1/pyahocorasick-1.4.0.tar.gz (312kB)\n",
            "\u001b[K     |████████████████████████████████| 317kB 3.9MB/s \n",
            "\u001b[?25hCollecting Unidecode\n",
            "\u001b[?25l  Downloading https://files.pythonhosted.org/packages/d0/42/d9edfed04228bacea2d824904cae367ee9efd05e6cce7ceaaedd0b0ad964/Unidecode-1.1.1-py2.py3-none-any.whl (238kB)\n",
            "\u001b[K     |████████████████████████████████| 245kB 8.6MB/s \n",
            "\u001b[?25hBuilding wheels for collected packages: pyahocorasick\n",
            "  Building wheel for pyahocorasick (setup.py) ... \u001b[?25l\u001b[?25hdone\n",
            "  Created wheel for pyahocorasick: filename=pyahocorasick-1.4.0-cp36-cp36m-linux_x86_64.whl size=81701 sha256=d7d5ca8cdce40b0932883eed5589edade755c85e1c82b536508a0ec9b77f6103\n",
            "  Stored in directory: /root/.cache/pip/wheels/0a/90/61/87a55f5b459792fbb2b7ba6b31721b06ff5cf6bde541b40994\n",
            "Successfully built pyahocorasick\n",
            "Installing collected packages: pyahocorasick, Unidecode, textsearch, contractions\n",
            "Successfully installed Unidecode-1.1.1 contractions-0.0.25 pyahocorasick-1.4.0 textsearch-0.0.17\n"
          ],
          "name": "stdout"
        }
      ]
    },
    {
      "cell_type": "code",
      "metadata": {
        "id": "hO7wZGIvCnak",
        "colab_type": "code",
        "colab": {}
      },
      "source": [
        "import contractions\n",
        "import fasttext"
      ],
      "execution_count": null,
      "outputs": []
    },
    {
      "cell_type": "code",
      "metadata": {
        "id": "bRUuRkKMAdcL",
        "colab_type": "code",
        "colab": {
          "base_uri": "https://localhost:8080/",
          "height": 958
        },
        "outputId": "4748e853-9e03-4020-8ec8-b9f123c2b27e"
      },
      "source": [
        "!pip install gensim\n",
        "!pip install bs4\n",
        "!pip install pyLDAvis\n",
        "!pip install warnings"
      ],
      "execution_count": null,
      "outputs": [
        {
          "output_type": "stream",
          "text": [
            "Requirement already satisfied: gensim in /usr/local/lib/python3.6/dist-packages (3.6.0)\n",
            "Requirement already satisfied: six>=1.5.0 in /usr/local/lib/python3.6/dist-packages (from gensim) (1.15.0)\n",
            "Requirement already satisfied: scipy>=0.18.1 in /usr/local/lib/python3.6/dist-packages (from gensim) (1.4.1)\n",
            "Requirement already satisfied: numpy>=1.11.3 in /usr/local/lib/python3.6/dist-packages (from gensim) (1.18.5)\n",
            "Requirement already satisfied: smart-open>=1.2.1 in /usr/local/lib/python3.6/dist-packages (from gensim) (2.1.0)\n",
            "Requirement already satisfied: boto in /usr/local/lib/python3.6/dist-packages (from smart-open>=1.2.1->gensim) (2.49.0)\n",
            "Requirement already satisfied: requests in /usr/local/lib/python3.6/dist-packages (from smart-open>=1.2.1->gensim) (2.23.0)\n",
            "Requirement already satisfied: boto3 in /usr/local/lib/python3.6/dist-packages (from smart-open>=1.2.1->gensim) (1.14.33)\n",
            "Requirement already satisfied: idna<3,>=2.5 in /usr/local/lib/python3.6/dist-packages (from requests->smart-open>=1.2.1->gensim) (2.10)\n",
            "Requirement already satisfied: urllib3!=1.25.0,!=1.25.1,<1.26,>=1.21.1 in /usr/local/lib/python3.6/dist-packages (from requests->smart-open>=1.2.1->gensim) (1.24.3)\n",
            "Requirement already satisfied: certifi>=2017.4.17 in /usr/local/lib/python3.6/dist-packages (from requests->smart-open>=1.2.1->gensim) (2020.6.20)\n",
            "Requirement already satisfied: chardet<4,>=3.0.2 in /usr/local/lib/python3.6/dist-packages (from requests->smart-open>=1.2.1->gensim) (3.0.4)\n",
            "Requirement already satisfied: s3transfer<0.4.0,>=0.3.0 in /usr/local/lib/python3.6/dist-packages (from boto3->smart-open>=1.2.1->gensim) (0.3.3)\n",
            "Requirement already satisfied: botocore<1.18.0,>=1.17.33 in /usr/local/lib/python3.6/dist-packages (from boto3->smart-open>=1.2.1->gensim) (1.17.33)\n",
            "Requirement already satisfied: jmespath<1.0.0,>=0.7.1 in /usr/local/lib/python3.6/dist-packages (from boto3->smart-open>=1.2.1->gensim) (0.10.0)\n",
            "Requirement already satisfied: docutils<0.16,>=0.10 in /usr/local/lib/python3.6/dist-packages (from botocore<1.18.0,>=1.17.33->boto3->smart-open>=1.2.1->gensim) (0.15.2)\n",
            "Requirement already satisfied: python-dateutil<3.0.0,>=2.1 in /usr/local/lib/python3.6/dist-packages (from botocore<1.18.0,>=1.17.33->boto3->smart-open>=1.2.1->gensim) (2.8.1)\n",
            "Requirement already satisfied: bs4 in /usr/local/lib/python3.6/dist-packages (0.0.1)\n",
            "Requirement already satisfied: beautifulsoup4 in /usr/local/lib/python3.6/dist-packages (from bs4) (4.6.3)\n",
            "Collecting pyLDAvis\n",
            "\u001b[?25l  Downloading https://files.pythonhosted.org/packages/a5/3a/af82e070a8a96e13217c8f362f9a73e82d61ac8fff3a2561946a97f96266/pyLDAvis-2.1.2.tar.gz (1.6MB)\n",
            "\u001b[K     |████████████████████████████████| 1.6MB 2.7MB/s \n",
            "\u001b[?25hRequirement already satisfied: wheel>=0.23.0 in /usr/local/lib/python3.6/dist-packages (from pyLDAvis) (0.34.2)\n",
            "Requirement already satisfied: numpy>=1.9.2 in /usr/local/lib/python3.6/dist-packages (from pyLDAvis) (1.18.5)\n",
            "Requirement already satisfied: scipy>=0.18.0 in /usr/local/lib/python3.6/dist-packages (from pyLDAvis) (1.4.1)\n",
            "Requirement already satisfied: pandas>=0.17.0 in /usr/local/lib/python3.6/dist-packages (from pyLDAvis) (1.0.5)\n",
            "Requirement already satisfied: joblib>=0.8.4 in /usr/local/lib/python3.6/dist-packages (from pyLDAvis) (0.16.0)\n",
            "Requirement already satisfied: jinja2>=2.7.2 in /usr/local/lib/python3.6/dist-packages (from pyLDAvis) (2.11.2)\n",
            "Requirement already satisfied: numexpr in /usr/local/lib/python3.6/dist-packages (from pyLDAvis) (2.7.1)\n",
            "Requirement already satisfied: pytest in /usr/local/lib/python3.6/dist-packages (from pyLDAvis) (3.6.4)\n",
            "Requirement already satisfied: future in /usr/local/lib/python3.6/dist-packages (from pyLDAvis) (0.16.0)\n",
            "Collecting funcy\n",
            "\u001b[?25l  Downloading https://files.pythonhosted.org/packages/ce/4b/6ffa76544e46614123de31574ad95758c421aae391a1764921b8a81e1eae/funcy-1.14.tar.gz (548kB)\n",
            "\u001b[K     |████████████████████████████████| 552kB 15.7MB/s \n",
            "\u001b[?25hRequirement already satisfied: pytz>=2017.2 in /usr/local/lib/python3.6/dist-packages (from pandas>=0.17.0->pyLDAvis) (2018.9)\n",
            "Requirement already satisfied: python-dateutil>=2.6.1 in /usr/local/lib/python3.6/dist-packages (from pandas>=0.17.0->pyLDAvis) (2.8.1)\n",
            "Requirement already satisfied: MarkupSafe>=0.23 in /usr/local/lib/python3.6/dist-packages (from jinja2>=2.7.2->pyLDAvis) (1.1.1)\n",
            "Requirement already satisfied: more-itertools>=4.0.0 in /usr/local/lib/python3.6/dist-packages (from pytest->pyLDAvis) (8.4.0)\n",
            "Requirement already satisfied: setuptools in /usr/local/lib/python3.6/dist-packages (from pytest->pyLDAvis) (49.2.0)\n",
            "Requirement already satisfied: attrs>=17.4.0 in /usr/local/lib/python3.6/dist-packages (from pytest->pyLDAvis) (19.3.0)\n",
            "Requirement already satisfied: six>=1.10.0 in /usr/local/lib/python3.6/dist-packages (from pytest->pyLDAvis) (1.15.0)\n",
            "Requirement already satisfied: pluggy<0.8,>=0.5 in /usr/local/lib/python3.6/dist-packages (from pytest->pyLDAvis) (0.7.1)\n",
            "Requirement already satisfied: atomicwrites>=1.0 in /usr/local/lib/python3.6/dist-packages (from pytest->pyLDAvis) (1.4.0)\n",
            "Requirement already satisfied: py>=1.5.0 in /usr/local/lib/python3.6/dist-packages (from pytest->pyLDAvis) (1.9.0)\n",
            "Building wheels for collected packages: pyLDAvis, funcy\n",
            "  Building wheel for pyLDAvis (setup.py) ... \u001b[?25l\u001b[?25hdone\n",
            "  Created wheel for pyLDAvis: filename=pyLDAvis-2.1.2-py2.py3-none-any.whl size=97711 sha256=9ec0e166e55da62c8cbff0d665adf2e3405813b624b99012739ee6dd06bd94a7\n",
            "  Stored in directory: /root/.cache/pip/wheels/98/71/24/513a99e58bb6b8465bae4d2d5e9dba8f0bef8179e3051ac414\n",
            "  Building wheel for funcy (setup.py) ... \u001b[?25l\u001b[?25hdone\n",
            "  Created wheel for funcy: filename=funcy-1.14-py2.py3-none-any.whl size=32042 sha256=cfcccfcb2019c8a60bbc65700cf8519dbe88027fd77fba9e8e18ee452a6de5b4\n",
            "  Stored in directory: /root/.cache/pip/wheels/20/5a/d8/1d875df03deae6f178dfdf70238cca33f948ef8a6f5209f2eb\n",
            "Successfully built pyLDAvis funcy\n",
            "Installing collected packages: funcy, pyLDAvis\n",
            "Successfully installed funcy-1.14 pyLDAvis-2.1.2\n",
            "\u001b[31mERROR: Could not find a version that satisfies the requirement warnings (from versions: none)\u001b[0m\n",
            "\u001b[31mERROR: No matching distribution found for warnings\u001b[0m\n"
          ],
          "name": "stdout"
        }
      ]
    },
    {
      "cell_type": "markdown",
      "metadata": {
        "id": "gU5afE26BQmD",
        "colab_type": "text"
      },
      "source": [
        "#### Get the frequency of words in Description Column"
      ]
    },
    {
      "cell_type": "code",
      "metadata": {
        "id": "8LMA0RcyBCBU",
        "colab_type": "code",
        "colab": {}
      },
      "source": [
        "# function to plot most frequent terms. This is used to gauge the quality of text processing\n",
        "def freq_words(x, terms = 30):\n",
        "  all_words = ' '.join([text for text in x])\n",
        "  all_words = all_words.split()\n",
        "\n",
        "  fdist = FreqDist(all_words)\n",
        "  words_df = pd.DataFrame({'word':list(fdist.keys()), 'count':list(fdist.values())})\n",
        "\n",
        "  # selecting top n most frequent words\n",
        "  d = words_df.nlargest(columns=\"count\", n = terms) \n",
        "  plt.figure(figsize=(20,5))\n",
        "  ax = sns.barplot(data=d, x= \"word\", y = \"count\")\n",
        "  ax.set(ylabel = 'Count')\n",
        "  plt.show()"
      ],
      "execution_count": null,
      "outputs": []
    },
    {
      "cell_type": "code",
      "metadata": {
        "id": "G108pOCEBFkt",
        "colab_type": "code",
        "colab": {
          "base_uri": "https://localhost:8080/",
          "height": 334
        },
        "outputId": "1b9dfafb-4d18-49ba-a9b8-6f9f125b2498"
      },
      "source": [
        "freq_words(list(incidents_upd_combined['Description']))"
      ],
      "execution_count": null,
      "outputs": [
        {
          "output_type": "display_data",
          "data": {
            "image/png": "[encoded data removed]",
            "text/plain": [
              "<Figure size 1440x360 with 1 Axes>"
            ]
          },
          "metadata": {
            "tags": [],
            "needs_background": "light"
          }
        }
      ]
    },
    {
      "cell_type": "markdown",
      "metadata": {
        "id": "pIhHYsAB8p2d",
        "colab_type": "text"
      },
      "source": [
        "#### Expand the contractions"
      ]
    },
    {
      "cell_type": "code",
      "metadata": {
        "id": "OitdzyC5-UbV",
        "colab_type": "code",
        "colab": {}
      },
      "source": [
        "'''\n",
        "# Dictionary of English Contractions\n",
        "contractions_dict = { \"ain't\": \"are not\",\"'s\":\" is\",\"aren't\": \"are not\",\n",
        "                     \"can't\": \"cannot\",\"can't've\": \"cannot have\",\n",
        "                     \"'cause\": \"because\",\"could've\": \"could have\",\"couldn't\": \"could not\",\n",
        "                     \"couldn't've\": \"could not have\", \"didn't\": \"did not\",\"doesn't\": \"does not\",\n",
        "                     \"don't\": \"do not\",\"hadn't\": \"had not\",\"hadn't've\": \"had not have\",\n",
        "                     \"hasn't\": \"has not\",\"haven't\": \"have not\",\"he'd\": \"he would\",\n",
        "                     \"he'd've\": \"he would have\",\"he'll\": \"he will\", \"he'll've\": \"he will have\",\n",
        "                     \"how'd\": \"how did\",\"how'd'y\": \"how do you\",\"how'll\": \"how will\",\n",
        "                     \"I'd\": \"I would\", \"I'd've\": \"I would have\",\"I'll\": \"I will\",\n",
        "                     \"I'll've\": \"I will have\",\"I'm\": \"I am\",\"I've\": \"I have\", \"isn't\": \"is not\",\n",
        "                     \"it'd\": \"it would\",\"it'd've\": \"it would have\",\"it'll\": \"it will\",\n",
        "                     \"it'll've\": \"it will have\", \"let's\": \"let us\",\"ma'am\": \"madam\",\n",
        "                     \"mayn't\": \"may not\",\"might've\": \"might have\",\"mightn't\": \"might not\", \n",
        "                     \"mightn't've\": \"might not have\",\"must've\": \"must have\",\"mustn't\": \"must not\",\n",
        "                     \"mustn't've\": \"must not have\", \"needn't\": \"need not\",\n",
        "                     \"needn't've\": \"need not have\",\"o'clock\": \"of the clock\",\"oughtn't\": \"ought not\",\n",
        "                     \"oughtn't've\": \"ought not have\",\"shan't\": \"shall not\",\"sha'n't\": \"shall not\",\n",
        "                     \"shan't've\": \"shall not have\",\"she'd\": \"she would\",\"she'd've\": \"she would have\",\n",
        "                     \"she'll\": \"she will\", \"she'll've\": \"she will have\",\"should've\": \"should have\",\n",
        "                     \"shouldn't\": \"should not\", \"shouldn't've\": \"should not have\",\"so've\": \"so have\",\n",
        "                     \"that'd\": \"that would\",\"that'd've\": \"that would have\", \"there'd\": \"there would\",\n",
        "                     \"there'd've\": \"there would have\", \"they'd\": \"they would\",\n",
        "                     \"they'd've\": \"they would have\",\"they'll\": \"they will\",\n",
        "                     \"they'll've\": \"they will have\", \"they're\": \"they are\",\"they've\": \"they have\",\n",
        "                     \"to've\": \"to have\",\"wasn't\": \"was not\",\"we'd\": \"we would\",\n",
        "                     \"we'd've\": \"we would have\",\"we'll\": \"we will\",\"we'll've\": \"we will have\",\n",
        "                     \"we're\": \"we are\",\"we've\": \"we have\", \"weren't\": \"were not\",\"what'll\": \"what will\",\n",
        "                     \"what'll've\": \"what will have\",\"what're\": \"what are\", \"what've\": \"what have\",\n",
        "                     \"when've\": \"when have\",\"where'd\": \"where did\", \"where've\": \"where have\",\n",
        "                     \"who'll\": \"who will\",\"who'll've\": \"who will have\",\"who've\": \"who have\",\n",
        "                     \"why've\": \"why have\",\"will've\": \"will have\",\"won't\": \"will not\",\n",
        "                     \"won't've\": \"will not have\", \"would've\": \"would have\",\"wouldn't\": \"would not\",\n",
        "                     \"wouldn't've\": \"would not have\",\"y'all\": \"you all\", \"y'all'd\": \"you all would\",\n",
        "                     \"y'all'd've\": \"you all would have\",\"y'all're\": \"you all are\",\n",
        "                     \"y'all've\": \"you all have\", \"you'd\": \"you would\",\"you'd've\": \"you would have\",\n",
        "                     \"you'll\": \"you will\",\"you'll've\": \"you will have\", \"you're\": \"you are\",\n",
        "                     \"you've\": \"you have\"}\n",
        "\n",
        "# Regular expression for finding contractions\n",
        "contractions_re=re.compile('(%s)' % '|'.join(contractions_dict.keys()))\n",
        "\n",
        "# Function for expanding contractions\n",
        "def expand_contractions(text,contractions_dict=contractions_dict):\n",
        "  def replace(match):\n",
        "    return contractions_dict[match.group(0)]\n",
        "  return contractions_re.sub(replace, text)\n",
        "\n",
        "# Expanding Contractions in the description\n",
        "incidents_upd['Description']=incidents_upd['Description'].apply(lambda x:expand_contractions(x))\n",
        "'''"
      ],
      "execution_count": null,
      "outputs": []
    },
    {
      "cell_type": "code",
      "metadata": {
        "id": "XD6YDFO9_FHp",
        "colab_type": "code",
        "colab": {}
      },
      "source": [
        "'''\n",
        "# Expanding Contractions in the short description\n",
        "incidents_upd['Short description']=incidents_upd['Short description'].apply(lambda x:expand_contractions(x))\n",
        "'''"
      ],
      "execution_count": null,
      "outputs": []
    },
    {
      "cell_type": "code",
      "metadata": {
        "id": "lcXpyX-E-8Gu",
        "colab_type": "code",
        "colab": {
          "base_uri": "https://localhost:8080/",
          "height": 195
        },
        "outputId": "1450a51b-3552-444b-c56b-76f1964b4126"
      },
      "source": [
        "'''\n",
        "incidents_upd.head(5)\n",
        "'''"
      ],
      "execution_count": null,
      "outputs": [
        {
          "output_type": "execute_result",
          "data": {
            "text/html": [
              "<div>\n",
              "<style scoped>\n",
              "    .dataframe tbody tr th:only-of-type {\n",
              "        vertical-align: middle;\n",
              "    }\n",
              "\n",
              "    .dataframe tbody tr th {\n",
              "        vertical-align: top;\n",
              "    }\n",
              "\n",
              "    .dataframe thead th {\n",
              "        text-align: right;\n",
              "    }\n",
              "</style>\n",
              "<table border=\"1\" class=\"dataframe\">\n",
              "  <thead>\n",
              "    <tr style=\"text-align: right;\">\n",
              "      <th></th>\n",
              "      <th>Short description</th>\n",
              "      <th>Description</th>\n",
              "      <th>Caller</th>\n",
              "      <th>Assignment group</th>\n",
              "    </tr>\n",
              "  </thead>\n",
              "  <tbody>\n",
              "    <tr>\n",
              "      <th>0</th>\n",
              "      <td>login issue</td>\n",
              "      <td>-verified user details.(employee# &amp; manager name)\\r\\n-checked the user name in ad and reset the ...</td>\n",
              "      <td>spxjnwir pjlcoqds</td>\n",
              "      <td>GRP_0</td>\n",
              "    </tr>\n",
              "    <tr>\n",
              "      <th>1</th>\n",
              "      <td>outlook</td>\n",
              "      <td>\\r\\n\\r\\nreceived from: hmjdrvpb.komuaywn@gmail.com\\r\\n\\r\\nhello team,\\r\\n\\r\\nmy meetings/skype m...</td>\n",
              "      <td>hmjdrvpb komuaywn</td>\n",
              "      <td>GRP_0</td>\n",
              "    </tr>\n",
              "    <tr>\n",
              "      <th>2</th>\n",
              "      <td>cant log in to vpn</td>\n",
              "      <td>\\r\\n\\r\\nreceived from: eylqgodm.ybqkwiam@gmail.com\\r\\n\\r\\nhi\\r\\n\\r\\ni cannot log on to vpn\\r\\n\\r...</td>\n",
              "      <td>eylqgodm ybqkwiam</td>\n",
              "      <td>GRP_0</td>\n",
              "    </tr>\n",
              "    <tr>\n",
              "      <th>3</th>\n",
              "      <td>unable to access hr_tool page</td>\n",
              "      <td>unable to access hr_tool page</td>\n",
              "      <td>xbkucsvz gcpydteq</td>\n",
              "      <td>GRP_0</td>\n",
              "    </tr>\n",
              "    <tr>\n",
              "      <th>4</th>\n",
              "      <td>skype error</td>\n",
              "      <td>skype error</td>\n",
              "      <td>owlgqjme qhcozdfx</td>\n",
              "      <td>GRP_0</td>\n",
              "    </tr>\n",
              "  </tbody>\n",
              "</table>\n",
              "</div>"
            ],
            "text/plain": [
              "               Short description  ... Assignment group\n",
              "0                    login issue  ...            GRP_0\n",
              "1                        outlook  ...            GRP_0\n",
              "2             cant log in to vpn  ...            GRP_0\n",
              "3  unable to access hr_tool page  ...            GRP_0\n",
              "4                   skype error   ...            GRP_0\n",
              "\n",
              "[5 rows x 4 columns]"
            ]
          },
          "metadata": {
            "tags": []
          },
          "execution_count": 23
        }
      ]
    },
    {
      "cell_type": "code",
      "metadata": {
        "id": "U4jqj4pe8MNH",
        "colab_type": "code",
        "colab": {
          "base_uri": "https://localhost:8080/",
          "height": 246
        },
        "outputId": "cef1e23f-dbfd-45d5-c6ba-bb4bcad3b7db"
      },
      "source": [
        "incidents_upd_combined['Description_Expanded'] = incidents_upd_combined['Description'].apply(lambda x: [contractions.fix(word) for word in x.split()])\n",
        "\n",
        "#Convert the expanded column to string\n",
        "incidents_upd_combined['Description_Expanded_Str'] = [' '.join(map(str, l)) for l in incidents_upd_combined['Description_Expanded']]\n",
        "incidents_upd_combined.head()"
      ],
      "execution_count": null,
      "outputs": [
        {
          "output_type": "execute_result",
          "data": {
            "text/html": [
              "<div>\n",
              "<style scoped>\n",
              "    .dataframe tbody tr th:only-of-type {\n",
              "        vertical-align: middle;\n",
              "    }\n",
              "\n",
              "    .dataframe tbody tr th {\n",
              "        vertical-align: top;\n",
              "    }\n",
              "\n",
              "    .dataframe thead th {\n",
              "        text-align: right;\n",
              "    }\n",
              "</style>\n",
              "<table border=\"1\" class=\"dataframe\">\n",
              "  <thead>\n",
              "    <tr style=\"text-align: right;\">\n",
              "      <th></th>\n",
              "      <th>Description</th>\n",
              "      <th>Assignment group</th>\n",
              "      <th>Description_Expanded</th>\n",
              "      <th>Description_Expanded_Str</th>\n",
              "    </tr>\n",
              "  </thead>\n",
              "  <tbody>\n",
              "    <tr>\n",
              "      <th>0</th>\n",
              "      <td>verified user details employee manager name checked the user name in ad and reset the password ...</td>\n",
              "      <td>GRP_0</td>\n",
              "      <td>[verified, user, details, employee, manager, name, checked, the, user, name, in, ad, and, reset,...</td>\n",
              "      <td>verified user details employee manager name checked the user name in ad and reset the password a...</td>\n",
              "    </tr>\n",
              "    <tr>\n",
              "      <th>1</th>\n",
              "      <td>received from hello team my meetings skype meetings etc are not appearing in my outlook calendar...</td>\n",
              "      <td>GRP_0</td>\n",
              "      <td>[received, from, hello, team, my, meetings, skype, meetings, etc, are, not, appearing, in, my, o...</td>\n",
              "      <td>received from hello team my meetings skype meetings etc are not appearing in my outlook calendar...</td>\n",
              "    </tr>\n",
              "    <tr>\n",
              "      <th>2</th>\n",
              "      <td>received from hi i cannot log on to vpn best</td>\n",
              "      <td>GRP_0</td>\n",
              "      <td>[received, from, hi, i, cannot, log, on, to, vpn, best]</td>\n",
              "      <td>received from hi i cannot log on to vpn best</td>\n",
              "    </tr>\n",
              "    <tr>\n",
              "      <th>3</th>\n",
              "      <td>unable to access hr tool page</td>\n",
              "      <td>GRP_0</td>\n",
              "      <td>[unable, to, access, hr, tool, page]</td>\n",
              "      <td>unable to access hr tool page</td>\n",
              "    </tr>\n",
              "    <tr>\n",
              "      <th>4</th>\n",
              "      <td>skype error</td>\n",
              "      <td>GRP_0</td>\n",
              "      <td>[skype, error]</td>\n",
              "      <td>skype error</td>\n",
              "    </tr>\n",
              "  </tbody>\n",
              "</table>\n",
              "</div>"
            ],
            "text/plain": [
              "                                                                                           Description  ...                                                                             Description_Expanded_Str\n",
              "0   verified user details employee manager name checked the user name in ad and reset the password ...  ...  verified user details employee manager name checked the user name in ad and reset the password a...\n",
              "1  received from hello team my meetings skype meetings etc are not appearing in my outlook calendar...  ...  received from hello team my meetings skype meetings etc are not appearing in my outlook calendar...\n",
              "2                                                         received from hi i cannot log on to vpn best  ...                                                         received from hi i cannot log on to vpn best\n",
              "3                                                                        unable to access hr tool page  ...                                                                        unable to access hr tool page\n",
              "4                                                                                          skype error  ...                                                                                          skype error\n",
              "\n",
              "[5 rows x 4 columns]"
            ]
          },
          "metadata": {
            "tags": []
          },
          "execution_count": 32
        }
      ]
    },
    {
      "cell_type": "markdown",
      "metadata": {
        "id": "AcMGFW3t84M2",
        "colab_type": "text"
      },
      "source": [
        "#### English Language Detection"
      ]
    },
    {
      "cell_type": "code",
      "metadata": {
        "id": "lrpQLRPVDStM",
        "colab_type": "code",
        "colab": {
          "base_uri": "https://localhost:8080/",
          "height": 444
        },
        "outputId": "5e7a416d-63bc-4918-c720-f3f533bfa69e"
      },
      "source": [
        "pretrained_model = project_path + \"lid.176.bin\" \n",
        "model = fasttext.load_model(pretrained_model)\n",
        "langs = []\n",
        "for sent in incidents_upd_combined['Description_Expanded_Str']:\n",
        "    lang = model.predict(sent)[0]\n",
        "    langs.append(str(lang)[11:13])\n",
        "incidents_upd_combined['langs'] = langs\n",
        "\n",
        "incidents_upd_combined.head(10)"
      ],
      "execution_count": null,
      "outputs": [
        {
          "output_type": "stream",
          "text": [
            "Warning : `load_model` does not return WordVectorModel or SupervisedModel any more, but a `FastText` object which is very similar.\n"
          ],
          "name": "stderr"
        },
        {
          "output_type": "execute_result",
          "data": {
            "text/html": [
              "<div>\n",
              "<style scoped>\n",
              "    .dataframe tbody tr th:only-of-type {\n",
              "        vertical-align: middle;\n",
              "    }\n",
              "\n",
              "    .dataframe tbody tr th {\n",
              "        vertical-align: top;\n",
              "    }\n",
              "\n",
              "    .dataframe thead th {\n",
              "        text-align: right;\n",
              "    }\n",
              "</style>\n",
              "<table border=\"1\" class=\"dataframe\">\n",
              "  <thead>\n",
              "    <tr style=\"text-align: right;\">\n",
              "      <th></th>\n",
              "      <th>Description</th>\n",
              "      <th>Assignment group</th>\n",
              "      <th>Description_Expanded</th>\n",
              "      <th>Description_Expanded_Str</th>\n",
              "      <th>langs</th>\n",
              "    </tr>\n",
              "  </thead>\n",
              "  <tbody>\n",
              "    <tr>\n",
              "      <th>0</th>\n",
              "      <td>verified user details employee manager name checked the user name in ad and reset the password ...</td>\n",
              "      <td>GRP_0</td>\n",
              "      <td>[verified, user, details, employee, manager, name, checked, the, user, name, in, ad, and, reset,...</td>\n",
              "      <td>verified user details employee manager name checked the user name in ad and reset the password a...</td>\n",
              "      <td>en</td>\n",
              "    </tr>\n",
              "    <tr>\n",
              "      <th>1</th>\n",
              "      <td>received from hello team my meetings skype meetings etc are not appearing in my outlook calendar...</td>\n",
              "      <td>GRP_0</td>\n",
              "      <td>[received, from, hello, team, my, meetings, skype, meetings, etc, are, not, appearing, in, my, o...</td>\n",
              "      <td>received from hello team my meetings skype meetings etc are not appearing in my outlook calendar...</td>\n",
              "      <td>en</td>\n",
              "    </tr>\n",
              "    <tr>\n",
              "      <th>2</th>\n",
              "      <td>received from hi i cannot log on to vpn best</td>\n",
              "      <td>GRP_0</td>\n",
              "      <td>[received, from, hi, i, cannot, log, on, to, vpn, best]</td>\n",
              "      <td>received from hi i cannot log on to vpn best</td>\n",
              "      <td>en</td>\n",
              "    </tr>\n",
              "    <tr>\n",
              "      <th>3</th>\n",
              "      <td>unable to access hr tool page</td>\n",
              "      <td>GRP_0</td>\n",
              "      <td>[unable, to, access, hr, tool, page]</td>\n",
              "      <td>unable to access hr tool page</td>\n",
              "      <td>en</td>\n",
              "    </tr>\n",
              "    <tr>\n",
              "      <th>4</th>\n",
              "      <td>skype error</td>\n",
              "      <td>GRP_0</td>\n",
              "      <td>[skype, error]</td>\n",
              "      <td>skype error</td>\n",
              "      <td>ja</td>\n",
              "    </tr>\n",
              "    <tr>\n",
              "      <th>5</th>\n",
              "      <td>unable to log in to engineering tool and skype</td>\n",
              "      <td>GRP_0</td>\n",
              "      <td>[unable, to, log, in, to, engineering, tool, and, skype]</td>\n",
              "      <td>unable to log in to engineering tool and skype</td>\n",
              "      <td>en</td>\n",
              "    </tr>\n",
              "    <tr>\n",
              "      <th>6</th>\n",
              "      <td>event critical HostName company com the value of mountpoint threshold for oracle SID erpdata srp...</td>\n",
              "      <td>GRP_1</td>\n",
              "      <td>[event, critical, HostName, company, com, the, value, of, mountpoint, threshold, for, oracle, SI...</td>\n",
              "      <td>event critical HostName company com the value of mountpoint threshold for oracle SID erpdata srp...</td>\n",
              "      <td>en</td>\n",
              "    </tr>\n",
              "    <tr>\n",
              "      <th>7</th>\n",
              "      <td>ticket no employment status new non employee enter user s name</td>\n",
              "      <td>GRP_0</td>\n",
              "      <td>[ticket, no, employment, status, new, non, employee, enter, user, s, name]</td>\n",
              "      <td>ticket no employment status new non employee enter user s name</td>\n",
              "      <td>en</td>\n",
              "    </tr>\n",
              "    <tr>\n",
              "      <th>8</th>\n",
              "      <td>unable to disable add ins on outlook</td>\n",
              "      <td>GRP_0</td>\n",
              "      <td>[unable, to, disable, add, ins, on, outlook]</td>\n",
              "      <td>unable to disable add ins on outlook</td>\n",
              "      <td>en</td>\n",
              "    </tr>\n",
              "    <tr>\n",
              "      <th>9</th>\n",
              "      <td>ticket update on inplant</td>\n",
              "      <td>GRP_0</td>\n",
              "      <td>[ticket, update, on, inplant]</td>\n",
              "      <td>ticket update on inplant</td>\n",
              "      <td>en</td>\n",
              "    </tr>\n",
              "  </tbody>\n",
              "</table>\n",
              "</div>"
            ],
            "text/plain": [
              "                                                                                           Description  ... langs\n",
              "0   verified user details employee manager name checked the user name in ad and reset the password ...  ...    en\n",
              "1  received from hello team my meetings skype meetings etc are not appearing in my outlook calendar...  ...    en\n",
              "2                                                         received from hi i cannot log on to vpn best  ...    en\n",
              "3                                                                        unable to access hr tool page  ...    en\n",
              "4                                                                                          skype error  ...    ja\n",
              "5                                                       unable to log in to engineering tool and skype  ...    en\n",
              "6  event critical HostName company com the value of mountpoint threshold for oracle SID erpdata srp...  ...    en\n",
              "7                                      ticket no employment status new non employee enter user s name   ...    en\n",
              "8                                                                 unable to disable add ins on outlook  ...    en\n",
              "9                                                                            ticket update on inplant   ...    en\n",
              "\n",
              "[10 rows x 5 columns]"
            ]
          },
          "metadata": {
            "tags": []
          },
          "execution_count": 33
        }
      ]
    },
    {
      "cell_type": "markdown",
      "metadata": {
        "id": "RKZKh1rF9ANg",
        "colab_type": "text"
      },
      "source": [
        "#### Remove non-English details"
      ]
    },
    {
      "cell_type": "code",
      "metadata": {
        "id": "yzODyYlIHDCB",
        "colab_type": "code",
        "colab": {
          "base_uri": "https://localhost:8080/",
          "height": 554
        },
        "outputId": "cfb656d9-436d-4fd1-f91e-bfd307ce996f"
      },
      "source": [
        "#checking detected languages\n",
        "incidents_upd_combined['langs'].value_counts()"
      ],
      "execution_count": null,
      "outputs": [
        {
          "output_type": "execute_result",
          "data": {
            "text/plain": [
              "en    7750\n",
              "de     513\n",
              "zh      37\n",
              "pt      15\n",
              "pl      10\n",
              "sv       9\n",
              "ru       8\n",
              "hu       7\n",
              "ja       7\n",
              "es       6\n",
              "it       5\n",
              "id       4\n",
              "fi       4\n",
              "nl       4\n",
              "fa       3\n",
              "hr       3\n",
              "eo       3\n",
              "fr       2\n",
              "da       2\n",
              "sl       2\n",
              "tr       2\n",
              "ko       2\n",
              "kn       2\n",
              "ml       1\n",
              "my       1\n",
              "el       1\n",
              "ba       1\n",
              "uk       1\n",
              "ta       1\n",
              "cs       1\n",
              "no       1\n",
              "Name: langs, dtype: int64"
            ]
          },
          "metadata": {
            "tags": []
          },
          "execution_count": 34
        }
      ]
    },
    {
      "cell_type": "code",
      "metadata": {
        "id": "8k7uVpuFHLiE",
        "colab_type": "code",
        "colab": {
          "base_uri": "https://localhost:8080/",
          "height": 252
        },
        "outputId": "2b0bba4c-c0f0-42e6-b3b3-c4a0f6305ccc"
      },
      "source": [
        "incidents_upd_en = incidents_upd_combined[incidents_upd_combined.langs.eq('en')]\n",
        "print(incidents_upd_en)"
      ],
      "execution_count": null,
      "outputs": [
        {
          "output_type": "stream",
          "text": [
            "                                                                                              Description  ... langs\n",
            "0      verified user details employee manager name checked the user name in ad and reset the password ...  ...    en\n",
            "1     received from hello team my meetings skype meetings etc are not appearing in my outlook calendar...  ...    en\n",
            "2                                                            received from hi i cannot log on to vpn best  ...    en\n",
            "3                                                                           unable to access hr tool page  ...    en\n",
            "5                                                          unable to log in to engineering tool and skype  ...    en\n",
            "...                                                                                                   ...  ...   ...\n",
            "8494                                       tablet needs reimaged due to multiple issues with crm wifi etc  ...    en\n",
            "8495    received from good afternoon i am not receiving the emails that i sent from zz mail please advise  ...    en\n",
            "8496                                                                             telephony software issue  ...    en\n",
            "8497                                                     vip windows password reset for tifpdchb pedxruyf  ...    en\n",
            "8498  i am unable to access the machine utilities to finish the drawers adjustment settings is no netw...  ...    en\n",
            "\n",
            "[7750 rows x 5 columns]\n"
          ],
          "name": "stdout"
        }
      ]
    },
    {
      "cell_type": "code",
      "metadata": {
        "id": "G0j24UeDLZxs",
        "colab_type": "code",
        "colab": {
          "base_uri": "https://localhost:8080/",
          "height": 246
        },
        "outputId": "9dc5c37c-f41a-4d42-fd04-c10d3ecdc961"
      },
      "source": [
        "incidents_upd_en.drop('langs', inplace = True, axis=1)\n",
        "incidents_upd_en.head()"
      ],
      "execution_count": null,
      "outputs": [
        {
          "output_type": "execute_result",
          "data": {
            "text/html": [
              "<div>\n",
              "<style scoped>\n",
              "    .dataframe tbody tr th:only-of-type {\n",
              "        vertical-align: middle;\n",
              "    }\n",
              "\n",
              "    .dataframe tbody tr th {\n",
              "        vertical-align: top;\n",
              "    }\n",
              "\n",
              "    .dataframe thead th {\n",
              "        text-align: right;\n",
              "    }\n",
              "</style>\n",
              "<table border=\"1\" class=\"dataframe\">\n",
              "  <thead>\n",
              "    <tr style=\"text-align: right;\">\n",
              "      <th></th>\n",
              "      <th>Description</th>\n",
              "      <th>Assignment group</th>\n",
              "      <th>Description_Expanded</th>\n",
              "      <th>Description_Expanded_Str</th>\n",
              "    </tr>\n",
              "  </thead>\n",
              "  <tbody>\n",
              "    <tr>\n",
              "      <th>0</th>\n",
              "      <td>verified user details employee manager name checked the user name in ad and reset the password ...</td>\n",
              "      <td>GRP_0</td>\n",
              "      <td>[verified, user, details, employee, manager, name, checked, the, user, name, in, ad, and, reset,...</td>\n",
              "      <td>verified user details employee manager name checked the user name in ad and reset the password a...</td>\n",
              "    </tr>\n",
              "    <tr>\n",
              "      <th>1</th>\n",
              "      <td>received from hello team my meetings skype meetings etc are not appearing in my outlook calendar...</td>\n",
              "      <td>GRP_0</td>\n",
              "      <td>[received, from, hello, team, my, meetings, skype, meetings, etc, are, not, appearing, in, my, o...</td>\n",
              "      <td>received from hello team my meetings skype meetings etc are not appearing in my outlook calendar...</td>\n",
              "    </tr>\n",
              "    <tr>\n",
              "      <th>2</th>\n",
              "      <td>received from hi i cannot log on to vpn best</td>\n",
              "      <td>GRP_0</td>\n",
              "      <td>[received, from, hi, i, cannot, log, on, to, vpn, best]</td>\n",
              "      <td>received from hi i cannot log on to vpn best</td>\n",
              "    </tr>\n",
              "    <tr>\n",
              "      <th>3</th>\n",
              "      <td>unable to access hr tool page</td>\n",
              "      <td>GRP_0</td>\n",
              "      <td>[unable, to, access, hr, tool, page]</td>\n",
              "      <td>unable to access hr tool page</td>\n",
              "    </tr>\n",
              "    <tr>\n",
              "      <th>5</th>\n",
              "      <td>unable to log in to engineering tool and skype</td>\n",
              "      <td>GRP_0</td>\n",
              "      <td>[unable, to, log, in, to, engineering, tool, and, skype]</td>\n",
              "      <td>unable to log in to engineering tool and skype</td>\n",
              "    </tr>\n",
              "  </tbody>\n",
              "</table>\n",
              "</div>"
            ],
            "text/plain": [
              "                                                                                           Description  ...                                                                             Description_Expanded_Str\n",
              "0   verified user details employee manager name checked the user name in ad and reset the password ...  ...  verified user details employee manager name checked the user name in ad and reset the password a...\n",
              "1  received from hello team my meetings skype meetings etc are not appearing in my outlook calendar...  ...  received from hello team my meetings skype meetings etc are not appearing in my outlook calendar...\n",
              "2                                                         received from hi i cannot log on to vpn best  ...                                                         received from hi i cannot log on to vpn best\n",
              "3                                                                        unable to access hr tool page  ...                                                                        unable to access hr tool page\n",
              "5                                                       unable to log in to engineering tool and skype  ...                                                       unable to log in to engineering tool and skype\n",
              "\n",
              "[5 rows x 4 columns]"
            ]
          },
          "metadata": {
            "tags": []
          },
          "execution_count": 39
        }
      ]
    },
    {
      "cell_type": "markdown",
      "metadata": {
        "id": "ukOgF4Ih84Yc",
        "colab_type": "text"
      },
      "source": [
        "#### Tokenization"
      ]
    },
    {
      "cell_type": "code",
      "metadata": {
        "id": "FuiCgV6A4_7Y",
        "colab_type": "code",
        "colab": {
          "base_uri": "https://localhost:8080/",
          "height": 67
        },
        "outputId": "839d6768-fcb5-4ad1-b3ce-a115ff1f1482"
      },
      "source": [
        "# Package needed for tokenization\n",
        "nltk.download('punkt')"
      ],
      "execution_count": null,
      "outputs": [
        {
          "output_type": "stream",
          "text": [
            "[nltk_data] Downloading package punkt to /root/nltk_data...\n",
            "[nltk_data]   Unzipping tokenizers/punkt.zip.\n"
          ],
          "name": "stdout"
        },
        {
          "output_type": "execute_result",
          "data": {
            "text/plain": [
              "True"
            ]
          },
          "metadata": {
            "tags": []
          },
          "execution_count": 42
        }
      ]
    },
    {
      "cell_type": "code",
      "metadata": {
        "id": "bI5fc3hKEvpr",
        "colab_type": "code",
        "colab": {
          "base_uri": "https://localhost:8080/",
          "height": 313
        },
        "outputId": "becf9c8b-105a-4cfc-bdc1-92e02093ada8"
      },
      "source": [
        "incidents_upd_en['tokenized'] = incidents_upd_en['Description_Expanded_Str'].apply(word_tokenize)\n",
        "incidents_upd_en.head()"
      ],
      "execution_count": null,
      "outputs": [
        {
          "output_type": "execute_result",
          "data": {
            "text/html": [
              "<div>\n",
              "<style scoped>\n",
              "    .dataframe tbody tr th:only-of-type {\n",
              "        vertical-align: middle;\n",
              "    }\n",
              "\n",
              "    .dataframe tbody tr th {\n",
              "        vertical-align: top;\n",
              "    }\n",
              "\n",
              "    .dataframe thead th {\n",
              "        text-align: right;\n",
              "    }\n",
              "</style>\n",
              "<table border=\"1\" class=\"dataframe\">\n",
              "  <thead>\n",
              "    <tr style=\"text-align: right;\">\n",
              "      <th></th>\n",
              "      <th>Description</th>\n",
              "      <th>Assignment group</th>\n",
              "      <th>Description_Expanded</th>\n",
              "      <th>Description_Expanded_Str</th>\n",
              "      <th>tokenized</th>\n",
              "    </tr>\n",
              "  </thead>\n",
              "  <tbody>\n",
              "    <tr>\n",
              "      <th>0</th>\n",
              "      <td>verified user details employee manager name checked the user name in ad and reset the password ...</td>\n",
              "      <td>GRP_0</td>\n",
              "      <td>[verified, user, details, employee, manager, name, checked, the, user, name, in, ad, and, reset,...</td>\n",
              "      <td>verified user details employee manager name checked the user name in ad and reset the password a...</td>\n",
              "      <td>[verified, user, details, employee, manager, name, checked, the, user, name, in, ad, and, reset,...</td>\n",
              "    </tr>\n",
              "    <tr>\n",
              "      <th>1</th>\n",
              "      <td>received from hello team my meetings skype meetings etc are not appearing in my outlook calendar...</td>\n",
              "      <td>GRP_0</td>\n",
              "      <td>[received, from, hello, team, my, meetings, skype, meetings, etc, are, not, appearing, in, my, o...</td>\n",
              "      <td>received from hello team my meetings skype meetings etc are not appearing in my outlook calendar...</td>\n",
              "      <td>[received, from, hello, team, my, meetings, skype, meetings, etc, are, not, appearing, in, my, o...</td>\n",
              "    </tr>\n",
              "    <tr>\n",
              "      <th>2</th>\n",
              "      <td>received from hi i cannot log on to vpn best</td>\n",
              "      <td>GRP_0</td>\n",
              "      <td>[received, from, hi, i, cannot, log, on, to, vpn, best]</td>\n",
              "      <td>received from hi i cannot log on to vpn best</td>\n",
              "      <td>[received, from, hi, i, can, not, log, on, to, vpn, best]</td>\n",
              "    </tr>\n",
              "    <tr>\n",
              "      <th>3</th>\n",
              "      <td>unable to access hr tool page</td>\n",
              "      <td>GRP_0</td>\n",
              "      <td>[unable, to, access, hr, tool, page]</td>\n",
              "      <td>unable to access hr tool page</td>\n",
              "      <td>[unable, to, access, hr, tool, page]</td>\n",
              "    </tr>\n",
              "    <tr>\n",
              "      <th>5</th>\n",
              "      <td>unable to log in to engineering tool and skype</td>\n",
              "      <td>GRP_0</td>\n",
              "      <td>[unable, to, log, in, to, engineering, tool, and, skype]</td>\n",
              "      <td>unable to log in to engineering tool and skype</td>\n",
              "      <td>[unable, to, log, in, to, engineering, tool, and, skype]</td>\n",
              "    </tr>\n",
              "  </tbody>\n",
              "</table>\n",
              "</div>"
            ],
            "text/plain": [
              "                                                                                           Description  ...                                                                                            tokenized\n",
              "0   verified user details employee manager name checked the user name in ad and reset the password ...  ...  [verified, user, details, employee, manager, name, checked, the, user, name, in, ad, and, reset,...\n",
              "1  received from hello team my meetings skype meetings etc are not appearing in my outlook calendar...  ...  [received, from, hello, team, my, meetings, skype, meetings, etc, are, not, appearing, in, my, o...\n",
              "2                                                         received from hi i cannot log on to vpn best  ...                                            [received, from, hi, i, can, not, log, on, to, vpn, best]\n",
              "3                                                                        unable to access hr tool page  ...                                                                 [unable, to, access, hr, tool, page]\n",
              "5                                                       unable to log in to engineering tool and skype  ...                                             [unable, to, log, in, to, engineering, tool, and, skype]\n",
              "\n",
              "[5 rows x 5 columns]"
            ]
          },
          "metadata": {
            "tags": []
          },
          "execution_count": 43
        }
      ]
    },
    {
      "cell_type": "markdown",
      "metadata": {
        "id": "otCspuCl84e_",
        "colab_type": "text"
      },
      "source": [
        "#### Converting all Characters to Lowercase"
      ]
    },
    {
      "cell_type": "code",
      "metadata": {
        "id": "0UWW_A8U5My2",
        "colab_type": "code",
        "colab": {
          "base_uri": "https://localhost:8080/",
          "height": 313
        },
        "outputId": "628ad5c4-d059-4ef1-f861-5cfee00f82da"
      },
      "source": [
        "incidents_upd_en['lower'] = incidents_upd_en['tokenized'].apply(lambda x: [word.lower() for word in x])\n",
        "incidents_upd_en.head()"
      ],
      "execution_count": null,
      "outputs": [
        {
          "output_type": "execute_result",
          "data": {
            "text/html": [
              "<div>\n",
              "<style scoped>\n",
              "    .dataframe tbody tr th:only-of-type {\n",
              "        vertical-align: middle;\n",
              "    }\n",
              "\n",
              "    .dataframe tbody tr th {\n",
              "        vertical-align: top;\n",
              "    }\n",
              "\n",
              "    .dataframe thead th {\n",
              "        text-align: right;\n",
              "    }\n",
              "</style>\n",
              "<table border=\"1\" class=\"dataframe\">\n",
              "  <thead>\n",
              "    <tr style=\"text-align: right;\">\n",
              "      <th></th>\n",
              "      <th>Description</th>\n",
              "      <th>Assignment group</th>\n",
              "      <th>Description_Expanded</th>\n",
              "      <th>Description_Expanded_Str</th>\n",
              "      <th>tokenized</th>\n",
              "      <th>lower</th>\n",
              "    </tr>\n",
              "  </thead>\n",
              "  <tbody>\n",
              "    <tr>\n",
              "      <th>0</th>\n",
              "      <td>verified user details employee manager name checked the user name in ad and reset the password ...</td>\n",
              "      <td>GRP_0</td>\n",
              "      <td>[verified, user, details, employee, manager, name, checked, the, user, name, in, ad, and, reset,...</td>\n",
              "      <td>verified user details employee manager name checked the user name in ad and reset the password a...</td>\n",
              "      <td>[verified, user, details, employee, manager, name, checked, the, user, name, in, ad, and, reset,...</td>\n",
              "      <td>[verified, user, details, employee, manager, name, checked, the, user, name, in, ad, and, reset,...</td>\n",
              "    </tr>\n",
              "    <tr>\n",
              "      <th>1</th>\n",
              "      <td>received from hello team my meetings skype meetings etc are not appearing in my outlook calendar...</td>\n",
              "      <td>GRP_0</td>\n",
              "      <td>[received, from, hello, team, my, meetings, skype, meetings, etc, are, not, appearing, in, my, o...</td>\n",
              "      <td>received from hello team my meetings skype meetings etc are not appearing in my outlook calendar...</td>\n",
              "      <td>[received, from, hello, team, my, meetings, skype, meetings, etc, are, not, appearing, in, my, o...</td>\n",
              "      <td>[received, from, hello, team, my, meetings, skype, meetings, etc, are, not, appearing, in, my, o...</td>\n",
              "    </tr>\n",
              "    <tr>\n",
              "      <th>2</th>\n",
              "      <td>received from hi i cannot log on to vpn best</td>\n",
              "      <td>GRP_0</td>\n",
              "      <td>[received, from, hi, i, cannot, log, on, to, vpn, best]</td>\n",
              "      <td>received from hi i cannot log on to vpn best</td>\n",
              "      <td>[received, from, hi, i, can, not, log, on, to, vpn, best]</td>\n",
              "      <td>[received, from, hi, i, can, not, log, on, to, vpn, best]</td>\n",
              "    </tr>\n",
              "    <tr>\n",
              "      <th>3</th>\n",
              "      <td>unable to access hr tool page</td>\n",
              "      <td>GRP_0</td>\n",
              "      <td>[unable, to, access, hr, tool, page]</td>\n",
              "      <td>unable to access hr tool page</td>\n",
              "      <td>[unable, to, access, hr, tool, page]</td>\n",
              "      <td>[unable, to, access, hr, tool, page]</td>\n",
              "    </tr>\n",
              "    <tr>\n",
              "      <th>5</th>\n",
              "      <td>unable to log in to engineering tool and skype</td>\n",
              "      <td>GRP_0</td>\n",
              "      <td>[unable, to, log, in, to, engineering, tool, and, skype]</td>\n",
              "      <td>unable to log in to engineering tool and skype</td>\n",
              "      <td>[unable, to, log, in, to, engineering, tool, and, skype]</td>\n",
              "      <td>[unable, to, log, in, to, engineering, tool, and, skype]</td>\n",
              "    </tr>\n",
              "  </tbody>\n",
              "</table>\n",
              "</div>"
            ],
            "text/plain": [
              "                                                                                           Description  ...                                                                                                lower\n",
              "0   verified user details employee manager name checked the user name in ad and reset the password ...  ...  [verified, user, details, employee, manager, name, checked, the, user, name, in, ad, and, reset,...\n",
              "1  received from hello team my meetings skype meetings etc are not appearing in my outlook calendar...  ...  [received, from, hello, team, my, meetings, skype, meetings, etc, are, not, appearing, in, my, o...\n",
              "2                                                         received from hi i cannot log on to vpn best  ...                                            [received, from, hi, i, can, not, log, on, to, vpn, best]\n",
              "3                                                                        unable to access hr tool page  ...                                                                 [unable, to, access, hr, tool, page]\n",
              "5                                                       unable to log in to engineering tool and skype  ...                                             [unable, to, log, in, to, engineering, tool, and, skype]\n",
              "\n",
              "[5 rows x 6 columns]"
            ]
          },
          "metadata": {
            "tags": []
          },
          "execution_count": 44
        }
      ]
    },
    {
      "cell_type": "markdown",
      "metadata": {
        "id": "99st5w019LUg",
        "colab_type": "text"
      },
      "source": [
        "#### Removing Punctuations"
      ]
    },
    {
      "cell_type": "code",
      "metadata": {
        "id": "Xl-whgiZ5Sys",
        "colab_type": "code",
        "colab": {
          "base_uri": "https://localhost:8080/",
          "height": 363
        },
        "outputId": "eb6f62a9-ed3a-4f88-e314-c1368a17ecba"
      },
      "source": [
        "punc = string.punctuation\n",
        "incidents_upd_en['no_punc'] = incidents_upd_en['lower'].apply(lambda x: [word for word in x if word not in punc])\n",
        "incidents_upd_en.head()"
      ],
      "execution_count": null,
      "outputs": [
        {
          "output_type": "execute_result",
          "data": {
            "text/html": [
              "<div>\n",
              "<style scoped>\n",
              "    .dataframe tbody tr th:only-of-type {\n",
              "        vertical-align: middle;\n",
              "    }\n",
              "\n",
              "    .dataframe tbody tr th {\n",
              "        vertical-align: top;\n",
              "    }\n",
              "\n",
              "    .dataframe thead th {\n",
              "        text-align: right;\n",
              "    }\n",
              "</style>\n",
              "<table border=\"1\" class=\"dataframe\">\n",
              "  <thead>\n",
              "    <tr style=\"text-align: right;\">\n",
              "      <th></th>\n",
              "      <th>Description</th>\n",
              "      <th>Assignment group</th>\n",
              "      <th>Description_Expanded</th>\n",
              "      <th>Description_Expanded_Str</th>\n",
              "      <th>tokenized</th>\n",
              "      <th>lower</th>\n",
              "      <th>no_punc</th>\n",
              "    </tr>\n",
              "  </thead>\n",
              "  <tbody>\n",
              "    <tr>\n",
              "      <th>0</th>\n",
              "      <td>verified user details employee manager name checked the user name in ad and reset the password ...</td>\n",
              "      <td>GRP_0</td>\n",
              "      <td>[verified, user, details, employee, manager, name, checked, the, user, name, in, ad, and, reset,...</td>\n",
              "      <td>verified user details employee manager name checked the user name in ad and reset the password a...</td>\n",
              "      <td>[verified, user, details, employee, manager, name, checked, the, user, name, in, ad, and, reset,...</td>\n",
              "      <td>[verified, user, details, employee, manager, name, checked, the, user, name, in, ad, and, reset,...</td>\n",
              "      <td>[verified, user, details, employee, manager, name, checked, the, user, name, in, ad, and, reset,...</td>\n",
              "    </tr>\n",
              "    <tr>\n",
              "      <th>1</th>\n",
              "      <td>received from hello team my meetings skype meetings etc are not appearing in my outlook calendar...</td>\n",
              "      <td>GRP_0</td>\n",
              "      <td>[received, from, hello, team, my, meetings, skype, meetings, etc, are, not, appearing, in, my, o...</td>\n",
              "      <td>received from hello team my meetings skype meetings etc are not appearing in my outlook calendar...</td>\n",
              "      <td>[received, from, hello, team, my, meetings, skype, meetings, etc, are, not, appearing, in, my, o...</td>\n",
              "      <td>[received, from, hello, team, my, meetings, skype, meetings, etc, are, not, appearing, in, my, o...</td>\n",
              "      <td>[received, from, hello, team, my, meetings, skype, meetings, etc, are, not, appearing, in, my, o...</td>\n",
              "    </tr>\n",
              "    <tr>\n",
              "      <th>2</th>\n",
              "      <td>received from hi i cannot log on to vpn best</td>\n",
              "      <td>GRP_0</td>\n",
              "      <td>[received, from, hi, i, cannot, log, on, to, vpn, best]</td>\n",
              "      <td>received from hi i cannot log on to vpn best</td>\n",
              "      <td>[received, from, hi, i, can, not, log, on, to, vpn, best]</td>\n",
              "      <td>[received, from, hi, i, can, not, log, on, to, vpn, best]</td>\n",
              "      <td>[received, from, hi, i, can, not, log, on, to, vpn, best]</td>\n",
              "    </tr>\n",
              "    <tr>\n",
              "      <th>3</th>\n",
              "      <td>unable to access hr tool page</td>\n",
              "      <td>GRP_0</td>\n",
              "      <td>[unable, to, access, hr, tool, page]</td>\n",
              "      <td>unable to access hr tool page</td>\n",
              "      <td>[unable, to, access, hr, tool, page]</td>\n",
              "      <td>[unable, to, access, hr, tool, page]</td>\n",
              "      <td>[unable, to, access, hr, tool, page]</td>\n",
              "    </tr>\n",
              "    <tr>\n",
              "      <th>5</th>\n",
              "      <td>unable to log in to engineering tool and skype</td>\n",
              "      <td>GRP_0</td>\n",
              "      <td>[unable, to, log, in, to, engineering, tool, and, skype]</td>\n",
              "      <td>unable to log in to engineering tool and skype</td>\n",
              "      <td>[unable, to, log, in, to, engineering, tool, and, skype]</td>\n",
              "      <td>[unable, to, log, in, to, engineering, tool, and, skype]</td>\n",
              "      <td>[unable, to, log, in, to, engineering, tool, and, skype]</td>\n",
              "    </tr>\n",
              "  </tbody>\n",
              "</table>\n",
              "</div>"
            ],
            "text/plain": [
              "                                                                                           Description  ...                                                                                              no_punc\n",
              "0   verified user details employee manager name checked the user name in ad and reset the password ...  ...  [verified, user, details, employee, manager, name, checked, the, user, name, in, ad, and, reset,...\n",
              "1  received from hello team my meetings skype meetings etc are not appearing in my outlook calendar...  ...  [received, from, hello, team, my, meetings, skype, meetings, etc, are, not, appearing, in, my, o...\n",
              "2                                                         received from hi i cannot log on to vpn best  ...                                            [received, from, hi, i, can, not, log, on, to, vpn, best]\n",
              "3                                                                        unable to access hr tool page  ...                                                                 [unable, to, access, hr, tool, page]\n",
              "5                                                       unable to log in to engineering tool and skype  ...                                             [unable, to, log, in, to, engineering, tool, and, skype]\n",
              "\n",
              "[5 rows x 7 columns]"
            ]
          },
          "metadata": {
            "tags": []
          },
          "execution_count": 45
        }
      ]
    },
    {
      "cell_type": "markdown",
      "metadata": {
        "id": "OQJzrVzr9Opl",
        "colab_type": "text"
      },
      "source": [
        "#### Removing Stopwords"
      ]
    },
    {
      "cell_type": "code",
      "metadata": {
        "id": "eJ1exqdN5YXG",
        "colab_type": "code",
        "colab": {
          "base_uri": "https://localhost:8080/",
          "height": 397
        },
        "outputId": "c366a9ba-fabc-4310-ec13-1d2738b5a8f3"
      },
      "source": [
        "stop_words = set(stopwords.words('english'))\n",
        "incidents_upd_en['stopwords_removed'] = incidents_upd_en['no_punc'].apply(lambda x: [word for word in x if word not in stop_words])\n",
        "incidents_upd_en.head()"
      ],
      "execution_count": null,
      "outputs": [
        {
          "output_type": "execute_result",
          "data": {
            "text/html": [
              "<div>\n",
              "<style scoped>\n",
              "    .dataframe tbody tr th:only-of-type {\n",
              "        vertical-align: middle;\n",
              "    }\n",
              "\n",
              "    .dataframe tbody tr th {\n",
              "        vertical-align: top;\n",
              "    }\n",
              "\n",
              "    .dataframe thead th {\n",
              "        text-align: right;\n",
              "    }\n",
              "</style>\n",
              "<table border=\"1\" class=\"dataframe\">\n",
              "  <thead>\n",
              "    <tr style=\"text-align: right;\">\n",
              "      <th></th>\n",
              "      <th>Description</th>\n",
              "      <th>Assignment group</th>\n",
              "      <th>Description_Expanded</th>\n",
              "      <th>Description_Expanded_Str</th>\n",
              "      <th>tokenized</th>\n",
              "      <th>lower</th>\n",
              "      <th>no_punc</th>\n",
              "      <th>stopwords_removed</th>\n",
              "    </tr>\n",
              "  </thead>\n",
              "  <tbody>\n",
              "    <tr>\n",
              "      <th>0</th>\n",
              "      <td>verified user details employee manager name checked the user name in ad and reset the password ...</td>\n",
              "      <td>GRP_0</td>\n",
              "      <td>[verified, user, details, employee, manager, name, checked, the, user, name, in, ad, and, reset,...</td>\n",
              "      <td>verified user details employee manager name checked the user name in ad and reset the password a...</td>\n",
              "      <td>[verified, user, details, employee, manager, name, checked, the, user, name, in, ad, and, reset,...</td>\n",
              "      <td>[verified, user, details, employee, manager, name, checked, the, user, name, in, ad, and, reset,...</td>\n",
              "      <td>[verified, user, details, employee, manager, name, checked, the, user, name, in, ad, and, reset,...</td>\n",
              "      <td>[verified, user, details, employee, manager, name, checked, user, name, ad, reset, password, adv...</td>\n",
              "    </tr>\n",
              "    <tr>\n",
              "      <th>1</th>\n",
              "      <td>received from hello team my meetings skype meetings etc are not appearing in my outlook calendar...</td>\n",
              "      <td>GRP_0</td>\n",
              "      <td>[received, from, hello, team, my, meetings, skype, meetings, etc, are, not, appearing, in, my, o...</td>\n",
              "      <td>received from hello team my meetings skype meetings etc are not appearing in my outlook calendar...</td>\n",
              "      <td>[received, from, hello, team, my, meetings, skype, meetings, etc, are, not, appearing, in, my, o...</td>\n",
              "      <td>[received, from, hello, team, my, meetings, skype, meetings, etc, are, not, appearing, in, my, o...</td>\n",
              "      <td>[received, from, hello, team, my, meetings, skype, meetings, etc, are, not, appearing, in, my, o...</td>\n",
              "      <td>[received, hello, team, meetings, skype, meetings, etc, appearing, outlook, calendar, somebody, ...</td>\n",
              "    </tr>\n",
              "    <tr>\n",
              "      <th>2</th>\n",
              "      <td>received from hi i cannot log on to vpn best</td>\n",
              "      <td>GRP_0</td>\n",
              "      <td>[received, from, hi, i, cannot, log, on, to, vpn, best]</td>\n",
              "      <td>received from hi i cannot log on to vpn best</td>\n",
              "      <td>[received, from, hi, i, can, not, log, on, to, vpn, best]</td>\n",
              "      <td>[received, from, hi, i, can, not, log, on, to, vpn, best]</td>\n",
              "      <td>[received, from, hi, i, can, not, log, on, to, vpn, best]</td>\n",
              "      <td>[received, hi, log, vpn, best]</td>\n",
              "    </tr>\n",
              "    <tr>\n",
              "      <th>3</th>\n",
              "      <td>unable to access hr tool page</td>\n",
              "      <td>GRP_0</td>\n",
              "      <td>[unable, to, access, hr, tool, page]</td>\n",
              "      <td>unable to access hr tool page</td>\n",
              "      <td>[unable, to, access, hr, tool, page]</td>\n",
              "      <td>[unable, to, access, hr, tool, page]</td>\n",
              "      <td>[unable, to, access, hr, tool, page]</td>\n",
              "      <td>[unable, access, hr, tool, page]</td>\n",
              "    </tr>\n",
              "    <tr>\n",
              "      <th>5</th>\n",
              "      <td>unable to log in to engineering tool and skype</td>\n",
              "      <td>GRP_0</td>\n",
              "      <td>[unable, to, log, in, to, engineering, tool, and, skype]</td>\n",
              "      <td>unable to log in to engineering tool and skype</td>\n",
              "      <td>[unable, to, log, in, to, engineering, tool, and, skype]</td>\n",
              "      <td>[unable, to, log, in, to, engineering, tool, and, skype]</td>\n",
              "      <td>[unable, to, log, in, to, engineering, tool, and, skype]</td>\n",
              "      <td>[unable, log, engineering, tool, skype]</td>\n",
              "    </tr>\n",
              "  </tbody>\n",
              "</table>\n",
              "</div>"
            ],
            "text/plain": [
              "                                                                                           Description  ...                                                                                    stopwords_removed\n",
              "0   verified user details employee manager name checked the user name in ad and reset the password ...  ...  [verified, user, details, employee, manager, name, checked, user, name, ad, reset, password, adv...\n",
              "1  received from hello team my meetings skype meetings etc are not appearing in my outlook calendar...  ...  [received, hello, team, meetings, skype, meetings, etc, appearing, outlook, calendar, somebody, ...\n",
              "2                                                         received from hi i cannot log on to vpn best  ...                                                                       [received, hi, log, vpn, best]\n",
              "3                                                                        unable to access hr tool page  ...                                                                     [unable, access, hr, tool, page]\n",
              "5                                                       unable to log in to engineering tool and skype  ...                                                              [unable, log, engineering, tool, skype]\n",
              "\n",
              "[5 rows x 8 columns]"
            ]
          },
          "metadata": {
            "tags": []
          },
          "execution_count": 46
        }
      ]
    },
    {
      "cell_type": "markdown",
      "metadata": {
        "id": "XraxhnX19tGU",
        "colab_type": "text"
      },
      "source": [
        "#### Lemmatization"
      ]
    }
  ]
}