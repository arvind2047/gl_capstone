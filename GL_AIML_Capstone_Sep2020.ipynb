{
  "nbformat": 4,
  "nbformat_minor": 0,
  "metadata": {
    "colab": {
      "name": "GL_AIML_Capstone_Sep2020.ipynb",
      "provenance": [],
      "collapsed_sections": [],
      "include_colab_link": true
    },
    "kernelspec": {
      "name": "python3",
      "display_name": "Python 3"
    }
  },
  "cells": [
    {
      "cell_type": "markdown",
      "metadata": {
        "id": "view-in-github",
        "colab_type": "text"
      },
      "source": [
        "<a href=\"https://colab.research.google.com/github/arvind2047/gl_capstone/blob/interim_week1_workarea/GL_AIML_Capstone_Sep2020.ipynb\" target=\"_parent\"><img src=\"https://colab.research.google.com/assets/colab-badge.svg\" alt=\"Open In Colab\"/></a>"
      ]
    },
    {
      "cell_type": "markdown",
      "metadata": {
        "id": "A7k-BhbbrYUn",
        "colab_type": "text"
      },
      "source": [
        "**CAPSTONE PROJECT: AUTOMATIC TICKET ASSIGNMENT**\n",
        "\n",
        "\n",
        "#### Problem Statement:\n",
        "\n",
        "Manual assignment of incidents is time consuming and requires human efforts. There may be mistakes due to human errors and resource consumption is carried out ineffectively because of the misaddressing. On the other hand, manual assignment increases the response and resolution times which result in user satisfaction deterioration / poor customer service. \n",
        "\n",
        "Additional effort needed for Functional teams to re-assign to right functional groups. During this process, some of the incidents are in queue and not addressed timely resulting in poor customer service. Guided by powerful AI techniques that can classify incidents to right functional groups can help organizations to reduce the resolving time of the issue and can focus on more productive tasks.\n",
        "\n",
        "#### The objective of the project is,\n",
        " Learn how to use different classification models.\n",
        "\n",
        " Use transfer learning to use pre-built models. \n",
        "\n",
        " Learn to set the optimizers, loss functions, epochs, learning rate, batch size, checkpointing, early stopping etc.\n",
        "\n",
        " Read different research papers of given domain to obtain the knowledge of advanced models for the given problem.\n"
      ]
    },
    {
      "cell_type": "code",
      "metadata": {
        "id": "5j--DPLcrR1I",
        "colab_type": "code",
        "colab": {
          "base_uri": "https://localhost:8080/",
          "height": 51
        },
        "outputId": "81cdd74c-6e1a-4c50-8b81-8ef39d0ec794"
      },
      "source": [
        "#Importing libraries:\n",
        "import numpy as np\n",
        "import pandas as pd\n",
        "import matplotlib.pyplot as plt \n",
        "import seaborn as sns\n",
        "import scipy\n",
        "import scipy.stats as st\n",
        "\n",
        "import keras \n",
        "from keras.preprocessing.text import Tokenizer\n",
        "from keras.models import Sequential\n",
        "from keras.layers import Dense\n",
        "from keras.preprocessing.sequence import pad_sequences\n",
        "from keras.layers import Input, Dense, Dropout, Embedding, LSTM, Flatten\n",
        "from keras.models import Model\n",
        "from keras.utils import to_categorical\n",
        "from keras.callbacks import ModelCheckpoint\n",
        "\n",
        "from sklearn.model_selection import train_test_split\n",
        "from sklearn.metrics import accuracy_score\n",
        "plt.style.use('ggplot')\n",
        "%matplotlib inline"
      ],
      "execution_count": 2,
      "outputs": [
        {
          "output_type": "stream",
          "text": [
            "/usr/local/lib/python3.6/dist-packages/statsmodels/tools/_testing.py:19: FutureWarning: pandas.util.testing is deprecated. Use the functions in the public API at pandas.testing instead.\n",
            "  import pandas.util.testing as tm\n"
          ],
          "name": "stderr"
        }
      ]
    },
    {
      "cell_type": "code",
      "metadata": {
        "id": "QgAG04svwofV",
        "colab_type": "code",
        "colab": {
          "base_uri": "https://localhost:8080/",
          "height": 122
        },
        "outputId": "bf71c2cc-3286-413a-a025-3d1f644d18ad"
      },
      "source": [
        "from google.colab import drive\n",
        "drive.mount('/content/drive')"
      ],
      "execution_count": 3,
      "outputs": [
        {
          "output_type": "stream",
          "text": [
            "Go to this URL in a browser: https://accounts.google.com/o/oauth2/auth?client_id=947318989803-6bn6qk8qdgf4n4g3pfee6491hc0brc4i.apps.googleusercontent.com&redirect_uri=urn%3aietf%3awg%3aoauth%3a2.0%3aoob&response_type=code&scope=email%20https%3a%2f%2fwww.googleapis.com%2fauth%2fdocs.test%20https%3a%2f%2fwww.googleapis.com%2fauth%2fdrive%20https%3a%2f%2fwww.googleapis.com%2fauth%2fdrive.photos.readonly%20https%3a%2f%2fwww.googleapis.com%2fauth%2fpeopleapi.readonly\n",
            "\n",
            "Enter your authorization code:\n",
            "··········\n",
            "Mounted at /content/drive\n"
          ],
          "name": "stdout"
        }
      ]
    },
    {
      "cell_type": "code",
      "metadata": {
        "id": "Y-lmVG5JxcTa",
        "colab_type": "code",
        "colab": {}
      },
      "source": [
        "# Setup project path:\n",
        "import os\n",
        "os.chdir('/content/drive/My Drive/GL AIML Capstone')"
      ],
      "execution_count": 4,
      "outputs": []
    },
    {
      "cell_type": "code",
      "metadata": {
        "id": "Rre6PZ1li7yR",
        "colab_type": "code",
        "colab": {
          "base_uri": "https://localhost:8080/",
          "height": 34
        },
        "outputId": "785975a2-1dd0-426a-eae9-2e3e7220b80e"
      },
      "source": [
        "from google.colab import drive\n",
        "drive.mount('/content/drive/', force_remount=True)\n"
      ],
      "execution_count": 5,
      "outputs": [
        {
          "output_type": "stream",
          "text": [
            "Mounted at /content/drive/\n"
          ],
          "name": "stdout"
        }
      ]
    },
    {
      "cell_type": "code",
      "metadata": {
        "id": "3qDJjeqOpaLj",
        "colab_type": "code",
        "colab": {
          "base_uri": "https://localhost:8080/",
          "height": 35
        },
        "outputId": "4c87fd40-a40a-4842-d24d-92cb33f41d33"
      },
      "source": [
        "import os\n",
        "#project_path = '/content/drive/My Drive/Capstone Project NLP/' \n",
        "project_path = '/content/drive/My Drive/GL AIML Capstone/' \n",
        "os.chdir(project_path) \n",
        "os.getcwd()"
      ],
      "execution_count": 7,
      "outputs": [
        {
          "output_type": "execute_result",
          "data": {
            "application/vnd.google.colaboratory.intrinsic+json": {
              "type": "string"
            },
            "text/plain": [
              "'/content/drive/My Drive/GL AIML Capstone'"
            ]
          },
          "metadata": {
            "tags": []
          },
          "execution_count": 7
        }
      ]
    },
    {
      "cell_type": "code",
      "metadata": {
        "id": "GUUyRsbhiiHm",
        "colab_type": "code",
        "colab": {
          "base_uri": "https://localhost:8080/",
          "height": 142
        },
        "outputId": "cfeeb7d8-c84e-40b1-d19b-fdce5370d702"
      },
      "source": [
        "# read and load data\n",
        "## Read the data from EXCEL\n",
        "incidents = pd.read_excel(project_path + \"input_data.xlsx\")\n",
        "\n",
        "## Quick View \n",
        "incidents.head(3)"
      ],
      "execution_count": 8,
      "outputs": [
        {
          "output_type": "execute_result",
          "data": {
            "text/html": [
              "<div>\n",
              "<style scoped>\n",
              "    .dataframe tbody tr th:only-of-type {\n",
              "        vertical-align: middle;\n",
              "    }\n",
              "\n",
              "    .dataframe tbody tr th {\n",
              "        vertical-align: top;\n",
              "    }\n",
              "\n",
              "    .dataframe thead th {\n",
              "        text-align: right;\n",
              "    }\n",
              "</style>\n",
              "<table border=\"1\" class=\"dataframe\">\n",
              "  <thead>\n",
              "    <tr style=\"text-align: right;\">\n",
              "      <th></th>\n",
              "      <th>Short description</th>\n",
              "      <th>Description</th>\n",
              "      <th>Caller</th>\n",
              "      <th>Assignment group</th>\n",
              "    </tr>\n",
              "  </thead>\n",
              "  <tbody>\n",
              "    <tr>\n",
              "      <th>0</th>\n",
              "      <td>login issue</td>\n",
              "      <td>-verified user details.(employee# &amp; manager na...</td>\n",
              "      <td>spxjnwir pjlcoqds</td>\n",
              "      <td>GRP_0</td>\n",
              "    </tr>\n",
              "    <tr>\n",
              "      <th>1</th>\n",
              "      <td>outlook</td>\n",
              "      <td>\\r\\n\\r\\nreceived from: hmjdrvpb.komuaywn@gmail...</td>\n",
              "      <td>hmjdrvpb komuaywn</td>\n",
              "      <td>GRP_0</td>\n",
              "    </tr>\n",
              "    <tr>\n",
              "      <th>2</th>\n",
              "      <td>cant log in to vpn</td>\n",
              "      <td>\\r\\n\\r\\nreceived from: eylqgodm.ybqkwiam@gmail...</td>\n",
              "      <td>eylqgodm ybqkwiam</td>\n",
              "      <td>GRP_0</td>\n",
              "    </tr>\n",
              "  </tbody>\n",
              "</table>\n",
              "</div>"
            ],
            "text/plain": [
              "    Short description  ... Assignment group\n",
              "0         login issue  ...            GRP_0\n",
              "1             outlook  ...            GRP_0\n",
              "2  cant log in to vpn  ...            GRP_0\n",
              "\n",
              "[3 rows x 4 columns]"
            ]
          },
          "metadata": {
            "tags": []
          },
          "execution_count": 8
        }
      ]
    },
    {
      "cell_type": "code",
      "metadata": {
        "id": "7gAOwc7Hk42k",
        "colab_type": "code",
        "colab": {
          "base_uri": "https://localhost:8080/",
          "height": 204
        },
        "outputId": "83c9727e-6d86-4e6c-f3e8-c7bf13ef66e0"
      },
      "source": [
        "## basic info\n",
        "incidents.info()"
      ],
      "execution_count": 9,
      "outputs": [
        {
          "output_type": "stream",
          "text": [
            "<class 'pandas.core.frame.DataFrame'>\n",
            "RangeIndex: 8500 entries, 0 to 8499\n",
            "Data columns (total 4 columns):\n",
            " #   Column             Non-Null Count  Dtype \n",
            "---  ------             --------------  ----- \n",
            " 0   Short description  8492 non-null   object\n",
            " 1   Description        8499 non-null   object\n",
            " 2   Caller             8500 non-null   object\n",
            " 3   Assignment group   8500 non-null   object\n",
            "dtypes: object(4)\n",
            "memory usage: 265.8+ KB\n"
          ],
          "name": "stdout"
        }
      ]
    },
    {
      "cell_type": "code",
      "metadata": {
        "id": "rs9D6X5jk5ce",
        "colab_type": "code",
        "colab": {
          "base_uri": "https://localhost:8080/",
          "height": 34
        },
        "outputId": "2bc2f32e-51ea-48d2-f978-023975bfc8fd"
      },
      "source": [
        "## Shape\n",
        "incidents.shape"
      ],
      "execution_count": 10,
      "outputs": [
        {
          "output_type": "execute_result",
          "data": {
            "text/plain": [
              "(8500, 4)"
            ]
          },
          "metadata": {
            "tags": []
          },
          "execution_count": 10
        }
      ]
    },
    {
      "cell_type": "code",
      "metadata": {
        "id": "o1g4bn47k8qf",
        "colab_type": "code",
        "colab": {
          "base_uri": "https://localhost:8080/",
          "height": 34
        },
        "outputId": "1e4843a4-22f7-4c95-f577-1fe7ddf334bd"
      },
      "source": [
        "incidents.columns"
      ],
      "execution_count": 11,
      "outputs": [
        {
          "output_type": "execute_result",
          "data": {
            "text/plain": [
              "Index(['Short description', 'Description', 'Caller', 'Assignment group'], dtype='object')"
            ]
          },
          "metadata": {
            "tags": []
          },
          "execution_count": 11
        }
      ]
    },
    {
      "cell_type": "code",
      "metadata": {
        "id": "zPNW9mqCk-kG",
        "colab_type": "code",
        "colab": {
          "base_uri": "https://localhost:8080/",
          "height": 238
        },
        "outputId": "97edcab2-bef0-47ee-a8d9-273d7fc96794"
      },
      "source": [
        "incidents[\"Assignment group\"].unique()"
      ],
      "execution_count": 12,
      "outputs": [
        {
          "output_type": "execute_result",
          "data": {
            "text/plain": [
              "array(['GRP_0', 'GRP_1', 'GRP_3', 'GRP_4', 'GRP_5', 'GRP_6', 'GRP_7',\n",
              "       'GRP_8', 'GRP_9', 'GRP_10', 'GRP_11', 'GRP_12', 'GRP_13', 'GRP_14',\n",
              "       'GRP_15', 'GRP_16', 'GRP_17', 'GRP_18', 'GRP_19', 'GRP_2',\n",
              "       'GRP_20', 'GRP_21', 'GRP_22', 'GRP_23', 'GRP_24', 'GRP_25',\n",
              "       'GRP_26', 'GRP_27', 'GRP_28', 'GRP_29', 'GRP_30', 'GRP_31',\n",
              "       'GRP_33', 'GRP_34', 'GRP_35', 'GRP_36', 'GRP_37', 'GRP_38',\n",
              "       'GRP_39', 'GRP_40', 'GRP_41', 'GRP_42', 'GRP_43', 'GRP_44',\n",
              "       'GRP_45', 'GRP_46', 'GRP_47', 'GRP_48', 'GRP_49', 'GRP_50',\n",
              "       'GRP_51', 'GRP_52', 'GRP_53', 'GRP_54', 'GRP_55', 'GRP_56',\n",
              "       'GRP_57', 'GRP_58', 'GRP_59', 'GRP_60', 'GRP_61', 'GRP_32',\n",
              "       'GRP_62', 'GRP_63', 'GRP_64', 'GRP_65', 'GRP_66', 'GRP_67',\n",
              "       'GRP_68', 'GRP_69', 'GRP_70', 'GRP_71', 'GRP_72', 'GRP_73'],\n",
              "      dtype=object)"
            ]
          },
          "metadata": {
            "tags": []
          },
          "execution_count": 12
        }
      ]
    },
    {
      "cell_type": "code",
      "metadata": {
        "id": "FHDLeV0wlAsV",
        "colab_type": "code",
        "colab": {
          "base_uri": "https://localhost:8080/",
          "height": 34
        },
        "outputId": "c8ec2bc7-1226-4df5-e264-13ca44217a03"
      },
      "source": [
        "incidents[\"Assignment group\"].nunique()"
      ],
      "execution_count": 13,
      "outputs": [
        {
          "output_type": "execute_result",
          "data": {
            "text/plain": [
              "74"
            ]
          },
          "metadata": {
            "tags": []
          },
          "execution_count": 13
        }
      ]
    },
    {
      "cell_type": "code",
      "metadata": {
        "id": "yMiGjWhRlEX0",
        "colab_type": "code",
        "colab": {
          "base_uri": "https://localhost:8080/",
          "height": 328
        },
        "outputId": "f63cccba-8c73-4a3d-ae61-acbfb2f81b11"
      },
      "source": [
        "## find nulls\n",
        "incidents[incidents.isnull().any(axis=1)]"
      ],
      "execution_count": 14,
      "outputs": [
        {
          "output_type": "execute_result",
          "data": {
            "text/html": [
              "<div>\n",
              "<style scoped>\n",
              "    .dataframe tbody tr th:only-of-type {\n",
              "        vertical-align: middle;\n",
              "    }\n",
              "\n",
              "    .dataframe tbody tr th {\n",
              "        vertical-align: top;\n",
              "    }\n",
              "\n",
              "    .dataframe thead th {\n",
              "        text-align: right;\n",
              "    }\n",
              "</style>\n",
              "<table border=\"1\" class=\"dataframe\">\n",
              "  <thead>\n",
              "    <tr style=\"text-align: right;\">\n",
              "      <th></th>\n",
              "      <th>Short description</th>\n",
              "      <th>Description</th>\n",
              "      <th>Caller</th>\n",
              "      <th>Assignment group</th>\n",
              "    </tr>\n",
              "  </thead>\n",
              "  <tbody>\n",
              "    <tr>\n",
              "      <th>2604</th>\n",
              "      <td>NaN</td>\n",
              "      <td>\\r\\n\\r\\nreceived from: ohdrnswl.rezuibdt@gmail...</td>\n",
              "      <td>ohdrnswl rezuibdt</td>\n",
              "      <td>GRP_34</td>\n",
              "    </tr>\n",
              "    <tr>\n",
              "      <th>3383</th>\n",
              "      <td>NaN</td>\n",
              "      <td>\\r\\n-connected to the user system using teamvi...</td>\n",
              "      <td>qftpazns fxpnytmk</td>\n",
              "      <td>GRP_0</td>\n",
              "    </tr>\n",
              "    <tr>\n",
              "      <th>3906</th>\n",
              "      <td>NaN</td>\n",
              "      <td>-user unable  tologin to vpn.\\r\\n-connected to...</td>\n",
              "      <td>awpcmsey ctdiuqwe</td>\n",
              "      <td>GRP_0</td>\n",
              "    </tr>\n",
              "    <tr>\n",
              "      <th>3910</th>\n",
              "      <td>NaN</td>\n",
              "      <td>-user unable  tologin to vpn.\\r\\n-connected to...</td>\n",
              "      <td>rhwsmefo tvphyura</td>\n",
              "      <td>GRP_0</td>\n",
              "    </tr>\n",
              "    <tr>\n",
              "      <th>3915</th>\n",
              "      <td>NaN</td>\n",
              "      <td>-user unable  tologin to vpn.\\r\\n-connected to...</td>\n",
              "      <td>hxripljo efzounig</td>\n",
              "      <td>GRP_0</td>\n",
              "    </tr>\n",
              "    <tr>\n",
              "      <th>3921</th>\n",
              "      <td>NaN</td>\n",
              "      <td>-user unable  tologin to vpn.\\r\\n-connected to...</td>\n",
              "      <td>cziadygo veiosxby</td>\n",
              "      <td>GRP_0</td>\n",
              "    </tr>\n",
              "    <tr>\n",
              "      <th>3924</th>\n",
              "      <td>NaN</td>\n",
              "      <td>name:wvqgbdhm fwchqjor\\nlanguage:\\nbrowser:mic...</td>\n",
              "      <td>wvqgbdhm fwchqjor</td>\n",
              "      <td>GRP_0</td>\n",
              "    </tr>\n",
              "    <tr>\n",
              "      <th>4341</th>\n",
              "      <td>NaN</td>\n",
              "      <td>\\r\\n\\r\\nreceived from: eqmuniov.ehxkcbgj@gmail...</td>\n",
              "      <td>eqmuniov ehxkcbgj</td>\n",
              "      <td>GRP_0</td>\n",
              "    </tr>\n",
              "    <tr>\n",
              "      <th>4395</th>\n",
              "      <td>i am locked out of skype</td>\n",
              "      <td>NaN</td>\n",
              "      <td>viyglzfo ajtfzpkb</td>\n",
              "      <td>GRP_0</td>\n",
              "    </tr>\n",
              "  </tbody>\n",
              "</table>\n",
              "</div>"
            ],
            "text/plain": [
              "             Short description  ... Assignment group\n",
              "2604                       NaN  ...           GRP_34\n",
              "3383                       NaN  ...            GRP_0\n",
              "3906                       NaN  ...            GRP_0\n",
              "3910                       NaN  ...            GRP_0\n",
              "3915                       NaN  ...            GRP_0\n",
              "3921                       NaN  ...            GRP_0\n",
              "3924                       NaN  ...            GRP_0\n",
              "4341                       NaN  ...            GRP_0\n",
              "4395  i am locked out of skype  ...            GRP_0\n",
              "\n",
              "[9 rows x 4 columns]"
            ]
          },
          "metadata": {
            "tags": []
          },
          "execution_count": 14
        }
      ]
    },
    {
      "cell_type": "code",
      "metadata": {
        "id": "6pnyHeAfp3sc",
        "colab_type": "code",
        "colab": {
          "base_uri": "https://localhost:8080/",
          "height": 328
        },
        "outputId": "7a48f554-e172-4d76-efd1-f2042b0983a2"
      },
      "source": [
        "## find NA\n",
        "incidents[incidents.isna().any(axis=1)]"
      ],
      "execution_count": 15,
      "outputs": [
        {
          "output_type": "execute_result",
          "data": {
            "text/html": [
              "<div>\n",
              "<style scoped>\n",
              "    .dataframe tbody tr th:only-of-type {\n",
              "        vertical-align: middle;\n",
              "    }\n",
              "\n",
              "    .dataframe tbody tr th {\n",
              "        vertical-align: top;\n",
              "    }\n",
              "\n",
              "    .dataframe thead th {\n",
              "        text-align: right;\n",
              "    }\n",
              "</style>\n",
              "<table border=\"1\" class=\"dataframe\">\n",
              "  <thead>\n",
              "    <tr style=\"text-align: right;\">\n",
              "      <th></th>\n",
              "      <th>Short description</th>\n",
              "      <th>Description</th>\n",
              "      <th>Caller</th>\n",
              "      <th>Assignment group</th>\n",
              "    </tr>\n",
              "  </thead>\n",
              "  <tbody>\n",
              "    <tr>\n",
              "      <th>2604</th>\n",
              "      <td>NaN</td>\n",
              "      <td>\\r\\n\\r\\nreceived from: ohdrnswl.rezuibdt@gmail...</td>\n",
              "      <td>ohdrnswl rezuibdt</td>\n",
              "      <td>GRP_34</td>\n",
              "    </tr>\n",
              "    <tr>\n",
              "      <th>3383</th>\n",
              "      <td>NaN</td>\n",
              "      <td>\\r\\n-connected to the user system using teamvi...</td>\n",
              "      <td>qftpazns fxpnytmk</td>\n",
              "      <td>GRP_0</td>\n",
              "    </tr>\n",
              "    <tr>\n",
              "      <th>3906</th>\n",
              "      <td>NaN</td>\n",
              "      <td>-user unable  tologin to vpn.\\r\\n-connected to...</td>\n",
              "      <td>awpcmsey ctdiuqwe</td>\n",
              "      <td>GRP_0</td>\n",
              "    </tr>\n",
              "    <tr>\n",
              "      <th>3910</th>\n",
              "      <td>NaN</td>\n",
              "      <td>-user unable  tologin to vpn.\\r\\n-connected to...</td>\n",
              "      <td>rhwsmefo tvphyura</td>\n",
              "      <td>GRP_0</td>\n",
              "    </tr>\n",
              "    <tr>\n",
              "      <th>3915</th>\n",
              "      <td>NaN</td>\n",
              "      <td>-user unable  tologin to vpn.\\r\\n-connected to...</td>\n",
              "      <td>hxripljo efzounig</td>\n",
              "      <td>GRP_0</td>\n",
              "    </tr>\n",
              "    <tr>\n",
              "      <th>3921</th>\n",
              "      <td>NaN</td>\n",
              "      <td>-user unable  tologin to vpn.\\r\\n-connected to...</td>\n",
              "      <td>cziadygo veiosxby</td>\n",
              "      <td>GRP_0</td>\n",
              "    </tr>\n",
              "    <tr>\n",
              "      <th>3924</th>\n",
              "      <td>NaN</td>\n",
              "      <td>name:wvqgbdhm fwchqjor\\nlanguage:\\nbrowser:mic...</td>\n",
              "      <td>wvqgbdhm fwchqjor</td>\n",
              "      <td>GRP_0</td>\n",
              "    </tr>\n",
              "    <tr>\n",
              "      <th>4341</th>\n",
              "      <td>NaN</td>\n",
              "      <td>\\r\\n\\r\\nreceived from: eqmuniov.ehxkcbgj@gmail...</td>\n",
              "      <td>eqmuniov ehxkcbgj</td>\n",
              "      <td>GRP_0</td>\n",
              "    </tr>\n",
              "    <tr>\n",
              "      <th>4395</th>\n",
              "      <td>i am locked out of skype</td>\n",
              "      <td>NaN</td>\n",
              "      <td>viyglzfo ajtfzpkb</td>\n",
              "      <td>GRP_0</td>\n",
              "    </tr>\n",
              "  </tbody>\n",
              "</table>\n",
              "</div>"
            ],
            "text/plain": [
              "             Short description  ... Assignment group\n",
              "2604                       NaN  ...           GRP_34\n",
              "3383                       NaN  ...            GRP_0\n",
              "3906                       NaN  ...            GRP_0\n",
              "3910                       NaN  ...            GRP_0\n",
              "3915                       NaN  ...            GRP_0\n",
              "3921                       NaN  ...            GRP_0\n",
              "3924                       NaN  ...            GRP_0\n",
              "4341                       NaN  ...            GRP_0\n",
              "4395  i am locked out of skype  ...            GRP_0\n",
              "\n",
              "[9 rows x 4 columns]"
            ]
          },
          "metadata": {
            "tags": []
          },
          "execution_count": 15
        }
      ]
    },
    {
      "cell_type": "code",
      "metadata": {
        "id": "LiQI5-eJlGTV",
        "colab_type": "code",
        "colab": {
          "base_uri": "https://localhost:8080/",
          "height": 34
        },
        "outputId": "a4003744-e0de-4dd0-ba10-6c8f3bcc88ea"
      },
      "source": [
        "# drop nulls\n",
        "incidents.dropna(inplace=True)\n",
        "incidents.shape"
      ],
      "execution_count": 16,
      "outputs": [
        {
          "output_type": "execute_result",
          "data": {
            "text/plain": [
              "(8491, 4)"
            ]
          },
          "metadata": {
            "tags": []
          },
          "execution_count": 16
        }
      ]
    },
    {
      "cell_type": "code",
      "metadata": {
        "id": "HiI2bO8plJDk",
        "colab_type": "code",
        "colab": {
          "base_uri": "https://localhost:8080/",
          "height": 419
        },
        "outputId": "2b7bc503-4bf3-4056-d416-e32e6efcf80c"
      },
      "source": [
        "## Duplicates \n",
        "sub_incidents = incidents[['Short description', 'Description', 'Caller','Assignment group']].copy()\n",
        "duplicateRowsDF = sub_incidents[sub_incidents.duplicated()]\n",
        "duplicateRowsDF"
      ],
      "execution_count": 17,
      "outputs": [
        {
          "output_type": "execute_result",
          "data": {
            "text/html": [
              "<div>\n",
              "<style scoped>\n",
              "    .dataframe tbody tr th:only-of-type {\n",
              "        vertical-align: middle;\n",
              "    }\n",
              "\n",
              "    .dataframe tbody tr th {\n",
              "        vertical-align: top;\n",
              "    }\n",
              "\n",
              "    .dataframe thead th {\n",
              "        text-align: right;\n",
              "    }\n",
              "</style>\n",
              "<table border=\"1\" class=\"dataframe\">\n",
              "  <thead>\n",
              "    <tr style=\"text-align: right;\">\n",
              "      <th></th>\n",
              "      <th>Short description</th>\n",
              "      <th>Description</th>\n",
              "      <th>Caller</th>\n",
              "      <th>Assignment group</th>\n",
              "    </tr>\n",
              "  </thead>\n",
              "  <tbody>\n",
              "    <tr>\n",
              "      <th>51</th>\n",
              "      <td>call for ecwtrjnq jpecxuty</td>\n",
              "      <td>call for ecwtrjnq jpecxuty</td>\n",
              "      <td>olckhmvx pcqobjnd</td>\n",
              "      <td>GRP_0</td>\n",
              "    </tr>\n",
              "    <tr>\n",
              "      <th>229</th>\n",
              "      <td>call for ecwtrjnq jpecxuty</td>\n",
              "      <td>call for ecwtrjnq jpecxuty</td>\n",
              "      <td>olckhmvx pcqobjnd</td>\n",
              "      <td>GRP_0</td>\n",
              "    </tr>\n",
              "    <tr>\n",
              "      <th>493</th>\n",
              "      <td>ticket update on inplant_872730</td>\n",
              "      <td>ticket update on inplant_872730</td>\n",
              "      <td>fumkcsji sarmtlhy</td>\n",
              "      <td>GRP_0</td>\n",
              "    </tr>\n",
              "    <tr>\n",
              "      <th>512</th>\n",
              "      <td>blank call //gso</td>\n",
              "      <td>blank call //gso</td>\n",
              "      <td>rbozivdq gmlhrtvp</td>\n",
              "      <td>GRP_0</td>\n",
              "    </tr>\n",
              "    <tr>\n",
              "      <th>667</th>\n",
              "      <td>job bkbackup_tool_powder_prod_full failed in j...</td>\n",
              "      <td>received from: monitoring_tool@company.com\\r\\n...</td>\n",
              "      <td>bpctwhsn kzqsbmtp</td>\n",
              "      <td>GRP_8</td>\n",
              "    </tr>\n",
              "    <tr>\n",
              "      <th>...</th>\n",
              "      <td>...</td>\n",
              "      <td>...</td>\n",
              "      <td>...</td>\n",
              "      <td>...</td>\n",
              "    </tr>\n",
              "    <tr>\n",
              "      <th>7836</th>\n",
              "      <td>probleme mit erpgui \\tmqfjard qzhgdoua</td>\n",
              "      <td>probleme mit erpgui \\tmqfjard qzhgdoua</td>\n",
              "      <td>tmqfjard qzhgdoua</td>\n",
              "      <td>GRP_24</td>\n",
              "    </tr>\n",
              "    <tr>\n",
              "      <th>8051</th>\n",
              "      <td>issue on pricing in distributor_tool</td>\n",
              "      <td>we have agreed price with many of the distribu...</td>\n",
              "      <td>hbmwlprq ilfvyodx</td>\n",
              "      <td>GRP_21</td>\n",
              "    </tr>\n",
              "    <tr>\n",
              "      <th>8093</th>\n",
              "      <td>reset passwords for prgthyuulla ramdntythanjes...</td>\n",
              "      <td>the</td>\n",
              "      <td>boirqctx bkijgqry</td>\n",
              "      <td>GRP_17</td>\n",
              "    </tr>\n",
              "    <tr>\n",
              "      <th>8347</th>\n",
              "      <td>blank call // loud noise</td>\n",
              "      <td>blank call // loud noise</td>\n",
              "      <td>rbozivdq gmlhrtvp</td>\n",
              "      <td>GRP_0</td>\n",
              "    </tr>\n",
              "    <tr>\n",
              "      <th>8405</th>\n",
              "      <td>unable to launch outlook</td>\n",
              "      <td>unable to launch outlook</td>\n",
              "      <td>wjtzrmqc ikqpbflg</td>\n",
              "      <td>GRP_0</td>\n",
              "    </tr>\n",
              "  </tbody>\n",
              "</table>\n",
              "<p>83 rows × 4 columns</p>\n",
              "</div>"
            ],
            "text/plain": [
              "                                      Short description  ... Assignment group\n",
              "51                           call for ecwtrjnq jpecxuty  ...            GRP_0\n",
              "229                          call for ecwtrjnq jpecxuty  ...            GRP_0\n",
              "493                     ticket update on inplant_872730  ...            GRP_0\n",
              "512                                    blank call //gso  ...            GRP_0\n",
              "667   job bkbackup_tool_powder_prod_full failed in j...  ...            GRP_8\n",
              "...                                                 ...  ...              ...\n",
              "7836             probleme mit erpgui \\tmqfjard qzhgdoua  ...           GRP_24\n",
              "8051               issue on pricing in distributor_tool  ...           GRP_21\n",
              "8093  reset passwords for prgthyuulla ramdntythanjes...  ...           GRP_17\n",
              "8347                           blank call // loud noise  ...            GRP_0\n",
              "8405                           unable to launch outlook  ...            GRP_0\n",
              "\n",
              "[83 rows x 4 columns]"
            ]
          },
          "metadata": {
            "tags": []
          },
          "execution_count": 17
        }
      ]
    },
    {
      "cell_type": "code",
      "metadata": {
        "id": "dhyLt9uWlQSu",
        "colab_type": "code",
        "colab": {}
      },
      "source": [
        "# Remove Duplicates\n",
        "incidents_upd = incidents.drop_duplicates(['Short description', 'Description', 'Caller', 'Assignment group'])"
      ],
      "execution_count": 18,
      "outputs": []
    },
    {
      "cell_type": "code",
      "metadata": {
        "id": "kWu45s-alSvO",
        "colab_type": "code",
        "colab": {
          "base_uri": "https://localhost:8080/",
          "height": 419
        },
        "outputId": "f59b0000-b498-4bda-cf6f-be164803def0"
      },
      "source": [
        "## Group by Categories\n",
        "df_grp = incidents_upd.groupby(['Assignment group']).size().reset_index(name='counts')\n",
        "df_grp"
      ],
      "execution_count": 19,
      "outputs": [
        {
          "output_type": "execute_result",
          "data": {
            "text/html": [
              "<div>\n",
              "<style scoped>\n",
              "    .dataframe tbody tr th:only-of-type {\n",
              "        vertical-align: middle;\n",
              "    }\n",
              "\n",
              "    .dataframe tbody tr th {\n",
              "        vertical-align: top;\n",
              "    }\n",
              "\n",
              "    .dataframe thead th {\n",
              "        text-align: right;\n",
              "    }\n",
              "</style>\n",
              "<table border=\"1\" class=\"dataframe\">\n",
              "  <thead>\n",
              "    <tr style=\"text-align: right;\">\n",
              "      <th></th>\n",
              "      <th>Assignment group</th>\n",
              "      <th>counts</th>\n",
              "    </tr>\n",
              "  </thead>\n",
              "  <tbody>\n",
              "    <tr>\n",
              "      <th>0</th>\n",
              "      <td>GRP_0</td>\n",
              "      <td>3926</td>\n",
              "    </tr>\n",
              "    <tr>\n",
              "      <th>1</th>\n",
              "      <td>GRP_1</td>\n",
              "      <td>31</td>\n",
              "    </tr>\n",
              "    <tr>\n",
              "      <th>2</th>\n",
              "      <td>GRP_10</td>\n",
              "      <td>140</td>\n",
              "    </tr>\n",
              "    <tr>\n",
              "      <th>3</th>\n",
              "      <td>GRP_11</td>\n",
              "      <td>30</td>\n",
              "    </tr>\n",
              "    <tr>\n",
              "      <th>4</th>\n",
              "      <td>GRP_12</td>\n",
              "      <td>257</td>\n",
              "    </tr>\n",
              "    <tr>\n",
              "      <th>...</th>\n",
              "      <td>...</td>\n",
              "      <td>...</td>\n",
              "    </tr>\n",
              "    <tr>\n",
              "      <th>69</th>\n",
              "      <td>GRP_71</td>\n",
              "      <td>2</td>\n",
              "    </tr>\n",
              "    <tr>\n",
              "      <th>70</th>\n",
              "      <td>GRP_72</td>\n",
              "      <td>2</td>\n",
              "    </tr>\n",
              "    <tr>\n",
              "      <th>71</th>\n",
              "      <td>GRP_73</td>\n",
              "      <td>1</td>\n",
              "    </tr>\n",
              "    <tr>\n",
              "      <th>72</th>\n",
              "      <td>GRP_8</td>\n",
              "      <td>645</td>\n",
              "    </tr>\n",
              "    <tr>\n",
              "      <th>73</th>\n",
              "      <td>GRP_9</td>\n",
              "      <td>252</td>\n",
              "    </tr>\n",
              "  </tbody>\n",
              "</table>\n",
              "<p>74 rows × 2 columns</p>\n",
              "</div>"
            ],
            "text/plain": [
              "   Assignment group  counts\n",
              "0             GRP_0    3926\n",
              "1             GRP_1      31\n",
              "2            GRP_10     140\n",
              "3            GRP_11      30\n",
              "4            GRP_12     257\n",
              "..              ...     ...\n",
              "69           GRP_71       2\n",
              "70           GRP_72       2\n",
              "71           GRP_73       1\n",
              "72            GRP_8     645\n",
              "73            GRP_9     252\n",
              "\n",
              "[74 rows x 2 columns]"
            ]
          },
          "metadata": {
            "tags": []
          },
          "execution_count": 19
        }
      ]
    },
    {
      "cell_type": "code",
      "metadata": {
        "id": "ok0ErIwol3pF",
        "colab_type": "code",
        "colab": {
          "base_uri": "https://localhost:8080/",
          "height": 297
        },
        "outputId": "c37219ca-d2d4-4f99-e921-810186e29436"
      },
      "source": [
        "df_grp.describe()"
      ],
      "execution_count": 20,
      "outputs": [
        {
          "output_type": "execute_result",
          "data": {
            "text/html": [
              "<div>\n",
              "<style scoped>\n",
              "    .dataframe tbody tr th:only-of-type {\n",
              "        vertical-align: middle;\n",
              "    }\n",
              "\n",
              "    .dataframe tbody tr th {\n",
              "        vertical-align: top;\n",
              "    }\n",
              "\n",
              "    .dataframe thead th {\n",
              "        text-align: right;\n",
              "    }\n",
              "</style>\n",
              "<table border=\"1\" class=\"dataframe\">\n",
              "  <thead>\n",
              "    <tr style=\"text-align: right;\">\n",
              "      <th></th>\n",
              "      <th>counts</th>\n",
              "    </tr>\n",
              "  </thead>\n",
              "  <tbody>\n",
              "    <tr>\n",
              "      <th>count</th>\n",
              "      <td>74.000000</td>\n",
              "    </tr>\n",
              "    <tr>\n",
              "      <th>mean</th>\n",
              "      <td>113.621622</td>\n",
              "    </tr>\n",
              "    <tr>\n",
              "      <th>std</th>\n",
              "      <td>459.823990</td>\n",
              "    </tr>\n",
              "    <tr>\n",
              "      <th>min</th>\n",
              "      <td>1.000000</td>\n",
              "    </tr>\n",
              "    <tr>\n",
              "      <th>25%</th>\n",
              "      <td>5.250000</td>\n",
              "    </tr>\n",
              "    <tr>\n",
              "      <th>50%</th>\n",
              "      <td>26.000000</td>\n",
              "    </tr>\n",
              "    <tr>\n",
              "      <th>75%</th>\n",
              "      <td>81.000000</td>\n",
              "    </tr>\n",
              "    <tr>\n",
              "      <th>max</th>\n",
              "      <td>3926.000000</td>\n",
              "    </tr>\n",
              "  </tbody>\n",
              "</table>\n",
              "</div>"
            ],
            "text/plain": [
              "            counts\n",
              "count    74.000000\n",
              "mean    113.621622\n",
              "std     459.823990\n",
              "min       1.000000\n",
              "25%       5.250000\n",
              "50%      26.000000\n",
              "75%      81.000000\n",
              "max    3926.000000"
            ]
          },
          "metadata": {
            "tags": []
          },
          "execution_count": 20
        }
      ]
    },
    {
      "cell_type": "code",
      "metadata": {
        "id": "Rwc2YNbRl6L3",
        "colab_type": "code",
        "colab": {
          "base_uri": "https://localhost:8080/",
          "height": 68
        },
        "outputId": "a793d9c5-ac88-4da4-ad50-739620d0bbab"
      },
      "source": [
        "df_grp.isna().sum()"
      ],
      "execution_count": 21,
      "outputs": [
        {
          "output_type": "execute_result",
          "data": {
            "text/plain": [
              "Assignment group    0\n",
              "counts              0\n",
              "dtype: int64"
            ]
          },
          "metadata": {
            "tags": []
          },
          "execution_count": 21
        }
      ]
    },
    {
      "cell_type": "code",
      "metadata": {
        "id": "_emRfI2dOz_b",
        "colab_type": "code",
        "colab": {}
      },
      "source": [
        ""
      ],
      "execution_count": 21,
      "outputs": []
    }
  ]
}